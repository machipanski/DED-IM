{
 "cells": [
  {
   "cell_type": "markdown",
   "metadata": {},
   "source": [
    "Importa o modelo a ser fatiado e mapeado"
   ]
  },
  {
   "cell_type": "code",
   "execution_count": 16,
   "metadata": {
    "notebookRunGroups": {
     "groupValue": "1"
    }
   },
   "outputs": [
    {
     "name": "stdout",
     "output_type": "stream",
     "text": [
      "Fase 0: \n",
      "criando as camadas\n",
      "Total de [criando as camadas] : 0.07275390625\n",
      "salvando as camadas\n",
      "Total de [salvando as camadas] : 0.05266070365905762\n",
      "Total de [Fase 0: ] : 0.12561440467834473\n"
     ]
    }
   ],
   "source": [
    "import matplotlib.pyplot as plt\n",
    "import gui\n",
    "import files\n",
    "from timer import Timer\n",
    "from components.layer import Layer\n",
    "from os import getcwd\n",
    "\n",
    "if not('folders' in globals()):\n",
    "    home = getcwd()\n",
    "    folders = files.System_Paths(home)\n",
    "choice = gui.ask_load_or_begin()\n",
    "if choice == \"Novo Projeto\":\n",
    "    path_input, file_name = gui.load_model(folders)\n",
    "    [dpi, layer_height] = gui.ask_parameters_input()\n",
    "    with Timer(\"Fase 0: \"):\n",
    "        Layer.create_layers(folders, path_input, file_name, dpi, layer_height)\n",
    "elif choice == \"Carregar Salvo\":\n",
    "    gui.find_saved_file(folders)\n",
    "elif choice == \"Cancelar\":\n",
    "    quit\n",
    "\n",
    "#TODO: encontrar uma forma de jogar layerHight para o slicing W/images (POSSIVELMENTE COM O RUNSINGLEMODEL)"
   ]
  },
  {
   "cell_type": "markdown",
   "metadata": {},
   "source": [
    "Paredes Finas"
   ]
  },
  {
   "cell_type": "code",
   "execution_count": 17,
   "metadata": {},
   "outputs": [
    {
     "name": "stdout",
     "output_type": "stream",
     "text": [
      "Fase 1: Camada: 0\n",
      "Criando paredes finas\n",
      "OK: fechou contorno\n",
      "Total de [Criando paredes finas] : 5.754405736923218\n",
      "Retirando Paredes finas da camada\n",
      "Total de [Retirando Paredes finas da camada] : 0.022230863571166992\n",
      "salvando imagens das regiões\n",
      "Total de [salvando imagens das regiões] : 0.2169780731201172\n",
      "Total de [Fase 1: Camada: 0] : 6.006329536437988\n"
     ]
    },
    {
     "data": {
      "image/png": "[encoded data removed]",
      "text/plain": [
       "<Figure size 640x480 with 1 Axes>"
      ]
     },
     "metadata": {},
     "output_type": "display_data"
    }
   ],
   "source": [
    "import gui\n",
    "import files\n",
    "from timer import Timer\n",
    "from os import getcwd\n",
    "\n",
    "if not('folders' in globals()):\n",
    "    home = getcwd()\n",
    "    folders = files.System_Paths(home)\n",
    "    gui.find_saved_file(folders)\n",
    "#[nozzle_diam_internal,nozzle_diam_external] = gui.ask_parameters_thin_walls()\n",
    "configuracoes = files.Config(\"solda_config.yaml\")\n",
    "[d_tw, sob_tw_per, name_prog] = gui.ask_parameters_thin_walls(configuracoes)\n",
    "camadas = folders.load_layers_hdf5()\n",
    "for i,c in enumerate(camadas):\n",
    "    with Timer(\"Fase 1: Camada: \" + str(i)):\n",
    "        folders.load_islands_hdf5(c)\n",
    "        #c.make_thin_walls(folders, nozzle_diam_external, nozzle_diam_internal)\n",
    "        c.make_thin_walls(folders, d_tw, sob_tw_per, name_prog)\n",
    "        %reset_selective -f \"c\"\n",
    "%reset_selective -f \"camadas\"\n",
    "# TODO: quando duas áreas se encontram\n",
    "# TODO: limite de parede diam minimo\n",
    "# TODO arrumar para origens extremamente pequenas, ignorar da problema\n",
    "# TODO arrumar casos onde a beirada esta vazndo criando areas triangulares distantes\n",
    "# FIXME: Precisa mesmo separar linha 1 2 topo e baixo? muitos elementos estão sendo criados"
   ]
  },
  {
   "cell_type": "markdown",
   "metadata": {},
   "source": [
    "Contornos"
   ]
  },
  {
   "cell_type": "code",
   "execution_count": 18,
   "metadata": {},
   "outputs": [
    {
     "name": "stdout",
     "output_type": "stream",
     "text": [
      "Fase 2: Camada: 0\n",
      "Criando Lvls\n",
      "Ilha: I_000 Número de Níveis: 9\n",
      "Total de [Criando Lvls] : 2.6754214763641357\n",
      "Criando os loops\n",
      "Total de [Criando os loops] : 1.4993133544921875\n",
      "Criando regiões de influência\n",
      "Total de [Criando regiões de influência] : 0.16550993919372559\n",
      "Criando as regiões de Offset\n",
      "Total de [Criando as regiões de Offset] : 2.400886058807373\n",
      "Retirando regiões da camada\n",
      "['Lvl_000', 0, 0] Perdendo total:279 maior void:0.0732519422863485Bw -> aceito\n",
      "['Lvl_001', 0, 0] Perdendo total:17 maior void:0.018867924528301886Bw -> bloqueado\n",
      "['Lvl_002', 0, 0] Perdendo total:59232 maior void:42.1953385127636Bw -> bloqueado\n",
      "['Lvl_000', 1, 0] Perdendo total:0 maior void:0Bw -> aceito\n",
      "['Lvl_001', 1, 1] Perdendo total:0 maior void:0Bw -> aceito\n",
      "['Lvl_002', 1, 0] Perdendo total:0 maior void:0Bw -> aceito\n",
      "['Lvl_000', 1, 1] Perdendo total:0 maior void:0Bw -> aceito\n",
      "['Lvl_001', 1, 2] Perdendo total:17 maior void:0.018867924528301886Bw -> aceito\n",
      "['Lvl_000', 1, 2] Perdendo total:0 maior void:0Bw -> aceito\n",
      "['Lvl_001', 1, 3] Perdendo total:91 maior void:0.02774694783573807Bw -> aceito\n",
      "['Lvl_000', 1, 3] Perdendo total:0 maior void:0Bw -> aceito\n",
      "['Lvl_001', 1, 4] Perdendo total:0 maior void:0Bw -> aceito\n",
      "['Lvl_002', 1, 1] Perdendo total:59232 maior void:42.1953385127636Bw -> bloqueado\n",
      "['Lvl_001', 1, 0] Perdendo total:17 maior void:0.018867924528301886Bw -> aceito\n",
      "['Lvl_003', 0, 1] Perdendo total:24139 maior void:11.706992230854606Bw -> bloqueado\n",
      "['Lvl_004', 0, 1] Perdendo total:20708 maior void:12.716981132075471Bw -> bloqueado\n",
      "['Lvl_005', 0, 1] Perdendo total:4210 maior void:2.3285238623751385Bw -> bloqueado\n",
      "['Lvl_006', 0, 0] Perdendo total:2905 maior void:1.2108768035516093Bw -> bloqueado\n",
      "['Lvl_007', 0, 0] Perdendo total:2461 maior void:0.9544950055493896Bw -> aceito\n",
      "['Lvl_008', 0, 0] Perdendo total:1993 maior void:0.7946725860155383Bw -> bloqueado\n",
      "['Lvl_003', 0, 0] Perdendo total:32489 maior void:11.90566037735849Bw -> bloqueado\n",
      "['Lvl_004', 0, 0] Perdendo total:31406 maior void:26.10987791342952Bw -> bloqueado\n",
      "['Lvl_005', 0, 0] Perdendo total:10342 maior void:3.9478357380688123Bw -> bloqueado\n",
      "['Lvl_004', 0, 2] Perdendo total:37773 maior void:25.57824639289678Bw -> bloqueado\n",
      "['Lvl_005', 0, 2] Perdendo total:9890 maior void:3.8601553829078803Bw -> bloqueado\n",
      "Total de [Retirando regiões da camada] : 1.6677703857421875\n",
      "Reunindo todos os loops em uma unica imagem\n",
      "Total de [Reunindo todos os loops em uma unica imagem] : 0.0438992977142334\n",
      "salvando imagens das regiões\n",
      "deletado: /L_000/I_000/offsets\n",
      "Total de [salvando imagens das regiões] : 0.31166815757751465\n",
      "Total de [Fase 2: Camada: 0] : 8.796042203903198\n"
     ]
    }
   ],
   "source": [
    "import gui\n",
    "import files\n",
    "from timer import Timer\n",
    "from components import layer\n",
    "from os import getcwd\n",
    "\n",
    "if not('folders' in globals()):\n",
    "    home = getcwd()\n",
    "    folders = files.System_Paths(home)\n",
    "    gui.find_saved_file(folders)\n",
    "configuracoes = files.Config(\"solda_config.yaml\")\n",
    "[void_max,external_max,internal_max,d_cont,sob_cont_per,name_prog] = gui.ask_parameters_offsets(configuracoes)\n",
    "camadas = folders.load_layers_hdf5()\n",
    "for i,c in enumerate(camadas):\n",
    "    with Timer(\"Fase 2: Camada: \" + str(i)):\n",
    "        folders.load_islands_hdf5(c)\n",
    "        c.make_offsets(folders, void_max, external_max, internal_max, d_cont, sob_cont_per, name_prog)\n",
    "        folders.save_props_hdf5(f\"/{c.name}\",c.__dict__)\n",
    "        %reset_selective -f \"c\"\n",
    "%reset_selective -f \"camadas\""
   ]
  },
  {
   "cell_type": "markdown",
   "metadata": {},
   "source": [
    "Pontes"
   ]
  },
  {
   "cell_type": "code",
   "execution_count": 19,
   "metadata": {},
   "outputs": [
    {
     "name": "stdout",
     "output_type": "stream",
     "text": [
      "Fase 3: Camada: 0\n",
      "Criando pontes de Offset\n",
      "Total de [Criando pontes de Offset] : 13.827860593795776\n",
      "Criando pontes de Zigzag\n",
      "Fechou uma ponte OK\n",
      "Fechou uma ponte OK\n",
      "Fechou uma ponte OK\n",
      "Fechou uma ponte OK\n",
      "Fechou uma ponte OK\n",
      "Total de [Criando pontes de Zigzag] : 13.326563358306885\n",
      "Criando pontes de Crossover\n",
      "Elemento: ('Reg_000', 'Reg_003') Maior prioridade: 0\n",
      "Elemento: ('Reg_001', 'Reg_002') Maior prioridade: 1\n",
      "Elemento: ('Reg_000', 'Reg_002') Maior prioridade: 2\n",
      "Total de [Criando pontes de Crossover] : 0.07443046569824219\n",
      "Retirando pontes da Camada\n",
      "Total de [Retirando pontes da Camada] : 0.026258468627929688\n",
      "Gerando áreas proibidas\n",
      "Total de [Gerando áreas proibidas] : 0.0014421939849853516\n",
      "salvando imagens das regiões\n",
      "Total de [salvando imagens das regiões] : 0.5164716243743896\n",
      "Total de [Fase 3: Camada: 0] : 27.836151838302612\n"
     ]
    },
    {
     "data": {
      "image/png": "[encoded data removed]",
      "text/plain": [
       "<Figure size 640x480 with 1 Axes>"
      ]
     },
     "metadata": {},
     "output_type": "display_data"
    }
   ],
   "source": [
    "import gui\n",
    "import files\n",
    "from timer import Timer\n",
    "from components import layer\n",
    "from os import getcwd\n",
    "import numpy as np\n",
    "from components import images_tools as it\n",
    "\n",
    "if not('folders' in globals()):\n",
    "    home = getcwd()\n",
    "    folders = files.System_Paths(home)\n",
    "    gui.find_saved_file(folders)\n",
    "configuracoes = files.Config(\"solda_config.yaml\")\n",
    "[n_max, d_bridg, sob_bridg_per, name_prog] = gui.ask_parameters_bridges(configuracoes)\n",
    "camadas = folders.load_layers_hdf5()\n",
    "last_prohibited_areas = np.zeros(camadas[0].base_frame)\n",
    "for i,c in enumerate(camadas):\n",
    "    with Timer(\"Fase 3: Camada: \" + str(i)):\n",
    "        if i%2 == 1:\n",
    "            last_image = it.rotate_img_cw(last_prohibited_areas )\n",
    "        elif i%2 == 0:\n",
    "            last_image = it.rotate_img_ccw(last_prohibited_areas )\n",
    "        if i >= 2:\n",
    "            if i%2 == 1:\n",
    "                second_last_image = it.rotate_img_cw(camadas[i - 1].prohibited_areas)\n",
    "            elif i%2 == 0:\n",
    "                second_last_image = it.rotate_img_ccw(camadas[i - 1].prohibited_areas)\n",
    "        else:\n",
    "            second_last_image = np.zeros_like(last_image)\n",
    "        c.prohibited_areas = last_image\n",
    "        sum_prohibited_areas = it.sum_imgs([last_image, second_last_image])\n",
    "        last_prohibited_areas = c.make_bridges(folders, n_max, d_bridg, sob_bridg_per, len(camadas), sum_prohibited_areas, name_prog)\n",
    "        folders.save_props_hdf5(f\"/{c.name}\",c.__dict__)\n",
    "%reset_selective -f \"camadas\""
   ]
  },
  {
   "cell_type": "markdown",
   "metadata": {},
   "source": [
    "Zigzags"
   ]
  },
  {
   "cell_type": "code",
   "execution_count": 20,
   "metadata": {},
   "outputs": [
    {
     "name": "stdout",
     "output_type": "stream",
     "text": [
      "Fase 4: Camada: 0\n",
      "Encontrando areas monotonicas\n",
      "Total de [Encontrando areas monotonicas] : 1.9485435485839844\n",
      "salvando imagens das regiões\n",
      "Total de [salvando imagens das regiões] : 0.07082176208496094\n",
      "Total de [Fase 4: Camada: 0] : 2.348597764968872\n"
     ]
    }
   ],
   "source": [
    "import gui\n",
    "import files\n",
    "from timer import Timer\n",
    "from components import layer\n",
    "from os import getcwd\n",
    "\n",
    "if not('folders' in globals()):\n",
    "    home = getcwd()\n",
    "    folders = files.System_Paths(home)\n",
    "    gui.find_saved_file(folders)\n",
    "configuracoes = files.Config(\"solda_config.yaml\")\n",
    "[d_larg, sob_larg_per, name_prog] = gui.ask_parameters_zigzags(configuracoes)\n",
    "camadas = folders.load_layers_hdf5() \n",
    "for i, c in enumerate(camadas):\n",
    "    with Timer(\"Fase 4: Camada: \" + str(i)):\n",
    "        c.make_zigzags(folders, d_larg, sob_larg_per, name_prog)\n",
    "        %reset_selective -f \"c\"\n",
    "%reset_selective -f \"camadas\"\n"
   ]
  },
  {
   "cell_type": "markdown",
   "metadata": {},
   "source": [
    "IMAGEM DO MAPEAMENTO"
   ]
  },
  {
   "cell_type": "code",
   "execution_count": 21,
   "metadata": {},
   "outputs": [
    {
     "name": "stdout",
     "output_type": "stream",
     "text": [
      "Fase 4: Camada: 0\n",
      "\n",
      "\n",
      "Total de [Fase 4: Camada: 0] : 0.8787021636962891\n"
     ]
    },
    {
     "data": {
      "image/png": "[encoded data removed]",
      "text/plain": [
       "<Figure size 640x480 with 2 Axes>"
      ]
     },
     "metadata": {},
     "output_type": "display_data"
    }
   ],
   "source": [
    "import gui\n",
    "import files\n",
    "from timer import Timer\n",
    "from components import images_tools as it\n",
    "from os import getcwd\n",
    "import matplotlib.pyplot as plt\n",
    "import matplotlib.colors\n",
    "import os\n",
    "\n",
    "if not('folders' in globals()):\n",
    "    home = getcwd()\n",
    "    folders = files.System_Paths(home)\n",
    "    gui.find_saved_file(folders)\n",
    "camadas = folders.load_layers_hdf5() \n",
    "for c in camadas:\n",
    "    folders.load_islands_hdf5(c)\n",
    "tangran_cmap = matplotlib.colors.ListedColormap([\"white\",\"darkblue\",\"aqua\",\"aquamarine\",\"blue\",\"black\",\"green\",\"indigo\",\"red\",\"orange\"])\n",
    "for i, c in enumerate(camadas):\n",
    "    with Timer(\"Fase 4: Camada: \" + str(i)):\n",
    "        plt.figure()\n",
    "        img_mapping = it.final_mapping(c, folders)\n",
    "        plt.imshow(img_mapping, cmap=tangran_cmap, vmin=0, vmax=1000)\n",
    "        plt.imsave(\"aaa.png\",img_mapping, cmap=tangran_cmap, vmin=0, vmax=1000)\n",
    "        plt.colorbar()\n",
    "        print('\\n')"
   ]
  },
  {
   "cell_type": "markdown",
   "metadata": {},
   "source": [
    "ROTAS"
   ]
  },
  {
   "cell_type": "markdown",
   "metadata": {},
   "source": [
    "Rotas de Offset"
   ]
  },
  {
   "cell_type": "code",
   "execution_count": 22,
   "metadata": {},
   "outputs": [
    {
     "name": "stdout",
     "output_type": "stream",
     "text": [
      "Making offset routes\n",
      "salvando imagens das rotas\n",
      "Total de [salvando imagens das rotas] : 0.14956045150756836\n",
      "Total de [Making offset routes] : 3.9620776176452637\n"
     ]
    }
   ],
   "source": [
    "import gui\n",
    "import files\n",
    "from timer import Timer\n",
    "from os import getcwd\n",
    "\n",
    "if not('folders' in globals()):\n",
    "    home = getcwd()\n",
    "    folders = files.System_Paths(home)\n",
    "    gui.find_saved_file(folders)\n",
    "camadas = folders.load_layers_hdf5()\n",
    "\n",
    "amendment_size = 0.7 #porcentagem do tamanho da poca de deposicao de material\n",
    "for c in camadas:\n",
    "    with Timer(\"Making offset routes\"):\n",
    "        c.make_offset_routes(amendment_size, folders)\n",
    "        %reset_selective -f \"c\"\n",
    "%reset_selective -f \"camadas\""
   ]
  },
  {
   "cell_type": "markdown",
   "metadata": {},
   "source": [
    "Rotas de pontes"
   ]
  },
  {
   "cell_type": "code",
   "execution_count": 23,
   "metadata": {},
   "outputs": [
    {
     "name": "stdout",
     "output_type": "stream",
     "text": [
      "Making bridges routes\n",
      "Camada: L_000\n",
      "Making Offset bridges routes\n",
      "Total de [Making Offset bridges routes] : 0.05762529373168945\n",
      "Making Zigzag bridges routes\n",
      "Total de [Making Zigzag bridges routes] : 4.021312952041626\n",
      "Making Crossover bridges routes\n",
      "Total de [Making Crossover bridges routes] : 7.010478734970093\n",
      "salvando imagens das rotas\n",
      "Total de [salvando imagens das rotas] : 0.29071760177612305\n",
      "Total de [Camada: L_000] : 12.008950233459473\n",
      "Total de [Making bridges routes] : 12.0120530128479\n"
     ]
    }
   ],
   "source": [
    "import gui\n",
    "import files\n",
    "from timer import Timer\n",
    "from os import getcwd\n",
    "\n",
    "if not('folders' in globals()):\n",
    "    home = getcwd()\n",
    "    folders = files.System_Paths(home)\n",
    "    gui.find_saved_file(folders)\n",
    "camadas = folders.load_layers_hdf5()\n",
    "[sob_int_ext_per] = gui.ask_parameters_internal_routes()\n",
    "\n",
    "with Timer(f\"Making bridges routes\"):\n",
    "    for c in camadas:\n",
    "        with Timer(f\"Camada: {c.name}\"):\n",
    "            c.make_bridges_routes(folders, sob_int_ext_per)\n",
    "            %reset_selective -f \"c\"\n",
    "%reset_selective -f \"camadas\""
   ]
  },
  {
   "cell_type": "markdown",
   "metadata": {},
   "source": [
    "Rotas de Ziguezague"
   ]
  },
  {
   "cell_type": "code",
   "execution_count": 24,
   "metadata": {},
   "outputs": [
    {
     "name": "stdout",
     "output_type": "stream",
     "text": [
      "Making zigzag routes\n",
      "criando as rotas de zigzag, camada:L_000\n",
      "fazendo as tres opções:\n",
      "Total de [fazendo as tres opções:] : 8.75746774673462\n",
      "escolhendo entre elas:\n",
      "Total de [escolhendo entre elas:] : 0.13120770454406738\n",
      "fazendo as tres opções:\n",
      "Total de [fazendo as tres opções:] : 8.61797308921814\n",
      "escolhendo entre elas:\n",
      "Total de [escolhendo entre elas:] : 0.12965774536132812\n",
      "fazendo as tres opções:\n",
      "Total de [fazendo as tres opções:] : 7.329597473144531\n",
      "escolhendo entre elas:\n",
      "Total de [escolhendo entre elas:] : 0.12949228286743164\n",
      "fazendo as tres opções:\n",
      "Total de [fazendo as tres opções:] : 0.023962736129760742\n",
      "escolhendo entre elas:\n",
      "Total de [escolhendo entre elas:] : 0.04276847839355469\n",
      "Total de [criando as rotas de zigzag, camada:L_000] : 26.41256594657898\n",
      "salvando imagens das rotas\n",
      "deletado: /L_000/I_000/zigzags\n",
      "Total de [salvando imagens das rotas] : 0.18063092231750488\n",
      "Criando os grafos de regiões\n",
      "Total de [Criando os grafos de regiões] : 0.16682100296020508\n",
      "Conectando regiões de zigzag\n",
      "Total de [Conectando regiões de zigzag] : 0.0879514217376709\n",
      "salvando grafos\n",
      "Total de [salvando grafos] : 0.14232707023620605\n",
      "Total de [Making zigzag routes] : 28.108831644058228\n"
     ]
    }
   ],
   "source": [
    "import gui\n",
    "import files\n",
    "from timer import Timer\n",
    "from os import getcwd\n",
    "\n",
    "if not('folders' in globals()):\n",
    "    home = getcwd()\n",
    "    folders = files.System_Paths(home)\n",
    "    gui.find_saved_file(folders)\n",
    "camadas = folders.load_layers_hdf5()\n",
    "for c in camadas:\n",
    "    with Timer(\"Making zigzag routes\"):\n",
    "        c.make_zigzag_routes(folders)\n",
    "        c.connect_zigzags(folders)\n",
    "        %reset_selective -f \"c\"\n",
    "%reset_selective -f \"camadas\"\n",
    "\n"
   ]
  },
  {
   "cell_type": "markdown",
   "metadata": {},
   "source": [
    "WEAVING"
   ]
  },
  {
   "cell_type": "code",
   "execution_count": 25,
   "metadata": {},
   "outputs": [
    {
     "name": "stdout",
     "output_type": "stream",
     "text": [
      "Fase 5 b\n",
      "gerando preenchimentos oscilatórios\n",
      "Pegando as falhas internas\n",
      "Total de [Pegando as falhas internas] : 1.1598114967346191\n",
      "Achando os contatos\n",
      "Total de [Achando os contatos] : 16.91515040397644\n",
      "criando os weavings\n",
      "sequncia corrigida, b e c trocado\n",
      "sequncia corrigida, b e c trocado\n",
      "Total de [criando os weavings] : 8.386828422546387\n",
      "Total de [gerando preenchimentos oscilatórios] : 28.80869150161743\n",
      "salvando rotas\n",
      "deletado: /L_000/I_000/zigzags/macro_areas\n",
      "Total de [salvando rotas] : 0.19066882133483887\n",
      "Total de [Fase 5 b] : 28.99983525276184\n"
     ]
    }
   ],
   "source": [
    "import gui\n",
    "import files\n",
    "from timer import Timer\n",
    "from os import getcwd\n",
    "\n",
    "if not('folders' in globals()):\n",
    "    home = getcwd()\n",
    "    folders = files.System_Paths(home)\n",
    "    gui.find_saved_file(folders)\n",
    "camadas = folders.load_layers_hdf5()\n",
    "[iwflag] = gui.ask_parameters_weaving()\n",
    "for c in camadas:\n",
    "    with Timer(\"Fase 5 b\"):\n",
    "        c.internal_weaving(iwflag, folders)\n",
    "        %reset_selective -f \"c\"\n",
    "%reset_selective -f \"camadas\""
   ]
  },
  {
   "cell_type": "markdown",
   "metadata": {},
   "source": [
    "Rotas de Thin Walls"
   ]
  },
  {
   "cell_type": "code",
   "execution_count": 26,
   "metadata": {},
   "outputs": [
    {
     "name": "stdout",
     "output_type": "stream",
     "text": [
      "Fase 5\n",
      "Making thin walls routes\n",
      "criando rotas TW\n",
      "Total de [criando rotas TW] : 0.2738938331604004\n",
      "salvando imagens das rotas\n",
      "Total de [salvando imagens das rotas] : 0.030269145965576172\n",
      "Total de [Making thin walls routes] : 0.3044853210449219\n",
      "Total de [Fase 5] : 0.3045642375946045\n"
     ]
    }
   ],
   "source": [
    "import gui\n",
    "import files\n",
    "from timer import Timer\n",
    "from os import getcwd\n",
    "\n",
    "if not('folders' in globals()):\n",
    "    home = getcwd()\n",
    "    folders = files.System_Paths(home)\n",
    "    gui.find_saved_file(folders)\n",
    "camadas = folders.load_layers_hdf5()\n",
    "for c in camadas:\n",
    "    with Timer(\"Fase 5\"):\n",
    "        with Timer(\"Making thin walls routes\"):\n",
    "            c.make_thin_wall_routes(folders)\n",
    "            %reset_selective -f \"c\"\n",
    "%reset_selective -f \"camadas\""
   ]
  },
  {
   "cell_type": "markdown",
   "metadata": {},
   "source": [
    "Encontrando o lugar onde será o começo da trilha de cada ilha"
   ]
  },
  {
   "cell_type": "code",
   "execution_count": 27,
   "metadata": {},
   "outputs": [
    {
     "name": "stdout",
     "output_type": "stream",
     "text": [
      "Encontrando ponto de união ext-int\n",
      "salvando imagens das rotas\n",
      "Total de [salvando imagens das rotas] : 0.001096487045288086\n",
      "Total de [Encontrando ponto de união ext-int] : 0.17977237701416016\n"
     ]
    }
   ],
   "source": [
    "import gui\n",
    "import files\n",
    "from timer import Timer\n",
    "from components import layer, path_tools\n",
    "from os import getcwd\n",
    "\n",
    "if not('folders' in globals()):\n",
    "    home = getcwd()\n",
    "    folders = files.System_Paths(home)\n",
    "    gui.find_saved_file(folders)\n",
    "camadas = folders.load_layers_hdf5()\n",
    "\n",
    "for c in camadas:\n",
    "    c.islands_path_starts(folders)\n",
    "\n",
    "%reset_selective -f \"camadas\"                        "
   ]
  },
  {
   "cell_type": "markdown",
   "metadata": {},
   "source": [
    "Unificando rotas EXTERNAS nas camadas"
   ]
  },
  {
   "cell_type": "code",
   "execution_count": 28,
   "metadata": {},
   "outputs": [
    {
     "name": "stdout",
     "output_type": "stream",
     "text": [
      "Fase 6: layer_L_000\n",
      "Conectando rotas externas\n",
      "Conectando pontes de Offset\n",
      "Total de [Conectando pontes de Offset] : 1.9531855583190918\n",
      "Conectando pontes de Crossover\n",
      "salto:  [717, 2493]\n",
      "salto:  [447, 488]\n",
      "salto:  [498, 2262]\n",
      "Total de [Conectando pontes de Crossover] : 1.265005111694336\n",
      "Total de [Conectando rotas externas] : 4.210172414779663\n",
      "salvando imagens das rotas\n",
      "Total de [salvando imagens das rotas] : 0.13205957412719727\n",
      "Total de [Fase 6: layer_L_000] : 4.34252667427063\n"
     ]
    }
   ],
   "source": [
    "import gui\n",
    "import files\n",
    "from timer import Timer\n",
    "from os import getcwd\n",
    "\n",
    "if not('folders' in globals()):\n",
    "    home = getcwd()\n",
    "    folders = files.System_Paths(home)\n",
    "    gui.find_saved_file(folders)\n",
    "camadas = folders.load_layers_hdf5()\n",
    "\n",
    "for c in camadas:\n",
    "    with Timer(f\"Fase 6: layer_{c.name}\"):\n",
    "        c.close_routes_external(folders)\n",
    "        %reset_selective -f \"c\"\n",
    "%reset_selective -f \"camadas\"\n",
    "    "
   ]
  },
  {
   "cell_type": "markdown",
   "metadata": {},
   "source": [
    "Unificando rotas INTERNAS nas camadas"
   ]
  },
  {
   "cell_type": "code",
   "execution_count": 29,
   "metadata": {},
   "outputs": [
    {
     "name": "stdout",
     "output_type": "stream",
     "text": [
      "Fase 7: Layer_L_000\n",
      "Conectando zgzags vizinhos\n",
      "Total de [Conectando zgzags vizinhos] : 4.933226585388184\n",
      "Conectando pontes de zigzag\n",
      "salto:  [195, 1509]\n",
      "salto:  [1005, 1539]\n",
      "Total de [Conectando pontes de zigzag] : 0.5372779369354248\n",
      "salvando imagens das rotas\n",
      "Total de [salvando imagens das rotas] : 0.14113378524780273\n",
      "Total de [Fase 7: Layer_L_000] : 6.598109483718872\n"
     ]
    }
   ],
   "source": [
    "import gui\n",
    "import files\n",
    "from timer import Timer\n",
    "from components import layer\n",
    "from os import getcwd\n",
    "\n",
    "if not('folders' in globals()):\n",
    "    home = getcwd()\n",
    "    folders = files.System_Paths(home)\n",
    "    gui.find_saved_file(folders)\n",
    "camadas = folders.load_layers_hdf5()\n",
    "\n",
    "for c in camadas:\n",
    "    with Timer(f\"Fase 7: Layer_{c.name}\"):\n",
    "        c.close_routes_internal(folders)\n",
    "        %reset_selective -f \"c\"\n",
    "%reset_selective -f \"camadas\""
   ]
  },
  {
   "cell_type": "markdown",
   "metadata": {},
   "source": [
    "Unindo rotas de thin walls"
   ]
  },
  {
   "cell_type": "code",
   "execution_count": 30,
   "metadata": {},
   "outputs": [
    {
     "name": "stdout",
     "output_type": "stream",
     "text": [
      "Fase 8: Layer_L_000\n",
      "Convertendo paredes finas\n",
      "Total de [Convertendo paredes finas] : 1.1464486122131348\n",
      "salvando imagens das rotas\n",
      "Total de [salvando imagens das rotas] : 0.09777474403381348\n",
      "Total de [Fase 8: Layer_L_000] : 1.412954330444336\n"
     ]
    }
   ],
   "source": [
    "import gui\n",
    "import files\n",
    "from timer import Timer\n",
    "from components import layer\n",
    "from os import getcwd\n",
    "\n",
    "if not('folders' in globals()):\n",
    "    home = getcwd()\n",
    "    folders = files.System_Paths(home)\n",
    "    gui.find_saved_file(folders)\n",
    "camadas = folders.load_layers_hdf5()\n",
    "\n",
    "for c in camadas:\n",
    "    with Timer(f\"Fase 8: Layer_{c.name}\"):\n",
    "        c.close_routes_thinwalls(folders)\n",
    "        %reset_selective -f \"c\"\n",
    "%reset_selective -f \"camadas\""
   ]
  },
  {
   "cell_type": "markdown",
   "metadata": {},
   "source": [
    "Unindo todas as rotas"
   ]
  },
  {
   "cell_type": "code",
   "execution_count": 31,
   "metadata": {},
   "outputs": [
    {
     "name": "stdout",
     "output_type": "stream",
     "text": [
      "Encontrando ponto de união ext-int\n",
      "Total de [Encontrando ponto de união ext-int] : 0.04121732711791992\n",
      "Conectando todas as partes\n",
      "Total de [Conectando todas as partes] : 0.024171113967895508\n",
      "salvando imagens das rotas\n",
      "[[1049, 1494], [1047, 1514], [1046, 1515], [1046, 1523], [1045, 1524], [1045, 1531], [1044, 1532], [1044, 1539], [1043, 1540], [1043, 1547], [1042, 1548], [1042, 1558], [1041, 1559], [1041, 1563], [1040, 1564], [1040, 1568], [1039, 1569], [1039, 1573], [1038, 1574], [1038, 1578], [1037, 1579], [1037, 1583], [1036, 1584], [1036, 1588], [1035, 1589], [1035, 1593], [1033, 1599], [1033, 1604], [1032, 1605], [1032, 1609], [1031, 1610], [1031, 1614], [1030, 1615], [1030, 1619], [1029, 1620], [1029, 1624], [1028, 1625], [1028, 1629], [1027, 1630], [1027, 1634], [1026, 1635], [1026, 1639], [1024, 1645], [1024, 1650], [1023, 1651], [1023, 1655], [1022, 1656], [1022, 1660], [1021, 1661], [1021, 1665], [1020, 1666], [1020, 1670], [1019, 1671], [1019, 1675], [1018, 1676], [1018, 1680], [1017, 1681], [1017, 1685], [1015, 1691], [1015, 1696], [1014, 1697], [1014, 1701], [1013, 1702], [1013, 1706], [1012, 1707], [1012, 1711], [1011, 1712], [1011, 1716], [1010, 1717], [1010, 1721], [1009, 1722], [1009, 1726], [1007, 1732], [1007, 1737], [1006, 1738], [1006, 1742], [1005, 1743], [1005, 1747], [1004, 1748], [1004, 1752], [1003, 1753], [1003, 1757], [1002, 1758], [1002, 1762], [1001, 1763], [1001, 1767], [1000, 1768], [1000, 1772], [998, 1778], [998, 1783], [997, 1784], [997, 1788], [996, 1789], [996, 1793], [995, 1794], [995, 1798], [994, 1799], [994, 1803], [993, 1804], [993, 1808], [992, 1809], [992, 1813], [991, 1814], [991, 1818], [989, 1824], [989, 1829], [988, 1830], [988, 1834], [987, 1835], [987, 1839], [986, 1840], [986, 1844], [985, 1845], [985, 1849], [984, 1850], [984, 1854], [983, 1855], [983, 1859], [982, 1860], [982, 1864], [980, 1870], [980, 1875], [979, 1876], [979, 1880], [978, 1881], [978, 1885], [977, 1886], [977, 1890], [976, 1891], [976, 1895], [975, 1896], [975, 1900], [974, 1901], [974, 1905], [972, 1911], [972, 1916], [971, 1917], [971, 1921], [970, 1922], [970, 1926], [969, 1927], [969, 1931], [968, 1932], [968, 1936], [967, 1937], [967, 1941], [966, 1942], [966, 1946], [965, 1947], [965, 1951], [963, 1957], [963, 1962], [962, 1963], [962, 1967], [961, 1968], [961, 1972], [960, 1973], [960, 1977], [959, 1978], [959, 1982], [958, 1983], [958, 1987], [957, 1988], [957, 1992], [956, 1993], [956, 1997], [954, 2003], [954, 2008], [953, 2009], [953, 2013], [952, 2014], [952, 2018], [951, 2019], [951, 2023], [950, 2024], [950, 2028], [949, 2029], [949, 2033], [948, 2034], [948, 2038], [947, 2039], [947, 2043], [945, 2049], [945, 2054], [944, 2055], [944, 2059], [943, 2060], [943, 2064], [942, 2065], [942, 2069], [941, 2070], [941, 2074], [940, 2075], [940, 2079], [939, 2080], [939, 2084], [937, 2090], [937, 2095], [936, 2096], [936, 2100], [935, 2101], [935, 2105], [934, 2106], [934, 2110], [933, 2111], [933, 2115], [932, 2116], [932, 2120], [931, 2121], [931, 2125], [930, 2126], [930, 2130], [928, 2136], [928, 2141], [927, 2142], [927, 2146], [926, 2147], [926, 2151], [925, 2152], [925, 2156], [924, 2157], [924, 2161], [923, 2162], [923, 2166], [922, 2167], [922, 2171], [921, 2172], [921, 2176], [919, 2182], [919, 2187], [918, 2188], [918, 2192], [917, 2193], [917, 2197], [916, 2198], [916, 2202], [915, 2203], [915, 2207], [914, 2208], [914, 2212], [913, 2213], [913, 2217], [912, 2218], [912, 2222], [910, 2228], [910, 2233], [909, 2234], [909, 2238], [908, 2239], [908, 2243], [907, 2244], [907, 2248], [906, 2249], [906, 2253], [905, 2254], [905, 2258], [904, 2259], [904, 2263], [902, 2269], [902, 2274], [901, 2275], [901, 2279], [900, 2280], [900, 2284], [899, 2285], [899, 2289], [898, 2290], [898, 2294], [897, 2295], [897, 2299], [896, 2300], [896, 2304], [895, 2305], [895, 2309], [893, 2315], [893, 2320], [892, 2321], [892, 2325], [891, 2326], [891, 2330], [890, 2331], [890, 2335], [889, 2336], [889, 2340], [888, 2341], [888, 2345], [887, 2346], [887, 2350], [886, 2351], [886, 2355], [884, 2361], [884, 2366], [883, 2367], [883, 2371], [882, 2372], [882, 2376], [881, 2377], [881, 2381], [880, 2382], [880, 2386], [879, 2387], [879, 2391], [878, 2392], [878, 2396], [877, 2397], [877, 2401], [875, 2407], [875, 2412], [874, 2413], [874, 2417], [873, 2418], [873, 2422], [872, 2423], [872, 2427], [871, 2428], [871, 2432], [870, 2433], [870, 2437], [869, 2438], [869, 2442], [867, 2448], [867, 2453], [866, 2454], [866, 2458], [865, 2459], [865, 2463], [864, 2464], [864, 2468], [863, 2469], [863, 2473], [862, 2474], [862, 2478], [861, 2479], [861, 2483], [860, 2484], [860, 2488], [858, 2494], [858, 2499], [857, 2500], [857, 2504], [856, 2505], [856, 2509], [855, 2510], [855, 2514], [854, 2515], [854, 2519], [853, 2520], [853, 2524], [852, 2525], [852, 2529], [851, 2530], [851, 2534], [849, 2540], [849, 2545], [848, 2546], [848, 2550], [847, 2551], [847, 2555], [846, 2556], [846, 2560], [845, 2561], [845, 2565], [844, 2566], [844, 2570], [843, 2571], [843, 2575], [842, 2576], [842, 2580], [840, 2586], [840, 2591], [839, 2592], [833, 2626], [819, 2676], [797, 2720], [771, 2756], [735, 2792], [697, 2817], [694, 2820], [692, 2820], [650, 2841], [608, 2851], [607, 2852], [603, 2852], [602, 2853], [567, 2855], [566, 2856], [541, 2856], [540, 2855], [505, 2853], [504, 2852], [500, 2852], [499, 2851], [484, 2848], [480, 2846], [458, 2841], [445, 2834], [443, 2834], [412, 2819], [372, 2792], [336, 2756], [311, 2721], [288, 2675], [285, 2666], [285, 2663], [283, 2659], [283, 2656], [281, 2652], [280, 2645], [278, 2641], [278, 2638], [276, 2634], [276, 2630], [275, 2629], [275, 2625], [274, 2624], [274, 2620], [273, 2619], [273, 2615], [272, 2614], [272, 2610], [271, 2609], [271, 2605], [270, 2604], [270, 2600], [269, 2599], [269, 2595], [267, 2589], [267, 2584], [266, 2583], [266, 2579], [265, 2578], [265, 2574], [264, 2573], [264, 2569], [263, 2568], [263, 2564], [262, 2563], [262, 2559], [261, 2558], [261, 2554], [260, 2553], [260, 2549], [258, 2543], [258, 2538], [257, 2537], [257, 2533], [256, 2532], [256, 2528], [255, 2527], [255, 2523], [254, 2522], [254, 2518], [253, 2517], [253, 2513], [252, 2512], [252, 2508], [251, 2507], [251, 2503], [249, 2497], [249, 2492], [248, 2491], [248, 2487], [247, 2486], [247, 2482], [246, 2481], [246, 2477], [245, 2476], [245, 2472], [244, 2471], [238, 2437], [0, 0], [717, 2493], [721, 2501], [721, 2503], [723, 2506], [723, 2508], [725, 2512], [725, 2515], [726, 2516], [726, 2519], [728, 2523], [728, 2526], [729, 2527], [729, 2529], [731, 2533], [731, 2537], [732, 2538], [732, 2545], [733, 2546], [733, 2553], [734, 2554], [734, 2560], [735, 2561], [735, 2591], [734, 2592], [734, 2599], [733, 2600], [733, 2604], [732, 2605], [732, 2609], [731, 2610], [731, 2615], [730, 2616], [730, 2623], [729, 2624], [729, 2628], [727, 2630], [727, 2632], [725, 2635], [725, 2637], [720, 2646], [720, 2648], [718, 2651], [717, 2656], [716, 2658], [713, 2661], [709, 2669], [707, 2671], [706, 2673], [706, 2675], [703, 2681], [703, 2697], [706, 2703], [706, 2705], [708, 2707], [708, 2709], [707, 2710], [705, 2710], [699, 2707], [683, 2707], [677, 2710], [675, 2710], [669, 2715], [668, 2715], [665, 2718], [665, 2719], [660, 2725], [660, 2727], [657, 2733], [657, 2749], [658, 2750], [658, 2752], [657, 2753], [656, 2753], [653, 2750], [652, 2750], [646, 2745], [644, 2745], [638, 2742], [622, 2742], [621, 2743], [619, 2743], [618, 2744], [616, 2744], [615, 2745], [613, 2745], [612, 2746], [610, 2746], [609, 2747], [604, 2748], [601, 2750], [598, 2750], [597, 2751], [590, 2751], [589, 2752], [584, 2752], [583, 2753], [579, 2753], [578, 2754], [573, 2755], [572, 2754], [572, 2721], [576, 2719], [581, 2719], [582, 2718], [587, 2718], [588, 2717], [592, 2717], [593, 2716], [595, 2716], [596, 2715], [598, 2715], [599, 2714], [601, 2714], [602, 2713], [604, 2713], [605, 2712], [607, 2712], [608, 2711], [610, 2711], [611, 2710], [616, 2709], [618, 2707], [625, 2704], [627, 2702], [636, 2698], [645, 2690], [646, 2690], [651, 2685], [652, 2685], [672, 2664], [672, 2663], [675, 2660], [677, 2655], [679, 2653], [684, 2643], [686, 2641], [686, 2639], [690, 2632], [690, 2630], [696, 2618], [696, 2614], [697, 2613], [697, 2608], [698, 2607], [698, 2602], [699, 2601], [699, 2597], [700, 2596], [700, 2592], [701, 2591], [701, 2562], [700, 2561], [700, 2554], [699, 2553], [699, 2546], [698, 2545], [698, 2541], [697, 2540], [697, 2538], [695, 2534], [695, 2531], [693, 2527], [693, 2524], [692, 2523], [692, 2520], [691, 2519], [691, 2517], [681, 2497], [675, 2490], [673, 2486], [670, 2483], [670, 2482], [667, 2479], [667, 2478], [648, 2459], [647, 2459], [644, 2456], [643, 2456], [641, 2454], [640, 2454], [638, 2452], [637, 2452], [635, 2450], [634, 2450], [632, 2448], [628, 2446], [625, 2443], [623, 2443], [616, 2439], [614, 2439], [605, 2434], [603, 2434], [602, 2433], [598, 2433], [597, 2432], [594, 2432], [593, 2431], [589, 2431], [588, 2430], [585, 2430], [584, 2429], [581, 2429], [580, 2428], [576, 2428], [575, 2427], [565, 2427], [564, 2426], [544, 2426], [543, 2427], [533, 2427], [532, 2428], [528, 2428], [527, 2429], [523, 2429], [522, 2430], [519, 2430], [518, 2431], [514, 2431], [513, 2432], [506, 2433], [505, 2434], [500, 2435], [493, 2439], [491, 2439], [481, 2444], [475, 2449], [474, 2449], [468, 2454], [467, 2454], [464, 2457], [463, 2457], [460, 2460], [459, 2460], [452, 2467], [451, 2467], [440, 2478], [440, 2479], [437, 2482], [437, 2483], [434, 2486], [432, 2490], [427, 2496], [416, 2518], [416, 2520], [414, 2524], [414, 2527], [412, 2531], [412, 2534], [410, 2538], [410, 2541], [409, 2542], [409, 2546], [408, 2547], [408, 2553], [407, 2554], [407, 2561], [406, 2562], [406, 2590], [407, 2591], [407, 2595], [408, 2596], [408, 2601], [409, 2602], [409, 2606], [410, 2607], [410, 2612], [411, 2613], [411, 2617], [412, 2618], [412, 2620], [414, 2623], [414, 2625], [416, 2628], [416, 2630], [418, 2633], [418, 2635], [420, 2638], [420, 2640], [426, 2648], [427, 2651], [431, 2656], [432, 2659], [435, 2662], [435, 2663], [443, 2671], [443, 2672], [456, 2685], [457, 2685], [468, 2695], [469, 2695], [472, 2698], [490, 2707], [492, 2709], [494, 2709], [495, 2710], [498, 2710], [499, 2711], [501, 2711], [502, 2712], [504, 2712], [505, 2713], [510, 2714], [516, 2717], [520, 2717], [521, 2718], [526, 2718], [527, 2719], [531, 2719], [532, 2720], [537, 2720], [538, 2721], [542, 2721], [543, 2722], [548, 2722], [550, 2724], [550, 2765], [549, 2766], [548, 2766], [546, 2764], [546, 2763], [540, 2758], [532, 2754], [530, 2754], [529, 2753], [524, 2753], [523, 2752], [519, 2752], [518, 2751], [513, 2751], [512, 2750], [507, 2750], [499, 2746], [497, 2746], [496, 2745], [494, 2745], [490, 2743], [487, 2743], [483, 2741], [467, 2741], [466, 2742], [464, 2742], [458, 2745], [456, 2743], [456, 2737], [453, 2731], [453, 2729], [448, 2723], [448, 2722], [446, 2720], [445, 2720], [440, 2715], [439, 2715], [434, 2710], [433, 2710], [427, 2705], [425, 2705], [423, 2703], [423, 2701], [421, 2699], [421, 2698], [418, 2695], [418, 2694], [410, 2686], [410, 2685], [404, 2678], [401, 2672], [399, 2670], [397, 2666], [394, 2663], [394, 2662], [388, 2657], [387, 2655], [387, 2647], [386, 2646], [386, 2644], [384, 2641], [384, 2639], [382, 2636], [382, 2634], [380, 2631], [380, 2629], [378, 2626], [378, 2623], [377, 2622], [377, 2615], [376, 2614], [376, 2610], [375, 2609], [375, 2604], [374, 2603], [374, 2599], [373, 2598], [373, 2591], [372, 2590], [372, 2562], [373, 2561], [373, 2554], [374, 2553], [374, 2546], [375, 2545], [375, 2539], [376, 2538], [376, 2534], [377, 2533], [377, 2530], [379, 2526], [379, 2523], [381, 2519], [381, 2516], [382, 2515], [382, 2513], [383, 2512], [384, 2507], [386, 2504], [386, 2502], [397, 2480], [399, 2478], [401, 2474], [404, 2471], [406, 2467], [415, 2456], [415, 2455], [436, 2435], [437, 2435], [440, 2432], [441, 2432], [444, 2429], [445, 2429], [448, 2426], [449, 2426], [452, 2423], [456, 2421], [459, 2418], [460, 2418], [465, 2414], [475, 2409], [477, 2409], [484, 2405], [486, 2405], [489, 2403], [491, 2403], [492, 2402], [494, 2402], [498, 2400], [501, 2400], [502, 2399], [505, 2399], [506, 2398], [510, 2398], [511, 2397], [514, 2397], [515, 2396], [519, 2396], [520, 2395], [524, 2395], [525, 2394], [532, 2394], [533, 2393], [543, 2393], [544, 2392], [564, 2392], [565, 2393], [575, 2393], [576, 2394], [583, 2394], [584, 2395], [588, 2395], [589, 2396], [592, 2396], [593, 2397], [596, 2397], [597, 2398], [601, 2398], [602, 2399], [605, 2399], [606, 2400], [610, 2400], [611, 2401], [616, 2402], [619, 2404], [621, 2404], [631, 2409], [0, 0], [498, 2262], [476, 2252], [441, 2224], [421, 2197], [404, 2152], [401, 1749], [380, 1737], [367, 1721], [231, 1486], [223, 1458], [229, 1432], [379, 1178], [390, 1170], [414, 1164], [543, 1166], [541, 1198], [414, 1198], [402, 1203], [258, 1451], [261, 1470], [403, 1712], [415, 1717], [700, 1715], [713, 1700], [850, 1462], [849, 1449], [707, 1205], [693, 1198], [567, 1198], [566, 1164], [693, 1164], [712, 1168], [728, 1178], [879, 1433], [884, 1449], [879, 1481], [740, 1721], [719, 1743], [692, 1751], [435, 1752], [435, 2025], [476, 1991], [516, 1975], [545, 1971], [587, 1975], [627, 1991], [662, 2019], [688, 2058], [700, 2096], [667, 2099], [652, 2062], [637, 2042], [611, 2021], [579, 2008], [524, 2008], [492, 2021], [462, 2047], [438, 2094], [438, 2149], [451, 2181], [466, 2201], [504, 2228], [549, 2239], [599, 2228], [637, 2201], [652, 2181], [665, 2149], [664, 2145], [631, 2145], [608, 2182], [571, 2202], [542, 2204], [508, 2192], [481, 2165], [471, 2141], [469, 2115], [481, 2078], [495, 2061], [520, 2045], [558, 2039], [595, 2051], [622, 2078], [631, 2100], [632, 2122], [682, 2122], [700, 2145], [692, 2175], [678, 2203], [654, 2232], [627, 2252], [587, 2268], [555, 2273], [499, 2262], [484, 2291], [479, 2329], [482, 2375], [520, 2367], [512, 2331], [522, 2297], [549, 2301], [545, 2363], [574, 2365], [578, 2330], [571, 2299], [619, 2286], [632, 2409], [671, 2434], [692, 2455], [716, 2492], [789, 2461], [838, 2451], [827, 2510], [789, 2503], [754, 2515], [760, 2538], [792, 2535], [821, 2541], [815, 2571], [790, 2567], [763, 2570], [763, 2599], [809, 2603], [801, 2636], [758, 2626], [749, 2650], [789, 2674], [775, 2701], [756, 2691], [736, 2700], [737, 2719], [755, 2731], [733, 2755], [721, 2737], [709, 2740], [691, 2734], [685, 2738], [687, 2761], [697, 2763], [707, 2777], [681, 2795], [673, 2782], [651, 2784], [645, 2794], [651, 2809], [620, 2820], [607, 2779], [586, 2780], [572, 2799], [584, 2813], [584, 2825], [554, 2829], [554, 2806], [534, 2797], [520, 2812], [519, 2826], [486, 2820], [498, 2776], [481, 2769], [458, 2773], [460, 2787], [450, 2806], [421, 2791], [439, 2766], [429, 2749], [407, 2754], [395, 2772], [390, 2771], [367, 2748], [399, 2717], [380, 2692], [345, 2720], [327, 2690], [363, 2670], [359, 2651], [354, 2643], [311, 2654], [303, 2626], [347, 2614], [343, 2587], [296, 2590], [290, 2560], [321, 2555], [344, 2562], [349, 2530], [319, 2523], [284, 2528], [278, 2499], [318, 2490], [356, 2504], [368, 2477], [237, 2435], [66, 1561], [57, 1497], [57, 1417], [66, 1352], [130, 1025], [139, 1014], [166, 1001], [197, 1001], [215, 995], [237, 970], [316, 576], [314, 553], [306, 538], [290, 524], [263, 516], [237, 488], [274, 289], [288, 240], [315, 188], [336, 159], [376, 119], [413, 94], [459, 73], [516, 59], [592, 59], [647, 72], [695, 94], [732, 119], [771, 158], [796, 193], [819, 239], [831, 280], [869, 476], [0, 0], [447, 488], [410, 453], [390, 423], [378, 391], [372, 356], [373, 320], [376, 301], [385, 272], [385, 257], [396, 249], [415, 223], [421, 206], [434, 203], [470, 178], [476, 171], [488, 171], [520, 161], [556, 157], [583, 160], [610, 167], [641, 180], [673, 202], [685, 207], [688, 217], [712, 250], [722, 258], [722, 271], [731, 300], [733, 327], [701, 327], [691, 283], [681, 264], [665, 242], [644, 222], [625, 210], [605, 201], [575, 193], [544, 192], [509, 199], [481, 211], [459, 226], [440, 245], [425, 266], [414, 290], [406, 328], [406, 356], [411, 383], [420, 407], [435, 430], [470, 463], [492, 475], [513, 483], [543, 488], [587, 485], [616, 475], [640, 462], [675, 427], [695, 387], [702, 349], [735, 350], [727, 398], [716, 424], [697, 454], [663, 487], [632, 505], [595, 518], [565, 522], [543, 522], [502, 515], [476, 505], [458, 496], [448, 488], [421, 513], [382, 538], [343, 556], [333, 528], [367, 511], [398, 480], [383, 463], [351, 484], [321, 514], [304, 500], [328, 464], [366, 437], [360, 420], [358, 419], [317, 434], [279, 427], [276, 425], [282, 395], [314, 402], [351, 395], [345, 364], [316, 371], [291, 365], [288, 363], [294, 334], [319, 340], [344, 339], [345, 313], [303, 304], [300, 302], [308, 272], [353, 283], [358, 264], [358, 253], [341, 248], [321, 236], [334, 211], [353, 220], [369, 235], [377, 228], [393, 205], [391, 201], [370, 194], [354, 182], [377, 157], [403, 185], [423, 177], [430, 171], [404, 134], [431, 116], [441, 135], [457, 151], [464, 146], [475, 144], [472, 126], [464, 102], [489, 93], [494, 97], [508, 136], [532, 132], [533, 121], [529, 86], [566, 85], [563, 106], [563, 129], [565, 131], [587, 133], [594, 113], [594, 89], [601, 88], [632, 97], [620, 136], [620, 142], [644, 151], [666, 111], [681, 118], [695, 128], [669, 165], [684, 176], [697, 181], [706, 163], [721, 147], [744, 170], [728, 186], [710, 195], [714, 206], [727, 223], [765, 198], [772, 207], [782, 228], [747, 246], [751, 272], [775, 268], [796, 260], [805, 292], [762, 304], [760, 312], [763, 334], [766, 335], [811, 323], [817, 353], [790, 361], [763, 357], [758, 386], [792, 392], [823, 385], [829, 414], [790, 424], [752, 410], [739, 440], [789, 457], [834, 464], [870, 478], [1041, 1352], [1050, 1424], [1049, 1493], [0, 0], [923, 1409], [891, 1409], [842, 1326], [842, 1280], [831, 1280], [816, 1256], [817, 1240], [827, 1235], [842, 1235], [842, 665], [840, 656], [821, 642], [807, 656], [807, 1140], [791, 1141], [786, 1145], [786, 1162], [792, 1170], [807, 1172], [807, 1207], [775, 1208], [761, 1185], [742, 1162], [723, 1148], [706, 1141], [706, 560], [701, 555], [673, 560], [671, 562], [671, 1135], [570, 1135], [569, 585], [537, 585], [535, 587], [535, 1135], [434, 1135], [434, 597], [429, 592], [402, 597], [399, 600], [399, 1142], [383, 1150], [359, 1170], [331, 1213], [299, 1213], [298, 1177], [313, 1176], [322, 1163], [322, 1148], [314, 1142], [298, 1141], [298, 1043], [290, 1035], [265, 1043], [263, 1045], [263, 1240], [278, 1240], [287, 1245], [288, 1261], [275, 1283], [263, 1283], [263, 1332], [219, 1406], [185, 1406], [164, 1399], [162, 1397], [162, 1366], [149, 1353], [129, 1368], [127, 1376], [95, 1376], [0, 0], [195, 1509], [219, 1509], [264, 1586], [264, 1632], [276, 1633], [290, 1657], [289, 1672], [264, 1678], [266, 2248], [284, 2262], [299, 2249], [299, 1705], [333, 1705], [352, 1736], [334, 1740], [335, 1759], [374, 1759], [374, 1791], [334, 1792], [335, 1823], [374, 1823], [374, 1855], [334, 1856], [335, 1887], [374, 1887], [374, 1919], [334, 1920], [335, 1951], [374, 1951], [374, 1983], [334, 1984], [335, 2015], [374, 2015], [374, 2047], [334, 2048], [335, 2079], [374, 2079], [374, 2111], [335, 2111], [334, 2141], [377, 2142], [386, 2172], [335, 2172], [334, 2204], [400, 2206], [400, 2265], [412, 2277], [426, 2265], [460, 2267], [457, 2395], [401, 2441], [367, 2440], [367, 2404], [389, 2404], [422, 2378], [423, 2365], [367, 2364], [367, 2330], [423, 2330], [425, 2308], [402, 2310], [382, 2296], [367, 2296], [367, 2237], [344, 2222], [332, 2234], [332, 2280], [271, 2281], [276, 2314], [332, 2314], [332, 2348], [282, 2349], [292, 2398], [332, 2398], [332, 2434], [297, 2435], [261, 2424], [231, 2271], [231, 2184], [223, 2183], [216, 2149], [231, 2147], [231, 2116], [210, 2115], [203, 2082], [231, 2081], [231, 2050], [197, 2049], [190, 2016], [230, 2016], [231, 1984], [184, 1983], [182, 1958], [231, 1949], [231, 1619], [207, 1606], [196, 1617], [196, 1922], [164, 1923], [154, 1877], [161, 1872], [161, 1836], [146, 1835], [140, 1806], [161, 1802], [161, 1772], [134, 1771], [127, 1739], [160, 1739], [161, 1708], [121, 1707], [115, 1678], [160, 1675], [161, 1644], [109, 1643], [102, 1611], [162, 1611], [175, 1580], [96, 1579], [95, 1542], [127, 1541], [130, 1553], [150, 1567], [163, 1554], [163, 1518], [194, 1509], [195, 1484], [146, 1504], [90, 1518], [85, 1497], [86, 1482], [145, 1482], [197, 1470], [195, 1458], [85, 1457], [86, 1434], [146, 1434], [197, 1443], [200, 1433], [146, 1410], [93, 1397], [96, 1340], [169, 1341], [185, 1329], [182, 1311], [101, 1310], [108, 1281], [179, 1281], [188, 1253], [113, 1250], [119, 1221], [186, 1221], [180, 1191], [125, 1190], [131, 1161], [175, 1161], [170, 1131], [136, 1130], [142, 1102], [154, 1101], [148, 1068], [155, 1033], [163, 1029], [195, 1030], [195, 1302], [207, 1312], [230, 1299], [230, 1016], [296, 1014], [296, 990], [252, 989], [267, 960], [296, 960], [296, 927], [272, 926], [278, 896], [296, 894], [297, 845], [289, 841], [298, 796], [331, 796], [331, 1111], [338, 1117], [366, 1109], [366, 768], [317, 759], [322, 725], [366, 725], [366, 691], [328, 690], [335, 657], [366, 657], [366, 623], [341, 622], [348, 590], [366, 589], [367, 565], [430, 530], [467, 529], [467, 1102], [501, 1103], [502, 548], [603, 549], [603, 1102], [637, 1103], [638, 529], [678, 504], [707, 476], [739, 477], [739, 1108], [769, 1115], [774, 1110], [774, 626], [835, 625], [830, 585], [774, 584], [775, 551], [824, 551], [816, 517], [774, 516], [774, 481], [809, 480], [847, 490], [875, 632], [875, 725], [884, 728], [889, 754], [875, 757], [875, 789], [896, 790], [902, 820], [875, 821], [875, 853], [907, 853], [914, 882], [875, 885], [875, 917], [920, 917], [922, 946], [875, 954], [875, 1293], [899, 1307], [910, 1297], [910, 982], [942, 981], [952, 1026], [945, 1031], [953, 1032], [959, 1062], [945, 1063], [945, 1095], [965, 1096], [970, 1127], [945, 1127], [945, 1159], [977, 1159], [984, 1190], [945, 1191], [945, 1223], [989, 1223], [995, 1255], [945, 1255], [945, 1287], [1002, 1287], [1010, 1327], [938, 1328], [1010, 1328], [1013, 1373], [0, 0], [1005, 1539], [1013, 1543], [1013, 1572], [1002, 1575], [995, 1618], [1005, 1620], [999, 1650], [988, 1653], [983, 1684], [992, 1686], [986, 1716], [977, 1717], [971, 1750], [978, 1750], [979, 1753], [973, 1782], [963, 1783], [936, 1805], [918, 1809], [907, 1804], [907, 1816], [965, 1816], [966, 1819], [959, 1849], [907, 1849], [907, 1882], [952, 1882], [953, 1886], [946, 1915], [907, 1915], [907, 1948], [939, 1948], [940, 1952], [933, 1981], [907, 1981], [907, 2014], [926, 2014], [927, 2019], [921, 2046], [907, 2047], [907, 2080], [913, 2080], [914, 2085], [904, 2130], [872, 2129], [872, 1685], [862, 1675], [840, 1685], [837, 1689], [837, 2157], [852, 2157], [863, 2163], [884, 2166], [884, 2187], [882, 2189], [837, 2189], [837, 2221], [877, 2222], [870, 2253], [837, 2253], [837, 2285], [864, 2286], [858, 2316], [837, 2317], [837, 2349], [852, 2350], [844, 2384], [837, 2384], [837, 2430], [772, 2450], [737, 2450], [736, 2338], [703, 2338], [702, 2416], [657, 2382], [656, 2357], [668, 2356], [668, 2302], [653, 2301], [652, 2276], [678, 2257], [702, 2228], [703, 2305], [736, 2305], [736, 2063], [726, 2062], [719, 2044], [719, 2024], [736, 2022], [736, 1813], [733, 1811], [701, 1815], [701, 1994], [667, 1995], [633, 1969], [600, 1954], [599, 1813], [567, 1813], [565, 1815], [565, 1942], [522, 1949], [500, 1957], [464, 1956], [464, 1783], [497, 1783], [497, 1910], [511, 1912], [532, 1909], [532, 1781], [632, 1780], [633, 1921], [663, 1928], [668, 1923], [668, 1781], [714, 1772], [737, 1757], [769, 1758], [769, 2398], [773, 2402], [803, 2398], [804, 1730], [786, 1728], [786, 1710], [792, 1700], [804, 1700], [804, 1656], [873, 1538], [904, 1538], [905, 1555], [921, 1556], [923, 1576], [927, 1584], [886, 1585], [868, 1615], [931, 1616], [924, 1645], [879, 1645], [890, 1654], [904, 1654], [905, 1675], [919, 1676], [913, 1707], [905, 1708], [905, 1761], [918, 1774], [938, 1760], [969, 1601], [971, 1576], [967, 1570], [956, 1566], [956, 1534], [989, 1533], [1004, 1539], [1013, 1520], [961, 1505], [911, 1480], [910, 1471], [962, 1482], [1022, 1490], [1021, 1459], [913, 1457], [911, 1445], [961, 1436], [1021, 1436], [1022, 1424], [1018, 1398], [962, 1413], [914, 1433], [1013, 1374], [981, 1375], [976, 1352], [957, 1338], [943, 1352], [943, 1402], [924, 1409], [0, 0], [144, 991], [142, 983], [142, 963], [144, 941], [148, 925], [148, 919], [155, 889], [158, 868], [165, 838], [210, 603], [218, 568], [221, 547], [226, 533], [232, 522], [0, 0], [233, 521], [0, 0]]\n",
      "Total de [salvando imagens das rotas] : 0.10376930236816406\n"
     ]
    }
   ],
   "source": [
    "import gui\n",
    "import files\n",
    "from timer import Timer\n",
    "from components import layer, path_tools\n",
    "from os import getcwd\n",
    "\n",
    "if not('folders' in globals()):\n",
    "    home = getcwd()\n",
    "    folders = files.System_Paths(home)\n",
    "    gui.find_saved_file(folders)\n",
    "camadas = folders.load_layers_hdf5()\n",
    "\n",
    "for c in camadas:\n",
    "    c.close_final_path(folders)\n",
    "\n",
    "%reset_selective -f \"camadas\"\n"
   ]
  },
  {
   "cell_type": "markdown",
   "metadata": {},
   "source": [
    "Gerando o Código G"
   ]
  },
  {
   "cell_type": "code",
   "execution_count": 1,
   "metadata": {},
   "outputs": [
    {
     "name": "stdout",
     "output_type": "stream",
     "text": [
      "Cuspindo o Gcode\n",
      "nome: L_000/I_000\n",
      "[[1049, 1494], [1047, 1514], [1046, 1515], [1046, 1523], [1045, 1524], [1045, 1531], [1044, 1532], [1044, 1539], [1043, 1540], [1043, 1547], [1042, 1548], [1042, 1558], [1041, 1559], [1041, 1563], [1040, 1564], [1040, 1568], [1039, 1569], [1039, 1573], [1038, 1574], [1038, 1578], [1037, 1579], [1037, 1583], [1036, 1584], [1036, 1588], [1035, 1589], [1035, 1593], [1033, 1599], [1033, 1604], [1032, 1605], [1032, 1609], [1031, 1610], [1031, 1614], [1030, 1615], [1030, 1619], [1029, 1620], [1029, 1624], [1028, 1625], [1028, 1629], [1027, 1630], [1027, 1634], [1026, 1635], [1026, 1639], [1024, 1645], [1024, 1650], [1023, 1651], [1023, 1655], [1022, 1656], [1022, 1660], [1021, 1661], [1021, 1665], [1020, 1666], [1020, 1670], [1019, 1671], [1019, 1675], [1018, 1676], [1018, 1680], [1017, 1681], [1017, 1685], [1015, 1691], [1015, 1696], [1014, 1697], [1014, 1701], [1013, 1702], [1013, 1706], [1012, 1707], [1012, 1711], [1011, 1712], [1011, 1716], [1010, 1717], [1010, 1721], [1009, 1722], [1009, 1726], [1007, 1732], [1007, 1737], [1006, 1738], [1006, 1742], [1005, 1743], [1005, 1747], [1004, 1748], [1004, 1752], [1003, 1753], [1003, 1757], [1002, 1758], [1002, 1762], [1001, 1763], [1001, 1767], [1000, 1768], [1000, 1772], [998, 1778], [998, 1783], [997, 1784], [997, 1788], [996, 1789], [996, 1793], [995, 1794], [995, 1798], [994, 1799], [994, 1803], [993, 1804], [993, 1808], [992, 1809], [992, 1813], [991, 1814], [991, 1818], [989, 1824], [989, 1829], [988, 1830], [988, 1834], [987, 1835], [987, 1839], [986, 1840], [986, 1844], [985, 1845], [985, 1849], [984, 1850], [984, 1854], [983, 1855], [983, 1859], [982, 1860], [982, 1864], [980, 1870], [980, 1875], [979, 1876], [979, 1880], [978, 1881], [978, 1885], [977, 1886], [977, 1890], [976, 1891], [976, 1895], [975, 1896], [975, 1900], [974, 1901], [974, 1905], [972, 1911], [972, 1916], [971, 1917], [971, 1921], [970, 1922], [970, 1926], [969, 1927], [969, 1931], [968, 1932], [968, 1936], [967, 1937], [967, 1941], [966, 1942], [966, 1946], [965, 1947], [965, 1951], [963, 1957], [963, 1962], [962, 1963], [962, 1967], [961, 1968], [961, 1972], [960, 1973], [960, 1977], [959, 1978], [959, 1982], [958, 1983], [958, 1987], [957, 1988], [957, 1992], [956, 1993], [956, 1997], [954, 2003], [954, 2008], [953, 2009], [953, 2013], [952, 2014], [952, 2018], [951, 2019], [951, 2023], [950, 2024], [950, 2028], [949, 2029], [949, 2033], [948, 2034], [948, 2038], [947, 2039], [947, 2043], [945, 2049], [945, 2054], [944, 2055], [944, 2059], [943, 2060], [943, 2064], [942, 2065], [942, 2069], [941, 2070], [941, 2074], [940, 2075], [940, 2079], [939, 2080], [939, 2084], [937, 2090], [937, 2095], [936, 2096], [936, 2100], [935, 2101], [935, 2105], [934, 2106], [934, 2110], [933, 2111], [933, 2115], [932, 2116], [932, 2120], [931, 2121], [931, 2125], [930, 2126], [930, 2130], [928, 2136], [928, 2141], [927, 2142], [927, 2146], [926, 2147], [926, 2151], [925, 2152], [925, 2156], [924, 2157], [924, 2161], [923, 2162], [923, 2166], [922, 2167], [922, 2171], [921, 2172], [921, 2176], [919, 2182], [919, 2187], [918, 2188], [918, 2192], [917, 2193], [917, 2197], [916, 2198], [916, 2202], [915, 2203], [915, 2207], [914, 2208], [914, 2212], [913, 2213], [913, 2217], [912, 2218], [912, 2222], [910, 2228], [910, 2233], [909, 2234], [909, 2238], [908, 2239], [908, 2243], [907, 2244], [907, 2248], [906, 2249], [906, 2253], [905, 2254], [905, 2258], [904, 2259], [904, 2263], [902, 2269], [902, 2274], [901, 2275], [901, 2279], [900, 2280], [900, 2284], [899, 2285], [899, 2289], [898, 2290], [898, 2294], [897, 2295], [897, 2299], [896, 2300], [896, 2304], [895, 2305], [895, 2309], [893, 2315], [893, 2320], [892, 2321], [892, 2325], [891, 2326], [891, 2330], [890, 2331], [890, 2335], [889, 2336], [889, 2340], [888, 2341], [888, 2345], [887, 2346], [887, 2350], [886, 2351], [886, 2355], [884, 2361], [884, 2366], [883, 2367], [883, 2371], [882, 2372], [882, 2376], [881, 2377], [881, 2381], [880, 2382], [880, 2386], [879, 2387], [879, 2391], [878, 2392], [878, 2396], [877, 2397], [877, 2401], [875, 2407], [875, 2412], [874, 2413], [874, 2417], [873, 2418], [873, 2422], [872, 2423], [872, 2427], [871, 2428], [871, 2432], [870, 2433], [870, 2437], [869, 2438], [869, 2442], [867, 2448], [867, 2453], [866, 2454], [866, 2458], [865, 2459], [865, 2463], [864, 2464], [864, 2468], [863, 2469], [863, 2473], [862, 2474], [862, 2478], [861, 2479], [861, 2483], [860, 2484], [860, 2488], [858, 2494], [858, 2499], [857, 2500], [857, 2504], [856, 2505], [856, 2509], [855, 2510], [855, 2514], [854, 2515], [854, 2519], [853, 2520], [853, 2524], [852, 2525], [852, 2529], [851, 2530], [851, 2534], [849, 2540], [849, 2545], [848, 2546], [848, 2550], [847, 2551], [847, 2555], [846, 2556], [846, 2560], [845, 2561], [845, 2565], [844, 2566], [844, 2570], [843, 2571], [843, 2575], [842, 2576], [842, 2580], [840, 2586], [840, 2591], [839, 2592], [833, 2626], [819, 2676], [797, 2720], [771, 2756], [735, 2792], [697, 2817], [694, 2820], [692, 2820], [650, 2841], [608, 2851], [607, 2852], [603, 2852], [602, 2853], [567, 2855], [566, 2856], [541, 2856], [540, 2855], [505, 2853], [504, 2852], [500, 2852], [499, 2851], [484, 2848], [480, 2846], [458, 2841], [445, 2834], [443, 2834], [412, 2819], [372, 2792], [336, 2756], [311, 2721], [288, 2675], [285, 2666], [285, 2663], [283, 2659], [283, 2656], [281, 2652], [280, 2645], [278, 2641], [278, 2638], [276, 2634], [276, 2630], [275, 2629], [275, 2625], [274, 2624], [274, 2620], [273, 2619], [273, 2615], [272, 2614], [272, 2610], [271, 2609], [271, 2605], [270, 2604], [270, 2600], [269, 2599], [269, 2595], [267, 2589], [267, 2584], [266, 2583], [266, 2579], [265, 2578], [265, 2574], [264, 2573], [264, 2569], [263, 2568], [263, 2564], [262, 2563], [262, 2559], [261, 2558], [261, 2554], [260, 2553], [260, 2549], [258, 2543], [258, 2538], [257, 2537], [257, 2533], [256, 2532], [256, 2528], [255, 2527], [255, 2523], [254, 2522], [254, 2518], [253, 2517], [253, 2513], [252, 2512], [252, 2508], [251, 2507], [251, 2503], [249, 2497], [249, 2492], [248, 2491], [248, 2487], [247, 2486], [247, 2482], [246, 2481], [246, 2477], [245, 2476], [245, 2472], [244, 2471], [238, 2437], [0, 0], [717, 2493], [721, 2501], [721, 2503], [723, 2506], [723, 2508], [725, 2512], [725, 2515], [726, 2516], [726, 2519], [728, 2523], [728, 2526], [729, 2527], [729, 2529], [731, 2533], [731, 2537], [732, 2538], [732, 2545], [733, 2546], [733, 2553], [734, 2554], [734, 2560], [735, 2561], [735, 2591], [734, 2592], [734, 2599], [733, 2600], [733, 2604], [732, 2605], [732, 2609], [731, 2610], [731, 2615], [730, 2616], [730, 2623], [729, 2624], [729, 2628], [727, 2630], [727, 2632], [725, 2635], [725, 2637], [720, 2646], [720, 2648], [718, 2651], [717, 2656], [716, 2658], [713, 2661], [709, 2669], [707, 2671], [706, 2673], [706, 2675], [703, 2681], [703, 2697], [706, 2703], [706, 2705], [708, 2707], [708, 2709], [707, 2710], [705, 2710], [699, 2707], [683, 2707], [677, 2710], [675, 2710], [669, 2715], [668, 2715], [665, 2718], [665, 2719], [660, 2725], [660, 2727], [657, 2733], [657, 2749], [658, 2750], [658, 2752], [657, 2753], [656, 2753], [653, 2750], [652, 2750], [646, 2745], [644, 2745], [638, 2742], [622, 2742], [621, 2743], [619, 2743], [618, 2744], [616, 2744], [615, 2745], [613, 2745], [612, 2746], [610, 2746], [609, 2747], [604, 2748], [601, 2750], [598, 2750], [597, 2751], [590, 2751], [589, 2752], [584, 2752], [583, 2753], [579, 2753], [578, 2754], [573, 2755], [572, 2754], [572, 2721], [576, 2719], [581, 2719], [582, 2718], [587, 2718], [588, 2717], [592, 2717], [593, 2716], [595, 2716], [596, 2715], [598, 2715], [599, 2714], [601, 2714], [602, 2713], [604, 2713], [605, 2712], [607, 2712], [608, 2711], [610, 2711], [611, 2710], [616, 2709], [618, 2707], [625, 2704], [627, 2702], [636, 2698], [645, 2690], [646, 2690], [651, 2685], [652, 2685], [672, 2664], [672, 2663], [675, 2660], [677, 2655], [679, 2653], [684, 2643], [686, 2641], [686, 2639], [690, 2632], [690, 2630], [696, 2618], [696, 2614], [697, 2613], [697, 2608], [698, 2607], [698, 2602], [699, 2601], [699, 2597], [700, 2596], [700, 2592], [701, 2591], [701, 2562], [700, 2561], [700, 2554], [699, 2553], [699, 2546], [698, 2545], [698, 2541], [697, 2540], [697, 2538], [695, 2534], [695, 2531], [693, 2527], [693, 2524], [692, 2523], [692, 2520], [691, 2519], [691, 2517], [681, 2497], [675, 2490], [673, 2486], [670, 2483], [670, 2482], [667, 2479], [667, 2478], [648, 2459], [647, 2459], [644, 2456], [643, 2456], [641, 2454], [640, 2454], [638, 2452], [637, 2452], [635, 2450], [634, 2450], [632, 2448], [628, 2446], [625, 2443], [623, 2443], [616, 2439], [614, 2439], [605, 2434], [603, 2434], [602, 2433], [598, 2433], [597, 2432], [594, 2432], [593, 2431], [589, 2431], [588, 2430], [585, 2430], [584, 2429], [581, 2429], [580, 2428], [576, 2428], [575, 2427], [565, 2427], [564, 2426], [544, 2426], [543, 2427], [533, 2427], [532, 2428], [528, 2428], [527, 2429], [523, 2429], [522, 2430], [519, 2430], [518, 2431], [514, 2431], [513, 2432], [506, 2433], [505, 2434], [500, 2435], [493, 2439], [491, 2439], [481, 2444], [475, 2449], [474, 2449], [468, 2454], [467, 2454], [464, 2457], [463, 2457], [460, 2460], [459, 2460], [452, 2467], [451, 2467], [440, 2478], [440, 2479], [437, 2482], [437, 2483], [434, 2486], [432, 2490], [427, 2496], [416, 2518], [416, 2520], [414, 2524], [414, 2527], [412, 2531], [412, 2534], [410, 2538], [410, 2541], [409, 2542], [409, 2546], [408, 2547], [408, 2553], [407, 2554], [407, 2561], [406, 2562], [406, 2590], [407, 2591], [407, 2595], [408, 2596], [408, 2601], [409, 2602], [409, 2606], [410, 2607], [410, 2612], [411, 2613], [411, 2617], [412, 2618], [412, 2620], [414, 2623], [414, 2625], [416, 2628], [416, 2630], [418, 2633], [418, 2635], [420, 2638], [420, 2640], [426, 2648], [427, 2651], [431, 2656], [432, 2659], [435, 2662], [435, 2663], [443, 2671], [443, 2672], [456, 2685], [457, 2685], [468, 2695], [469, 2695], [472, 2698], [490, 2707], [492, 2709], [494, 2709], [495, 2710], [498, 2710], [499, 2711], [501, 2711], [502, 2712], [504, 2712], [505, 2713], [510, 2714], [516, 2717], [520, 2717], [521, 2718], [526, 2718], [527, 2719], [531, 2719], [532, 2720], [537, 2720], [538, 2721], [542, 2721], [543, 2722], [548, 2722], [550, 2724], [550, 2765], [549, 2766], [548, 2766], [546, 2764], [546, 2763], [540, 2758], [532, 2754], [530, 2754], [529, 2753], [524, 2753], [523, 2752], [519, 2752], [518, 2751], [513, 2751], [512, 2750], [507, 2750], [499, 2746], [497, 2746], [496, 2745], [494, 2745], [490, 2743], [487, 2743], [483, 2741], [467, 2741], [466, 2742], [464, 2742], [458, 2745], [456, 2743], [456, 2737], [453, 2731], [453, 2729], [448, 2723], [448, 2722], [446, 2720], [445, 2720], [440, 2715], [439, 2715], [434, 2710], [433, 2710], [427, 2705], [425, 2705], [423, 2703], [423, 2701], [421, 2699], [421, 2698], [418, 2695], [418, 2694], [410, 2686], [410, 2685], [404, 2678], [401, 2672], [399, 2670], [397, 2666], [394, 2663], [394, 2662], [388, 2657], [387, 2655], [387, 2647], [386, 2646], [386, 2644], [384, 2641], [384, 2639], [382, 2636], [382, 2634], [380, 2631], [380, 2629], [378, 2626], [378, 2623], [377, 2622], [377, 2615], [376, 2614], [376, 2610], [375, 2609], [375, 2604], [374, 2603], [374, 2599], [373, 2598], [373, 2591], [372, 2590], [372, 2562], [373, 2561], [373, 2554], [374, 2553], [374, 2546], [375, 2545], [375, 2539], [376, 2538], [376, 2534], [377, 2533], [377, 2530], [379, 2526], [379, 2523], [381, 2519], [381, 2516], [382, 2515], [382, 2513], [383, 2512], [384, 2507], [386, 2504], [386, 2502], [397, 2480], [399, 2478], [401, 2474], [404, 2471], [406, 2467], [415, 2456], [415, 2455], [436, 2435], [437, 2435], [440, 2432], [441, 2432], [444, 2429], [445, 2429], [448, 2426], [449, 2426], [452, 2423], [456, 2421], [459, 2418], [460, 2418], [465, 2414], [475, 2409], [477, 2409], [484, 2405], [486, 2405], [489, 2403], [491, 2403], [492, 2402], [494, 2402], [498, 2400], [501, 2400], [502, 2399], [505, 2399], [506, 2398], [510, 2398], [511, 2397], [514, 2397], [515, 2396], [519, 2396], [520, 2395], [524, 2395], [525, 2394], [532, 2394], [533, 2393], [543, 2393], [544, 2392], [564, 2392], [565, 2393], [575, 2393], [576, 2394], [583, 2394], [584, 2395], [588, 2395], [589, 2396], [592, 2396], [593, 2397], [596, 2397], [597, 2398], [601, 2398], [602, 2399], [605, 2399], [606, 2400], [610, 2400], [611, 2401], [616, 2402], [619, 2404], [621, 2404], [631, 2409], [0, 0], [498, 2262], [476, 2252], [441, 2224], [421, 2197], [404, 2152], [401, 1749], [380, 1737], [367, 1721], [231, 1486], [223, 1458], [229, 1432], [379, 1178], [390, 1170], [414, 1164], [543, 1166], [541, 1198], [414, 1198], [402, 1203], [258, 1451], [261, 1470], [403, 1712], [415, 1717], [700, 1715], [713, 1700], [850, 1462], [849, 1449], [707, 1205], [693, 1198], [567, 1198], [566, 1164], [693, 1164], [712, 1168], [728, 1178], [879, 1433], [884, 1449], [879, 1481], [740, 1721], [719, 1743], [692, 1751], [435, 1752], [435, 2025], [476, 1991], [516, 1975], [545, 1971], [587, 1975], [627, 1991], [662, 2019], [688, 2058], [700, 2096], [667, 2099], [652, 2062], [637, 2042], [611, 2021], [579, 2008], [524, 2008], [492, 2021], [462, 2047], [438, 2094], [438, 2149], [451, 2181], [466, 2201], [504, 2228], [549, 2239], [599, 2228], [637, 2201], [652, 2181], [665, 2149], [664, 2145], [631, 2145], [608, 2182], [571, 2202], [542, 2204], [508, 2192], [481, 2165], [471, 2141], [469, 2115], [481, 2078], [495, 2061], [520, 2045], [558, 2039], [595, 2051], [622, 2078], [631, 2100], [632, 2122], [682, 2122], [700, 2145], [692, 2175], [678, 2203], [654, 2232], [627, 2252], [587, 2268], [555, 2273], [499, 2262], [484, 2291], [479, 2329], [482, 2375], [520, 2367], [512, 2331], [522, 2297], [549, 2301], [545, 2363], [574, 2365], [578, 2330], [571, 2299], [619, 2286], [632, 2409], [671, 2434], [692, 2455], [716, 2492], [789, 2461], [838, 2451], [827, 2510], [789, 2503], [754, 2515], [760, 2538], [792, 2535], [821, 2541], [815, 2571], [790, 2567], [763, 2570], [763, 2599], [809, 2603], [801, 2636], [758, 2626], [749, 2650], [789, 2674], [775, 2701], [756, 2691], [736, 2700], [737, 2719], [755, 2731], [733, 2755], [721, 2737], [709, 2740], [691, 2734], [685, 2738], [687, 2761], [697, 2763], [707, 2777], [681, 2795], [673, 2782], [651, 2784], [645, 2794], [651, 2809], [620, 2820], [607, 2779], [586, 2780], [572, 2799], [584, 2813], [584, 2825], [554, 2829], [554, 2806], [534, 2797], [520, 2812], [519, 2826], [486, 2820], [498, 2776], [481, 2769], [458, 2773], [460, 2787], [450, 2806], [421, 2791], [439, 2766], [429, 2749], [407, 2754], [395, 2772], [390, 2771], [367, 2748], [399, 2717], [380, 2692], [345, 2720], [327, 2690], [363, 2670], [359, 2651], [354, 2643], [311, 2654], [303, 2626], [347, 2614], [343, 2587], [296, 2590], [290, 2560], [321, 2555], [344, 2562], [349, 2530], [319, 2523], [284, 2528], [278, 2499], [318, 2490], [356, 2504], [368, 2477], [237, 2435], [66, 1561], [57, 1497], [57, 1417], [66, 1352], [130, 1025], [139, 1014], [166, 1001], [197, 1001], [215, 995], [237, 970], [316, 576], [314, 553], [306, 538], [290, 524], [263, 516], [237, 488], [274, 289], [288, 240], [315, 188], [336, 159], [376, 119], [413, 94], [459, 73], [516, 59], [592, 59], [647, 72], [695, 94], [732, 119], [771, 158], [796, 193], [819, 239], [831, 280], [869, 476], [0, 0], [447, 488], [410, 453], [390, 423], [378, 391], [372, 356], [373, 320], [376, 301], [385, 272], [385, 257], [396, 249], [415, 223], [421, 206], [434, 203], [470, 178], [476, 171], [488, 171], [520, 161], [556, 157], [583, 160], [610, 167], [641, 180], [673, 202], [685, 207], [688, 217], [712, 250], [722, 258], [722, 271], [731, 300], [733, 327], [701, 327], [691, 283], [681, 264], [665, 242], [644, 222], [625, 210], [605, 201], [575, 193], [544, 192], [509, 199], [481, 211], [459, 226], [440, 245], [425, 266], [414, 290], [406, 328], [406, 356], [411, 383], [420, 407], [435, 430], [470, 463], [492, 475], [513, 483], [543, 488], [587, 485], [616, 475], [640, 462], [675, 427], [695, 387], [702, 349], [735, 350], [727, 398], [716, 424], [697, 454], [663, 487], [632, 505], [595, 518], [565, 522], [543, 522], [502, 515], [476, 505], [458, 496], [448, 488], [421, 513], [382, 538], [343, 556], [333, 528], [367, 511], [398, 480], [383, 463], [351, 484], [321, 514], [304, 500], [328, 464], [366, 437], [360, 420], [358, 419], [317, 434], [279, 427], [276, 425], [282, 395], [314, 402], [351, 395], [345, 364], [316, 371], [291, 365], [288, 363], [294, 334], [319, 340], [344, 339], [345, 313], [303, 304], [300, 302], [308, 272], [353, 283], [358, 264], [358, 253], [341, 248], [321, 236], [334, 211], [353, 220], [369, 235], [377, 228], [393, 205], [391, 201], [370, 194], [354, 182], [377, 157], [403, 185], [423, 177], [430, 171], [404, 134], [431, 116], [441, 135], [457, 151], [464, 146], [475, 144], [472, 126], [464, 102], [489, 93], [494, 97], [508, 136], [532, 132], [533, 121], [529, 86], [566, 85], [563, 106], [563, 129], [565, 131], [587, 133], [594, 113], [594, 89], [601, 88], [632, 97], [620, 136], [620, 142], [644, 151], [666, 111], [681, 118], [695, 128], [669, 165], [684, 176], [697, 181], [706, 163], [721, 147], [744, 170], [728, 186], [710, 195], [714, 206], [727, 223], [765, 198], [772, 207], [782, 228], [747, 246], [751, 272], [775, 268], [796, 260], [805, 292], [762, 304], [760, 312], [763, 334], [766, 335], [811, 323], [817, 353], [790, 361], [763, 357], [758, 386], [792, 392], [823, 385], [829, 414], [790, 424], [752, 410], [739, 440], [789, 457], [834, 464], [870, 478], [1041, 1352], [1050, 1424], [1049, 1493], [0, 0], [923, 1409], [891, 1409], [842, 1326], [842, 1280], [831, 1280], [816, 1256], [817, 1240], [827, 1235], [842, 1235], [842, 665], [840, 656], [821, 642], [807, 656], [807, 1140], [791, 1141], [786, 1145], [786, 1162], [792, 1170], [807, 1172], [807, 1207], [775, 1208], [761, 1185], [742, 1162], [723, 1148], [706, 1141], [706, 560], [701, 555], [673, 560], [671, 562], [671, 1135], [570, 1135], [569, 585], [537, 585], [535, 587], [535, 1135], [434, 1135], [434, 597], [429, 592], [402, 597], [399, 600], [399, 1142], [383, 1150], [359, 1170], [331, 1213], [299, 1213], [298, 1177], [313, 1176], [322, 1163], [322, 1148], [314, 1142], [298, 1141], [298, 1043], [290, 1035], [265, 1043], [263, 1045], [263, 1240], [278, 1240], [287, 1245], [288, 1261], [275, 1283], [263, 1283], [263, 1332], [219, 1406], [185, 1406], [164, 1399], [162, 1397], [162, 1366], [149, 1353], [129, 1368], [127, 1376], [95, 1376], [0, 0], [195, 1509], [219, 1509], [264, 1586], [264, 1632], [276, 1633], [290, 1657], [289, 1672], [264, 1678], [266, 2248], [284, 2262], [299, 2249], [299, 1705], [333, 1705], [352, 1736], [334, 1740], [335, 1759], [374, 1759], [374, 1791], [334, 1792], [335, 1823], [374, 1823], [374, 1855], [334, 1856], [335, 1887], [374, 1887], [374, 1919], [334, 1920], [335, 1951], [374, 1951], [374, 1983], [334, 1984], [335, 2015], [374, 2015], [374, 2047], [334, 2048], [335, 2079], [374, 2079], [374, 2111], [335, 2111], [334, 2141], [377, 2142], [386, 2172], [335, 2172], [334, 2204], [400, 2206], [400, 2265], [412, 2277], [426, 2265], [460, 2267], [457, 2395], [401, 2441], [367, 2440], [367, 2404], [389, 2404], [422, 2378], [423, 2365], [367, 2364], [367, 2330], [423, 2330], [425, 2308], [402, 2310], [382, 2296], [367, 2296], [367, 2237], [344, 2222], [332, 2234], [332, 2280], [271, 2281], [276, 2314], [332, 2314], [332, 2348], [282, 2349], [292, 2398], [332, 2398], [332, 2434], [297, 2435], [261, 2424], [231, 2271], [231, 2184], [223, 2183], [216, 2149], [231, 2147], [231, 2116], [210, 2115], [203, 2082], [231, 2081], [231, 2050], [197, 2049], [190, 2016], [230, 2016], [231, 1984], [184, 1983], [182, 1958], [231, 1949], [231, 1619], [207, 1606], [196, 1617], [196, 1922], [164, 1923], [154, 1877], [161, 1872], [161, 1836], [146, 1835], [140, 1806], [161, 1802], [161, 1772], [134, 1771], [127, 1739], [160, 1739], [161, 1708], [121, 1707], [115, 1678], [160, 1675], [161, 1644], [109, 1643], [102, 1611], [162, 1611], [175, 1580], [96, 1579], [95, 1542], [127, 1541], [130, 1553], [150, 1567], [163, 1554], [163, 1518], [194, 1509], [195, 1484], [146, 1504], [90, 1518], [85, 1497], [86, 1482], [145, 1482], [197, 1470], [195, 1458], [85, 1457], [86, 1434], [146, 1434], [197, 1443], [200, 1433], [146, 1410], [93, 1397], [96, 1340], [169, 1341], [185, 1329], [182, 1311], [101, 1310], [108, 1281], [179, 1281], [188, 1253], [113, 1250], [119, 1221], [186, 1221], [180, 1191], [125, 1190], [131, 1161], [175, 1161], [170, 1131], [136, 1130], [142, 1102], [154, 1101], [148, 1068], [155, 1033], [163, 1029], [195, 1030], [195, 1302], [207, 1312], [230, 1299], [230, 1016], [296, 1014], [296, 990], [252, 989], [267, 960], [296, 960], [296, 927], [272, 926], [278, 896], [296, 894], [297, 845], [289, 841], [298, 796], [331, 796], [331, 1111], [338, 1117], [366, 1109], [366, 768], [317, 759], [322, 725], [366, 725], [366, 691], [328, 690], [335, 657], [366, 657], [366, 623], [341, 622], [348, 590], [366, 589], [367, 565], [430, 530], [467, 529], [467, 1102], [501, 1103], [502, 548], [603, 549], [603, 1102], [637, 1103], [638, 529], [678, 504], [707, 476], [739, 477], [739, 1108], [769, 1115], [774, 1110], [774, 626], [835, 625], [830, 585], [774, 584], [775, 551], [824, 551], [816, 517], [774, 516], [774, 481], [809, 480], [847, 490], [875, 632], [875, 725], [884, 728], [889, 754], [875, 757], [875, 789], [896, 790], [902, 820], [875, 821], [875, 853], [907, 853], [914, 882], [875, 885], [875, 917], [920, 917], [922, 946], [875, 954], [875, 1293], [899, 1307], [910, 1297], [910, 982], [942, 981], [952, 1026], [945, 1031], [953, 1032], [959, 1062], [945, 1063], [945, 1095], [965, 1096], [970, 1127], [945, 1127], [945, 1159], [977, 1159], [984, 1190], [945, 1191], [945, 1223], [989, 1223], [995, 1255], [945, 1255], [945, 1287], [1002, 1287], [1010, 1327], [938, 1328], [1010, 1328], [1013, 1373], [0, 0], [1005, 1539], [1013, 1543], [1013, 1572], [1002, 1575], [995, 1618], [1005, 1620], [999, 1650], [988, 1653], [983, 1684], [992, 1686], [986, 1716], [977, 1717], [971, 1750], [978, 1750], [979, 1753], [973, 1782], [963, 1783], [936, 1805], [918, 1809], [907, 1804], [907, 1816], [965, 1816], [966, 1819], [959, 1849], [907, 1849], [907, 1882], [952, 1882], [953, 1886], [946, 1915], [907, 1915], [907, 1948], [939, 1948], [940, 1952], [933, 1981], [907, 1981], [907, 2014], [926, 2014], [927, 2019], [921, 2046], [907, 2047], [907, 2080], [913, 2080], [914, 2085], [904, 2130], [872, 2129], [872, 1685], [862, 1675], [840, 1685], [837, 1689], [837, 2157], [852, 2157], [863, 2163], [884, 2166], [884, 2187], [882, 2189], [837, 2189], [837, 2221], [877, 2222], [870, 2253], [837, 2253], [837, 2285], [864, 2286], [858, 2316], [837, 2317], [837, 2349], [852, 2350], [844, 2384], [837, 2384], [837, 2430], [772, 2450], [737, 2450], [736, 2338], [703, 2338], [702, 2416], [657, 2382], [656, 2357], [668, 2356], [668, 2302], [653, 2301], [652, 2276], [678, 2257], [702, 2228], [703, 2305], [736, 2305], [736, 2063], [726, 2062], [719, 2044], [719, 2024], [736, 2022], [736, 1813], [733, 1811], [701, 1815], [701, 1994], [667, 1995], [633, 1969], [600, 1954], [599, 1813], [567, 1813], [565, 1815], [565, 1942], [522, 1949], [500, 1957], [464, 1956], [464, 1783], [497, 1783], [497, 1910], [511, 1912], [532, 1909], [532, 1781], [632, 1780], [633, 1921], [663, 1928], [668, 1923], [668, 1781], [714, 1772], [737, 1757], [769, 1758], [769, 2398], [773, 2402], [803, 2398], [804, 1730], [786, 1728], [786, 1710], [792, 1700], [804, 1700], [804, 1656], [873, 1538], [904, 1538], [905, 1555], [921, 1556], [923, 1576], [927, 1584], [886, 1585], [868, 1615], [931, 1616], [924, 1645], [879, 1645], [890, 1654], [904, 1654], [905, 1675], [919, 1676], [913, 1707], [905, 1708], [905, 1761], [918, 1774], [938, 1760], [969, 1601], [971, 1576], [967, 1570], [956, 1566], [956, 1534], [989, 1533], [1004, 1539], [1013, 1520], [961, 1505], [911, 1480], [910, 1471], [962, 1482], [1022, 1490], [1021, 1459], [913, 1457], [911, 1445], [961, 1436], [1021, 1436], [1022, 1424], [1018, 1398], [962, 1413], [914, 1433], [1013, 1374], [981, 1375], [976, 1352], [957, 1338], [943, 1352], [943, 1402], [924, 1409], [0, 0], [144, 991], [142, 983], [142, 963], [144, 941], [148, 925], [148, 919], [155, 889], [158, 868], [165, 838], [210, 603], [218, 568], [221, 547], [226, 533], [232, 522], [0, 0], [233, 521], [0, 0]]\n",
      "trocou para 1\n",
      "trocou para 2\n",
      "trocou para 1\n",
      "trocou para 2\n",
      "trocou para 1\n",
      "trocou para 2\n",
      "trocou para 1\n",
      "trocou para 3\n",
      "trocou para 2\n",
      "trocou para 3\n",
      "trocou para 2\n",
      "trocou para 3\n",
      "trocou para 4\n",
      "Deslocamento total da camada 0 = 5016.912297730308mm\n",
      "Tempo estimado com Vel=360.0mm/min = 13.9358674936953min\n",
      "\n",
      "Total de [Cuspindo o Gcode] : 22.18758511543274\n"
     ]
    }
   ],
   "source": [
    "import gui\n",
    "import files\n",
    "from timer import Timer\n",
    "from components import layer, path_tools\n",
    "from os import getcwd\n",
    "\n",
    "if not('folders' in globals()):\n",
    "    home = getcwd()\n",
    "    folders = files.System_Paths(home)\n",
    "    gui.find_saved_file(folders)\n",
    "[vel_vazio, p_entre_int_ext, p_entre_camadas, substratoy, substratox, cortey, cortex] = gui.ask_parameters_Gcode()\n",
    "coords_substrato = [substratoy, substratox]\n",
    "coords_corte = [cortey, cortex]\n",
    "camadas = folders.load_layers_hdf5()\n",
    "configuracoes = files.Config(\"solda_config.yaml\")\n",
    "\n",
    "#layer_heights = [10+2.9+3+(i*1.5) for i,x in enumerate(camadas)]\n",
    "layer_heights = [1+8+2+(i*2) for i,x in enumerate(camadas)]\n",
    "with Timer(\"Cuspindo o Gcode\"):\n",
    "    path_tools.layers_to_Gcode(camadas, \n",
    "                               folders, \n",
    "                               configuracoes,\n",
    "                               vel_vazio,\n",
    "                               p_entre_int_ext,\n",
    "                               p_entre_camadas,\n",
    "                               layer_heights,\n",
    "                               coords_substrato,\n",
    "                               coords_corte,\n",
    "                               )\n",
    "%reset_selective -f \"camadas\""
   ]
  },
  {
   "cell_type": "code",
   "execution_count": 6,
   "metadata": {},
   "outputs": [],
   "source": [
    "# import numpy as np\n",
    "# camadas = folders.load_layers_hdf5()\n",
    "# for c in camadas:\n",
    "#     folders.load_islands_hdf5(c)\n",
    "#     for isl in c.islands:\n",
    "#         folders.load_island_paths_hdf5(c.name, isl)\n",
    "#         internal_trees = [list(x) for x in isl.internal_tree_route.sequence]\n",
    "#         print(internal_trees)\n",
    "# print([235,807] in internal_trees)"
   ]
  },
  {
   "cell_type": "code",
   "execution_count": 7,
   "metadata": {},
   "outputs": [],
   "source": [
    "# import matplotlib.pyplot as plt\n",
    "# from mpl_toolkits.mplot3d import Axes3D\n",
    "# import numpy as np\n",
    "\n",
    "# # Lista de imagens binárias (exemplo com arrays numpy)\n",
    "# imagens = [\n",
    "#     img_mapping,\n",
    "#     img_mapping,\n",
    "#     img_mapping\n",
    "# ]\n",
    "\n",
    "# # Lista de alturas no eixo z\n",
    "# alturas = [0, 10, 20]\n",
    "\n",
    "# fig = plt.figure()\n",
    "# ax = fig.add_subplot(111, projection='3d')\n",
    "\n",
    "# for img, z in zip(imagens, alturas):\n",
    "#     x = np.linspace(0, img.shape[1], img.shape[1])\n",
    "#     y = np.linspace(0, img.shape[0], img.shape[0])\n",
    "#     x, y = np.meshgrid(x, y)\n",
    "#     z = np.full_like(x, z)\n",
    "#     ax.plot_surface(x, y, z, rstride=1, cstride=1, facecolors=plt.cm.gray(img), shade=False)\n",
    "\n",
    "# ax.set_xlabel('X')\n",
    "# ax.set_ylabel('Y')\n",
    "# ax.set_zlabel('Z')\n",
    "# plt.show()\n"
   ]
  },
  {
   "cell_type": "code",
   "execution_count": 8,
   "metadata": {},
   "outputs": [],
   "source": [
    "# import gui\n",
    "# import files\n",
    "# from timer import Timer\n",
    "# from components import layer, path_tools\n",
    "# from os import getcwd\n",
    "\n",
    "# if not('folders' in globals()):\n",
    "#     home = getcwd()\n",
    "#     folders = files.System_Paths(home)\n",
    "#     gui.find_saved_file(folders)\n",
    "# camadas = folders.load_layers_hdf5()\n",
    "\n",
    "# file_name = gui.find_saved_file(folders)\n",
    "# path_tools.layers_to_Gcode_FFF(camadas, folders, file_name)"
   ]
  },
  {
   "cell_type": "code",
   "execution_count": 9,
   "metadata": {},
   "outputs": [],
   "source": [
    "# class TrafficLightState:\n",
    "#     \"\"\"Base class for traffic light states.\"\"\"\n",
    "#     def change(self, traffic_light):\n",
    "#         raise NotImplementedError(\"This method should be overridden by subclasses\")\n",
    "\n",
    "\n",
    "# class RedState(TrafficLightState):\n",
    "#     \"\"\"State representing the red light.\"\"\"\n",
    "#     def change(self, traffic_light):\n",
    "#         print(\"Changing from Red to Green\")\n",
    "#         traffic_light.state = GreenState()\n",
    "\n",
    "\n",
    "# class YellowState(TrafficLightState):\n",
    "#     \"\"\"State representing the yellow light.\"\"\"\n",
    "#     def change(self, traffic_light):\n",
    "#         print(\"Changing from Yellow to Red\")\n",
    "#         traffic_light.state = RedState()\n",
    "\n",
    "\n",
    "# class GreenState(TrafficLightState):\n",
    "#     \"\"\"State representing the green light.\"\"\"\n",
    "#     def change(self, traffic_light):\n",
    "#         print(\"Changing from Green to Yellow\")\n",
    "#         traffic_light.state = YellowState()\n",
    "\n",
    "\n",
    "# class TrafficLight:\n",
    "#     \"\"\"Traffic light class that uses a state machine.\"\"\"\n",
    "#     def __init__(self):\n",
    "#         self.state = RedState()  # Initial state\n",
    "\n",
    "#     def change(self):\n",
    "#         \"\"\"Change the state of the traffic light.\"\"\"\n",
    "#         self.state.change(self)\n",
    "\n",
    "#     def __str__(self):\n",
    "#         return f\"Current state: {self.state.__class__.__name__}\"\n",
    "\n",
    "\n",
    "# # Example usage\n",
    "# if __name__ == \"__main__\":\n",
    "#     traffic_light = TrafficLight()\n",
    "    \n",
    "#     # Simulate the traffic light changing states\n",
    "#     for _ in range(6):  # Change state 6 times\n",
    "#         print(traffic_light)\n",
    "#         traffic_light.change()"
   ]
  },
  {
   "cell_type": "code",
   "execution_count": 10,
   "metadata": {},
   "outputs": [],
   "source": [
    "# import numpy as np\n",
    "# import cv2  # Assuming you are using OpenCV for image processing\n",
    "\n",
    "# def bobobo(image1, image2):\n",
    "#     \"\"\"A placeholder function that performs some operation on two images.\"\"\"\n",
    "#     # For demonstration, let's just return the absolute difference between the two images\n",
    "#     return cv2.absdiff(image1, image2)\n",
    "\n",
    "# def process_images(image_list):\n",
    "#     \"\"\"Process a list of images, comparing the last two with the current image.\"\"\"\n",
    "#     for i in range(len(image_list)):\n",
    "#         current_image = image_list[i]\n",
    "        \n",
    "#         # Check if there are at least two previous images to compare\n",
    "#         if i >= 2:\n",
    "#             last_image = image_list[i - 1]\n",
    "#             second_last_image = image_list[i - 2]\n",
    "            \n",
    "#             # Apply the bobobo function to the current image and the last two images\n",
    "#             result_last = bobobo(current_image, last_image)\n",
    "#             result_second_last = bobobo(current_image, second_last_image)\n",
    "            \n",
    "#             # Here you can do something with the results, like saving or displaying them\n",
    "#             # For demonstration, we'll just print the shapes of the results\n",
    "#             print(f\"Comparing image {i} with last image {i-1}: result shape = {result_last.shape}\")\n",
    "#             print(f\"Comparing image {i} with second last image {i-2}: result shape = {result_second_last.shape}\")\n",
    "\n",
    "# # Example usage\n",
    "# if __name__ == \"__main__\":\n",
    "#     # Create a list of dummy images (for demonstration purposes)\n",
    "#     # In practice, you would load your images using cv2.imread or similar\n",
    "#     image_list = [np.random.randint(0, 256, (100, 100, 3), dtype=np.uint8) for _ in range(5)]\n",
    "    \n",
    "#     process_images(image_list)"
   ]
  }
 ],
 "metadata": {
  "kernelspec": {
   "display_name": "base",
   "language": "python",
   "name": "python3"
  },
  "language_info": {
   "codemirror_mode": {
    "name": "ipython",
    "version": 3
   },
   "file_extension": ".py",
   "mimetype": "text/x-python",
   "name": "python",
   "nbconvert_exporter": "python",
   "pygments_lexer": "ipython3",
   "version": "3.11.4"
  }
 },
 "nbformat": 4,
 "nbformat_minor": 2
}
