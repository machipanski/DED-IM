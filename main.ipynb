{
 "cells": [
  {
   "cell_type": "markdown",
   "metadata": {},
   "source": [
    "Importa o modelo a ser fatiado e mapeado"
   ]
  },
  {
   "cell_type": "code",
   "execution_count": 1,
   "metadata": {},
   "outputs": [],
   "source": [
    "import matplotlib.pyplot as plt\n",
    "import gui\n",
    "import files\n",
    "from timer import Timer\n",
    "from components import layer\n",
    "from os import getcwd\n",
    "\n",
    "home = getcwd()\n",
    "folders = files.Paths(home)\n",
    "path_input, file_name = gui.load_model(folders)\n",
    "[dpi, layer_height] = gui.ask_parameters_input()\n",
    "if file_name.endswith(\".stl\") or file_name.endswith(\".STL\"):\n",
    "    folders.create_layers_3d(path_input, dpi, layer_height)\n",
    "else:\n",
    "    folders.create_layers_2d(path_input, dpi, layer_height)\n",
    "\n",
    "layer.divide_islands(folders)\n",
    "\n",
    "plt.rcParams[\"figure.figsize\"]=5,5\n",
    "#TODO: encontrar uma forma de jogar layerHight para o slicing W/images (POSSIVELMENTE COM O RUNSINGLEMODEL)\n",
    "# TODO: retirar todos os parametros que nao uso\n",
    "# TODO: dar o Typing em todos"
   ]
  },
  {
   "cell_type": "markdown",
   "metadata": {},
   "source": [
    "Paredes Finas"
   ]
  },
  {
   "cell_type": "code",
   "execution_count": 1,
   "metadata": {},
   "outputs": [
    {
     "name": "stdout",
     "output_type": "stream",
     "text": [
      "Fase 1: Camada: 0\n",
      "Criando paredes finas\n",
      "OK: fechou contorno\n",
      "OK: fechou contorno\n",
      "OK: fechou contorno\n",
      "Retirando Paredes finas da camada\n",
      "Total de [Retirando Paredes finas da camada] : 0.3417036533355713\n",
      "Total de [Criando paredes finas] : 17.665004014968872\n",
      "Total de [Fase 1: Camada: 0] : 17.665154218673706\n"
     ]
    }
   ],
   "source": [
    "import matplotlib.pyplot as plt\n",
    "import gui\n",
    "import files\n",
    "from timer import Timer\n",
    "from components import layer\n",
    "from os import getcwd\n",
    "try:\n",
    "    folders\n",
    "except NameError:\n",
    "    home = getcwd()\n",
    "    folders = files.Paths(home)\n",
    "\n",
    "[nozzle_diam_internal,nozzle_diam_external] = gui.ask_parameters_thin_walls()\n",
    "# from components.layer import Layer\n",
    "camadas = folders.list(layers=1)\n",
    "for i,c in enumerate(camadas):\n",
    "    camada = folders.load_layer_json(c)\n",
    "    with Timer(\"Fase 1: Camada: \" + str(i)):\n",
    "        camada.make_thin_walls(folders, nozzle_diam_external, nozzle_diam_internal)\n",
    "    \n",
    "# TODO: arvore de paredes finas\n",
    "# TODO: quando duas áreas se encontram\n",
    "# TODO: limite de parede diam minimo\n",
    "# TODO: anotar todos os (não fechou contorno)\n",
    "# TODO arrumar para origens extremamente pequenas, ignorar da problema\n",
    "# TODO arrumar casos onde a beirada esta vazndo criando areas triangulares distantes\n",
    "# FIXME: Precisa mesmo separar linha 1 2 topo e baixo? muitos elementos estão sendo criados"
   ]
  },
  {
   "cell_type": "markdown",
   "metadata": {},
   "source": [
    "Contornos"
   ]
  },
  {
   "cell_type": "code",
   "execution_count": null,
   "metadata": {},
   "outputs": [
    {
     "name": "stdout",
     "output_type": "stream",
     "text": [
      "Fase 1: Camada: 0\n",
      "Total de [Fase 1: Camada: 0] : 0.00013971328735351562\n"
     ]
    },
    {
     "ename": "AttributeError",
     "evalue": "'Layer' object has no attribute 'make_offsets'",
     "output_type": "error",
     "traceback": [
      "\u001b[0;31m---------------------------------------------------------------------------\u001b[0m",
      "\u001b[0;31mAttributeError\u001b[0m                            Traceback (most recent call last)",
      "Cell \u001b[0;32mIn[5], line 19\u001b[0m\n\u001b[1;32m     17\u001b[0m camada \u001b[38;5;241m=\u001b[39m folders\u001b[38;5;241m.\u001b[39mload_layer_json(c)\n\u001b[1;32m     18\u001b[0m \u001b[38;5;28;01mwith\u001b[39;00m Timer(\u001b[38;5;124m\"\u001b[39m\u001b[38;5;124mFase 1: Camada: \u001b[39m\u001b[38;5;124m\"\u001b[39m \u001b[38;5;241m+\u001b[39m \u001b[38;5;28mstr\u001b[39m(i)):\n\u001b[0;32m---> 19\u001b[0m     \u001b[43mcamada\u001b[49m\u001b[38;5;241;43m.\u001b[39;49m\u001b[43mmake_offsets\u001b[49m(void_max, external_max, internal_max)\n",
      "\u001b[0;31mAttributeError\u001b[0m: 'Layer' object has no attribute 'make_offsets'"
     ]
    }
   ],
   "source": [
    "import matplotlib.pyplot as plt\n",
    "import gui\n",
    "import files\n",
    "from timer import Timer\n",
    "from components import layer\n",
    "from os import getcwd\n",
    "try:\n",
    "    folders\n",
    "except NameError:\n",
    "    home = getcwd()\n",
    "    folders = files.Paths(home)\n",
    "\n",
    "[void_max,internal_max,external_max] = gui.ask_parameters_offsets()\n",
    "# from components.layer import Layer\n",
    "camadas = folders.list(layers=1)\n",
    "for i,c in enumerate(camadas):\n",
    "    camada = folders.load_layer_json(c)\n",
    "    with Timer(\"Fase 1: Camada: \" + str(i)):\n",
    "        camada.make_offsets(void_max, external_max, internal_max)"
   ]
  }
 ],
 "metadata": {
  "kernelspec": {
   "display_name": "plantcv",
   "language": "python",
   "name": "python3"
  },
  "language_info": {
   "codemirror_mode": {
    "name": "ipython",
    "version": 3
   },
   "file_extension": ".py",
   "mimetype": "text/x-python",
   "name": "python",
   "nbconvert_exporter": "python",
   "pygments_lexer": "ipython3",
   "version": "3.12.3"
  }
 },
 "nbformat": 4,
 "nbformat_minor": 2
}
