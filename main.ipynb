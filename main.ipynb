{
 "cells": [
  {
   "cell_type": "markdown",
   "metadata": {},
   "source": [
    "Importa o modelo a ser fatiado e mapeado"
   ]
  },
  {
   "cell_type": "code",
   "execution_count": 1,
   "metadata": {},
   "outputs": [],
   "source": [
    "import matplotlib.pyplot as plt\n",
    "import gui\n",
    "import files\n",
    "from timer import Timer\n",
    "from components import layer\n",
    "from os import getcwd\n",
    "\n",
    "home = getcwd()\n",
    "folders = files.Paths(home)\n",
    "path_input, file_name = gui.load_model(folders)\n",
    "[dpi, layer_height] = gui.ask_parameters_input()\n",
    "if file_name.endswith(\".stl\") or file_name.endswith(\".STL\"):\n",
    "    folders.create_layers_3d(path_input, dpi, layer_height)\n",
    "else:\n",
    "    folders.create_layers_2d(path_input, dpi, layer_height)\n",
    "\n",
    "layer.divide_islands(folders)\n",
    "\n",
    "plt.rcParams[\"figure.figsize\"]=5,5\n",
    "#TODO: encontrar uma forma de jogar layerHight para o slicing W/images (POSSIVELMENTE COM O RUNSINGLEMODEL)\n",
    "# TODO: retirar todos os parametros que nao uso\n",
    "# TODO: dar o Typing em todos"
   ]
  },
  {
   "cell_type": "markdown",
   "metadata": {},
   "source": [
    "Paredes Finas"
   ]
  },
  {
   "cell_type": "code",
   "execution_count": 2,
   "metadata": {},
   "outputs": [
    {
     "name": "stdout",
     "output_type": "stream",
     "text": [
      "Fase 1: Camada: 0\n",
      "Criando paredes finas\n",
      "OK: fechou contorno\n",
      "OK: fechou contorno\n",
      "OK: fechou contorno\n",
      "Retirando Paredes finas da camada\n",
      "Total de [Retirando Paredes finas da camada] : 0.7058000564575195\n",
      "Total de [Criando paredes finas] : 15.050933122634888\n",
      "Total de [Fase 1: Camada: 0] : 15.051126480102539\n"
     ]
    }
   ],
   "source": [
    "import matplotlib.pyplot as plt\n",
    "import gui\n",
    "import files\n",
    "from timer import Timer\n",
    "from components import layer\n",
    "from os import getcwd\n",
    "try:\n",
    "    folders\n",
    "except NameError:\n",
    "    home = getcwd()\n",
    "    folders = files.Paths(home)\n",
    "\n",
    "[nozzle_diam_internal,nozzle_diam_external] = gui.ask_parameters_thin_walls()\n",
    "# from components.layer import Layer\n",
    "camadas = folders.list(layers=1)\n",
    "for i,c in enumerate(camadas):\n",
    "    camada = folders.load_layer_json(c)\n",
    "    with Timer(\"Fase 1: Camada: \" + str(i)):\n",
    "        camada.make_thin_walls(folders, nozzle_diam_external, nozzle_diam_internal)\n",
    "    \n",
    "# TODO: arvore de paredes finas\n",
    "# TODO: quando duas áreas se encontram\n",
    "# TODO: limite de parede diam minimo\n",
    "# TODO: anotar todos os (não fechou contorno)\n",
    "# TODO arrumar para origens extremamente pequenas, ignorar da problema\n",
    "# TODO arrumar casos onde a beirada esta vazndo criando areas triangulares distantes\n",
    "# FIXME: Precisa mesmo separar linha 1 2 topo e baixo? muitos elementos estão sendo criados"
   ]
  },
  {
   "cell_type": "markdown",
   "metadata": {},
   "source": [
    "Contornos"
   ]
  },
  {
   "cell_type": "code",
   "execution_count": 1,
   "metadata": {},
   "outputs": [
    {
     "name": "stdout",
     "output_type": "stream",
     "text": [
      "Fase 1: Camada: 0\n",
      "Criando Lvls\n",
      "Ilha: 0 Número de Níveis: 7\n",
      "Total de [Criando Lvls] : 12.242551565170288\n",
      "Criando os loops\n",
      "Total de [Criando os loops] : 14.446617364883423\n",
      "Criando regiões de influência\n",
      "Total de [Criando regiões de influência] : 34.30559468269348\n",
      "Criando as regiões de Offset\n",
      "Total de [Criando as regiões de Offset] : 278.14205384254456\n",
      "Total de [Fase 1: Camada: 0] : 339.13949728012085\n"
     ]
    },
    {
     "name": "stderr",
     "output_type": "stream",
     "text": [
      "\n",
      "KeyboardInterrupt\n",
      "\n"
     ]
    }
   ],
   "source": [
    "import matplotlib.pyplot as plt\n",
    "import gui\n",
    "import files\n",
    "from timer import Timer\n",
    "from components import layer\n",
    "from os import getcwd\n",
    "try:\n",
    "    folders\n",
    "except NameError:\n",
    "    home = getcwd()\n",
    "    folders = files.Paths(home)\n",
    "\n",
    "[void_max,internal_max,external_max] = gui.ask_parameters_offsets()\n",
    "# from components.layer import Layer\n",
    "camadas = folders.list(layers=1)\n",
    "for i,c in enumerate(camadas):\n",
    "    camada = folders.load_layer_json(c)\n",
    "    with Timer(\"Fase 1: Camada: \" + str(i)):\n",
    "        camada.make_offsets(folders, void_max, external_max, internal_max)"
   ]
  }
 ],
 "metadata": {
  "kernelspec": {
   "display_name": "plantcv",
   "language": "python",
   "name": "python3"
  },
  "language_info": {
   "codemirror_mode": {
    "name": "ipython",
    "version": 3
   },
   "file_extension": ".py",
   "mimetype": "text/x-python",
   "name": "python",
   "nbconvert_exporter": "python",
   "pygments_lexer": "ipython3",
   "version": "3.12.2"
  }
 },
 "nbformat": 4,
 "nbformat_minor": 2
}
