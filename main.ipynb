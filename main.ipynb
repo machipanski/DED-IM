{
 "cells": [
  {
   "cell_type": "markdown",
   "metadata": {},
   "source": [
    "Importa o modelo a ser fatiado e mapeado"
   ]
  },
  {
   "cell_type": "code",
   "execution_count": 1,
   "metadata": {
    "notebookRunGroups": {
     "groupValue": "1"
    }
   },
   "outputs": [],
   "source": [
    "import matplotlib.pyplot as plt\n",
    "import gui\n",
    "import files\n",
    "from timer import Timer\n",
    "from components.layer import Layer\n",
    "from os import getcwd\n",
    "\n",
    "if not('folders' in globals()):\n",
    "    home = getcwd()\n",
    "    folders = files.System_Paths(home)\n",
    "choice = gui.ask_load_or_begin()\n",
    "if choice == \"Novo Projeto\":\n",
    "    path_input, file_name = gui.load_model(folders)\n",
    "    [dpi, layer_height] = gui.ask_parameters_input()\n",
    "    with Timer(\"Fase 0: \"):\n",
    "        Layer.create_layers(folders, path_input, file_name, dpi, layer_height)\n",
    "elif choice == \"Carregar Salvo\":\n",
    "    gui.find_saved_file(folders)\n",
    "elif choice == \"Cancelar\":\n",
    "    quit\n",
    "\n",
    "#TODO: encontrar uma forma de jogar layerHight para o slicing W/images (POSSIVELMENTE COM O RUNSINGLEMODEL)"
   ]
  },
  {
   "cell_type": "markdown",
   "metadata": {},
   "source": [
    "Paredes Finas"
   ]
  },
  {
   "cell_type": "code",
   "execution_count": 2,
   "metadata": {},
   "outputs": [
    {
     "ename": "TypeError",
     "evalue": "'NoneType' object is not iterable",
     "output_type": "error",
     "traceback": [
      "\u001b[0;31m---------------------------------------------------------------------------\u001b[0m",
      "\u001b[0;31mTypeError\u001b[0m                                 Traceback (most recent call last)",
      "Cell \u001b[0;32mIn[2], line 11\u001b[0m\n\u001b[1;32m      9\u001b[0m     gui\u001b[38;5;241m.\u001b[39mfind_saved_file(folders)\n\u001b[1;32m     10\u001b[0m \u001b[38;5;66;03m#[nozzle_diam_internal,nozzle_diam_external] = gui.ask_parameters_thin_walls()\u001b[39;00m\n\u001b[0;32m---> 11\u001b[0m [d_ext, sob_ext_per] \u001b[38;5;241m=\u001b[39m gui\u001b[38;5;241m.\u001b[39mask_parameters_thin_walls()\n\u001b[1;32m     12\u001b[0m camadas \u001b[38;5;241m=\u001b[39m folders\u001b[38;5;241m.\u001b[39mload_layers_hdf5()\n\u001b[1;32m     13\u001b[0m \u001b[38;5;28;01mfor\u001b[39;00m i,c \u001b[38;5;129;01min\u001b[39;00m \u001b[38;5;28menumerate\u001b[39m(camadas):\n",
      "File \u001b[0;32m~/TangranV2/gui.py:71\u001b[0m, in \u001b[0;36mask_parameters_thin_walls\u001b[0;34m()\u001b[0m\n\u001b[1;32m     69\u001b[0m fieldNames \u001b[38;5;241m=\u001b[39m [\u001b[38;5;124m\"\u001b[39m\u001b[38;5;124mDimetro externo real(mm)\u001b[39m\u001b[38;5;124m\"\u001b[39m, \u001b[38;5;124m\"\u001b[39m\u001b[38;5;124mSobreposiao contornos(\u001b[39m\u001b[38;5;124m%\u001b[39m\u001b[38;5;124m)\u001b[39m\u001b[38;5;124m\"\u001b[39m]\n\u001b[1;32m     70\u001b[0m fieldDefs \u001b[38;5;241m=\u001b[39m [\u001b[38;5;241m6\u001b[39m, \u001b[38;5;241m50\u001b[39m]  \u001b[38;5;66;03m# we start with blanks for the values\u001b[39;00m\n\u001b[0;32m---> 71\u001b[0m \u001b[38;5;28;01mreturn\u001b[39;00m ask_parameters_constructor(msg, title, fieldNames, fieldDefs)\n",
      "File \u001b[0;32m~/TangranV2/gui.py:49\u001b[0m, in \u001b[0;36mask_parameters_constructor\u001b[0;34m(msg, title, fieldNames, fieldDefs)\u001b[0m\n\u001b[1;32m     47\u001b[0m     fieldValues \u001b[38;5;241m=\u001b[39m multenterbox(errmsg, title, fieldNames, fieldValues)\n\u001b[1;32m     48\u001b[0m     \u001b[38;5;28mprint\u001b[39m(\u001b[38;5;124m\"\u001b[39m\u001b[38;5;124mReply was:\u001b[39m\u001b[38;5;124m\"\u001b[39m, fieldValues)\n\u001b[0;32m---> 49\u001b[0m fieldValues \u001b[38;5;241m=\u001b[39m [\u001b[38;5;28mfloat\u001b[39m(x) \u001b[38;5;28;01mfor\u001b[39;00m x \u001b[38;5;129;01min\u001b[39;00m fieldValues]\n\u001b[1;32m     50\u001b[0m \u001b[38;5;28;01mreturn\u001b[39;00m fieldValues\n",
      "\u001b[0;31mTypeError\u001b[0m: 'NoneType' object is not iterable"
     ]
    }
   ],
   "source": [
    "import gui\n",
    "import files\n",
    "from timer import Timer\n",
    "from os import getcwd\n",
    "\n",
    "if not('folders' in globals()):\n",
    "    home = getcwd()\n",
    "    folders = files.System_Paths(home)\n",
    "    gui.find_saved_file(folders)\n",
    "#[nozzle_diam_internal,nozzle_diam_external] = gui.ask_parameters_thin_walls()\n",
    "[d_ext, sob_ext_per] = gui.ask_parameters_thin_walls()\n",
    "camadas = folders.load_layers_hdf5()\n",
    "for i,c in enumerate(camadas):\n",
    "    with Timer(\"Fase 1: Camada: \" + str(i)):\n",
    "        folders.load_islands_hdf5(c)\n",
    "        #c.make_thin_walls(folders, nozzle_diam_external, nozzle_diam_internal)\n",
    "        c.make_thin_walls(folders, d_ext, sob_ext_per)\n",
    "        %reset_selective -f \"c\"\n",
    "%reset_selective -f \"camadas\"\n",
    "# TODO: arvore de paredes finas\n",
    "# TODO: quando duas áreas se encontram\n",
    "# TODO: limite de parede diam minimo\n",
    "# TODO arrumar para origens extremamente pequenas, ignorar da problema\n",
    "# TODO arrumar casos onde a beirada esta vazndo criando areas triangulares distantes\n",
    "# FIXME: Precisa mesmo separar linha 1 2 topo e baixo? muitos elementos estão sendo criados"
   ]
  },
  {
   "cell_type": "markdown",
   "metadata": {},
   "source": [
    "Contornos"
   ]
  },
  {
   "cell_type": "code",
   "execution_count": null,
   "metadata": {},
   "outputs": [
    {
     "name": "stdout",
     "output_type": "stream",
     "text": [
      "Fase 2: Camada: 0\n",
      "Criando Lvls\n",
      "Ilha: I_000 Número de Níveis: 10\n",
      "Total de [Criando Lvls] : 2.4088246822357178\n",
      "Criando os loops\n",
      "Total de [Criando os loops] : 1.4532866477966309\n",
      "Criando regiões de influência\n",
      "Total de [Criando regiões de influência] : 0.26920580863952637\n",
      "Criando as regiões de Offset\n",
      "Total de [Criando as regiões de Offset] : 2.060645818710327\n",
      "Retirando regiões da camada\n",
      "['Lvl_000', 0, 0] Perdendo total:202 maior void:0.050188205771643665Bw -> aceito\n",
      "['Lvl_001', 0, 0] Perdendo total:206 maior void:0.17565872020075282Bw -> aceito\n",
      "['Lvl_002', 0, 0] Perdendo total:80826 maior void:56.14930991217064Bw -> bloqueado\n",
      "['Lvl_000', 1, 0] Perdendo total:0 maior void:0Bw -> aceito\n",
      "['Lvl_001', 1, 0] Perdendo total:0 maior void:0Bw -> aceito\n",
      "['Lvl_002', 1, 0] Perdendo total:0 maior void:0Bw -> aceito\n",
      "['Lvl_000', 1, 1] Perdendo total:0 maior void:0Bw -> aceito\n",
      "['Lvl_001', 1, 1] Perdendo total:0 maior void:0Bw -> aceito\n",
      "['Lvl_000', 1, 2] Perdendo total:0 maior void:0Bw -> aceito\n",
      "['Lvl_001', 1, 2] Perdendo total:0 maior void:0Bw -> aceito\n",
      "['Lvl_000', 1, 3] Perdendo total:0 maior void:0Bw -> aceito\n",
      "['Lvl_001', 1, 3] Perdendo total:0 maior void:0Bw -> aceito\n",
      "['Lvl_002', 1, 1] Perdendo total:0 maior void:0Bw -> aceito\n",
      "['Lvl_003', 0, 1] Perdendo total:20341 maior void:10.515683814303639Bw -> bloqueado\n",
      "['Lvl_004', 0, 1] Perdendo total:26714 maior void:20.26348808030113Bw -> bloqueado\n",
      "['Lvl_005', 0, 1] Perdendo total:4884 maior void:3.277289836888331Bw -> bloqueado\n",
      "['Lvl_006', 0, 0] Perdendo total:2885 maior void:1.5407779171894604Bw -> bloqueado\n",
      "['Lvl_007', 0, 0] Perdendo total:2348 maior void:1.06900878293601Bw -> bloqueado\n",
      "['Lvl_008', 0, 0] Perdendo total:1966 maior void:0.8531994981179423Bw -> aceito\n",
      "['Lvl_009', 0, 0] Perdendo total:1739 maior void:0.8143036386449184Bw -> aceito\n",
      "['Lvl_003', 0, 0] Perdendo total:26509 maior void:10.545796737766624Bw -> bloqueado\n",
      "['Lvl_004', 0, 0] Perdendo total:15740 maior void:11.593475533249686Bw -> bloqueado\n",
      "['Lvl_004', 0, 2] Perdendo total:16285 maior void:12.824341279799247Bw -> bloqueado\n",
      "['Lvl_004', 0, 3] Perdendo total:18163 maior void:10.7465495608532Bw -> bloqueado\n",
      "['Lvl_005', 0, 0] Perdendo total:18025 maior void:8.061480552070263Bw -> bloqueado\n",
      "['Lvl_005', 0, 2] Perdendo total:17340 maior void:7.412797992471769Bw -> bloqueado\n",
      "Total de [Retirando regiões da camada] : 1.2798399925231934\n",
      "Reunindo todos os loops em uma unica imagem\n",
      "Total de [Reunindo todos os loops em uma unica imagem] : 0.03700566291809082\n",
      "salvando imagens das regiões\n",
      "deletado: /L_000/I_000/offsets\n",
      "Total de [salvando imagens das regiões] : 0.3348259925842285\n",
      "Total de [Fase 2: Camada: 0] : 7.866935968399048\n"
     ]
    }
   ],
   "source": [
    "import gui\n",
    "import files\n",
    "from timer import Timer\n",
    "from components import layer\n",
    "from os import getcwd\n",
    "\n",
    "if not('folders' in globals()):\n",
    "    home = getcwd()\n",
    "    folders = files.System_Paths(home)\n",
    "    gui.find_saved_file(folders)\n",
    "[void_max,external_max,internal_max] = gui.ask_parameters_offsets()\n",
    "camadas = folders.load_layers_hdf5()\n",
    "for i,c in enumerate(camadas):\n",
    "    with Timer(\"Fase 2: Camada: \" + str(i)):\n",
    "        folders.load_islands_hdf5(c)\n",
    "        c.make_offsets(folders, void_max, external_max, internal_max)\n",
    "        folders.save_props_hdf5(f\"/{c.name}\",c.__dict__)\n",
    "        %reset_selective -f \"c\"\n",
    "%reset_selective -f \"camadas\""
   ]
  },
  {
   "cell_type": "markdown",
   "metadata": {},
   "source": [
    "Pontes"
   ]
  },
  {
   "cell_type": "code",
   "execution_count": null,
   "metadata": {},
   "outputs": [
    {
     "name": "stdout",
     "output_type": "stream",
     "text": [
      "Fase 3: Camada: 0\n",
      "Criando pontes de Offset\n",
      "Total de [Criando pontes de Offset] : 9.574841499328613\n",
      "Criando pontes de Zigzag\n",
      "Fechou uma ponte OK\n",
      "Fechou uma ponte OK\n",
      "Fechou uma ponte OK\n",
      "Fechou uma ponte OK\n",
      "Fechou uma ponte OK\n",
      "Total de [Criando pontes de Zigzag] : 13.37040376663208\n",
      "Criando pontes de Crossover\n",
      "Elemento: ('Reg_001', 'Reg_002') Maior prioridade: 0\n",
      "Elemento: ('Reg_000', 'Reg_002') Maior prioridade: 1\n",
      "Elemento: ('Reg_000', 'Reg_003') Maior prioridade: 2\n",
      "Total de [Criando pontes de Crossover] : 0.04580426216125488\n",
      "Retirando pontes da Camada\n",
      "Total de [Retirando pontes da Camada] : 0.021862030029296875\n",
      "Gerando áreas proibidas\n",
      "Total de [Gerando áreas proibidas] : 0.0019888877868652344\n",
      "salvando imagens das regiões\n",
      "deletado: /L_000/I_000/bridges\n",
      "Total de [salvando imagens das regiões] : 0.5081226825714111\n",
      "Total de [Fase 3: Camada: 0] : 23.573240280151367\n"
     ]
    }
   ],
   "source": [
    "import gui\n",
    "import files\n",
    "from timer import Timer\n",
    "from components import layer\n",
    "from os import getcwd\n",
    "import numpy as np\n",
    "from components import images_tools as it\n",
    "\n",
    "if not('folders' in globals()):\n",
    "    home = getcwd()\n",
    "    folders = files.System_Paths(home)\n",
    "    gui.find_saved_file(folders)\n",
    "[n_max, d_int, sob_int_per] = gui.ask_parameters_bridges()\n",
    "camadas = folders.load_layers_hdf5()\n",
    "last_prohibited_areas = np.zeros(camadas[0].base_frame)\n",
    "for i,c in enumerate(camadas):\n",
    "    with Timer(\"Fase 3: Camada: \" + str(i)):\n",
    "        if i%2 == 1:\n",
    "            last_image = it.rotate_img_cw(last_prohibited_areas )\n",
    "        elif i%2 == 0:\n",
    "            last_image = it.rotate_img_ccw(last_prohibited_areas )\n",
    "        if i >= 2:\n",
    "            if i%2 == 1:\n",
    "                second_last_image = it.rotate_img_cw(camadas[i - 1].prohibited_areas)\n",
    "            elif i%2 == 0:\n",
    "                second_last_image = it.rotate_img_ccw(camadas[i - 1].prohibited_areas)\n",
    "        else:\n",
    "            second_last_image = np.zeros_like(last_image)\n",
    "        c.prohibited_areas = last_image\n",
    "        sum_prohibited_areas = it.sum_imgs([last_image, second_last_image])\n",
    "        last_prohibited_areas = c.make_bridges(folders, n_max, d_int, sob_int_per, len(camadas), sum_prohibited_areas)\n",
    "        folders.save_props_hdf5(f\"/{c.name}\",c.__dict__)\n",
    "%reset_selective -f \"camadas\""
   ]
  },
  {
   "cell_type": "markdown",
   "metadata": {},
   "source": [
    "Zigzags"
   ]
  },
  {
   "cell_type": "code",
   "execution_count": null,
   "metadata": {},
   "outputs": [
    {
     "name": "stdout",
     "output_type": "stream",
     "text": [
      "Fase 4: Camada: 0\n",
      "Encontrando areas monotonicas\n",
      "Total de [Encontrando areas monotonicas] : 10.656800985336304\n",
      "salvando imagens das regiões\n",
      "deletado: /L_000/I_000/zigzags\n",
      "Total de [salvando imagens das regiões] : 0.046196699142456055\n",
      "Total de [Fase 4: Camada: 0] : 10.970326900482178\n"
     ]
    }
   ],
   "source": [
    "import gui\n",
    "import files\n",
    "from timer import Timer\n",
    "from components import layer\n",
    "from os import getcwd\n",
    "\n",
    "if not('folders' in globals()):\n",
    "    home = getcwd()\n",
    "    folders = files.System_Paths(home)\n",
    "    gui.find_saved_file(folders)\n",
    "camadas = folders.load_layers_hdf5() \n",
    "for i, c in enumerate(camadas):\n",
    "    with Timer(\"Fase 4: Camada: \" + str(i)):\n",
    "        c.make_zigzags(folders)\n",
    "        %reset_selective -f \"c\"\n",
    "%reset_selective -f \"camadas\"\n"
   ]
  },
  {
   "cell_type": "markdown",
   "metadata": {},
   "source": [
    "iMAGEM DO MAPEAMENTO"
   ]
  },
  {
   "cell_type": "code",
   "execution_count": null,
   "metadata": {},
   "outputs": [
    {
     "name": "stdout",
     "output_type": "stream",
     "text": [
      "Fase 4: Camada: 0\n",
      "\n",
      "\n",
      "Total de [Fase 4: Camada: 0] : 0.7480285167694092\n"
     ]
    },
    {
     "data": {
      "image/png": "[encoded data removed]",
      "text/plain": [
       "<Figure size 640x480 with 2 Axes>"
      ]
     },
     "metadata": {},
     "output_type": "display_data"
    }
   ],
   "source": [
    "import gui\n",
    "import files\n",
    "from timer import Timer\n",
    "from components import images_tools as it\n",
    "from os import getcwd\n",
    "import matplotlib.pyplot as plt\n",
    "import matplotlib.colors\n",
    "import os\n",
    "\n",
    "if not('folders' in globals()):\n",
    "    home = getcwd()\n",
    "    folders = files.System_Paths(home)\n",
    "    gui.find_saved_file(folders)\n",
    "camadas = folders.load_layers_hdf5() \n",
    "for c in camadas:\n",
    "    folders.load_islands_hdf5(c)\n",
    "tangran_cmap = matplotlib.colors.ListedColormap([\"white\",\"darkblue\",\"aqua\",\"aquamarine\",\"blue\",\"black\",\"green\",\"indigo\",\"red\",\"orange\"])\n",
    "for i, c in enumerate(camadas):\n",
    "    with Timer(\"Fase 4: Camada: \" + str(i)):\n",
    "        plt.figure()\n",
    "        img_mapping = it.final_mapping(c, folders)\n",
    "        plt.imshow(img_mapping, cmap=tangran_cmap, vmin=0, vmax=1000)\n",
    "        plt.imsave(\"aaa.png\",img_mapping, cmap=tangran_cmap, vmin=0, vmax=1000)\n",
    "        plt.colorbar()\n",
    "        print('\\n')"
   ]
  },
  {
   "cell_type": "markdown",
   "metadata": {},
   "source": [
    "ROTAS"
   ]
  },
  {
   "cell_type": "markdown",
   "metadata": {},
   "source": [
    "Rotas de Offset"
   ]
  },
  {
   "cell_type": "code",
   "execution_count": null,
   "metadata": {},
   "outputs": [
    {
     "name": "stdout",
     "output_type": "stream",
     "text": [
      "Making offset routes\n",
      "salvando imagens das rotas\n",
      "Total de [salvando imagens das rotas] : 0.1609795093536377\n",
      "Total de [Making offset routes] : 3.5639312267303467\n"
     ]
    }
   ],
   "source": [
    "import gui\n",
    "import files\n",
    "from timer import Timer\n",
    "from os import getcwd\n",
    "\n",
    "if not('folders' in globals()):\n",
    "    home = getcwd()\n",
    "    folders = files.System_Paths(home)\n",
    "    gui.find_saved_file(folders)\n",
    "camadas = folders.load_layers_hdf5()\n",
    "\n",
    "amendment_size = 0.7 #porcentagem do tamanho da poca de deposicao de material\n",
    "for c in camadas:\n",
    "    with Timer(\"Making offset routes\"):\n",
    "        c.make_offset_routes(amendment_size, folders)\n",
    "        %reset_selective -f \"c\"\n",
    "%reset_selective -f \"camadas\""
   ]
  },
  {
   "cell_type": "markdown",
   "metadata": {},
   "source": [
    "Rotas de pontes"
   ]
  },
  {
   "cell_type": "code",
   "execution_count": 1,
   "metadata": {},
   "outputs": [
    {
     "name": "stdout",
     "output_type": "stream",
     "text": [
      "Making bridges routes\n",
      "Camada: L_000\n",
      "Making Offset bridges routes\n",
      "Total de [Making Offset bridges routes] : 0.11729836463928223\n",
      "Making Zigzag bridges routes\n",
      "Total de [Making Zigzag bridges routes] : 3.9401326179504395\n",
      "Making Crossover bridges routes\n",
      "Total de [Making Crossover bridges routes] : 6.3683106899261475\n",
      "salvando imagens das rotas\n",
      "Total de [salvando imagens das rotas] : 0.30585455894470215\n",
      "Total de [Camada: L_000] : 11.67721438407898\n",
      "Total de [Making bridges routes] : 11.687341451644897\n"
     ]
    }
   ],
   "source": [
    "import gui\n",
    "import files\n",
    "from timer import Timer\n",
    "from os import getcwd\n",
    "\n",
    "if not('folders' in globals()):\n",
    "    home = getcwd()\n",
    "    folders = files.System_Paths(home)\n",
    "    gui.find_saved_file(folders)\n",
    "camadas = folders.load_layers_hdf5()\n",
    "[sob_int_ext_per] = gui.ask_parameters_internal_routes()\n",
    "\n",
    "with Timer(f\"Making bridges routes\"):\n",
    "    for c in camadas:\n",
    "        with Timer(f\"Camada: {c.name}\"):\n",
    "            c.make_bridges_routes(folders, sob_int_ext_per)\n",
    "            %reset_selective -f \"c\"\n",
    "%reset_selective -f \"camadas\""
   ]
  },
  {
   "cell_type": "markdown",
   "metadata": {},
   "source": [
    "Rotas de Ziguezague"
   ]
  },
  {
   "cell_type": "code",
   "execution_count": 2,
   "metadata": {},
   "outputs": [
    {
     "name": "stdout",
     "output_type": "stream",
     "text": [
      "Making zigzag routes\n",
      "criando as rotas de zigzag, camada:L_000\n",
      "fazendo as tres opções:\n",
      "Total de [fazendo as tres opções:] : 8.993457794189453\n",
      "escolhendo entre elas:\n",
      "Total de [escolhendo entre elas:] : 0.12459897994995117\n",
      "fazendo as tres opções:\n",
      "Total de [fazendo as tres opções:] : 8.393623352050781\n",
      "escolhendo entre elas:\n",
      "Total de [escolhendo entre elas:] : 0.12414860725402832\n",
      "fazendo as tres opções:\n",
      "Total de [fazendo as tres opções:] : 7.768823146820068\n",
      "escolhendo entre elas:\n",
      "Total de [escolhendo entre elas:] : 0.12778902053833008\n",
      "Total de [criando as rotas de zigzag, camada:L_000] : 26.6725811958313\n",
      "salvando imagens das rotas\n",
      "deletado: /L_000/I_000/zigzags\n",
      "Total de [salvando imagens das rotas] : 0.13282179832458496\n",
      "Criando os grafos de regiões\n",
      "Total de [Criando os grafos de regiões] : 0.09924674034118652\n",
      "Conectando regiões de zigzag\n",
      "Total de [Conectando regiões de zigzag] : 0.062064170837402344\n",
      "salvando grafos\n",
      "Total de [salvando grafos] : 0.13606667518615723\n",
      "Total de [Making zigzag routes] : 27.596516609191895\n"
     ]
    }
   ],
   "source": [
    "import gui\n",
    "import files\n",
    "from timer import Timer\n",
    "from os import getcwd\n",
    "\n",
    "if not('folders' in globals()):\n",
    "    home = getcwd()\n",
    "    folders = files.System_Paths(home)\n",
    "    gui.find_saved_file(folders)\n",
    "camadas = folders.load_layers_hdf5()\n",
    "for c in camadas:\n",
    "    with Timer(\"Making zigzag routes\"):\n",
    "        c.make_zigzag_routes(folders)\n",
    "        c.connect_zigzags(folders)\n",
    "        %reset_selective -f \"c\"\n",
    "%reset_selective -f \"camadas\"\n",
    "\n"
   ]
  },
  {
   "cell_type": "markdown",
   "metadata": {},
   "source": [
    "WEAVING"
   ]
  },
  {
   "cell_type": "code",
   "execution_count": 3,
   "metadata": {},
   "outputs": [
    {
     "name": "stdout",
     "output_type": "stream",
     "text": [
      "Fase 5 b\n",
      "gerando preenchimentos oscilatórios\n",
      "Pegando as falhas internas\n",
      "Total de [Pegando as falhas internas] : 0.9569234848022461\n",
      "Achando os contatos\n",
      "Total de [Achando os contatos] : 6.159394025802612\n",
      "criando os weavings\n",
      "Total de [criando os weavings] : 5.135310888290405\n",
      "Total de [gerando preenchimentos oscilatórios] : 14.638471841812134\n",
      "salvando rotas\n",
      "deletado: /L_000/I_000/zigzags/macro_areas\n",
      "Total de [salvando rotas] : 0.1839296817779541\n",
      "Total de [Fase 5 b] : 14.822752952575684\n"
     ]
    }
   ],
   "source": [
    "import gui\n",
    "import files\n",
    "from timer import Timer\n",
    "from os import getcwd\n",
    "\n",
    "if not('folders' in globals()):\n",
    "    home = getcwd()\n",
    "    folders = files.System_Paths(home)\n",
    "    gui.find_saved_file(folders)\n",
    "camadas = folders.load_layers_hdf5()\n",
    "[iwflag] = gui.ask_parameters_weaving()\n",
    "for c in camadas:\n",
    "    with Timer(\"Fase 5 b\"):\n",
    "        c.internal_weaving(iwflag, folders)\n",
    "        %reset_selective -f \"c\"\n",
    "%reset_selective -f \"camadas\""
   ]
  },
  {
   "cell_type": "markdown",
   "metadata": {},
   "source": [
    "Rotas de Thin Walls"
   ]
  },
  {
   "cell_type": "code",
   "execution_count": 4,
   "metadata": {},
   "outputs": [
    {
     "name": "stdout",
     "output_type": "stream",
     "text": [
      "Fase 5\n",
      "Making thin walls routes\n",
      "criando rotas TW\n",
      "Total de [criando rotas TW] : 0.2344067096710205\n",
      "salvando imagens das rotas\n",
      "Total de [salvando imagens das rotas] : 0.031030654907226562\n",
      "Total de [Making thin walls routes] : 0.26565003395080566\n",
      "Total de [Fase 5] : 0.2657358646392822\n"
     ]
    }
   ],
   "source": [
    "import gui\n",
    "import files\n",
    "from timer import Timer\n",
    "from os import getcwd\n",
    "\n",
    "if not('folders' in globals()):\n",
    "    home = getcwd()\n",
    "    folders = files.System_Paths(home)\n",
    "    gui.find_saved_file(folders)\n",
    "camadas = folders.load_layers_hdf5()\n",
    "for c in camadas:\n",
    "    with Timer(\"Fase 5\"):\n",
    "        with Timer(\"Making thin walls routes\"):\n",
    "            c.make_thin_wall_routes(folders)\n",
    "            %reset_selective -f \"c\"\n",
    "%reset_selective -f \"camadas\""
   ]
  },
  {
   "cell_type": "markdown",
   "metadata": {},
   "source": [
    "Encontrando o lugar onde será o começo da trilha de cada ilha"
   ]
  },
  {
   "cell_type": "code",
   "execution_count": 5,
   "metadata": {},
   "outputs": [
    {
     "name": "stdout",
     "output_type": "stream",
     "text": [
      "Encontrando ponto de união ext-int\n",
      "salvando imagens das rotas\n",
      "Total de [salvando imagens das rotas] : 0.0008208751678466797\n",
      "Total de [Encontrando ponto de união ext-int] : 0.14177489280700684\n"
     ]
    }
   ],
   "source": [
    "import gui\n",
    "import files\n",
    "from timer import Timer\n",
    "from components import layer, path_tools\n",
    "from os import getcwd\n",
    "\n",
    "if not('folders' in globals()):\n",
    "    home = getcwd()\n",
    "    folders = files.System_Paths(home)\n",
    "    gui.find_saved_file(folders)\n",
    "camadas = folders.load_layers_hdf5()\n",
    "\n",
    "for c in camadas:\n",
    "    c.islands_path_starts(folders)\n",
    "\n",
    "%reset_selective -f \"camadas\"                        "
   ]
  },
  {
   "cell_type": "markdown",
   "metadata": {},
   "source": [
    "Unificando rotas EXTERNAS nas camadas"
   ]
  },
  {
   "cell_type": "code",
   "execution_count": 6,
   "metadata": {},
   "outputs": [
    {
     "name": "stdout",
     "output_type": "stream",
     "text": [
      "Fase 6\n",
      "Conectando rotas externas\n",
      "Conectando pontes de Offset\n",
      "Total de [Conectando pontes de Offset] : 1.7290725708007812\n",
      "Conectando pontes de Crossover\n",
      "salto:  [433, 2442]\n",
      "salto:  [668, 478]\n",
      "salto:  [465, 2238]\n",
      "Total de [Conectando pontes de Crossover] : 1.6584537029266357\n",
      "Total de [Conectando rotas externas] : 4.334168434143066\n",
      "salvando imagens das rotas\n",
      "deletado: /L_000/I_000/external_tree_route\n",
      "Total de [salvando imagens das rotas] : 0.13460087776184082\n",
      "Total de [Fase 6] : 4.469042778015137\n"
     ]
    }
   ],
   "source": [
    "import gui\n",
    "import files\n",
    "from timer import Timer\n",
    "from os import getcwd\n",
    "\n",
    "if not('folders' in globals()):\n",
    "    home = getcwd()\n",
    "    folders = files.System_Paths(home)\n",
    "    gui.find_saved_file(folders)\n",
    "camadas = folders.load_layers_hdf5()\n",
    "\n",
    "for c in camadas:\n",
    "    with Timer(\"Fase 6\"):\n",
    "        c.close_routes_external(folders)\n",
    "        %reset_selective -f \"c\"\n",
    "%reset_selective -f \"camadas\"\n",
    "    "
   ]
  },
  {
   "cell_type": "markdown",
   "metadata": {},
   "source": [
    "Unificando rotas INTERNAS nas camadas"
   ]
  },
  {
   "cell_type": "code",
   "execution_count": 7,
   "metadata": {},
   "outputs": [
    {
     "name": "stdout",
     "output_type": "stream",
     "text": [
      "Fase 7\n",
      "Conectando zgzags vizinhos\n",
      "Total de [Conectando zgzags vizinhos] : 2.9668421745300293\n",
      "Conectando pontes de zigzag\n",
      "salto:  [930, 1777]\n",
      "salto:  [289, 1732]\n",
      "Total de [Conectando pontes de zigzag] : 0.431490421295166\n",
      "salvando imagens das rotas\n",
      "deletado: /L_000/I_000/internal_tree_route\n",
      "Total de [salvando imagens das rotas] : 0.12631535530090332\n",
      "Total de [Fase 7] : 4.566211700439453\n"
     ]
    }
   ],
   "source": [
    "import gui\n",
    "import files\n",
    "from timer import Timer\n",
    "from components import layer\n",
    "from os import getcwd\n",
    "\n",
    "if not('folders' in globals()):\n",
    "    home = getcwd()\n",
    "    folders = files.System_Paths(home)\n",
    "    gui.find_saved_file(folders)\n",
    "camadas = folders.load_layers_hdf5()\n",
    "\n",
    "for c in camadas:\n",
    "    with Timer(\"Fase 7\"):\n",
    "        c.close_routes_internal(folders)\n",
    "        %reset_selective -f \"c\"\n",
    "%reset_selective -f \"camadas\""
   ]
  },
  {
   "cell_type": "markdown",
   "metadata": {},
   "source": [
    "Unindo rotas de thin walls"
   ]
  },
  {
   "cell_type": "code",
   "execution_count": 8,
   "metadata": {},
   "outputs": [
    {
     "name": "stdout",
     "output_type": "stream",
     "text": [
      "Fase 8\n",
      "Convertendo paredes finas\n",
      "Total de [Convertendo paredes finas] : 1.1228418350219727\n",
      "salvando imagens das rotas\n",
      "deletado: /L_000/I_000/thinwalls_tree_route/sequence\n",
      "deletado: /L_000/I_000/thinwalls_tree_route/saltos\n",
      "Total de [salvando imagens das rotas] : 0.10233950614929199\n",
      "Total de [Fase 8] : 1.3954999446868896\n"
     ]
    }
   ],
   "source": [
    "import gui\n",
    "import files\n",
    "from timer import Timer\n",
    "from components import layer\n",
    "from os import getcwd\n",
    "\n",
    "if not('folders' in globals()):\n",
    "    home = getcwd()\n",
    "    folders = files.System_Paths(home)\n",
    "    gui.find_saved_file(folders)\n",
    "camadas = folders.load_layers_hdf5()\n",
    "\n",
    "for c in camadas:\n",
    "    with Timer(\"Fase 8\"):\n",
    "        c.close_routes_thinwalls(folders)\n",
    "        %reset_selective -f \"c\"\n",
    "%reset_selective -f \"camadas\""
   ]
  },
  {
   "cell_type": "markdown",
   "metadata": {},
   "source": [
    "Unindo todas as rotas"
   ]
  },
  {
   "cell_type": "code",
   "execution_count": 9,
   "metadata": {},
   "outputs": [
    {
     "name": "stdout",
     "output_type": "stream",
     "text": [
      "Encontrando ponto de união ext-int\n",
      "Total de [Encontrando ponto de união ext-int] : 0.03584170341491699\n",
      "Conectando todas as partes\n",
      "Total de [Conectando todas as partes] : 0.029309988021850586\n",
      "salvando imagens das rotas\n",
      "deletado: /L_000/I_000/island_route\n",
      "[[125, 1863], [65, 1561], [56, 1497], [56, 1417], [65, 1352], [128, 1030], [135, 1020], [172, 1000], [197, 1000], [216, 993], [230, 980], [238, 964], [315, 576], [314, 557], [307, 541], [291, 526], [268, 518], [243, 493], [236, 479], [273, 289], [287, 239], [309, 195], [336, 157], [375, 118], [420, 89], [456, 73], [501, 60], [542, 56], [602, 59], [653, 73], [694, 92], [733, 118], [771, 156], [798, 194], [820, 238], [833, 284], [1042, 1352], [1051, 1424], [1051, 1440], [1019, 1440], [1019, 1424], [1011, 1359], [803, 296], [790, 249], [771, 211], [746, 176], [710, 141], [680, 121], [642, 103], [599, 91], [542, 88], [505, 92], [467, 103], [440, 115], [394, 144], [361, 177], [336, 212], [316, 253], [304, 296], [272, 461], [274, 473], [280, 483], [288, 490], [315, 504], [334, 524], [343, 542], [347, 562], [347, 576], [333, 647], [0, 0], [668, 478], [654, 490], [603, 513], [565, 517], [565, 487], [592, 483], [637, 463], [673, 428], [695, 384], [700, 357], [700, 328], [691, 286], [666, 245], [645, 224], [626, 212], [602, 201], [564, 193], [533, 194], [503, 202], [462, 225], [439, 248], [427, 265], [412, 301], [407, 328], [407, 356], [412, 383], [422, 408], [434, 427], [473, 464], [516, 483], [542, 486], [543, 518], [505, 513], [456, 491], [410, 448], [395, 425], [382, 394], [375, 356], [375, 328], [385, 279], [400, 248], [415, 227], [441, 201], [463, 186], [498, 170], [544, 161], [587, 164], [613, 171], [643, 185], [666, 200], [690, 224], [706, 246], [721, 275], [732, 328], [732, 357], [725, 395], [700, 445], [669, 477], [690, 501], [760, 521], [827, 563], [812, 484], [767, 494], [722, 460], [733, 441], [771, 461], [803, 454], [806, 449], [800, 422], [772, 428], [745, 414], [753, 391], [778, 394], [793, 392], [794, 388], [787, 356], [772, 361], [759, 356], [759, 329], [781, 324], [775, 293], [754, 296], [746, 269], [748, 265], [765, 258], [750, 229], [730, 236], [712, 210], [729, 198], [705, 172], [690, 187], [667, 169], [676, 151], [646, 134], [636, 153], [608, 143], [613, 124], [609, 121], [581, 117], [575, 134], [565, 135], [545, 134], [540, 116], [510, 119], [511, 140], [484, 147], [474, 129], [445, 142], [454, 161], [427, 179], [418, 163], [413, 163], [389, 186], [404, 201], [385, 223], [369, 212], [358, 227], [351, 242], [369, 252], [357, 281], [337, 276], [329, 306], [330, 310], [350, 315], [348, 343], [335, 344], [323, 341], [316, 372], [317, 376], [326, 377], [351, 374], [357, 402], [335, 411], [310, 407], [304, 437], [336, 444], [368, 429], [382, 454], [359, 468], [337, 489], [356, 509], [378, 496], [399, 474], [422, 497], [396, 523], [368, 534], [374, 562], [409, 554], [441, 513], [486, 534], [424, 585], [332, 649], [267, 978], [254, 1001], [236, 1018], [217, 1028], [177, 1034], [165, 1041], [156, 1054], [96, 1359], [88, 1417], [88, 1497], [96, 1554], [305, 2622], [317, 2665], [336, 2703], [361, 2738], [390, 2767], [430, 2794], [466, 2811], [515, 2823], [592, 2823], [640, 2812], [677, 2794], [717, 2767], [752, 2730], [772, 2702], [790, 2666], [803, 2619], [858, 2335], [0, 0], [433, 2442], [463, 2419], [492, 2405], [533, 2396], [544, 2397], [544, 2426], [542, 2428], [533, 2428], [506, 2434], [480, 2446], [462, 2459], [439, 2481], [429, 2495], [416, 2521], [410, 2542], [407, 2562], [407, 2590], [412, 2617], [422, 2641], [434, 2660], [459, 2686], [471, 2696], [495, 2709], [516, 2716], [543, 2721], [565, 2721], [592, 2716], [613, 2709], [637, 2696], [649, 2686], [673, 2661], [684, 2642], [695, 2618], [700, 2591], [700, 2562], [697, 2541], [691, 2520], [679, 2496], [668, 2481], [645, 2458], [626, 2445], [602, 2434], [575, 2428], [567, 2428], [565, 2426], [565, 2397], [566, 2396], [582, 2397], [613, 2404], [643, 2418], [662, 2431], [692, 2460], [706, 2479], [721, 2509], [728, 2534], [732, 2562], [732, 2591], [725, 2629], [711, 2659], [700, 2678], [670, 2710], [654, 2723], [624, 2739], [603, 2746], [565, 2753], [536, 2752], [509, 2747], [484, 2739], [450, 2720], [438, 2710], [410, 2681], [390, 2648], [382, 2628], [376, 2597], [375, 2562], [379, 2535], [386, 2510], [404, 2475], [415, 2460], [432, 2443], [416, 2416], [347, 2392], [281, 2350], [279, 2351], [296, 2434], [340, 2423], [387, 2453], [374, 2475], [336, 2455], [305, 2459], [301, 2461], [307, 2491], [334, 2487], [361, 2501], [354, 2526], [333, 2520], [316, 2525], [314, 2527], [320, 2557], [334, 2552], [345, 2553], [349, 2555], [348, 2583], [337, 2584], [328, 2587], [326, 2589], [332, 2618], [344, 2616], [351, 2613], [353, 2614], [355, 2629], [360, 2643], [351, 2648], [342, 2650], [341, 2653], [354, 2680], [356, 2681], [373, 2673], [389, 2697], [382, 2704], [373, 2709], [383, 2723], [396, 2736], [411, 2720], [435, 2742], [429, 2749], [425, 2758], [445, 2772], [452, 2775], [462, 2757], [475, 2764], [490, 2768], [491, 2770], [486, 2780], [484, 2787], [485, 2789], [508, 2795], [518, 2796], [520, 2777], [524, 2776], [543, 2780], [553, 2780], [554, 2782], [551, 2788], [551, 2797], [554, 2799], [579, 2797], [583, 2795], [582, 2782], [583, 2776], [611, 2771], [615, 2779], [615, 2785], [617, 2790], [631, 2787], [650, 2777], [641, 2761], [642, 2759], [668, 2745], [672, 2752], [680, 2760], [702, 2745], [706, 2741], [691, 2726], [714, 2702], [722, 2710], [730, 2714], [747, 2691], [743, 2686], [730, 2678], [745, 2649], [763, 2658], [765, 2657], [773, 2626], [770, 2624], [761, 2623], [754, 2619], [758, 2592], [769, 2591], [780, 2595], [786, 2565], [784, 2563], [772, 2559], [760, 2562], [758, 2561], [754, 2530], [759, 2528], [774, 2527], [792, 2533], [799, 2499], [795, 2497], [771, 2494], [746, 2500], [736, 2480], [771, 2462], [805, 2467], [810, 2442], [808, 2440], [768, 2430], [725, 2460], [714, 2445], [690, 2421], [0, 0], [465, 2238], [429, 2200], [415, 2172], [407, 2136], [406, 1779], [372, 1767], [345, 1740], [199, 1485], [194, 1458], [199, 1429], [351, 1166], [371, 1148], [387, 1140], [414, 1135], [693, 1135], [720, 1140], [744, 1154], [762, 1174], [910, 1434], [909, 1437], [875, 1434], [735, 1191], [719, 1175], [693, 1167], [414, 1167], [388, 1175], [372, 1191], [229, 1440], [227, 1465], [236, 1488], [372, 1723], [389, 1740], [415, 1748], [692, 1748], [718, 1740], [735, 1723], [874, 1481], [837, 1482], [708, 1706], [697, 1715], [415, 1716], [406, 1713], [258, 1458], [271, 1429], [405, 1202], [414, 1199], [693, 1199], [702, 1202], [840, 1436], [839, 1457], [893, 1458], [909, 1479], [901, 1500], [762, 1740], [735, 1767], [719, 1775], [692, 1780], [438, 1781], [438, 2029], [473, 1999], [510, 1982], [545, 1976], [593, 1982], [630, 1999], [661, 2026], [688, 2071], [694, 2101], [664, 2101], [658, 2082], [637, 2047], [613, 2026], [578, 2011], [545, 2008], [521, 2012], [490, 2026], [466, 2047], [456, 2060], [441, 2095], [438, 2128], [442, 2152], [466, 2196], [490, 2217], [512, 2228], [555, 2236], [582, 2231], [613, 2217], [647, 2183], [662, 2148], [661, 2144], [630, 2144], [620, 2166], [605, 2183], [571, 2201], [542, 2203], [507, 2190], [490, 2175], [475, 2150], [470, 2115], [475, 2093], [486, 2073], [503, 2056], [523, 2045], [558, 2040], [596, 2053], [620, 2077], [630, 2099], [631, 2122], [678, 2122], [695, 2145], [688, 2172], [661, 2217], [630, 2244], [602, 2258], [555, 2268], [501, 2258], [466, 2238], [440, 2403], [689, 2420], [688, 2416], [764, 2391], [859, 2333], [1010, 1561], [1019, 1463], [1051, 1463], [1043, 1558], [841, 2591], [820, 2677], [799, 2719], [774, 2754], [736, 2793], [694, 2821], [651, 2842], [602, 2854], [541, 2857], [505, 2854], [455, 2841], [413, 2821], [370, 2792], [336, 2758], [309, 2720], [287, 2676], [275, 2634], [125, 1864], [0, 0], [236, 1043], [242, 1040], [273, 1040], [274, 1118], [281, 1125], [287, 1126], [309, 1116], [309, 1013], [296, 1012], [296, 994], [302, 979], [309, 979], [309, 893], [311, 890], [324, 888], [345, 872], [364, 867], [372, 869], [375, 872], [375, 861], [316, 860], [322, 832], [375, 832], [375, 803], [327, 802], [334, 774], [375, 774], [375, 745], [339, 744], [345, 716], [375, 716], [375, 681], [352, 680], [356, 656], [377, 639], [409, 639], [410, 1074], [445, 1074], [445, 589], [505, 543], [537, 543], [546, 545], [546, 1074], [581, 1074], [581, 543], [603, 538], [645, 519], [678, 519], [682, 522], [682, 1074], [717, 1075], [717, 552], [750, 551], [816, 580], [818, 582], [818, 603], [829, 604], [834, 632], [818, 633], [818, 663], [841, 664], [846, 692], [818, 693], [818, 723], [851, 723], [853, 725], [858, 752], [818, 753], [818, 783], [863, 783], [866, 792], [865, 810], [844, 812], [833, 818], [818, 818], [818, 1124], [823, 1129], [852, 1124], [854, 1097], [868, 1097], [877, 1090], [893, 1086], [896, 1087], [896, 1074], [888, 1033], [853, 1032], [853, 1000], [881, 999], [874, 965], [853, 964], [853, 932], [868, 931], [861, 897], [853, 896], [854, 845], [885, 845], [887, 849], [933, 1084], [933, 1127], [901, 1127], [893, 1121], [886, 1128], [885, 1157], [826, 1185], [799, 1185], [0, 0], [930, 1777], [936, 1781], [936, 1808], [925, 1811], [916, 1867], [926, 1868], [920, 1899], [909, 1902], [904, 1933], [913, 1935], [907, 1965], [896, 1966], [864, 1989], [852, 1991], [841, 1986], [841, 1999], [900, 2001], [893, 2032], [841, 2032], [841, 2065], [886, 2065], [880, 2098], [841, 2098], [841, 2131], [873, 2131], [867, 2164], [841, 2164], [841, 2197], [860, 2197], [855, 2229], [841, 2230], [840, 2263], [847, 2263], [838, 2312], [806, 2311], [806, 1822], [799, 1815], [771, 1824], [771, 2355], [725, 2377], [691, 2377], [688, 2343], [718, 2342], [735, 2334], [736, 2305], [687, 2305], [685, 2274], [736, 2273], [736, 2241], [684, 2241], [683, 2223], [693, 2210], [736, 2210], [736, 2182], [708, 2181], [718, 2153], [736, 2152], [736, 2120], [722, 2119], [719, 2088], [736, 2088], [736, 2058], [706, 2058], [690, 2031], [736, 2030], [736, 2005], [670, 2003], [670, 1842], [635, 1843], [635, 1961], [602, 1962], [581, 1955], [534, 1948], [534, 1842], [501, 1841], [499, 1962], [466, 1962], [467, 1808], [566, 1808], [567, 1915], [593, 1918], [602, 1916], [602, 1809], [702, 1808], [703, 1974], [729, 1986], [738, 1977], [738, 1791], [774, 1760], [794, 1729], [828, 1729], [839, 1735], [839, 1751], [850, 1752], [849, 1777], [839, 1778], [839, 1805], [850, 1806], [855, 1831], [839, 1832], [839, 1859], [853, 1860], [848, 1887], [839, 1890], [839, 1943], [854, 1956], [872, 1942], [893, 1834], [894, 1811], [884, 1804], [884, 1772], [917, 1771], [929, 1777], [940, 1756], [899, 1692], [815, 1700], [868, 1610], [920, 1638], [966, 1648], [971, 1613], [930, 1606], [887, 1576], [901, 1553], [941, 1575], [979, 1581], [983, 1548], [952, 1543], [917, 1524], [932, 1497], [960, 1511], [989, 1514], [991, 1478], [964, 1478], [941, 1472], [939, 1465], [943, 1449], [992, 1443], [990, 1407], [965, 1410], [934, 1421], [923, 1400], [954, 1378], [985, 1372], [980, 1339], [943, 1346], [905, 1368], [890, 1343], [932, 1314], [972, 1307], [968, 1278], [920, 1283], [872, 1311], [857, 1286], [909, 1252], [960, 1240], [944, 1155], [940, 1154], [898, 1220], [820, 1213], [798, 1185], [791, 1183], [785, 1172], [783, 613], [755, 609], [750, 614], [749, 1116], [717, 1116], [677, 1108], [649, 1107], [649, 575], [642, 572], [614, 577], [614, 1107], [513, 1107], [513, 619], [503, 613], [478, 622], [478, 1107], [377, 1110], [377, 915], [363, 902], [344, 917], [342, 926], [342, 1149], [318, 1182], [281, 1184], [242, 1165], [241, 1117], [229, 1105], [214, 1113], [206, 1128], [174, 1128], [0, 0], [289, 1732], [316, 1732], [325, 1747], [342, 1767], [342, 1798], [362, 1799], [373, 1805], [373, 1831], [342, 1832], [342, 1862], [373, 1863], [373, 1895], [342, 1896], [342, 1926], [373, 1927], [373, 1959], [342, 1960], [342, 1990], [373, 1991], [373, 2023], [342, 2024], [342, 2054], [373, 2055], [373, 2087], [343, 2087], [342, 2118], [372, 2119], [376, 2151], [343, 2151], [342, 2182], [378, 2183], [368, 2185], [360, 2191], [352, 2201], [350, 2215], [342, 2216], [342, 2246], [350, 2247], [351, 2279], [342, 2280], [342, 2309], [351, 2314], [380, 2319], [385, 2314], [387, 2255], [383, 2249], [384, 2216], [416, 2216], [423, 2225], [423, 2259], [416, 2377], [383, 2377], [310, 2343], [308, 2319], [287, 2319], [279, 2315], [269, 2262], [309, 2261], [308, 2228], [262, 2228], [261, 2202], [273, 2202], [289, 2198], [294, 2194], [309, 2193], [309, 1800], [288, 1791], [281, 1792], [274, 1799], [274, 2166], [241, 2166], [231, 2116], [239, 2114], [239, 2076], [223, 2075], [217, 2044], [239, 2043], [239, 2014], [211, 2013], [205, 1983], [238, 1982], [239, 1952], [199, 1951], [193, 1920], [238, 1920], [239, 1890], [187, 1889], [181, 1858], [238, 1858], [239, 1843], [228, 1846], [209, 1841], [190, 1827], [175, 1827], [174, 1789], [206, 1788], [208, 1797], [228, 1811], [241, 1798], [241, 1754], [284, 1732], [288, 1732], [289, 1704], [210, 1698], [168, 1764], [165, 1765], [149, 1683], [152, 1681], [201, 1673], [257, 1640], [242, 1615], [191, 1643], [143, 1652], [137, 1625], [138, 1621], [180, 1613], [224, 1583], [209, 1558], [169, 1583], [131, 1590], [125, 1564], [126, 1560], [158, 1553], [195, 1533], [180, 1506], [148, 1523], [120, 1527], [116, 1499], [119, 1497], [169, 1487], [172, 1483], [167, 1458], [145, 1461], [116, 1461], [115, 1431], [144, 1430], [170, 1437], [177, 1415], [148, 1399], [120, 1394], [119, 1388], [122, 1366], [127, 1365], [156, 1369], [191, 1387], [206, 1362], [166, 1339], [130, 1333], [129, 1329], [134, 1303], [138, 1302], [177, 1309], [220, 1337], [239, 1305], [189, 1279], [142, 1271], [141, 1267], [146, 1242], [150, 1241], [199, 1249], [253, 1280], [292, 1214], [291, 1212], [209, 1219], [168, 1154], [173, 1127], [173, 1096], [180, 1061], [183, 1059], [214, 1054], [235, 1044], [0, 0], [143, 988], [142, 963], [144, 941], [148, 925], [148, 919], [155, 889], [158, 868], [165, 838], [210, 603], [218, 568], [221, 547], [226, 533], [231, 525], [0, 0], [231, 524], [0, 0]]\n",
      "Total de [salvando imagens das rotas] : 1.5316259860992432\n"
     ]
    }
   ],
   "source": [
    "import gui\n",
    "import files\n",
    "from timer import Timer\n",
    "from components import layer, path_tools\n",
    "from os import getcwd\n",
    "\n",
    "if not('folders' in globals()):\n",
    "    home = getcwd()\n",
    "    folders = files.System_Paths(home)\n",
    "    gui.find_saved_file(folders)\n",
    "camadas = folders.load_layers_hdf5()\n",
    "\n",
    "for c in camadas:\n",
    "    c.close_final_path(folders)\n",
    "\n",
    "%reset_selective -f \"camadas\"\n"
   ]
  },
  {
   "cell_type": "markdown",
   "metadata": {},
   "source": [
    "Gerando o Código G"
   ]
  },
  {
   "cell_type": "code",
   "execution_count": 10,
   "metadata": {},
   "outputs": [
    {
     "name": "stdout",
     "output_type": "stream",
     "text": [
      "Cuspindo o Gcode\n",
      "nome: L_000/I_000\n",
      "[[125, 1863], [65, 1561], [56, 1497], [56, 1417], [65, 1352], [128, 1030], [135, 1020], [172, 1000], [197, 1000], [216, 993], [230, 980], [238, 964], [315, 576], [314, 557], [307, 541], [291, 526], [268, 518], [243, 493], [236, 479], [273, 289], [287, 239], [309, 195], [336, 157], [375, 118], [420, 89], [456, 73], [501, 60], [542, 56], [602, 59], [653, 73], [694, 92], [733, 118], [771, 156], [798, 194], [820, 238], [833, 284], [1042, 1352], [1051, 1424], [1051, 1440], [1019, 1440], [1019, 1424], [1011, 1359], [803, 296], [790, 249], [771, 211], [746, 176], [710, 141], [680, 121], [642, 103], [599, 91], [542, 88], [505, 92], [467, 103], [440, 115], [394, 144], [361, 177], [336, 212], [316, 253], [304, 296], [272, 461], [274, 473], [280, 483], [288, 490], [315, 504], [334, 524], [343, 542], [347, 562], [347, 576], [333, 647], [0, 0], [668, 478], [654, 490], [603, 513], [565, 517], [565, 487], [592, 483], [637, 463], [673, 428], [695, 384], [700, 357], [700, 328], [691, 286], [666, 245], [645, 224], [626, 212], [602, 201], [564, 193], [533, 194], [503, 202], [462, 225], [439, 248], [427, 265], [412, 301], [407, 328], [407, 356], [412, 383], [422, 408], [434, 427], [473, 464], [516, 483], [542, 486], [543, 518], [505, 513], [456, 491], [410, 448], [395, 425], [382, 394], [375, 356], [375, 328], [385, 279], [400, 248], [415, 227], [441, 201], [463, 186], [498, 170], [544, 161], [587, 164], [613, 171], [643, 185], [666, 200], [690, 224], [706, 246], [721, 275], [732, 328], [732, 357], [725, 395], [700, 445], [669, 477], [690, 501], [760, 521], [827, 563], [812, 484], [767, 494], [722, 460], [733, 441], [771, 461], [803, 454], [806, 449], [800, 422], [772, 428], [745, 414], [753, 391], [778, 394], [793, 392], [794, 388], [787, 356], [772, 361], [759, 356], [759, 329], [781, 324], [775, 293], [754, 296], [746, 269], [748, 265], [765, 258], [750, 229], [730, 236], [712, 210], [729, 198], [705, 172], [690, 187], [667, 169], [676, 151], [646, 134], [636, 153], [608, 143], [613, 124], [609, 121], [581, 117], [575, 134], [565, 135], [545, 134], [540, 116], [510, 119], [511, 140], [484, 147], [474, 129], [445, 142], [454, 161], [427, 179], [418, 163], [413, 163], [389, 186], [404, 201], [385, 223], [369, 212], [358, 227], [351, 242], [369, 252], [357, 281], [337, 276], [329, 306], [330, 310], [350, 315], [348, 343], [335, 344], [323, 341], [316, 372], [317, 376], [326, 377], [351, 374], [357, 402], [335, 411], [310, 407], [304, 437], [336, 444], [368, 429], [382, 454], [359, 468], [337, 489], [356, 509], [378, 496], [399, 474], [422, 497], [396, 523], [368, 534], [374, 562], [409, 554], [441, 513], [486, 534], [424, 585], [332, 649], [267, 978], [254, 1001], [236, 1018], [217, 1028], [177, 1034], [165, 1041], [156, 1054], [96, 1359], [88, 1417], [88, 1497], [96, 1554], [305, 2622], [317, 2665], [336, 2703], [361, 2738], [390, 2767], [430, 2794], [466, 2811], [515, 2823], [592, 2823], [640, 2812], [677, 2794], [717, 2767], [752, 2730], [772, 2702], [790, 2666], [803, 2619], [858, 2335], [0, 0], [433, 2442], [463, 2419], [492, 2405], [533, 2396], [544, 2397], [544, 2426], [542, 2428], [533, 2428], [506, 2434], [480, 2446], [462, 2459], [439, 2481], [429, 2495], [416, 2521], [410, 2542], [407, 2562], [407, 2590], [412, 2617], [422, 2641], [434, 2660], [459, 2686], [471, 2696], [495, 2709], [516, 2716], [543, 2721], [565, 2721], [592, 2716], [613, 2709], [637, 2696], [649, 2686], [673, 2661], [684, 2642], [695, 2618], [700, 2591], [700, 2562], [697, 2541], [691, 2520], [679, 2496], [668, 2481], [645, 2458], [626, 2445], [602, 2434], [575, 2428], [567, 2428], [565, 2426], [565, 2397], [566, 2396], [582, 2397], [613, 2404], [643, 2418], [662, 2431], [692, 2460], [706, 2479], [721, 2509], [728, 2534], [732, 2562], [732, 2591], [725, 2629], [711, 2659], [700, 2678], [670, 2710], [654, 2723], [624, 2739], [603, 2746], [565, 2753], [536, 2752], [509, 2747], [484, 2739], [450, 2720], [438, 2710], [410, 2681], [390, 2648], [382, 2628], [376, 2597], [375, 2562], [379, 2535], [386, 2510], [404, 2475], [415, 2460], [432, 2443], [416, 2416], [347, 2392], [281, 2350], [279, 2351], [296, 2434], [340, 2423], [387, 2453], [374, 2475], [336, 2455], [305, 2459], [301, 2461], [307, 2491], [334, 2487], [361, 2501], [354, 2526], [333, 2520], [316, 2525], [314, 2527], [320, 2557], [334, 2552], [345, 2553], [349, 2555], [348, 2583], [337, 2584], [328, 2587], [326, 2589], [332, 2618], [344, 2616], [351, 2613], [353, 2614], [355, 2629], [360, 2643], [351, 2648], [342, 2650], [341, 2653], [354, 2680], [356, 2681], [373, 2673], [389, 2697], [382, 2704], [373, 2709], [383, 2723], [396, 2736], [411, 2720], [435, 2742], [429, 2749], [425, 2758], [445, 2772], [452, 2775], [462, 2757], [475, 2764], [490, 2768], [491, 2770], [486, 2780], [484, 2787], [485, 2789], [508, 2795], [518, 2796], [520, 2777], [524, 2776], [543, 2780], [553, 2780], [554, 2782], [551, 2788], [551, 2797], [554, 2799], [579, 2797], [583, 2795], [582, 2782], [583, 2776], [611, 2771], [615, 2779], [615, 2785], [617, 2790], [631, 2787], [650, 2777], [641, 2761], [642, 2759], [668, 2745], [672, 2752], [680, 2760], [702, 2745], [706, 2741], [691, 2726], [714, 2702], [722, 2710], [730, 2714], [747, 2691], [743, 2686], [730, 2678], [745, 2649], [763, 2658], [765, 2657], [773, 2626], [770, 2624], [761, 2623], [754, 2619], [758, 2592], [769, 2591], [780, 2595], [786, 2565], [784, 2563], [772, 2559], [760, 2562], [758, 2561], [754, 2530], [759, 2528], [774, 2527], [792, 2533], [799, 2499], [795, 2497], [771, 2494], [746, 2500], [736, 2480], [771, 2462], [805, 2467], [810, 2442], [808, 2440], [768, 2430], [725, 2460], [714, 2445], [690, 2421], [0, 0], [465, 2238], [429, 2200], [415, 2172], [407, 2136], [406, 1779], [372, 1767], [345, 1740], [199, 1485], [194, 1458], [199, 1429], [351, 1166], [371, 1148], [387, 1140], [414, 1135], [693, 1135], [720, 1140], [744, 1154], [762, 1174], [910, 1434], [909, 1437], [875, 1434], [735, 1191], [719, 1175], [693, 1167], [414, 1167], [388, 1175], [372, 1191], [229, 1440], [227, 1465], [236, 1488], [372, 1723], [389, 1740], [415, 1748], [692, 1748], [718, 1740], [735, 1723], [874, 1481], [837, 1482], [708, 1706], [697, 1715], [415, 1716], [406, 1713], [258, 1458], [271, 1429], [405, 1202], [414, 1199], [693, 1199], [702, 1202], [840, 1436], [839, 1457], [893, 1458], [909, 1479], [901, 1500], [762, 1740], [735, 1767], [719, 1775], [692, 1780], [438, 1781], [438, 2029], [473, 1999], [510, 1982], [545, 1976], [593, 1982], [630, 1999], [661, 2026], [688, 2071], [694, 2101], [664, 2101], [658, 2082], [637, 2047], [613, 2026], [578, 2011], [545, 2008], [521, 2012], [490, 2026], [466, 2047], [456, 2060], [441, 2095], [438, 2128], [442, 2152], [466, 2196], [490, 2217], [512, 2228], [555, 2236], [582, 2231], [613, 2217], [647, 2183], [662, 2148], [661, 2144], [630, 2144], [620, 2166], [605, 2183], [571, 2201], [542, 2203], [507, 2190], [490, 2175], [475, 2150], [470, 2115], [475, 2093], [486, 2073], [503, 2056], [523, 2045], [558, 2040], [596, 2053], [620, 2077], [630, 2099], [631, 2122], [678, 2122], [695, 2145], [688, 2172], [661, 2217], [630, 2244], [602, 2258], [555, 2268], [501, 2258], [466, 2238], [440, 2403], [689, 2420], [688, 2416], [764, 2391], [859, 2333], [1010, 1561], [1019, 1463], [1051, 1463], [1043, 1558], [841, 2591], [820, 2677], [799, 2719], [774, 2754], [736, 2793], [694, 2821], [651, 2842], [602, 2854], [541, 2857], [505, 2854], [455, 2841], [413, 2821], [370, 2792], [336, 2758], [309, 2720], [287, 2676], [275, 2634], [125, 1864], [0, 0], [236, 1043], [242, 1040], [273, 1040], [274, 1118], [281, 1125], [287, 1126], [309, 1116], [309, 1013], [296, 1012], [296, 994], [302, 979], [309, 979], [309, 893], [311, 890], [324, 888], [345, 872], [364, 867], [372, 869], [375, 872], [375, 861], [316, 860], [322, 832], [375, 832], [375, 803], [327, 802], [334, 774], [375, 774], [375, 745], [339, 744], [345, 716], [375, 716], [375, 681], [352, 680], [356, 656], [377, 639], [409, 639], [410, 1074], [445, 1074], [445, 589], [505, 543], [537, 543], [546, 545], [546, 1074], [581, 1074], [581, 543], [603, 538], [645, 519], [678, 519], [682, 522], [682, 1074], [717, 1075], [717, 552], [750, 551], [816, 580], [818, 582], [818, 603], [829, 604], [834, 632], [818, 633], [818, 663], [841, 664], [846, 692], [818, 693], [818, 723], [851, 723], [853, 725], [858, 752], [818, 753], [818, 783], [863, 783], [866, 792], [865, 810], [844, 812], [833, 818], [818, 818], [818, 1124], [823, 1129], [852, 1124], [854, 1097], [868, 1097], [877, 1090], [893, 1086], [896, 1087], [896, 1074], [888, 1033], [853, 1032], [853, 1000], [881, 999], [874, 965], [853, 964], [853, 932], [868, 931], [861, 897], [853, 896], [854, 845], [885, 845], [887, 849], [933, 1084], [933, 1127], [901, 1127], [893, 1121], [886, 1128], [885, 1157], [826, 1185], [799, 1185], [0, 0], [930, 1777], [936, 1781], [936, 1808], [925, 1811], [916, 1867], [926, 1868], [920, 1899], [909, 1902], [904, 1933], [913, 1935], [907, 1965], [896, 1966], [864, 1989], [852, 1991], [841, 1986], [841, 1999], [900, 2001], [893, 2032], [841, 2032], [841, 2065], [886, 2065], [880, 2098], [841, 2098], [841, 2131], [873, 2131], [867, 2164], [841, 2164], [841, 2197], [860, 2197], [855, 2229], [841, 2230], [840, 2263], [847, 2263], [838, 2312], [806, 2311], [806, 1822], [799, 1815], [771, 1824], [771, 2355], [725, 2377], [691, 2377], [688, 2343], [718, 2342], [735, 2334], [736, 2305], [687, 2305], [685, 2274], [736, 2273], [736, 2241], [684, 2241], [683, 2223], [693, 2210], [736, 2210], [736, 2182], [708, 2181], [718, 2153], [736, 2152], [736, 2120], [722, 2119], [719, 2088], [736, 2088], [736, 2058], [706, 2058], [690, 2031], [736, 2030], [736, 2005], [670, 2003], [670, 1842], [635, 1843], [635, 1961], [602, 1962], [581, 1955], [534, 1948], [534, 1842], [501, 1841], [499, 1962], [466, 1962], [467, 1808], [566, 1808], [567, 1915], [593, 1918], [602, 1916], [602, 1809], [702, 1808], [703, 1974], [729, 1986], [738, 1977], [738, 1791], [774, 1760], [794, 1729], [828, 1729], [839, 1735], [839, 1751], [850, 1752], [849, 1777], [839, 1778], [839, 1805], [850, 1806], [855, 1831], [839, 1832], [839, 1859], [853, 1860], [848, 1887], [839, 1890], [839, 1943], [854, 1956], [872, 1942], [893, 1834], [894, 1811], [884, 1804], [884, 1772], [917, 1771], [929, 1777], [940, 1756], [899, 1692], [815, 1700], [868, 1610], [920, 1638], [966, 1648], [971, 1613], [930, 1606], [887, 1576], [901, 1553], [941, 1575], [979, 1581], [983, 1548], [952, 1543], [917, 1524], [932, 1497], [960, 1511], [989, 1514], [991, 1478], [964, 1478], [941, 1472], [939, 1465], [943, 1449], [992, 1443], [990, 1407], [965, 1410], [934, 1421], [923, 1400], [954, 1378], [985, 1372], [980, 1339], [943, 1346], [905, 1368], [890, 1343], [932, 1314], [972, 1307], [968, 1278], [920, 1283], [872, 1311], [857, 1286], [909, 1252], [960, 1240], [944, 1155], [940, 1154], [898, 1220], [820, 1213], [798, 1185], [791, 1183], [785, 1172], [783, 613], [755, 609], [750, 614], [749, 1116], [717, 1116], [677, 1108], [649, 1107], [649, 575], [642, 572], [614, 577], [614, 1107], [513, 1107], [513, 619], [503, 613], [478, 622], [478, 1107], [377, 1110], [377, 915], [363, 902], [344, 917], [342, 926], [342, 1149], [318, 1182], [281, 1184], [242, 1165], [241, 1117], [229, 1105], [214, 1113], [206, 1128], [174, 1128], [0, 0], [289, 1732], [316, 1732], [325, 1747], [342, 1767], [342, 1798], [362, 1799], [373, 1805], [373, 1831], [342, 1832], [342, 1862], [373, 1863], [373, 1895], [342, 1896], [342, 1926], [373, 1927], [373, 1959], [342, 1960], [342, 1990], [373, 1991], [373, 2023], [342, 2024], [342, 2054], [373, 2055], [373, 2087], [343, 2087], [342, 2118], [372, 2119], [376, 2151], [343, 2151], [342, 2182], [378, 2183], [368, 2185], [360, 2191], [352, 2201], [350, 2215], [342, 2216], [342, 2246], [350, 2247], [351, 2279], [342, 2280], [342, 2309], [351, 2314], [380, 2319], [385, 2314], [387, 2255], [383, 2249], [384, 2216], [416, 2216], [423, 2225], [423, 2259], [416, 2377], [383, 2377], [310, 2343], [308, 2319], [287, 2319], [279, 2315], [269, 2262], [309, 2261], [308, 2228], [262, 2228], [261, 2202], [273, 2202], [289, 2198], [294, 2194], [309, 2193], [309, 1800], [288, 1791], [281, 1792], [274, 1799], [274, 2166], [241, 2166], [231, 2116], [239, 2114], [239, 2076], [223, 2075], [217, 2044], [239, 2043], [239, 2014], [211, 2013], [205, 1983], [238, 1982], [239, 1952], [199, 1951], [193, 1920], [238, 1920], [239, 1890], [187, 1889], [181, 1858], [238, 1858], [239, 1843], [228, 1846], [209, 1841], [190, 1827], [175, 1827], [174, 1789], [206, 1788], [208, 1797], [228, 1811], [241, 1798], [241, 1754], [284, 1732], [288, 1732], [289, 1704], [210, 1698], [168, 1764], [165, 1765], [149, 1683], [152, 1681], [201, 1673], [257, 1640], [242, 1615], [191, 1643], [143, 1652], [137, 1625], [138, 1621], [180, 1613], [224, 1583], [209, 1558], [169, 1583], [131, 1590], [125, 1564], [126, 1560], [158, 1553], [195, 1533], [180, 1506], [148, 1523], [120, 1527], [116, 1499], [119, 1497], [169, 1487], [172, 1483], [167, 1458], [145, 1461], [116, 1461], [115, 1431], [144, 1430], [170, 1437], [177, 1415], [148, 1399], [120, 1394], [119, 1388], [122, 1366], [127, 1365], [156, 1369], [191, 1387], [206, 1362], [166, 1339], [130, 1333], [129, 1329], [134, 1303], [138, 1302], [177, 1309], [220, 1337], [239, 1305], [189, 1279], [142, 1271], [141, 1267], [146, 1242], [150, 1241], [199, 1249], [253, 1280], [292, 1214], [291, 1212], [209, 1219], [168, 1154], [173, 1127], [173, 1096], [180, 1061], [183, 1059], [214, 1054], [235, 1044], [0, 0], [143, 988], [142, 963], [144, 941], [148, 925], [148, 919], [155, 889], [158, 868], [165, 838], [210, 603], [218, 568], [221, 547], [226, 533], [231, 525], [0, 0], [231, 524], [0, 0]]\n",
      "trocou para 1\n",
      "trocou para 0\n",
      "trocou para 2\n",
      "Deslocamento total da camada 0 = 5116.4355898028525mm\n",
      "Tempo estimado com Vel=360.0mm/min = 14.212321082785701min\n",
      "\n",
      "Total de [Cuspindo o Gcode] : 1.6107609272003174\n"
     ]
    }
   ],
   "source": [
    "import gui\n",
    "import files\n",
    "from timer import Timer\n",
    "from components import layer, path_tools\n",
    "from os import getcwd\n",
    "\n",
    "if not('folders' in globals()):\n",
    "    home = getcwd()\n",
    "    folders = files.System_Paths(home)\n",
    "    gui.find_saved_file(folders)\n",
    "[vel_int, vel_ext, vel_thin_wall, vel_vazio, p_religamento, p_desligamento, p_entre_int_ext, p_entre_camadas, substratoy, substratox, cortey, cortex] = gui.ask_parameters_Gcode()\n",
    "coords_substrato = [substratoy, substratox]\n",
    "coords_corte = [cortey, cortex]\n",
    "camadas = folders.load_layers_hdf5()\n",
    "\n",
    "#layer_heights = [10+2.9+3+(i*1.5) for i,x in enumerate(camadas)]\n",
    "layer_heights = [20+8+2+(i*1.5) for i,x in enumerate(camadas)]\n",
    "with Timer(\"Cuspindo o Gcode\"):\n",
    "    path_tools.layers_to_Gcode(camadas, \n",
    "                               folders, \n",
    "                               vel_int,\n",
    "                               vel_ext, \n",
    "                               vel_vazio,\n",
    "                               vel_thin_wall, \n",
    "                               p_religamento,\n",
    "                               p_desligamento,\n",
    "                               p_entre_int_ext,\n",
    "                               p_entre_camadas,\n",
    "                               layer_heights,\n",
    "                               coords_substrato,\n",
    "                               coords_corte,\n",
    "                               )\n",
    "%reset_selective -f \"camadas\""
   ]
  },
  {
   "cell_type": "code",
   "execution_count": 11,
   "metadata": {},
   "outputs": [],
   "source": [
    "# import numpy as np\n",
    "# camadas = folders.load_layers_hdf5()\n",
    "# for c in camadas:\n",
    "#     folders.load_islands_hdf5(c)\n",
    "#     for isl in c.islands:\n",
    "#         folders.load_island_paths_hdf5(c.name, isl)\n",
    "#         internal_trees = [list(x) for x in isl.internal_tree_route.sequence]\n",
    "#         print(internal_trees)\n",
    "# print([235,807] in internal_trees)"
   ]
  },
  {
   "cell_type": "code",
   "execution_count": 12,
   "metadata": {},
   "outputs": [],
   "source": [
    "# import matplotlib.pyplot as plt\n",
    "# from mpl_toolkits.mplot3d import Axes3D\n",
    "# import numpy as np\n",
    "\n",
    "# # Lista de imagens binárias (exemplo com arrays numpy)\n",
    "# imagens = [\n",
    "#     img_mapping,\n",
    "#     img_mapping,\n",
    "#     img_mapping\n",
    "# ]\n",
    "\n",
    "# # Lista de alturas no eixo z\n",
    "# alturas = [0, 10, 20]\n",
    "\n",
    "# fig = plt.figure()\n",
    "# ax = fig.add_subplot(111, projection='3d')\n",
    "\n",
    "# for img, z in zip(imagens, alturas):\n",
    "#     x = np.linspace(0, img.shape[1], img.shape[1])\n",
    "#     y = np.linspace(0, img.shape[0], img.shape[0])\n",
    "#     x, y = np.meshgrid(x, y)\n",
    "#     z = np.full_like(x, z)\n",
    "#     ax.plot_surface(x, y, z, rstride=1, cstride=1, facecolors=plt.cm.gray(img), shade=False)\n",
    "\n",
    "# ax.set_xlabel('X')\n",
    "# ax.set_ylabel('Y')\n",
    "# ax.set_zlabel('Z')\n",
    "# plt.show()\n"
   ]
  },
  {
   "cell_type": "code",
   "execution_count": 13,
   "metadata": {},
   "outputs": [],
   "source": [
    "# import gui\n",
    "# import files\n",
    "# from timer import Timer\n",
    "# from components import layer, path_tools\n",
    "# from os import getcwd\n",
    "\n",
    "# if not('folders' in globals()):\n",
    "#     home = getcwd()\n",
    "#     folders = files.System_Paths(home)\n",
    "#     gui.find_saved_file(folders)\n",
    "# camadas = folders.load_layers_hdf5()\n",
    "\n",
    "# file_name = gui.find_saved_file(folders)\n",
    "# path_tools.layers_to_Gcode_FFF(camadas, folders, file_name)"
   ]
  },
  {
   "cell_type": "code",
   "execution_count": 14,
   "metadata": {},
   "outputs": [],
   "source": [
    "# class TrafficLightState:\n",
    "#     \"\"\"Base class for traffic light states.\"\"\"\n",
    "#     def change(self, traffic_light):\n",
    "#         raise NotImplementedError(\"This method should be overridden by subclasses\")\n",
    "\n",
    "\n",
    "# class RedState(TrafficLightState):\n",
    "#     \"\"\"State representing the red light.\"\"\"\n",
    "#     def change(self, traffic_light):\n",
    "#         print(\"Changing from Red to Green\")\n",
    "#         traffic_light.state = GreenState()\n",
    "\n",
    "\n",
    "# class YellowState(TrafficLightState):\n",
    "#     \"\"\"State representing the yellow light.\"\"\"\n",
    "#     def change(self, traffic_light):\n",
    "#         print(\"Changing from Yellow to Red\")\n",
    "#         traffic_light.state = RedState()\n",
    "\n",
    "\n",
    "# class GreenState(TrafficLightState):\n",
    "#     \"\"\"State representing the green light.\"\"\"\n",
    "#     def change(self, traffic_light):\n",
    "#         print(\"Changing from Green to Yellow\")\n",
    "#         traffic_light.state = YellowState()\n",
    "\n",
    "\n",
    "# class TrafficLight:\n",
    "#     \"\"\"Traffic light class that uses a state machine.\"\"\"\n",
    "#     def __init__(self):\n",
    "#         self.state = RedState()  # Initial state\n",
    "\n",
    "#     def change(self):\n",
    "#         \"\"\"Change the state of the traffic light.\"\"\"\n",
    "#         self.state.change(self)\n",
    "\n",
    "#     def __str__(self):\n",
    "#         return f\"Current state: {self.state.__class__.__name__}\"\n",
    "\n",
    "\n",
    "# # Example usage\n",
    "# if __name__ == \"__main__\":\n",
    "#     traffic_light = TrafficLight()\n",
    "    \n",
    "#     # Simulate the traffic light changing states\n",
    "#     for _ in range(6):  # Change state 6 times\n",
    "#         print(traffic_light)\n",
    "#         traffic_light.change()"
   ]
  },
  {
   "cell_type": "code",
   "execution_count": 15,
   "metadata": {},
   "outputs": [],
   "source": [
    "# import numpy as np\n",
    "# import cv2  # Assuming you are using OpenCV for image processing\n",
    "\n",
    "# def bobobo(image1, image2):\n",
    "#     \"\"\"A placeholder function that performs some operation on two images.\"\"\"\n",
    "#     # For demonstration, let's just return the absolute difference between the two images\n",
    "#     return cv2.absdiff(image1, image2)\n",
    "\n",
    "# def process_images(image_list):\n",
    "#     \"\"\"Process a list of images, comparing the last two with the current image.\"\"\"\n",
    "#     for i in range(len(image_list)):\n",
    "#         current_image = image_list[i]\n",
    "        \n",
    "#         # Check if there are at least two previous images to compare\n",
    "#         if i >= 2:\n",
    "#             last_image = image_list[i - 1]\n",
    "#             second_last_image = image_list[i - 2]\n",
    "            \n",
    "#             # Apply the bobobo function to the current image and the last two images\n",
    "#             result_last = bobobo(current_image, last_image)\n",
    "#             result_second_last = bobobo(current_image, second_last_image)\n",
    "            \n",
    "#             # Here you can do something with the results, like saving or displaying them\n",
    "#             # For demonstration, we'll just print the shapes of the results\n",
    "#             print(f\"Comparing image {i} with last image {i-1}: result shape = {result_last.shape}\")\n",
    "#             print(f\"Comparing image {i} with second last image {i-2}: result shape = {result_second_last.shape}\")\n",
    "\n",
    "# # Example usage\n",
    "# if __name__ == \"__main__\":\n",
    "#     # Create a list of dummy images (for demonstration purposes)\n",
    "#     # In practice, you would load your images using cv2.imread or similar\n",
    "#     image_list = [np.random.randint(0, 256, (100, 100, 3), dtype=np.uint8) for _ in range(5)]\n",
    "    \n",
    "#     process_images(image_list)"
   ]
  }
 ],
 "metadata": {
  "kernelspec": {
   "display_name": "base",
   "language": "python",
   "name": "python3"
  },
  "language_info": {
   "codemirror_mode": {
    "name": "ipython",
    "version": 3
   },
   "file_extension": ".py",
   "mimetype": "text/x-python",
   "name": "python",
   "nbconvert_exporter": "python",
   "pygments_lexer": "ipython3",
   "version": "3.11.4"
  }
 },
 "nbformat": 4,
 "nbformat_minor": 2
}
