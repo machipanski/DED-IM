{
 "cells": [
  {
   "cell_type": "markdown",
   "metadata": {},
   "source": [
    "Importa o modelo a ser fatiado e mapeado"
   ]
  },
  {
   "cell_type": "code",
   "execution_count": 1,
   "metadata": {
    "notebookRunGroups": {
     "groupValue": "1"
    }
   },
   "outputs": [
    {
     "name": "stdout",
     "output_type": "stream",
     "text": [
      "Fase 0: \n",
      "criando as camadas\n",
      "Total de [criando as camadas] : 0.15155768394470215\n",
      "salvando as camadas\n",
      "Total de [salvando as camadas] : 0.06404328346252441\n",
      "Total de [Fase 0: ] : 0.2160346508026123\n"
     ]
    }
   ],
   "source": [
    "import matplotlib.pyplot as plt\n",
    "import gui\n",
    "import files\n",
    "from timer import Timer\n",
    "from components.layer import Layer\n",
    "from os import getcwd\n",
    "\n",
    "if not('folders' in globals()):\n",
    "    home = getcwd()\n",
    "    folders = files.System_Paths(home)\n",
    "choice = gui.ask_load_or_begin()\n",
    "if choice == \"Novo Projeto\":\n",
    "    path_input, file_name = gui.load_model(folders)\n",
    "    [dpi, layer_height] = gui.ask_parameters_input()\n",
    "    with Timer(\"Fase 0: \"):\n",
    "        Layer.create_layers(folders, path_input, file_name, dpi, layer_height)\n",
    "elif choice == \"Carregar Salvo\":\n",
    "    gui.find_saved_file(folders)\n",
    "elif choice == \"Cancelar\":\n",
    "    quit\n",
    "\n",
    "#TODO: encontrar uma forma de jogar layerHight para o slicing W/images (POSSIVELMENTE COM O RUNSINGLEMODEL)"
   ]
  },
  {
   "cell_type": "markdown",
   "metadata": {},
   "source": [
    "Paredes Finas"
   ]
  },
  {
   "cell_type": "code",
   "execution_count": 2,
   "metadata": {},
   "outputs": [
    {
     "name": "stdout",
     "output_type": "stream",
     "text": [
      "Fase 1: Camada: 0\n",
      "Criando paredes finas\n",
      "OK: fechou contorno\n",
      "Total de [Criando paredes finas] : 4.978651523590088\n",
      "Retirando Paredes finas da camada\n",
      "Total de [Retirando Paredes finas da camada] : 0.0171205997467041\n",
      "salvando imagens das regiões\n",
      "Total de [salvando imagens das regiões] : 0.2241215705871582\n",
      "Total de [Fase 1: Camada: 0] : 5.235347270965576\n"
     ]
    }
   ],
   "source": [
    "import gui\n",
    "import files\n",
    "from timer import Timer\n",
    "from os import getcwd\n",
    "\n",
    "if not('folders' in globals()):\n",
    "    home = getcwd()\n",
    "    folders = files.System_Paths(home)\n",
    "    gui.find_saved_file(folders)\n",
    "#[nozzle_diam_internal,nozzle_diam_external] = gui.ask_parameters_thin_walls()\n",
    "[d_ext, sob_ext_per] = gui.ask_parameters_thin_walls()\n",
    "camadas = folders.load_layers_hdf5()\n",
    "for i,c in enumerate(camadas):\n",
    "    with Timer(\"Fase 1: Camada: \" + str(i)):\n",
    "        folders.load_islands_hdf5(c)\n",
    "        #c.make_thin_walls(folders, nozzle_diam_external, nozzle_diam_internal)\n",
    "        c.make_thin_walls(folders, d_ext, sob_ext_per)\n",
    "        %reset_selective -f \"c\"\n",
    "%reset_selective -f \"camadas\"\n",
    "# TODO: arvore de paredes finas\n",
    "# TODO: quando duas áreas se encontram\n",
    "# TODO: limite de parede diam minimo\n",
    "# TODO arrumar para origens extremamente pequenas, ignorar da problema\n",
    "# TODO arrumar casos onde a beirada esta vazndo criando areas triangulares distantes\n",
    "# FIXME: Precisa mesmo separar linha 1 2 topo e baixo? muitos elementos estão sendo criados"
   ]
  },
  {
   "cell_type": "markdown",
   "metadata": {},
   "source": [
    "Contornos"
   ]
  },
  {
   "cell_type": "code",
   "execution_count": 3,
   "metadata": {},
   "outputs": [
    {
     "name": "stdout",
     "output_type": "stream",
     "text": [
      "Fase 2: Camada: 0\n",
      "Criando Lvls\n",
      "Ilha: I_000 Número de Níveis: 10\n",
      "Total de [Criando Lvls] : 2.5418341159820557\n",
      "Criando os loops\n",
      "Total de [Criando os loops] : 1.5307798385620117\n",
      "Criando regiões de influência\n",
      "Total de [Criando regiões de influência] : 0.35369396209716797\n",
      "Criando as regiões de Offset\n",
      "Total de [Criando as regiões de Offset] : 2.145862102508545\n",
      "Retirando regiões da camada\n",
      "['Lvl_000', 0, 0] Perdendo total:202 maior void:0.050188205771643665Bw -> aceito\n",
      "['Lvl_001', 0, 0] Perdendo total:206 maior void:0.17565872020075282Bw -> aceito\n",
      "['Lvl_002', 0, 0] Perdendo total:80826 maior void:56.14930991217064Bw -> bloqueado\n",
      "['Lvl_000', 1, 0] Perdendo total:0 maior void:0Bw -> aceito\n",
      "['Lvl_001', 1, 0] Perdendo total:0 maior void:0Bw -> aceito\n",
      "['Lvl_002', 1, 0] Perdendo total:0 maior void:0Bw -> aceito\n",
      "['Lvl_000', 1, 1] Perdendo total:0 maior void:0Bw -> aceito\n",
      "['Lvl_001', 1, 1] Perdendo total:0 maior void:0Bw -> aceito\n",
      "['Lvl_000', 1, 2] Perdendo total:0 maior void:0Bw -> aceito\n",
      "['Lvl_001', 1, 2] Perdendo total:0 maior void:0Bw -> aceito\n",
      "['Lvl_000', 1, 3] Perdendo total:0 maior void:0Bw -> aceito\n",
      "['Lvl_001', 1, 3] Perdendo total:0 maior void:0Bw -> aceito\n",
      "['Lvl_002', 1, 1] Perdendo total:0 maior void:0Bw -> aceito\n",
      "['Lvl_003', 0, 1] Perdendo total:20341 maior void:10.515683814303639Bw -> bloqueado\n",
      "['Lvl_004', 0, 1] Perdendo total:26714 maior void:20.26348808030113Bw -> bloqueado\n",
      "['Lvl_005', 0, 1] Perdendo total:4884 maior void:3.277289836888331Bw -> bloqueado\n",
      "['Lvl_006', 0, 0] Perdendo total:2885 maior void:1.5407779171894604Bw -> bloqueado\n",
      "['Lvl_007', 0, 0] Perdendo total:2348 maior void:1.06900878293601Bw -> bloqueado\n",
      "['Lvl_008', 0, 0] Perdendo total:1966 maior void:0.8531994981179423Bw -> aceito\n",
      "['Lvl_009', 0, 0] Perdendo total:1739 maior void:0.8143036386449184Bw -> aceito\n",
      "['Lvl_003', 0, 0] Perdendo total:26509 maior void:10.545796737766624Bw -> bloqueado\n",
      "['Lvl_004', 0, 0] Perdendo total:15740 maior void:11.593475533249686Bw -> bloqueado\n",
      "['Lvl_004', 0, 2] Perdendo total:16285 maior void:12.824341279799247Bw -> bloqueado\n",
      "['Lvl_004', 0, 3] Perdendo total:18163 maior void:10.7465495608532Bw -> bloqueado\n",
      "['Lvl_005', 0, 0] Perdendo total:18025 maior void:8.061480552070263Bw -> bloqueado\n",
      "['Lvl_005', 0, 2] Perdendo total:17340 maior void:7.412797992471769Bw -> bloqueado\n",
      "Total de [Retirando regiões da camada] : 1.469226598739624\n",
      "Reunindo todos os loops em uma unica imagem\n",
      "Total de [Reunindo todos os loops em uma unica imagem] : 0.038204193115234375\n",
      "salvando imagens das regiões\n",
      "deletado: /L_000/I_000/offsets\n",
      "Total de [salvando imagens das regiões] : 0.35167384147644043\n",
      "Total de [Fase 2: Camada: 0] : 8.456282377243042\n"
     ]
    }
   ],
   "source": [
    "import gui\n",
    "import files\n",
    "from timer import Timer\n",
    "from components import layer\n",
    "from os import getcwd\n",
    "\n",
    "if not('folders' in globals()):\n",
    "    home = getcwd()\n",
    "    folders = files.System_Paths(home)\n",
    "    gui.find_saved_file(folders)\n",
    "[void_max,external_max,internal_max] = gui.ask_parameters_offsets()\n",
    "camadas = folders.load_layers_hdf5()\n",
    "for i,c in enumerate(camadas):\n",
    "    with Timer(\"Fase 2: Camada: \" + str(i)):\n",
    "        folders.load_islands_hdf5(c)\n",
    "        c.make_offsets(folders, void_max, external_max, internal_max)\n",
    "        folders.save_props_hdf5(f\"/{c.name}\",c.__dict__)\n",
    "        %reset_selective -f \"c\"\n",
    "%reset_selective -f \"camadas\""
   ]
  },
  {
   "cell_type": "markdown",
   "metadata": {},
   "source": [
    "Pontes"
   ]
  },
  {
   "cell_type": "code",
   "execution_count": 1,
   "metadata": {},
   "outputs": [
    {
     "name": "stdout",
     "output_type": "stream",
     "text": [
      "Fase 3: Camada: 0\n",
      "Criando pontes de Offset\n",
      "Total de [Criando pontes de Offset] : 10.451041460037231\n",
      "Criando pontes de Zigzag\n",
      "Fechou uma ponte OK\n",
      "Fechou uma ponte OK\n",
      "Fechou uma ponte OK\n",
      "Fechou uma ponte OK\n",
      "Fechou uma ponte OK\n",
      "Total de [Criando pontes de Zigzag] : 11.932680606842041\n",
      "Criando pontes de Crossover\n",
      "Elemento: ('Reg_001', 'Reg_002') Maior prioridade: 0\n",
      "Elemento: ('Reg_000', 'Reg_002') Maior prioridade: 1\n",
      "Elemento: ('Reg_000', 'Reg_003') Maior prioridade: 2\n",
      "Total de [Criando pontes de Crossover] : 0.06768369674682617\n",
      "Retirando pontes da Camada\n",
      "Total de [Retirando pontes da Camada] : 0.02812480926513672\n",
      "Gerando áreas proibidas\n",
      "Total de [Gerando áreas proibidas] : 0.004416227340698242\n",
      "salvando imagens das regiões\n",
      "Total de [salvando imagens das regiões] : 0.5371909141540527\n",
      "Total de [Fase 3: Camada: 0] : 23.0833101272583\n"
     ]
    }
   ],
   "source": [
    "import gui\n",
    "import files\n",
    "from timer import Timer\n",
    "from components import layer\n",
    "from os import getcwd\n",
    "import numpy as np\n",
    "from components import images_tools as it\n",
    "\n",
    "if not('folders' in globals()):\n",
    "    home = getcwd()\n",
    "    folders = files.System_Paths(home)\n",
    "    gui.find_saved_file(folders)\n",
    "[n_max, d_int, sob_int_per] = gui.ask_parameters_bridges()\n",
    "camadas = folders.load_layers_hdf5()\n",
    "last_prohibited_areas = np.zeros(camadas[0].base_frame)\n",
    "for i,c in enumerate(camadas):\n",
    "    with Timer(\"Fase 3: Camada: \" + str(i)):\n",
    "        if i%2 == 1:\n",
    "            last_image = it.rotate_img_cw(last_prohibited_areas )\n",
    "        elif i%2 == 0:\n",
    "            last_image = it.rotate_img_ccw(last_prohibited_areas )\n",
    "        if i >= 2:\n",
    "            if i%2 == 1:\n",
    "                second_last_image = it.rotate_img_cw(camadas[i - 1].prohibited_areas)\n",
    "            elif i%2 == 0:\n",
    "                second_last_image = it.rotate_img_ccw(camadas[i - 1].prohibited_areas)\n",
    "        else:\n",
    "            second_last_image = np.zeros_like(last_image)\n",
    "        c.prohibited_areas = last_image\n",
    "        sum_prohibited_areas = it.sum_imgs([last_image, second_last_image])\n",
    "        last_prohibited_areas = c.make_bridges(folders, n_max, d_int, sob_int_per, len(camadas), sum_prohibited_areas)\n",
    "        folders.save_props_hdf5(f\"/{c.name}\",c.__dict__)\n",
    "        # %reset_selective -f \"c\" \n",
    "%reset_selective -f \"camadas\""
   ]
  },
  {
   "cell_type": "markdown",
   "metadata": {},
   "source": [
    "Zigzags"
   ]
  },
  {
   "cell_type": "code",
   "execution_count": 2,
   "metadata": {},
   "outputs": [
    {
     "name": "stdout",
     "output_type": "stream",
     "text": [
      "Fase 4: Camada: 0\n",
      "Encontrando areas monotonicas\n",
      "Total de [Encontrando areas monotonicas] : 10.92177963256836\n",
      "salvando imagens das regiões\n",
      "Total de [salvando imagens das regiões] : 0.04925656318664551\n",
      "Total de [Fase 4: Camada: 0] : 11.29837679862976\n"
     ]
    }
   ],
   "source": [
    "import gui\n",
    "import files\n",
    "from timer import Timer\n",
    "from components import layer\n",
    "from os import getcwd\n",
    "\n",
    "if not('folders' in globals()):\n",
    "    home = getcwd()\n",
    "    folders = files.System_Paths(home)\n",
    "    gui.find_saved_file(folders)\n",
    "camadas = folders.load_layers_hdf5() \n",
    "for i, c in enumerate(camadas):\n",
    "    with Timer(\"Fase 4: Camada: \" + str(i)):\n",
    "        c.make_zigzags(folders)\n",
    "        %reset_selective -f \"c\"\n",
    "%reset_selective -f \"camadas\"\n"
   ]
  },
  {
   "cell_type": "markdown",
   "metadata": {},
   "source": [
    "iMAGEM DO MAPEAMENTO"
   ]
  },
  {
   "cell_type": "code",
   "execution_count": 3,
   "metadata": {},
   "outputs": [
    {
     "name": "stdout",
     "output_type": "stream",
     "text": [
      "Fase 4: Camada: 0\n",
      "\n",
      "\n",
      "Total de [Fase 4: Camada: 0] : 0.9099783897399902\n"
     ]
    },
    {
     "data": {
      "image/png": "[encoded data removed]",
      "text/plain": [
       "<Figure size 640x480 with 2 Axes>"
      ]
     },
     "metadata": {},
     "output_type": "display_data"
    }
   ],
   "source": [
    "import gui\n",
    "import files\n",
    "from timer import Timer\n",
    "from components import images_tools as it\n",
    "from os import getcwd\n",
    "import matplotlib.pyplot as plt\n",
    "import matplotlib.colors\n",
    "import os\n",
    "\n",
    "if not('folders' in globals()):\n",
    "    home = getcwd()\n",
    "    folders = files.System_Paths(home)\n",
    "    gui.find_saved_file(folders)\n",
    "camadas = folders.load_layers_hdf5() \n",
    "for c in camadas:\n",
    "    folders.load_islands_hdf5(c)\n",
    "tangran_cmap = matplotlib.colors.ListedColormap([\"white\",\"darkblue\",\"aqua\",\"aquamarine\",\"blue\",\"black\",\"green\",\"indigo\",\"red\",\"orange\"])\n",
    "for i, c in enumerate(camadas):\n",
    "    with Timer(\"Fase 4: Camada: \" + str(i)):\n",
    "        plt.figure()\n",
    "        img_mapping = it.final_mapping(c, folders)\n",
    "        plt.imshow(img_mapping, cmap=tangran_cmap, vmin=0, vmax=1000)\n",
    "        plt.imsave(\"aaa.png\",img_mapping, cmap=tangran_cmap, vmin=0, vmax=1000)\n",
    "        plt.colorbar()\n",
    "        print('\\n')"
   ]
  },
  {
   "cell_type": "markdown",
   "metadata": {},
   "source": [
    "ROTAS"
   ]
  },
  {
   "cell_type": "markdown",
   "metadata": {},
   "source": [
    "Rotas de Offset"
   ]
  },
  {
   "cell_type": "code",
   "execution_count": 17,
   "metadata": {},
   "outputs": [
    {
     "name": "stdout",
     "output_type": "stream",
     "text": [
      "Making offset routes\n",
      "salvando imagens das rotas\n",
      "Total de [salvando imagens das rotas] : 0.17070889472961426\n",
      "Total de [Making offset routes] : 4.114938259124756\n"
     ]
    }
   ],
   "source": [
    "import gui\n",
    "import files\n",
    "from timer import Timer\n",
    "from os import getcwd\n",
    "\n",
    "if not('folders' in globals()):\n",
    "    home = getcwd()\n",
    "    folders = files.System_Paths(home)\n",
    "    gui.find_saved_file(folders)\n",
    "camadas = folders.load_layers_hdf5()\n",
    "\n",
    "amendment_size = 0.7 #porcentagem do tamanho da poca de deposicao de material\n",
    "for c in camadas:\n",
    "    with Timer(\"Making offset routes\"):\n",
    "        c.make_offset_routes(amendment_size, folders)\n",
    "        %reset_selective -f \"c\"\n",
    "%reset_selective -f \"camadas\""
   ]
  },
  {
   "cell_type": "markdown",
   "metadata": {},
   "source": [
    "Rotas de pontes"
   ]
  },
  {
   "cell_type": "code",
   "execution_count": 18,
   "metadata": {},
   "outputs": [
    {
     "name": "stdout",
     "output_type": "stream",
     "text": [
      "Making bridges routes\n",
      "Camada: L_000\n",
      "Making Offset bridges routes\n",
      "Total de [Making Offset bridges routes] : 0.05858564376831055\n",
      "Making Zigzag bridges routes\n",
      "sequncia corrigida, b e c trocado\n",
      "sequncia corrigida, b e c trocado\n",
      "Total de [Making Zigzag bridges routes] : 5.042899131774902\n",
      "Making Crossover bridges routes\n",
      "Total de [Making Crossover bridges routes] : 6.565812587738037\n",
      "salvando imagens das rotas\n",
      "Total de [salvando imagens das rotas] : 0.33379697799682617\n",
      "Total de [Camada: L_000] : 12.7929048538208\n",
      "Total de [Making bridges routes] : 12.799304485321045\n"
     ]
    }
   ],
   "source": [
    "import gui\n",
    "import files\n",
    "from timer import Timer\n",
    "from os import getcwd\n",
    "\n",
    "if not('folders' in globals()):\n",
    "    home = getcwd()\n",
    "    folders = files.System_Paths(home)\n",
    "    gui.find_saved_file(folders)\n",
    "camadas = folders.load_layers_hdf5()\n",
    "[sob_int_ext_per] = gui.ask_parameters_internal_routes()\n",
    "\n",
    "with Timer(f\"Making bridges routes\"):\n",
    "    for c in camadas:\n",
    "        with Timer(f\"Camada: {c.name}\"):\n",
    "            c.make_bridges_routes(folders, sob_int_ext_per)\n",
    "            %reset_selective -f \"c\"\n",
    "%reset_selective -f \"camadas\""
   ]
  },
  {
   "cell_type": "markdown",
   "metadata": {},
   "source": [
    "Rotas de Ziguezague"
   ]
  },
  {
   "cell_type": "code",
   "execution_count": 19,
   "metadata": {},
   "outputs": [
    {
     "name": "stdout",
     "output_type": "stream",
     "text": [
      "Making zigzag routes\n",
      "criando as rotas de zigzag, camada:L_000\n",
      "fazendo as tres opções:\n",
      "Total de [fazendo as tres opções:] : 9.022516250610352\n",
      "escolhendo entre elas:\n",
      "Total de [escolhendo entre elas:] : 0.11879873275756836\n",
      "fazendo as tres opções:\n",
      "Total de [fazendo as tres opções:] : 7.819029331207275\n",
      "escolhendo entre elas:\n",
      "Total de [escolhendo entre elas:] : 0.12165307998657227\n",
      "fazendo as tres opções:\n",
      "Total de [fazendo as tres opções:] : 7.273081541061401\n",
      "escolhendo entre elas:\n",
      "Total de [escolhendo entre elas:] : 0.11787009239196777\n",
      "Total de [criando as rotas de zigzag, camada:L_000] : 25.375847339630127\n",
      "salvando imagens das rotas\n",
      "deletado: /L_000/I_000/zigzags\n",
      "Total de [salvando imagens das rotas] : 0.1518235206604004\n",
      "Criando os grafos de regiões\n",
      "Total de [Criando os grafos de regiões] : 0.10507607460021973\n",
      "Conectando regiões de zigzag\n",
      "Total de [Conectando regiões de zigzag] : 0.06426191329956055\n",
      "salvando grafos\n",
      "Total de [salvando grafos] : 0.14368295669555664\n",
      "Total de [Making zigzag routes] : 26.33666491508484\n"
     ]
    }
   ],
   "source": [
    "import gui\n",
    "import files\n",
    "from timer import Timer\n",
    "from os import getcwd\n",
    "\n",
    "if not('folders' in globals()):\n",
    "    home = getcwd()\n",
    "    folders = files.System_Paths(home)\n",
    "    gui.find_saved_file(folders)\n",
    "camadas = folders.load_layers_hdf5()\n",
    "for c in camadas:\n",
    "    with Timer(\"Making zigzag routes\"):\n",
    "        c.make_zigzag_routes(folders)\n",
    "        c.connect_zigzags(folders)\n",
    "        %reset_selective -f \"c\"\n",
    "%reset_selective -f \"camadas\"\n",
    "\n"
   ]
  },
  {
   "cell_type": "markdown",
   "metadata": {},
   "source": [
    "WEAVING"
   ]
  },
  {
   "cell_type": "code",
   "execution_count": 20,
   "metadata": {},
   "outputs": [
    {
     "name": "stdout",
     "output_type": "stream",
     "text": [
      "Fase 5 b\n",
      "gerando preenchimentos oscilatórios\n",
      "Pegando as falhas internas\n",
      "Total de [Pegando as falhas internas] : 1.1946563720703125\n",
      "Achando os contatos\n",
      "Total de [Achando os contatos] : 7.773204326629639\n",
      "criando os weavings\n",
      "Total de [criando os weavings] : 5.593834161758423\n",
      "Total de [gerando preenchimentos oscilatórios] : 16.962854862213135\n",
      "salvando rotas\n",
      "deletado: /L_000/I_000/zigzags/macro_areas\n",
      "Total de [salvando rotas] : 0.14670944213867188\n",
      "Total de [Fase 5 b] : 17.110349655151367\n"
     ]
    }
   ],
   "source": [
    "import gui\n",
    "import files\n",
    "from timer import Timer\n",
    "from os import getcwd\n",
    "\n",
    "if not('folders' in globals()):\n",
    "    home = getcwd()\n",
    "    folders = files.System_Paths(home)\n",
    "    gui.find_saved_file(folders)\n",
    "camadas = folders.load_layers_hdf5()\n",
    "[iwflag] = gui.ask_parameters_weaving()\n",
    "for c in camadas:\n",
    "    with Timer(\"Fase 5 b\"):\n",
    "        c.internal_weaving(iwflag, folders)\n",
    "        %reset_selective -f \"c\"\n",
    "%reset_selective -f \"camadas\""
   ]
  },
  {
   "cell_type": "markdown",
   "metadata": {},
   "source": [
    "Rotas de Thin Walls"
   ]
  },
  {
   "cell_type": "code",
   "execution_count": 21,
   "metadata": {},
   "outputs": [
    {
     "name": "stdout",
     "output_type": "stream",
     "text": [
      "Fase 5\n",
      "Making thin walls routes\n",
      "criando rotas TW\n",
      "Total de [criando rotas TW] : 0.23746728897094727\n",
      "salvando imagens das rotas\n",
      "Total de [salvando imagens das rotas] : 0.031961679458618164\n",
      "Total de [Making thin walls routes] : 0.26970791816711426\n",
      "Total de [Fase 5] : 0.2697892189025879\n"
     ]
    }
   ],
   "source": [
    "import gui\n",
    "import files\n",
    "from timer import Timer\n",
    "from os import getcwd\n",
    "\n",
    "if not('folders' in globals()):\n",
    "    home = getcwd()\n",
    "    folders = files.System_Paths(home)\n",
    "    gui.find_saved_file(folders)\n",
    "camadas = folders.load_layers_hdf5()\n",
    "for c in camadas:\n",
    "    with Timer(\"Fase 5\"):\n",
    "        with Timer(\"Making thin walls routes\"):\n",
    "            c.make_thin_wall_routes(folders)\n",
    "            %reset_selective -f \"c\"\n",
    "%reset_selective -f \"camadas\""
   ]
  },
  {
   "cell_type": "markdown",
   "metadata": {},
   "source": [
    "Encontrando o lugar onde será o começo da trilha de cada ilha"
   ]
  },
  {
   "cell_type": "code",
   "execution_count": 22,
   "metadata": {},
   "outputs": [
    {
     "name": "stdout",
     "output_type": "stream",
     "text": [
      "Encontrando ponto de união ext-int\n",
      "salvando imagens das rotas\n",
      "Total de [salvando imagens das rotas] : 0.0015249252319335938\n",
      "Total de [Encontrando ponto de união ext-int] : 0.17192935943603516\n"
     ]
    }
   ],
   "source": [
    "import gui\n",
    "import files\n",
    "from timer import Timer\n",
    "from components import layer, path_tools\n",
    "from os import getcwd\n",
    "\n",
    "if not('folders' in globals()):\n",
    "    home = getcwd()\n",
    "    folders = files.System_Paths(home)\n",
    "    gui.find_saved_file(folders)\n",
    "camadas = folders.load_layers_hdf5()\n",
    "\n",
    "for c in camadas:\n",
    "    c.islands_path_starts(folders)\n",
    "\n",
    "%reset_selective -f \"camadas\"                        "
   ]
  },
  {
   "cell_type": "markdown",
   "metadata": {},
   "source": [
    "Unificando rotas EXTERNAS nas camadas"
   ]
  },
  {
   "cell_type": "code",
   "execution_count": 23,
   "metadata": {},
   "outputs": [
    {
     "name": "stdout",
     "output_type": "stream",
     "text": [
      "Fase 6\n",
      "Conectando rotas externas\n",
      "Conectando pontes de Offset\n",
      "Total de [Conectando pontes de Offset] : 2.64300537109375\n",
      "Conectando pontes de Crossover\n",
      "salto:  [680, 466]\n",
      "salto:  [681, 2449]\n",
      "salto:  [477, 2246]\n",
      "Total de [Conectando pontes de Crossover] : 2.3855764865875244\n",
      "Total de [Conectando rotas externas] : 6.074020862579346\n",
      "salvando imagens das rotas\n",
      "deletado: /L_000/I_000/external_tree_route\n",
      "Total de [salvando imagens das rotas] : 0.13676762580871582\n",
      "Total de [Fase 6] : 6.211063623428345\n"
     ]
    }
   ],
   "source": [
    "import gui\n",
    "import files\n",
    "from timer import Timer\n",
    "from os import getcwd\n",
    "\n",
    "if not('folders' in globals()):\n",
    "    home = getcwd()\n",
    "    folders = files.System_Paths(home)\n",
    "    gui.find_saved_file(folders)\n",
    "camadas = folders.load_layers_hdf5()\n",
    "\n",
    "for c in camadas:\n",
    "    with Timer(\"Fase 6\"):\n",
    "        c.close_routes_external(folders)\n",
    "        %reset_selective -f \"c\"\n",
    "%reset_selective -f \"camadas\"\n",
    "    "
   ]
  },
  {
   "cell_type": "markdown",
   "metadata": {},
   "source": [
    "Unificando rotas INTERNAS nas camadas"
   ]
  },
  {
   "cell_type": "code",
   "execution_count": 40,
   "metadata": {},
   "outputs": [
    {
     "name": "stdout",
     "output_type": "stream",
     "text": [
      "Fase 7\n",
      "Conectando zgzags vizinhos\n",
      "Total de [Conectando zgzags vizinhos] : 6.5291430950164795\n",
      "Conectando pontes de zigzag\n",
      "Value(False)\n",
      "salto:  [842, 1696]\n",
      "salto:  [172, 1762]\n",
      "Total de [Conectando pontes de zigzag] : 1991.5594820976257\n",
      "salvando imagens das rotas\n",
      "deletado: /L_000/I_000/internal_tree_route\n",
      "Total de [salvando imagens das rotas] : 17.984651565551758\n",
      "Total de [Fase 7] : 2021.9677584171295\n"
     ]
    }
   ],
   "source": [
    "import gui\n",
    "import files\n",
    "from timer import Timer\n",
    "from components import layer\n",
    "from os import getcwd\n",
    "\n",
    "if not('folders' in globals()):\n",
    "    home = getcwd()\n",
    "    folders = files.System_Paths(home)\n",
    "    gui.find_saved_file(folders)\n",
    "camadas = folders.load_layers_hdf5()\n",
    "\n",
    "for c in camadas:\n",
    "    with Timer(\"Fase 7\"):\n",
    "        c.close_routes_internal(folders)\n",
    "        %reset_selective -f \"c\"\n",
    "%reset_selective -f \"camadas\""
   ]
  },
  {
   "cell_type": "markdown",
   "metadata": {},
   "source": [
    "Unindo rotas de thin walls"
   ]
  },
  {
   "cell_type": "code",
   "execution_count": 41,
   "metadata": {},
   "outputs": [
    {
     "name": "stdout",
     "output_type": "stream",
     "text": [
      "Fase 8\n",
      "Convertendo paredes finas\n",
      "Total de [Convertendo paredes finas] : 1.4693760871887207\n",
      "salvando imagens das rotas\n",
      "deletado: /L_000/I_000/thinwalls_tree_route/sequence\n",
      "deletado: /L_000/I_000/thinwalls_tree_route/saltos\n",
      "Total de [salvando imagens das rotas] : 0.1198720932006836\n",
      "Total de [Fase 8] : 1.8408524990081787\n"
     ]
    }
   ],
   "source": [
    "import gui\n",
    "import files\n",
    "from timer import Timer\n",
    "from components import layer\n",
    "from os import getcwd\n",
    "\n",
    "if not('folders' in globals()):\n",
    "    home = getcwd()\n",
    "    folders = files.System_Paths(home)\n",
    "    gui.find_saved_file(folders)\n",
    "camadas = folders.load_layers_hdf5()\n",
    "\n",
    "for c in camadas:\n",
    "    with Timer(\"Fase 8\"):\n",
    "        c.close_routes_thinwalls(folders)\n",
    "        %reset_selective -f \"c\"\n",
    "%reset_selective -f \"camadas\""
   ]
  },
  {
   "cell_type": "markdown",
   "metadata": {},
   "source": [
    "Unindo todas as rotas"
   ]
  },
  {
   "cell_type": "code",
   "execution_count": 42,
   "metadata": {},
   "outputs": [
    {
     "name": "stdout",
     "output_type": "stream",
     "text": [
      "Encontrando ponto de união ext-int\n",
      "Total de [Encontrando ponto de união ext-int] : 0.06252527236938477\n",
      "Conectando todas as partes\n",
      "Total de [Conectando todas as partes] : 0.13402366638183594\n",
      "salvando imagens das rotas\n",
      "deletado: /L_000/I_000/island_route\n",
      "[[249, 415], [275, 281], [287, 239], [309, 195], [336, 157], [375, 118], [414, 92], [462, 71], [506, 59], [566, 56], [607, 60], [653, 73], [686, 88], [733, 118], [771, 156], [798, 194], [820, 238], [833, 284], [1007, 1173], [841, 324], [820, 238], [798, 194], [771, 156], [733, 118], [686, 88], [653, 73], [602, 59], [542, 56], [506, 59], [476, 67], [414, 92], [375, 118], [333, 161], [309, 195], [286, 242], [273, 289], [236, 479], [243, 493], [268, 518], [291, 526], [307, 541], [314, 557], [315, 576], [237, 967], [230, 980], [216, 993], [197, 1000], [172, 1000], [135, 1020], [128, 1030], [65, 1352], [56, 1417], [56, 1440], [88, 1440], [88, 1417], [96, 1359], [156, 1054], [165, 1041], [177, 1034], [217, 1028], [236, 1018], [257, 997], [269, 971], [347, 576], [345, 550], [334, 524], [311, 501], [284, 487], [274, 473], [272, 462], [304, 296], [316, 253], [336, 212], [355, 185], [394, 144], [440, 115], [467, 103], [505, 92], [542, 88], [599, 91], [642, 103], [680, 121], [714, 144], [746, 176], [771, 211], [790, 249], [810, 331], [980, 1201], [800, 284], [790, 249], [771, 211], [746, 176], [714, 144], [680, 121], [629, 99], [592, 90], [516, 90], [467, 103], [428, 121], [394, 144], [361, 177], [336, 212], [316, 253], [304, 296], [272, 461], [274, 473], [280, 483], [315, 504], [334, 524], [343, 542], [347, 576], [334, 642], [0, 0], [680, 466], [654, 490], [624, 505], [603, 513], [565, 519], [543, 519], [505, 513], [456, 491], [438, 476], [410, 448], [395, 425], [382, 394], [375, 356], [376, 352], [406, 352], [412, 383], [420, 404], [434, 427], [473, 464], [495, 475], [521, 484], [543, 487], [565, 487], [592, 483], [637, 463], [673, 428], [686, 405], [696, 379], [700, 357], [700, 328], [691, 286], [679, 263], [666, 245], [645, 224], [626, 212], [602, 201], [580, 195], [564, 193], [533, 194], [509, 200], [494, 206], [462, 225], [439, 248], [431, 259], [416, 287], [410, 309], [407, 330], [375, 330], [378, 307], [385, 279], [400, 248], [415, 227], [445, 198], [463, 186], [492, 172], [526, 163], [544, 161], [575, 162], [613, 171], [643, 185], [662, 197], [690, 224], [706, 246], [721, 275], [728, 301], [732, 328], [732, 357], [725, 395], [716, 416], [700, 445], [681, 465], [706, 492], [760, 512], [816, 541], [817, 536], [803, 464], [800, 463], [770, 469], [735, 449], [747, 426], [774, 439], [794, 434], [796, 432], [790, 402], [774, 408], [756, 404], [761, 375], [763, 374], [772, 377], [785, 375], [780, 347], [765, 346], [766, 335], [763, 318], [771, 316], [773, 311], [767, 287], [757, 286], [752, 265], [749, 260], [757, 255], [742, 227], [739, 231], [735, 232], [719, 209], [725, 203], [719, 194], [705, 180], [698, 187], [678, 169], [682, 162], [656, 145], [650, 153], [624, 141], [627, 134], [626, 132], [600, 125], [597, 127], [595, 133], [575, 129], [565, 129], [566, 121], [536, 122], [535, 128], [532, 130], [507, 134], [504, 128], [501, 127], [475, 135], [474, 137], [477, 144], [450, 157], [448, 153], [443, 150], [420, 166], [425, 173], [403, 194], [396, 187], [377, 210], [383, 216], [369, 239], [359, 238], [347, 263], [348, 266], [355, 267], [348, 296], [338, 295], [332, 321], [333, 325], [342, 328], [342, 355], [325, 357], [321, 381], [333, 386], [347, 385], [353, 408], [335, 417], [316, 412], [314, 413], [305, 461], [326, 472], [339, 447], [363, 435], [365, 436], [377, 457], [360, 469], [342, 486], [361, 506], [376, 495], [394, 477], [415, 498], [393, 520], [373, 530], [378, 550], [406, 547], [434, 515], [466, 533], [418, 575], [382, 598], [333, 644], [269, 971], [259, 994], [254, 1001], [233, 1020], [217, 1028], [177, 1034], [165, 1041], [156, 1054], [96, 1359], [88, 1417], [88, 1440], [0, 0], [681, 2449], [692, 2460], [692, 2461], [698, 2468], [698, 2469], [700, 2471], [700, 2472], [706, 2479], [706, 2480], [721, 2509], [722, 2516], [723, 2517], [723, 2519], [724, 2520], [724, 2523], [725, 2524], [725, 2526], [726, 2527], [726, 2529], [727, 2530], [727, 2533], [728, 2534], [728, 2538], [729, 2539], [729, 2545], [730, 2546], [730, 2553], [731, 2554], [731, 2561], [732, 2562], [732, 2591], [731, 2592], [731, 2598], [730, 2599], [730, 2603], [729, 2604], [729, 2608], [728, 2609], [728, 2614], [727, 2615], [727, 2620], [726, 2621], [726, 2625], [725, 2626], [725, 2629], [720, 2638], [720, 2640], [716, 2647], [716, 2649], [715, 2650], [711, 2659], [709, 2661], [708, 2664], [706, 2666], [706, 2667], [705, 2668], [704, 2671], [702, 2673], [700, 2678], [697, 2681], [697, 2682], [689, 2690], [689, 2691], [670, 2710], [669, 2710], [658, 2720], [657, 2720], [654, 2723], [653, 2723], [652, 2724], [645, 2727], [643, 2729], [636, 2732], [634, 2734], [633, 2734], [624, 2739], [622, 2739], [621, 2740], [619, 2740], [618, 2741], [616, 2741], [615, 2742], [613, 2742], [612, 2743], [610, 2743], [609, 2744], [607, 2744], [606, 2745], [604, 2745], [603, 2746], [600, 2746], [599, 2747], [595, 2747], [594, 2748], [589, 2748], [588, 2749], [583, 2749], [582, 2750], [578, 2750], [577, 2751], [573, 2751], [572, 2752], [566, 2752], [565, 2753], [543, 2753], [542, 2752], [536, 2752], [535, 2751], [531, 2751], [530, 2750], [525, 2750], [524, 2749], [520, 2749], [519, 2748], [514, 2748], [513, 2747], [509, 2747], [508, 2746], [505, 2746], [502, 2744], [500, 2744], [499, 2743], [497, 2743], [496, 2742], [494, 2742], [493, 2741], [491, 2741], [490, 2740], [488, 2740], [487, 2739], [484, 2739], [483, 2738], [474, 2734], [472, 2732], [465, 2729], [463, 2727], [454, 2723], [445, 2715], [444, 2715], [439, 2710], [438, 2710], [418, 2690], [418, 2689], [410, 2681], [410, 2680], [407, 2677], [406, 2674], [402, 2669], [401, 2666], [395, 2658], [395, 2657], [390, 2648], [390, 2646], [388, 2643], [388, 2641], [386, 2638], [386, 2636], [384, 2633], [384, 2631], [382, 2628], [382, 2625], [381, 2624], [381, 2620], [380, 2619], [380, 2614], [379, 2613], [379, 2609], [378, 2608], [378, 2603], [377, 2602], [377, 2598], [376, 2597], [376, 2591], [375, 2590], [375, 2586], [376, 2585], [406, 2585], [407, 2586], [407, 2590], [408, 2591], [408, 2595], [409, 2596], [409, 2601], [410, 2602], [410, 2606], [411, 2607], [411, 2612], [412, 2613], [412, 2617], [414, 2620], [414, 2622], [416, 2625], [416, 2627], [418, 2630], [418, 2632], [420, 2635], [420, 2637], [421, 2638], [422, 2641], [428, 2649], [429, 2652], [433, 2657], [434, 2660], [442, 2668], [442, 2669], [459, 2686], [460, 2686], [471, 2696], [480, 2700], [482, 2702], [489, 2705], [491, 2707], [492, 2707], [495, 2709], [498, 2709], [499, 2710], [501, 2710], [502, 2711], [504, 2711], [505, 2712], [507, 2712], [508, 2713], [513, 2714], [516, 2716], [520, 2716], [521, 2717], [526, 2717], [527, 2718], [531, 2718], [532, 2719], [537, 2719], [538, 2720], [542, 2720], [543, 2721], [565, 2721], [566, 2720], [570, 2720], [571, 2719], [575, 2719], [576, 2718], [581, 2718], [582, 2717], [587, 2717], [588, 2716], [592, 2716], [593, 2715], [595, 2715], [596, 2714], [598, 2714], [599, 2713], [601, 2713], [602, 2712], [604, 2712], [605, 2711], [607, 2711], [608, 2710], [613, 2709], [614, 2708], [617, 2707], [619, 2705], [626, 2702], [628, 2700], [637, 2696], [642, 2691], [643, 2691], [648, 2686], [649, 2686], [665, 2670], [665, 2669], [673, 2661], [673, 2660], [674, 2659], [675, 2656], [677, 2654], [679, 2649], [681, 2647], [682, 2644], [684, 2642], [684, 2641], [686, 2638], [686, 2636], [690, 2629], [690, 2627], [695, 2618], [695, 2614], [696, 2613], [696, 2608], [697, 2607], [697, 2602], [698, 2601], [698, 2597], [699, 2596], [699, 2592], [700, 2591], [700, 2562], [699, 2561], [699, 2554], [698, 2553], [698, 2546], [697, 2545], [697, 2541], [696, 2540], [696, 2538], [695, 2537], [695, 2535], [694, 2534], [694, 2531], [693, 2530], [693, 2528], [692, 2527], [691, 2520], [690, 2519], [679, 2496], [673, 2489], [673, 2488], [668, 2482], [668, 2481], [645, 2458], [644, 2458], [642, 2456], [641, 2456], [639, 2454], [638, 2454], [636, 2452], [635, 2452], [633, 2450], [632, 2450], [630, 2448], [629, 2448], [626, 2445], [625, 2445], [622, 2443], [620, 2443], [613, 2439], [611, 2439], [602, 2434], [598, 2434], [597, 2433], [594, 2433], [593, 2432], [589, 2432], [588, 2431], [585, 2431], [584, 2430], [581, 2430], [580, 2429], [576, 2429], [575, 2428], [565, 2428], [564, 2427], [544, 2427], [543, 2428], [533, 2428], [532, 2429], [528, 2429], [527, 2430], [523, 2430], [522, 2431], [519, 2431], [518, 2432], [514, 2432], [513, 2433], [510, 2433], [509, 2434], [506, 2434], [505, 2435], [503, 2435], [496, 2439], [494, 2439], [493, 2440], [480, 2446], [474, 2451], [473, 2451], [467, 2456], [466, 2456], [463, 2459], [462, 2459], [455, 2466], [454, 2466], [439, 2481], [439, 2482], [436, 2485], [436, 2486], [434, 2488], [434, 2489], [429, 2495], [429, 2496], [416, 2521], [416, 2523], [415, 2524], [415, 2527], [414, 2528], [414, 2530], [413, 2531], [413, 2534], [412, 2535], [412, 2537], [411, 2538], [411, 2541], [410, 2542], [410, 2546], [409, 2547], [409, 2553], [408, 2554], [408, 2561], [407, 2562], [407, 2563], [406, 2564], [376, 2564], [375, 2563], [375, 2562], [376, 2561], [376, 2554], [377, 2553], [377, 2547], [378, 2546], [378, 2540], [379, 2539], [379, 2535], [380, 2534], [380, 2531], [381, 2530], [381, 2527], [382, 2526], [382, 2524], [383, 2523], [383, 2520], [384, 2519], [384, 2517], [385, 2516], [385, 2513], [386, 2512], [386, 2510], [387, 2509], [387, 2508], [388, 2507], [402, 2478], [407, 2472], [407, 2471], [412, 2465], [412, 2464], [415, 2461], [415, 2460], [433, 2442], [434, 2442], [441, 2435], [442, 2435], [445, 2432], [446, 2432], [449, 2429], [450, 2429], [453, 2426], [454, 2426], [456, 2424], [457, 2424], [463, 2419], [464, 2419], [483, 2409], [485, 2409], [486, 2408], [487, 2408], [492, 2405], [494, 2405], [495, 2404], [498, 2404], [499, 2403], [502, 2403], [503, 2402], [506, 2402], [507, 2401], [511, 2401], [512, 2400], [515, 2400], [516, 2399], [520, 2399], [521, 2398], [525, 2398], [526, 2397], [532, 2397], [533, 2396], [543, 2396], [544, 2395], [564, 2395], [565, 2396], [575, 2396], [576, 2397], [582, 2397], [583, 2398], [587, 2398], [588, 2399], [591, 2399], [592, 2400], [595, 2400], [596, 2401], [600, 2401], [601, 2402], [604, 2402], [605, 2403], [609, 2403], [610, 2404], [613, 2404], [622, 2409], [624, 2409], [631, 2413], [633, 2413], [634, 2414], [643, 2418], [646, 2421], [647, 2421], [649, 2423], [650, 2423], [652, 2425], [653, 2425], [655, 2427], [656, 2427], [658, 2429], [659, 2429], [661, 2431], [662, 2431], [665, 2434], [0, 0], [477, 2246], [478, 2246], [479, 2247], [480, 2247], [481, 2248], [482, 2248], [483, 2249], [484, 2249], [485, 2250], [486, 2250], [487, 2251], [488, 2251], [489, 2252], [490, 2252], [491, 2253], [492, 2253], [493, 2254], [494, 2254], [495, 2255], [496, 2255], [497, 2256], [498, 2256], [499, 2257], [500, 2257], [501, 2258], [503, 2258], [504, 2259], [506, 2259], [507, 2260], [509, 2260], [510, 2261], [513, 2261], [514, 2262], [517, 2262], [518, 2263], [522, 2263], [523, 2264], [527, 2264], [528, 2265], [534, 2265], [535, 2266], [541, 2266], [542, 2267], [548, 2267], [549, 2268], [555, 2268], [556, 2267], [562, 2267], [563, 2266], [569, 2266], [570, 2265], [575, 2265], [576, 2264], [580, 2264], [581, 2263], [585, 2263], [586, 2262], [589, 2262], [590, 2261], [593, 2261], [594, 2260], [596, 2260], [597, 2259], [599, 2259], [600, 2258], [602, 2258], [603, 2257], [604, 2257], [605, 2256], [606, 2256], [607, 2255], [608, 2255], [609, 2254], [610, 2254], [611, 2253], [612, 2253], [613, 2252], [614, 2252], [615, 2251], [616, 2251], [617, 2250], [618, 2250], [619, 2249], [620, 2249], [621, 2248], [622, 2248], [623, 2247], [624, 2247], [625, 2246], [626, 2246], [627, 2245], [628, 2245], [629, 2244], [630, 2244], [633, 2241], [634, 2241], [637, 2238], [638, 2238], [641, 2235], [642, 2235], [646, 2231], [647, 2231], [661, 2217], [661, 2216], [665, 2212], [665, 2211], [668, 2208], [668, 2207], [671, 2204], [671, 2203], [674, 2200], [674, 2199], [675, 2198], [675, 2197], [676, 2196], [676, 2195], [677, 2194], [677, 2193], [678, 2192], [678, 2191], [679, 2190], [679, 2189], [680, 2188], [680, 2187], [681, 2186], [681, 2185], [682, 2184], [682, 2183], [683, 2182], [683, 2181], [684, 2180], [684, 2179], [685, 2178], [685, 2177], [686, 2176], [686, 2175], [687, 2174], [687, 2173], [688, 2172], [688, 2170], [689, 2169], [689, 2167], [690, 2166], [690, 2164], [691, 2163], [691, 2160], [692, 2159], [692, 2156], [693, 2155], [693, 2151], [694, 2150], [694, 2146], [695, 2145], [695, 2140], [696, 2139], [696, 2133], [697, 2132], [697, 2126], [698, 2125], [698, 2119], [697, 2118], [697, 2112], [696, 2111], [696, 2105], [695, 2104], [695, 2098], [694, 2097], [694, 2093], [693, 2092], [693, 2088], [692, 2087], [692, 2084], [691, 2083], [691, 2080], [690, 2079], [690, 2077], [689, 2076], [689, 2074], [688, 2073], [688, 2071], [687, 2070], [687, 2069], [686, 2068], [686, 2067], [685, 2066], [685, 2065], [684, 2064], [684, 2063], [683, 2062], [683, 2061], [682, 2060], [682, 2059], [681, 2058], [681, 2057], [680, 2056], [680, 2055], [679, 2054], [679, 2053], [678, 2052], [678, 2051], [677, 2050], [677, 2049], [676, 2048], [676, 2047], [675, 2046], [675, 2045], [674, 2044], [674, 2043], [671, 2040], [671, 2039], [668, 2036], [668, 2035], [665, 2032], [665, 2031], [661, 2027], [661, 2026], [647, 2012], [646, 2012], [642, 2008], [641, 2008], [638, 2005], [637, 2005], [634, 2002], [633, 2002], [630, 1999], [629, 1999], [628, 1998], [627, 1998], [626, 1997], [625, 1997], [624, 1996], [623, 1996], [622, 1995], [621, 1995], [620, 1994], [619, 1994], [618, 1993], [617, 1993], [616, 1992], [615, 1992], [614, 1991], [613, 1991], [612, 1990], [611, 1990], [610, 1989], [609, 1989], [608, 1988], [607, 1988], [606, 1987], [605, 1987], [604, 1986], [603, 1986], [602, 1985], [600, 1985], [599, 1984], [597, 1984], [596, 1983], [594, 1983], [593, 1982], [590, 1982], [589, 1981], [586, 1981], [585, 1980], [581, 1980], [580, 1979], [574, 1979], [573, 1978], [567, 1978], [566, 1977], [559, 1977], [558, 1976], [545, 1976], [544, 1977], [537, 1977], [536, 1978], [530, 1978], [529, 1979], [523, 1979], [522, 1980], [518, 1980], [517, 1981], [514, 1981], [513, 1982], [510, 1982], [509, 1983], [507, 1983], [506, 1984], [504, 1984], [503, 1985], [501, 1985], [500, 1986], [499, 1986], [498, 1987], [497, 1987], [496, 1988], [495, 1988], [494, 1989], [493, 1989], [492, 1990], [491, 1990], [490, 1991], [489, 1991], [488, 1992], [487, 1992], [486, 1993], [485, 1993], [484, 1994], [483, 1994], [482, 1995], [481, 1995], [480, 1996], [479, 1996], [478, 1997], [477, 1997], [476, 1998], [475, 1998], [474, 1999], [473, 1999], [470, 2002], [469, 2002], [466, 2005], [465, 2005], [466, 2005], [469, 2002], [470, 2002], [473, 1999], [474, 1999], [475, 1998], [476, 1998], [477, 1997], [478, 1997], [479, 1996], [480, 1996], [481, 1995], [482, 1995], [483, 1994], [484, 1994], [485, 1993], [486, 1993], [487, 1992], [488, 1992], [489, 1991], [490, 1991], [491, 1990], [492, 1990], [493, 1989], [494, 1989], [495, 1988], [496, 1988], [497, 1987], [498, 1987], [499, 1986], [500, 1986], [501, 1985], [503, 1985], [504, 1984], [506, 1984], [507, 1983], [509, 1983], [510, 1982], [513, 1982], [514, 1981], [517, 1981], [518, 1980], [522, 1980], [523, 1979], [529, 1979], [530, 1978], [536, 1978], [537, 1977], [544, 1977], [545, 1976], [558, 1976], [559, 1977], [566, 1977], [567, 1978], [573, 1978], [574, 1979], [580, 1979], [581, 1980], [585, 1980], [586, 1981], [589, 1981], [590, 1982], [593, 1982], [594, 1983], [596, 1983], [597, 1984], [599, 1984], [600, 1985], [602, 1985], [603, 1986], [604, 1986], [605, 1987], [606, 1987], [607, 1988], [608, 1988], [609, 1989], [610, 1989], [611, 1990], [612, 1990], [613, 1991], [614, 1991], [615, 1992], [616, 1992], [617, 1993], [618, 1993], [619, 1994], [620, 1994], [621, 1995], [622, 1995], [623, 1996], [624, 1996], [625, 1997], [626, 1997], [627, 1998], [628, 1998], [629, 1999], [630, 1999], [633, 2002], [634, 2002], [637, 2005], [638, 2005], [641, 2008], [642, 2008], [646, 2012], [647, 2012], [661, 2026], [661, 2027], [665, 2031], [665, 2032], [668, 2035], [668, 2036], [671, 2039], [671, 2040], [674, 2043], [674, 2044], [675, 2045], [675, 2046], [676, 2047], [676, 2048], [677, 2049], [677, 2050], [678, 2051], [678, 2052], [679, 2053], [679, 2054], [680, 2055], [680, 2056], [681, 2057], [681, 2058], [682, 2059], [682, 2060], [683, 2061], [683, 2062], [684, 2063], [684, 2064], [685, 2065], [685, 2066], [686, 2067], [686, 2068], [687, 2069], [687, 2070], [688, 2071], [688, 2073], [689, 2074], [689, 2076], [690, 2077], [690, 2079], [691, 2080], [691, 2083], [692, 2084], [692, 2087], [693, 2088], [693, 2092], [694, 2093], [694, 2097], [695, 2098], [695, 2104], [696, 2105], [696, 2111], [697, 2112], [697, 2118], [698, 2119], [698, 2125], [697, 2126], [697, 2132], [696, 2133], [696, 2139], [695, 2140], [695, 2145], [694, 2146], [694, 2150], [693, 2151], [693, 2155], [692, 2156], [692, 2159], [691, 2160], [691, 2163], [690, 2164], [690, 2166], [689, 2167], [689, 2169], [688, 2170], [688, 2172], [687, 2173], [687, 2174], [686, 2175], [686, 2176], [685, 2177], [685, 2178], [684, 2179], [684, 2180], [683, 2181], [683, 2182], [682, 2183], [682, 2184], [681, 2185], [681, 2186], [680, 2187], [680, 2188], [679, 2189], [679, 2190], [678, 2191], [678, 2192], [677, 2193], [677, 2194], [676, 2195], [676, 2196], [675, 2197], [675, 2198], [674, 2199], [674, 2200], [671, 2203], [671, 2204], [668, 2207], [668, 2208], [665, 2211], [665, 2212], [661, 2216], [661, 2217], [647, 2231], [646, 2231], [642, 2235], [641, 2235], [638, 2238], [637, 2238], [634, 2241], [633, 2241], [630, 2244], [629, 2244], [628, 2245], [627, 2245], [626, 2246], [625, 2246], [624, 2247], [623, 2247], [622, 2248], [621, 2248], [620, 2249], [619, 2249], [618, 2250], [617, 2250], [616, 2251], [615, 2251], [614, 2252], [613, 2252], [612, 2253], [611, 2253], [610, 2254], [609, 2254], [608, 2255], [607, 2255], [606, 2256], [605, 2256], [604, 2257], [603, 2257], [602, 2258], [600, 2258], [599, 2259], [597, 2259], [596, 2260], [594, 2260], [593, 2261], [590, 2261], [589, 2262], [586, 2262], [585, 2263], [581, 2263], [580, 2264], [576, 2264], [575, 2265], [570, 2265], [569, 2266], [563, 2266], [562, 2267], [556, 2267], [555, 2268], [549, 2268], [548, 2267], [542, 2267], [541, 2266], [535, 2266], [534, 2265], [528, 2265], [527, 2264], [523, 2264], [522, 2263], [518, 2263], [517, 2262], [514, 2262], [513, 2261], [510, 2261], [509, 2260], [507, 2260], [506, 2259], [504, 2259], [503, 2258], [501, 2258], [500, 2257], [499, 2257], [498, 2256], [497, 2256], [496, 2255], [495, 2255], [494, 2254], [493, 2254], [492, 2253], [491, 2253], [490, 2252], [489, 2252], [488, 2251], [487, 2251], [486, 2250], [485, 2250], [484, 2249], [483, 2249], [482, 2248], [481, 2248], [480, 2247], [479, 2247], [478, 2246], [0, 0], [477, 2246], [456, 2231], [429, 2200], [415, 2172], [410, 2144], [440, 2144], [456, 2183], [490, 2217], [535, 2234], [555, 2236], [578, 2232], [613, 2217], [647, 2183], [661, 2152], [666, 2125], [658, 2082], [647, 2060], [626, 2036], [591, 2015], [573, 2010], [545, 2008], [512, 2015], [490, 2026], [466, 2047], [445, 2082], [442, 2101], [472, 2101], [483, 2077], [498, 2060], [537, 2041], [558, 2040], [580, 2045], [600, 2056], [620, 2077], [634, 2119], [631, 2141], [620, 2166], [596, 2190], [555, 2204], [523, 2198], [498, 2183], [483, 2166], [474, 2145], [456, 2122], [408, 2121], [408, 2100], [415, 2071], [438, 2032], [438, 1781], [388, 1775], [364, 1761], [345, 1740], [199, 1485], [194, 1458], [199, 1429], [345, 1174], [371, 1148], [387, 1140], [414, 1135], [553, 1135], [555, 1199], [693, 1199], [702, 1202], [803, 1372], [702, 1202], [693, 1199], [555, 1199], [553, 1135], [414, 1135], [387, 1140], [371, 1148], [345, 1174], [199, 1429], [194, 1456], [199, 1485], [345, 1740], [364, 1761], [388, 1775], [438, 1781], [438, 2032], [415, 2071], [408, 2100], [408, 2121], [456, 2122], [474, 2145], [483, 2166], [498, 2183], [523, 2198], [555, 2204], [596, 2190], [620, 2166], [634, 2125], [631, 2102], [620, 2077], [605, 2060], [580, 2045], [558, 2040], [537, 2041], [498, 2060], [483, 2077], [472, 2101], [442, 2101], [445, 2082], [466, 2047], [490, 2026], [521, 2012], [545, 2008], [578, 2011], [613, 2026], [626, 2036], [647, 2060], [661, 2091], [665, 2132], [658, 2161], [647, 2183], [613, 2217], [578, 2232], [555, 2236], [535, 2234], [490, 2217], [456, 2183], [440, 2144], [409, 2145], [415, 2172], [429, 2200], [456, 2231], [476, 2245], [460, 2278], [465, 2332], [454, 2386], [506, 2368], [495, 2332], [505, 2293], [528, 2298], [526, 2333], [534, 2363], [557, 2361], [555, 2301], [579, 2297], [588, 2329], [582, 2364], [609, 2370], [618, 2330], [606, 2291], [645, 2272], [642, 2332], [666, 2434], [680, 2448], [707, 2423], [762, 2403], [817, 2376], [803, 2451], [770, 2447], [735, 2465], [748, 2491], [773, 2478], [793, 2481], [796, 2486], [790, 2513], [771, 2510], [756, 2515], [762, 2540], [784, 2545], [779, 2573], [765, 2573], [763, 2602], [772, 2606], [765, 2634], [756, 2636], [745, 2662], [753, 2667], [737, 2694], [729, 2691], [712, 2713], [719, 2720], [696, 2742], [690, 2735], [666, 2753], [670, 2759], [642, 2775], [637, 2768], [610, 2777], [610, 2786], [580, 2790], [573, 2784], [548, 2786], [546, 2792], [515, 2790], [513, 2780], [489, 2774], [484, 2782], [455, 2770], [458, 2762], [431, 2746], [427, 2753], [401, 2733], [408, 2725], [386, 2702], [380, 2708], [363, 2685], [368, 2675], [357, 2651], [347, 2652], [339, 2623], [347, 2619], [343, 2591], [332, 2592], [327, 2566], [335, 2559], [343, 2561], [347, 2531], [337, 2528], [321, 2531], [315, 2502], [335, 2496], [354, 2503], [365, 2480], [336, 2465], [309, 2470], [303, 2440], [339, 2434], [375, 2460], [403, 2426], [347, 2405], [295, 2377], [86, 1441], [56, 1440], [65, 1352], [128, 1030], [135, 1020], [172, 1000], [197, 1000], [216, 993], [230, 980], [237, 967], [315, 576], [314, 557], [307, 541], [291, 526], [268, 518], [237, 484], [248, 416], [0, 0], [924, 987], [924, 990], [925, 991], [925, 996], [926, 997], [926, 1001], [927, 1002], [927, 1006], [928, 1007], [928, 1011], [929, 1012], [929, 1016], [930, 1017], [930, 1021], [931, 1022], [931, 1026], [932, 1027], [932, 1031], [933, 1032], [933, 1037], [934, 1038], [934, 1042], [935, 1043], [935, 1047], [936, 1048], [936, 1052], [937, 1053], [937, 1057], [938, 1058], [938, 1062], [939, 1063], [939, 1067], [940, 1068], [940, 1072], [941, 1073], [941, 1077], [942, 1078], [942, 1083], [943, 1084], [943, 1088], [944, 1089], [944, 1093], [945, 1094], [945, 1098], [946, 1099], [946, 1103], [947, 1104], [947, 1108], [948, 1109], [948, 1113], [949, 1114], [949, 1118], [950, 1119], [950, 1125], [951, 1126], [951, 1160], [950, 1161], [950, 1166], [949, 1167], [949, 1168], [944, 1173], [943, 1173], [942, 1174], [941, 1174], [940, 1175], [939, 1175], [938, 1176], [937, 1176], [936, 1177], [935, 1177], [932, 1179], [930, 1179], [929, 1180], [928, 1180], [927, 1181], [926, 1181], [925, 1182], [924, 1182], [923, 1183], [922, 1183], [921, 1184], [920, 1184], [919, 1185], [918, 1185], [915, 1187], [913, 1187], [912, 1188], [911, 1188], [910, 1189], [909, 1189], [908, 1190], [907, 1190], [906, 1191], [905, 1191], [904, 1192], [903, 1192], [902, 1193], [901, 1193], [898, 1195], [896, 1195], [895, 1196], [863, 1196], [862, 1195], [862, 1161], [894, 1161], [895, 1160], [896, 1160], [897, 1159], [898, 1159], [899, 1158], [900, 1158], [903, 1156], [905, 1156], [906, 1155], [907, 1155], [908, 1154], [909, 1154], [910, 1153], [911, 1153], [912, 1152], [913, 1152], [914, 1151], [917, 1150], [918, 1149], [918, 1126], [917, 1125], [862, 1125], [862, 1093], [910, 1093], [911, 1092], [911, 1089], [910, 1088], [910, 1084], [909, 1083], [909, 1078], [908, 1077], [908, 1073], [907, 1072], [907, 1068], [906, 1067], [906, 1063], [904, 1061], [862, 1061], [862, 1029], [898, 1029], [899, 1028], [899, 1027], [898, 1026], [898, 1022], [897, 1021], [897, 1017], [896, 1016], [896, 1012], [895, 1011], [895, 1007], [894, 1006], [894, 1002], [893, 1001], [893, 998], [892, 997], [862, 997], [862, 965], [885, 965], [886, 964], [886, 961], [885, 960], [885, 956], [884, 955], [884, 951], [883, 950], [883, 945], [882, 944], [882, 940], [881, 939], [881, 935], [879, 933], [862, 933], [862, 859], [861, 858], [861, 854], [860, 853], [860, 850], [856, 846], [855, 846], [853, 844], [852, 844], [849, 841], [848, 841], [843, 837], [842, 837], [829, 850], [829, 1134], [814, 1134], [809, 1139], [808, 1139], [807, 1140], [806, 1140], [805, 1141], [804, 1141], [801, 1143], [801, 1155], [802, 1156], [802, 1157], [804, 1159], [804, 1160], [805, 1161], [806, 1164], [808, 1166], [808, 1167], [809, 1168], [810, 1171], [812, 1173], [813, 1176], [815, 1178], [829, 1178], [829, 1212], [828, 1213], [814, 1213], [0, 0], [842, 1696], [871, 1709], [871, 1736], [879, 1737], [879, 1757], [871, 1758], [871, 1780], [879, 1781], [879, 1801], [871, 1802], [871, 1854], [884, 1867], [902, 1853], [913, 1796], [912, 1744], [943, 1743], [949, 1749], [951, 1791], [939, 1852], [873, 1877], [873, 1904], [929, 1905], [922, 1935], [873, 1935], [873, 1966], [915, 1966], [916, 1972], [910, 1997], [873, 1997], [873, 2028], [903, 2028], [898, 2059], [873, 2059], [873, 2090], [891, 2090], [887, 2120], [873, 2121], [872, 2152], [879, 2152], [871, 2200], [841, 2201], [840, 1766], [830, 1757], [807, 1771], [807, 2227], [822, 2227], [840, 2233], [842, 2251], [839, 2259], [807, 2259], [807, 2291], [834, 2292], [826, 2330], [807, 2331], [806, 2363], [745, 2389], [713, 2389], [712, 2373], [689, 2372], [687, 2343], [712, 2342], [712, 2311], [686, 2311], [685, 2280], [712, 2280], [712, 2249], [683, 2248], [683, 2240], [698, 2221], [712, 2218], [712, 1830], [679, 1831], [678, 2000], [648, 2000], [633, 1988], [584, 1966], [583, 1829], [551, 1831], [550, 1961], [504, 1971], [464, 1969], [456, 1955], [457, 1816], [487, 1817], [488, 1929], [492, 1932], [520, 1929], [520, 1799], [614, 1798], [615, 1935], [644, 1940], [648, 1936], [648, 1799], [678, 1798], [712, 1791], [743, 1792], [743, 2332], [748, 2337], [775, 2332], [776, 1740], [803, 1698], [841, 1696], [845, 1678], [943, 1726], [952, 1689], [957, 1652], [868, 1620], [885, 1593], [965, 1621], [969, 1590], [901, 1563], [916, 1538], [976, 1558], [981, 1522], [930, 1513], [942, 1487], [986, 1488], [986, 1457], [948, 1458], [942, 1432], [946, 1428], [985, 1422], [980, 1388], [932, 1404], [917, 1378], [975, 1356], [971, 1324], [901, 1349], [884, 1321], [963, 1294], [959, 1262], [868, 1293], [838, 1242], [936, 1193], [798, 1213], [768, 1164], [734, 1134], [732, 566], [706, 562], [701, 567], [701, 1117], [606, 1117], [606, 568], [575, 568], [573, 1117], [478, 1117], [478, 621], [470, 615], [445, 624], [445, 1117], [402, 1123], [383, 1131], [350, 1130], [350, 978], [336, 966], [319, 980], [317, 989], [317, 1203], [306, 1216], [268, 1217], [223, 1197], [222, 1140], [210, 1128], [191, 1142], [189, 1152], [160, 1152], [0, 0], [172, 1762], [189, 1762], [191, 1774], [210, 1787], [222, 1775], [224, 1718], [269, 1698], [305, 1699], [317, 1713], [317, 2324], [345, 2331], [350, 2326], [351, 2297], [365, 2297], [383, 2283], [394, 2281], [405, 2286], [406, 2253], [350, 2252], [351, 2222], [392, 2222], [376, 2191], [350, 2190], [350, 2161], [364, 2160], [359, 2129], [350, 2128], [350, 2099], [358, 2098], [358, 2067], [350, 2066], [350, 2037], [358, 2036], [358, 2005], [350, 2004], [350, 1975], [358, 1974], [358, 1943], [350, 1942], [350, 1913], [358, 1912], [358, 1881], [350, 1880], [350, 1851], [358, 1850], [358, 1820], [350, 1818], [350, 1785], [381, 1784], [389, 1793], [390, 2121], [400, 2167], [418, 2203], [438, 2229], [435, 2325], [405, 2325], [393, 2314], [381, 2326], [380, 2384], [350, 2384], [286, 2355], [286, 2315], [278, 2314], [272, 2276], [286, 2276], [286, 2244], [264, 2243], [258, 2213], [286, 2212], [286, 2180], [253, 2180], [250, 2172], [251, 2155], [271, 2148], [286, 2148], [286, 1749], [275, 1745], [253, 1751], [253, 2121], [222, 2121], [214, 2071], [220, 2071], [220, 2033], [205, 2032], [201, 2004], [220, 2004], [220, 1975], [194, 1975], [188, 1948], [220, 1946], [220, 1917], [183, 1917], [178, 1888], [220, 1888], [220, 1859], [172, 1859], [167, 1830], [220, 1830], [220, 1816], [210, 1820], [198, 1818], [174, 1802], [160, 1801], [158, 1763], [171, 1762], [172, 1725], [270, 1674], [236, 1617], [148, 1649], [144, 1617], [220, 1588], [204, 1561], [137, 1586], [129, 1553], [189, 1534], [175, 1510], [125, 1519], [121, 1497], [122, 1485], [165, 1482], [161, 1454], [121, 1451], [121, 1419], [166, 1426], [177, 1402], [126, 1383], [131, 1352], [192, 1374], [208, 1347], [139, 1320], [143, 1289], [224, 1318], [241, 1290], [150, 1257], [163, 1186], [263, 1234], [158, 1151], [158, 1122], [170, 1060], [180, 1050], [222, 1039], [252, 1039], [253, 1074], [201, 1079], [196, 1099], [209, 1095], [220, 1097], [238, 1111], [253, 1111], [253, 1165], [279, 1172], [286, 1167], [287, 954], [301, 953], [326, 935], [348, 935], [347, 925], [293, 925], [299, 896], [348, 895], [347, 867], [304, 867], [310, 838], [348, 837], [347, 809], [316, 809], [322, 780], [348, 779], [348, 752], [327, 751], [333, 722], [348, 721], [348, 686], [341, 685], [349, 644], [381, 643], [382, 1088], [414, 1086], [414, 593], [479, 544], [509, 545], [510, 1087], [542, 1086], [543, 537], [580, 533], [607, 525], [637, 526], [637, 1086], [670, 1086], [671, 509], [702, 509], [765, 537], [765, 1103], [791, 1112], [798, 1105], [799, 564], [831, 564], [844, 578], [848, 599], [831, 600], [831, 629], [854, 630], [860, 661], [831, 662], [831, 691], [866, 692], [872, 723], [832, 723], [831, 753], [878, 754], [884, 785], [832, 785], [831, 807], [853, 806], [878, 823], [892, 823], [893, 904], [908, 906], [924, 986], [0, 0], [143, 988], [142, 963], [144, 941], [148, 925], [148, 919], [155, 889], [158, 868], [165, 838], [210, 603], [218, 568], [221, 547], [226, 533], [231, 525], [0, 0], [231, 524], [0, 0]]\n",
      "Total de [salvando imagens das rotas] : 0.12667560577392578\n"
     ]
    }
   ],
   "source": [
    "import gui\n",
    "import files\n",
    "from timer import Timer\n",
    "from components import layer, path_tools\n",
    "from os import getcwd\n",
    "\n",
    "if not('folders' in globals()):\n",
    "    home = getcwd()\n",
    "    folders = files.System_Paths(home)\n",
    "    gui.find_saved_file(folders)\n",
    "camadas = folders.load_layers_hdf5()\n",
    "\n",
    "for c in camadas:\n",
    "    c.close_final_path(folders)\n",
    "\n",
    "%reset_selective -f \"camadas\"\n"
   ]
  },
  {
   "cell_type": "markdown",
   "metadata": {},
   "source": [
    "Gerando o Código G"
   ]
  },
  {
   "cell_type": "code",
   "execution_count": 43,
   "metadata": {},
   "outputs": [
    {
     "name": "stdout",
     "output_type": "stream",
     "text": [
      "Cuspindo o Gcode\n",
      "nome: L_000/I_000\n",
      "[[249, 415], [275, 281], [287, 239], [309, 195], [336, 157], [375, 118], [414, 92], [462, 71], [506, 59], [566, 56], [607, 60], [653, 73], [686, 88], [733, 118], [771, 156], [798, 194], [820, 238], [833, 284], [1007, 1173], [841, 324], [820, 238], [798, 194], [771, 156], [733, 118], [686, 88], [653, 73], [602, 59], [542, 56], [506, 59], [476, 67], [414, 92], [375, 118], [333, 161], [309, 195], [286, 242], [273, 289], [236, 479], [243, 493], [268, 518], [291, 526], [307, 541], [314, 557], [315, 576], [237, 967], [230, 980], [216, 993], [197, 1000], [172, 1000], [135, 1020], [128, 1030], [65, 1352], [56, 1417], [56, 1440], [88, 1440], [88, 1417], [96, 1359], [156, 1054], [165, 1041], [177, 1034], [217, 1028], [236, 1018], [257, 997], [269, 971], [347, 576], [345, 550], [334, 524], [311, 501], [284, 487], [274, 473], [272, 462], [304, 296], [316, 253], [336, 212], [355, 185], [394, 144], [440, 115], [467, 103], [505, 92], [542, 88], [599, 91], [642, 103], [680, 121], [714, 144], [746, 176], [771, 211], [790, 249], [810, 331], [980, 1201], [800, 284], [790, 249], [771, 211], [746, 176], [714, 144], [680, 121], [629, 99], [592, 90], [516, 90], [467, 103], [428, 121], [394, 144], [361, 177], [336, 212], [316, 253], [304, 296], [272, 461], [274, 473], [280, 483], [315, 504], [334, 524], [343, 542], [347, 576], [334, 642], [0, 0], [680, 466], [654, 490], [624, 505], [603, 513], [565, 519], [543, 519], [505, 513], [456, 491], [438, 476], [410, 448], [395, 425], [382, 394], [375, 356], [376, 352], [406, 352], [412, 383], [420, 404], [434, 427], [473, 464], [495, 475], [521, 484], [543, 487], [565, 487], [592, 483], [637, 463], [673, 428], [686, 405], [696, 379], [700, 357], [700, 328], [691, 286], [679, 263], [666, 245], [645, 224], [626, 212], [602, 201], [580, 195], [564, 193], [533, 194], [509, 200], [494, 206], [462, 225], [439, 248], [431, 259], [416, 287], [410, 309], [407, 330], [375, 330], [378, 307], [385, 279], [400, 248], [415, 227], [445, 198], [463, 186], [492, 172], [526, 163], [544, 161], [575, 162], [613, 171], [643, 185], [662, 197], [690, 224], [706, 246], [721, 275], [728, 301], [732, 328], [732, 357], [725, 395], [716, 416], [700, 445], [681, 465], [706, 492], [760, 512], [816, 541], [817, 536], [803, 464], [800, 463], [770, 469], [735, 449], [747, 426], [774, 439], [794, 434], [796, 432], [790, 402], [774, 408], [756, 404], [761, 375], [763, 374], [772, 377], [785, 375], [780, 347], [765, 346], [766, 335], [763, 318], [771, 316], [773, 311], [767, 287], [757, 286], [752, 265], [749, 260], [757, 255], [742, 227], [739, 231], [735, 232], [719, 209], [725, 203], [719, 194], [705, 180], [698, 187], [678, 169], [682, 162], [656, 145], [650, 153], [624, 141], [627, 134], [626, 132], [600, 125], [597, 127], [595, 133], [575, 129], [565, 129], [566, 121], [536, 122], [535, 128], [532, 130], [507, 134], [504, 128], [501, 127], [475, 135], [474, 137], [477, 144], [450, 157], [448, 153], [443, 150], [420, 166], [425, 173], [403, 194], [396, 187], [377, 210], [383, 216], [369, 239], [359, 238], [347, 263], [348, 266], [355, 267], [348, 296], [338, 295], [332, 321], [333, 325], [342, 328], [342, 355], [325, 357], [321, 381], [333, 386], [347, 385], [353, 408], [335, 417], [316, 412], [314, 413], [305, 461], [326, 472], [339, 447], [363, 435], [365, 436], [377, 457], [360, 469], [342, 486], [361, 506], [376, 495], [394, 477], [415, 498], [393, 520], [373, 530], [378, 550], [406, 547], [434, 515], [466, 533], [418, 575], [382, 598], [333, 644], [269, 971], [259, 994], [254, 1001], [233, 1020], [217, 1028], [177, 1034], [165, 1041], [156, 1054], [96, 1359], [88, 1417], [88, 1440], [0, 0], [681, 2449], [692, 2460], [692, 2461], [698, 2468], [698, 2469], [700, 2471], [700, 2472], [706, 2479], [706, 2480], [721, 2509], [722, 2516], [723, 2517], [723, 2519], [724, 2520], [724, 2523], [725, 2524], [725, 2526], [726, 2527], [726, 2529], [727, 2530], [727, 2533], [728, 2534], [728, 2538], [729, 2539], [729, 2545], [730, 2546], [730, 2553], [731, 2554], [731, 2561], [732, 2562], [732, 2591], [731, 2592], [731, 2598], [730, 2599], [730, 2603], [729, 2604], [729, 2608], [728, 2609], [728, 2614], [727, 2615], [727, 2620], [726, 2621], [726, 2625], [725, 2626], [725, 2629], [720, 2638], [720, 2640], [716, 2647], [716, 2649], [715, 2650], [711, 2659], [709, 2661], [708, 2664], [706, 2666], [706, 2667], [705, 2668], [704, 2671], [702, 2673], [700, 2678], [697, 2681], [697, 2682], [689, 2690], [689, 2691], [670, 2710], [669, 2710], [658, 2720], [657, 2720], [654, 2723], [653, 2723], [652, 2724], [645, 2727], [643, 2729], [636, 2732], [634, 2734], [633, 2734], [624, 2739], [622, 2739], [621, 2740], [619, 2740], [618, 2741], [616, 2741], [615, 2742], [613, 2742], [612, 2743], [610, 2743], [609, 2744], [607, 2744], [606, 2745], [604, 2745], [603, 2746], [600, 2746], [599, 2747], [595, 2747], [594, 2748], [589, 2748], [588, 2749], [583, 2749], [582, 2750], [578, 2750], [577, 2751], [573, 2751], [572, 2752], [566, 2752], [565, 2753], [543, 2753], [542, 2752], [536, 2752], [535, 2751], [531, 2751], [530, 2750], [525, 2750], [524, 2749], [520, 2749], [519, 2748], [514, 2748], [513, 2747], [509, 2747], [508, 2746], [505, 2746], [502, 2744], [500, 2744], [499, 2743], [497, 2743], [496, 2742], [494, 2742], [493, 2741], [491, 2741], [490, 2740], [488, 2740], [487, 2739], [484, 2739], [483, 2738], [474, 2734], [472, 2732], [465, 2729], [463, 2727], [454, 2723], [445, 2715], [444, 2715], [439, 2710], [438, 2710], [418, 2690], [418, 2689], [410, 2681], [410, 2680], [407, 2677], [406, 2674], [402, 2669], [401, 2666], [395, 2658], [395, 2657], [390, 2648], [390, 2646], [388, 2643], [388, 2641], [386, 2638], [386, 2636], [384, 2633], [384, 2631], [382, 2628], [382, 2625], [381, 2624], [381, 2620], [380, 2619], [380, 2614], [379, 2613], [379, 2609], [378, 2608], [378, 2603], [377, 2602], [377, 2598], [376, 2597], [376, 2591], [375, 2590], [375, 2586], [376, 2585], [406, 2585], [407, 2586], [407, 2590], [408, 2591], [408, 2595], [409, 2596], [409, 2601], [410, 2602], [410, 2606], [411, 2607], [411, 2612], [412, 2613], [412, 2617], [414, 2620], [414, 2622], [416, 2625], [416, 2627], [418, 2630], [418, 2632], [420, 2635], [420, 2637], [421, 2638], [422, 2641], [428, 2649], [429, 2652], [433, 2657], [434, 2660], [442, 2668], [442, 2669], [459, 2686], [460, 2686], [471, 2696], [480, 2700], [482, 2702], [489, 2705], [491, 2707], [492, 2707], [495, 2709], [498, 2709], [499, 2710], [501, 2710], [502, 2711], [504, 2711], [505, 2712], [507, 2712], [508, 2713], [513, 2714], [516, 2716], [520, 2716], [521, 2717], [526, 2717], [527, 2718], [531, 2718], [532, 2719], [537, 2719], [538, 2720], [542, 2720], [543, 2721], [565, 2721], [566, 2720], [570, 2720], [571, 2719], [575, 2719], [576, 2718], [581, 2718], [582, 2717], [587, 2717], [588, 2716], [592, 2716], [593, 2715], [595, 2715], [596, 2714], [598, 2714], [599, 2713], [601, 2713], [602, 2712], [604, 2712], [605, 2711], [607, 2711], [608, 2710], [613, 2709], [614, 2708], [617, 2707], [619, 2705], [626, 2702], [628, 2700], [637, 2696], [642, 2691], [643, 2691], [648, 2686], [649, 2686], [665, 2670], [665, 2669], [673, 2661], [673, 2660], [674, 2659], [675, 2656], [677, 2654], [679, 2649], [681, 2647], [682, 2644], [684, 2642], [684, 2641], [686, 2638], [686, 2636], [690, 2629], [690, 2627], [695, 2618], [695, 2614], [696, 2613], [696, 2608], [697, 2607], [697, 2602], [698, 2601], [698, 2597], [699, 2596], [699, 2592], [700, 2591], [700, 2562], [699, 2561], [699, 2554], [698, 2553], [698, 2546], [697, 2545], [697, 2541], [696, 2540], [696, 2538], [695, 2537], [695, 2535], [694, 2534], [694, 2531], [693, 2530], [693, 2528], [692, 2527], [691, 2520], [690, 2519], [679, 2496], [673, 2489], [673, 2488], [668, 2482], [668, 2481], [645, 2458], [644, 2458], [642, 2456], [641, 2456], [639, 2454], [638, 2454], [636, 2452], [635, 2452], [633, 2450], [632, 2450], [630, 2448], [629, 2448], [626, 2445], [625, 2445], [622, 2443], [620, 2443], [613, 2439], [611, 2439], [602, 2434], [598, 2434], [597, 2433], [594, 2433], [593, 2432], [589, 2432], [588, 2431], [585, 2431], [584, 2430], [581, 2430], [580, 2429], [576, 2429], [575, 2428], [565, 2428], [564, 2427], [544, 2427], [543, 2428], [533, 2428], [532, 2429], [528, 2429], [527, 2430], [523, 2430], [522, 2431], [519, 2431], [518, 2432], [514, 2432], [513, 2433], [510, 2433], [509, 2434], [506, 2434], [505, 2435], [503, 2435], [496, 2439], [494, 2439], [493, 2440], [480, 2446], [474, 2451], [473, 2451], [467, 2456], [466, 2456], [463, 2459], [462, 2459], [455, 2466], [454, 2466], [439, 2481], [439, 2482], [436, 2485], [436, 2486], [434, 2488], [434, 2489], [429, 2495], [429, 2496], [416, 2521], [416, 2523], [415, 2524], [415, 2527], [414, 2528], [414, 2530], [413, 2531], [413, 2534], [412, 2535], [412, 2537], [411, 2538], [411, 2541], [410, 2542], [410, 2546], [409, 2547], [409, 2553], [408, 2554], [408, 2561], [407, 2562], [407, 2563], [406, 2564], [376, 2564], [375, 2563], [375, 2562], [376, 2561], [376, 2554], [377, 2553], [377, 2547], [378, 2546], [378, 2540], [379, 2539], [379, 2535], [380, 2534], [380, 2531], [381, 2530], [381, 2527], [382, 2526], [382, 2524], [383, 2523], [383, 2520], [384, 2519], [384, 2517], [385, 2516], [385, 2513], [386, 2512], [386, 2510], [387, 2509], [387, 2508], [388, 2507], [402, 2478], [407, 2472], [407, 2471], [412, 2465], [412, 2464], [415, 2461], [415, 2460], [433, 2442], [434, 2442], [441, 2435], [442, 2435], [445, 2432], [446, 2432], [449, 2429], [450, 2429], [453, 2426], [454, 2426], [456, 2424], [457, 2424], [463, 2419], [464, 2419], [483, 2409], [485, 2409], [486, 2408], [487, 2408], [492, 2405], [494, 2405], [495, 2404], [498, 2404], [499, 2403], [502, 2403], [503, 2402], [506, 2402], [507, 2401], [511, 2401], [512, 2400], [515, 2400], [516, 2399], [520, 2399], [521, 2398], [525, 2398], [526, 2397], [532, 2397], [533, 2396], [543, 2396], [544, 2395], [564, 2395], [565, 2396], [575, 2396], [576, 2397], [582, 2397], [583, 2398], [587, 2398], [588, 2399], [591, 2399], [592, 2400], [595, 2400], [596, 2401], [600, 2401], [601, 2402], [604, 2402], [605, 2403], [609, 2403], [610, 2404], [613, 2404], [622, 2409], [624, 2409], [631, 2413], [633, 2413], [634, 2414], [643, 2418], [646, 2421], [647, 2421], [649, 2423], [650, 2423], [652, 2425], [653, 2425], [655, 2427], [656, 2427], [658, 2429], [659, 2429], [661, 2431], [662, 2431], [665, 2434], [0, 0], [477, 2246], [478, 2246], [479, 2247], [480, 2247], [481, 2248], [482, 2248], [483, 2249], [484, 2249], [485, 2250], [486, 2250], [487, 2251], [488, 2251], [489, 2252], [490, 2252], [491, 2253], [492, 2253], [493, 2254], [494, 2254], [495, 2255], [496, 2255], [497, 2256], [498, 2256], [499, 2257], [500, 2257], [501, 2258], [503, 2258], [504, 2259], [506, 2259], [507, 2260], [509, 2260], [510, 2261], [513, 2261], [514, 2262], [517, 2262], [518, 2263], [522, 2263], [523, 2264], [527, 2264], [528, 2265], [534, 2265], [535, 2266], [541, 2266], [542, 2267], [548, 2267], [549, 2268], [555, 2268], [556, 2267], [562, 2267], [563, 2266], [569, 2266], [570, 2265], [575, 2265], [576, 2264], [580, 2264], [581, 2263], [585, 2263], [586, 2262], [589, 2262], [590, 2261], [593, 2261], [594, 2260], [596, 2260], [597, 2259], [599, 2259], [600, 2258], [602, 2258], [603, 2257], [604, 2257], [605, 2256], [606, 2256], [607, 2255], [608, 2255], [609, 2254], [610, 2254], [611, 2253], [612, 2253], [613, 2252], [614, 2252], [615, 2251], [616, 2251], [617, 2250], [618, 2250], [619, 2249], [620, 2249], [621, 2248], [622, 2248], [623, 2247], [624, 2247], [625, 2246], [626, 2246], [627, 2245], [628, 2245], [629, 2244], [630, 2244], [633, 2241], [634, 2241], [637, 2238], [638, 2238], [641, 2235], [642, 2235], [646, 2231], [647, 2231], [661, 2217], [661, 2216], [665, 2212], [665, 2211], [668, 2208], [668, 2207], [671, 2204], [671, 2203], [674, 2200], [674, 2199], [675, 2198], [675, 2197], [676, 2196], [676, 2195], [677, 2194], [677, 2193], [678, 2192], [678, 2191], [679, 2190], [679, 2189], [680, 2188], [680, 2187], [681, 2186], [681, 2185], [682, 2184], [682, 2183], [683, 2182], [683, 2181], [684, 2180], [684, 2179], [685, 2178], [685, 2177], [686, 2176], [686, 2175], [687, 2174], [687, 2173], [688, 2172], [688, 2170], [689, 2169], [689, 2167], [690, 2166], [690, 2164], [691, 2163], [691, 2160], [692, 2159], [692, 2156], [693, 2155], [693, 2151], [694, 2150], [694, 2146], [695, 2145], [695, 2140], [696, 2139], [696, 2133], [697, 2132], [697, 2126], [698, 2125], [698, 2119], [697, 2118], [697, 2112], [696, 2111], [696, 2105], [695, 2104], [695, 2098], [694, 2097], [694, 2093], [693, 2092], [693, 2088], [692, 2087], [692, 2084], [691, 2083], [691, 2080], [690, 2079], [690, 2077], [689, 2076], [689, 2074], [688, 2073], [688, 2071], [687, 2070], [687, 2069], [686, 2068], [686, 2067], [685, 2066], [685, 2065], [684, 2064], [684, 2063], [683, 2062], [683, 2061], [682, 2060], [682, 2059], [681, 2058], [681, 2057], [680, 2056], [680, 2055], [679, 2054], [679, 2053], [678, 2052], [678, 2051], [677, 2050], [677, 2049], [676, 2048], [676, 2047], [675, 2046], [675, 2045], [674, 2044], [674, 2043], [671, 2040], [671, 2039], [668, 2036], [668, 2035], [665, 2032], [665, 2031], [661, 2027], [661, 2026], [647, 2012], [646, 2012], [642, 2008], [641, 2008], [638, 2005], [637, 2005], [634, 2002], [633, 2002], [630, 1999], [629, 1999], [628, 1998], [627, 1998], [626, 1997], [625, 1997], [624, 1996], [623, 1996], [622, 1995], [621, 1995], [620, 1994], [619, 1994], [618, 1993], [617, 1993], [616, 1992], [615, 1992], [614, 1991], [613, 1991], [612, 1990], [611, 1990], [610, 1989], [609, 1989], [608, 1988], [607, 1988], [606, 1987], [605, 1987], [604, 1986], [603, 1986], [602, 1985], [600, 1985], [599, 1984], [597, 1984], [596, 1983], [594, 1983], [593, 1982], [590, 1982], [589, 1981], [586, 1981], [585, 1980], [581, 1980], [580, 1979], [574, 1979], [573, 1978], [567, 1978], [566, 1977], [559, 1977], [558, 1976], [545, 1976], [544, 1977], [537, 1977], [536, 1978], [530, 1978], [529, 1979], [523, 1979], [522, 1980], [518, 1980], [517, 1981], [514, 1981], [513, 1982], [510, 1982], [509, 1983], [507, 1983], [506, 1984], [504, 1984], [503, 1985], [501, 1985], [500, 1986], [499, 1986], [498, 1987], [497, 1987], [496, 1988], [495, 1988], [494, 1989], [493, 1989], [492, 1990], [491, 1990], [490, 1991], [489, 1991], [488, 1992], [487, 1992], [486, 1993], [485, 1993], [484, 1994], [483, 1994], [482, 1995], [481, 1995], [480, 1996], [479, 1996], [478, 1997], [477, 1997], [476, 1998], [475, 1998], [474, 1999], [473, 1999], [470, 2002], [469, 2002], [466, 2005], [465, 2005], [466, 2005], [469, 2002], [470, 2002], [473, 1999], [474, 1999], [475, 1998], [476, 1998], [477, 1997], [478, 1997], [479, 1996], [480, 1996], [481, 1995], [482, 1995], [483, 1994], [484, 1994], [485, 1993], [486, 1993], [487, 1992], [488, 1992], [489, 1991], [490, 1991], [491, 1990], [492, 1990], [493, 1989], [494, 1989], [495, 1988], [496, 1988], [497, 1987], [498, 1987], [499, 1986], [500, 1986], [501, 1985], [503, 1985], [504, 1984], [506, 1984], [507, 1983], [509, 1983], [510, 1982], [513, 1982], [514, 1981], [517, 1981], [518, 1980], [522, 1980], [523, 1979], [529, 1979], [530, 1978], [536, 1978], [537, 1977], [544, 1977], [545, 1976], [558, 1976], [559, 1977], [566, 1977], [567, 1978], [573, 1978], [574, 1979], [580, 1979], [581, 1980], [585, 1980], [586, 1981], [589, 1981], [590, 1982], [593, 1982], [594, 1983], [596, 1983], [597, 1984], [599, 1984], [600, 1985], [602, 1985], [603, 1986], [604, 1986], [605, 1987], [606, 1987], [607, 1988], [608, 1988], [609, 1989], [610, 1989], [611, 1990], [612, 1990], [613, 1991], [614, 1991], [615, 1992], [616, 1992], [617, 1993], [618, 1993], [619, 1994], [620, 1994], [621, 1995], [622, 1995], [623, 1996], [624, 1996], [625, 1997], [626, 1997], [627, 1998], [628, 1998], [629, 1999], [630, 1999], [633, 2002], [634, 2002], [637, 2005], [638, 2005], [641, 2008], [642, 2008], [646, 2012], [647, 2012], [661, 2026], [661, 2027], [665, 2031], [665, 2032], [668, 2035], [668, 2036], [671, 2039], [671, 2040], [674, 2043], [674, 2044], [675, 2045], [675, 2046], [676, 2047], [676, 2048], [677, 2049], [677, 2050], [678, 2051], [678, 2052], [679, 2053], [679, 2054], [680, 2055], [680, 2056], [681, 2057], [681, 2058], [682, 2059], [682, 2060], [683, 2061], [683, 2062], [684, 2063], [684, 2064], [685, 2065], [685, 2066], [686, 2067], [686, 2068], [687, 2069], [687, 2070], [688, 2071], [688, 2073], [689, 2074], [689, 2076], [690, 2077], [690, 2079], [691, 2080], [691, 2083], [692, 2084], [692, 2087], [693, 2088], [693, 2092], [694, 2093], [694, 2097], [695, 2098], [695, 2104], [696, 2105], [696, 2111], [697, 2112], [697, 2118], [698, 2119], [698, 2125], [697, 2126], [697, 2132], [696, 2133], [696, 2139], [695, 2140], [695, 2145], [694, 2146], [694, 2150], [693, 2151], [693, 2155], [692, 2156], [692, 2159], [691, 2160], [691, 2163], [690, 2164], [690, 2166], [689, 2167], [689, 2169], [688, 2170], [688, 2172], [687, 2173], [687, 2174], [686, 2175], [686, 2176], [685, 2177], [685, 2178], [684, 2179], [684, 2180], [683, 2181], [683, 2182], [682, 2183], [682, 2184], [681, 2185], [681, 2186], [680, 2187], [680, 2188], [679, 2189], [679, 2190], [678, 2191], [678, 2192], [677, 2193], [677, 2194], [676, 2195], [676, 2196], [675, 2197], [675, 2198], [674, 2199], [674, 2200], [671, 2203], [671, 2204], [668, 2207], [668, 2208], [665, 2211], [665, 2212], [661, 2216], [661, 2217], [647, 2231], [646, 2231], [642, 2235], [641, 2235], [638, 2238], [637, 2238], [634, 2241], [633, 2241], [630, 2244], [629, 2244], [628, 2245], [627, 2245], [626, 2246], [625, 2246], [624, 2247], [623, 2247], [622, 2248], [621, 2248], [620, 2249], [619, 2249], [618, 2250], [617, 2250], [616, 2251], [615, 2251], [614, 2252], [613, 2252], [612, 2253], [611, 2253], [610, 2254], [609, 2254], [608, 2255], [607, 2255], [606, 2256], [605, 2256], [604, 2257], [603, 2257], [602, 2258], [600, 2258], [599, 2259], [597, 2259], [596, 2260], [594, 2260], [593, 2261], [590, 2261], [589, 2262], [586, 2262], [585, 2263], [581, 2263], [580, 2264], [576, 2264], [575, 2265], [570, 2265], [569, 2266], [563, 2266], [562, 2267], [556, 2267], [555, 2268], [549, 2268], [548, 2267], [542, 2267], [541, 2266], [535, 2266], [534, 2265], [528, 2265], [527, 2264], [523, 2264], [522, 2263], [518, 2263], [517, 2262], [514, 2262], [513, 2261], [510, 2261], [509, 2260], [507, 2260], [506, 2259], [504, 2259], [503, 2258], [501, 2258], [500, 2257], [499, 2257], [498, 2256], [497, 2256], [496, 2255], [495, 2255], [494, 2254], [493, 2254], [492, 2253], [491, 2253], [490, 2252], [489, 2252], [488, 2251], [487, 2251], [486, 2250], [485, 2250], [484, 2249], [483, 2249], [482, 2248], [481, 2248], [480, 2247], [479, 2247], [478, 2246], [0, 0], [477, 2246], [456, 2231], [429, 2200], [415, 2172], [410, 2144], [440, 2144], [456, 2183], [490, 2217], [535, 2234], [555, 2236], [578, 2232], [613, 2217], [647, 2183], [661, 2152], [666, 2125], [658, 2082], [647, 2060], [626, 2036], [591, 2015], [573, 2010], [545, 2008], [512, 2015], [490, 2026], [466, 2047], [445, 2082], [442, 2101], [472, 2101], [483, 2077], [498, 2060], [537, 2041], [558, 2040], [580, 2045], [600, 2056], [620, 2077], [634, 2119], [631, 2141], [620, 2166], [596, 2190], [555, 2204], [523, 2198], [498, 2183], [483, 2166], [474, 2145], [456, 2122], [408, 2121], [408, 2100], [415, 2071], [438, 2032], [438, 1781], [388, 1775], [364, 1761], [345, 1740], [199, 1485], [194, 1458], [199, 1429], [345, 1174], [371, 1148], [387, 1140], [414, 1135], [553, 1135], [555, 1199], [693, 1199], [702, 1202], [803, 1372], [702, 1202], [693, 1199], [555, 1199], [553, 1135], [414, 1135], [387, 1140], [371, 1148], [345, 1174], [199, 1429], [194, 1456], [199, 1485], [345, 1740], [364, 1761], [388, 1775], [438, 1781], [438, 2032], [415, 2071], [408, 2100], [408, 2121], [456, 2122], [474, 2145], [483, 2166], [498, 2183], [523, 2198], [555, 2204], [596, 2190], [620, 2166], [634, 2125], [631, 2102], [620, 2077], [605, 2060], [580, 2045], [558, 2040], [537, 2041], [498, 2060], [483, 2077], [472, 2101], [442, 2101], [445, 2082], [466, 2047], [490, 2026], [521, 2012], [545, 2008], [578, 2011], [613, 2026], [626, 2036], [647, 2060], [661, 2091], [665, 2132], [658, 2161], [647, 2183], [613, 2217], [578, 2232], [555, 2236], [535, 2234], [490, 2217], [456, 2183], [440, 2144], [409, 2145], [415, 2172], [429, 2200], [456, 2231], [476, 2245], [460, 2278], [465, 2332], [454, 2386], [506, 2368], [495, 2332], [505, 2293], [528, 2298], [526, 2333], [534, 2363], [557, 2361], [555, 2301], [579, 2297], [588, 2329], [582, 2364], [609, 2370], [618, 2330], [606, 2291], [645, 2272], [642, 2332], [666, 2434], [680, 2448], [707, 2423], [762, 2403], [817, 2376], [803, 2451], [770, 2447], [735, 2465], [748, 2491], [773, 2478], [793, 2481], [796, 2486], [790, 2513], [771, 2510], [756, 2515], [762, 2540], [784, 2545], [779, 2573], [765, 2573], [763, 2602], [772, 2606], [765, 2634], [756, 2636], [745, 2662], [753, 2667], [737, 2694], [729, 2691], [712, 2713], [719, 2720], [696, 2742], [690, 2735], [666, 2753], [670, 2759], [642, 2775], [637, 2768], [610, 2777], [610, 2786], [580, 2790], [573, 2784], [548, 2786], [546, 2792], [515, 2790], [513, 2780], [489, 2774], [484, 2782], [455, 2770], [458, 2762], [431, 2746], [427, 2753], [401, 2733], [408, 2725], [386, 2702], [380, 2708], [363, 2685], [368, 2675], [357, 2651], [347, 2652], [339, 2623], [347, 2619], [343, 2591], [332, 2592], [327, 2566], [335, 2559], [343, 2561], [347, 2531], [337, 2528], [321, 2531], [315, 2502], [335, 2496], [354, 2503], [365, 2480], [336, 2465], [309, 2470], [303, 2440], [339, 2434], [375, 2460], [403, 2426], [347, 2405], [295, 2377], [86, 1441], [56, 1440], [65, 1352], [128, 1030], [135, 1020], [172, 1000], [197, 1000], [216, 993], [230, 980], [237, 967], [315, 576], [314, 557], [307, 541], [291, 526], [268, 518], [237, 484], [248, 416], [0, 0], [924, 987], [924, 990], [925, 991], [925, 996], [926, 997], [926, 1001], [927, 1002], [927, 1006], [928, 1007], [928, 1011], [929, 1012], [929, 1016], [930, 1017], [930, 1021], [931, 1022], [931, 1026], [932, 1027], [932, 1031], [933, 1032], [933, 1037], [934, 1038], [934, 1042], [935, 1043], [935, 1047], [936, 1048], [936, 1052], [937, 1053], [937, 1057], [938, 1058], [938, 1062], [939, 1063], [939, 1067], [940, 1068], [940, 1072], [941, 1073], [941, 1077], [942, 1078], [942, 1083], [943, 1084], [943, 1088], [944, 1089], [944, 1093], [945, 1094], [945, 1098], [946, 1099], [946, 1103], [947, 1104], [947, 1108], [948, 1109], [948, 1113], [949, 1114], [949, 1118], [950, 1119], [950, 1125], [951, 1126], [951, 1160], [950, 1161], [950, 1166], [949, 1167], [949, 1168], [944, 1173], [943, 1173], [942, 1174], [941, 1174], [940, 1175], [939, 1175], [938, 1176], [937, 1176], [936, 1177], [935, 1177], [932, 1179], [930, 1179], [929, 1180], [928, 1180], [927, 1181], [926, 1181], [925, 1182], [924, 1182], [923, 1183], [922, 1183], [921, 1184], [920, 1184], [919, 1185], [918, 1185], [915, 1187], [913, 1187], [912, 1188], [911, 1188], [910, 1189], [909, 1189], [908, 1190], [907, 1190], [906, 1191], [905, 1191], [904, 1192], [903, 1192], [902, 1193], [901, 1193], [898, 1195], [896, 1195], [895, 1196], [863, 1196], [862, 1195], [862, 1161], [894, 1161], [895, 1160], [896, 1160], [897, 1159], [898, 1159], [899, 1158], [900, 1158], [903, 1156], [905, 1156], [906, 1155], [907, 1155], [908, 1154], [909, 1154], [910, 1153], [911, 1153], [912, 1152], [913, 1152], [914, 1151], [917, 1150], [918, 1149], [918, 1126], [917, 1125], [862, 1125], [862, 1093], [910, 1093], [911, 1092], [911, 1089], [910, 1088], [910, 1084], [909, 1083], [909, 1078], [908, 1077], [908, 1073], [907, 1072], [907, 1068], [906, 1067], [906, 1063], [904, 1061], [862, 1061], [862, 1029], [898, 1029], [899, 1028], [899, 1027], [898, 1026], [898, 1022], [897, 1021], [897, 1017], [896, 1016], [896, 1012], [895, 1011], [895, 1007], [894, 1006], [894, 1002], [893, 1001], [893, 998], [892, 997], [862, 997], [862, 965], [885, 965], [886, 964], [886, 961], [885, 960], [885, 956], [884, 955], [884, 951], [883, 950], [883, 945], [882, 944], [882, 940], [881, 939], [881, 935], [879, 933], [862, 933], [862, 859], [861, 858], [861, 854], [860, 853], [860, 850], [856, 846], [855, 846], [853, 844], [852, 844], [849, 841], [848, 841], [843, 837], [842, 837], [829, 850], [829, 1134], [814, 1134], [809, 1139], [808, 1139], [807, 1140], [806, 1140], [805, 1141], [804, 1141], [801, 1143], [801, 1155], [802, 1156], [802, 1157], [804, 1159], [804, 1160], [805, 1161], [806, 1164], [808, 1166], [808, 1167], [809, 1168], [810, 1171], [812, 1173], [813, 1176], [815, 1178], [829, 1178], [829, 1212], [828, 1213], [814, 1213], [0, 0], [842, 1696], [871, 1709], [871, 1736], [879, 1737], [879, 1757], [871, 1758], [871, 1780], [879, 1781], [879, 1801], [871, 1802], [871, 1854], [884, 1867], [902, 1853], [913, 1796], [912, 1744], [943, 1743], [949, 1749], [951, 1791], [939, 1852], [873, 1877], [873, 1904], [929, 1905], [922, 1935], [873, 1935], [873, 1966], [915, 1966], [916, 1972], [910, 1997], [873, 1997], [873, 2028], [903, 2028], [898, 2059], [873, 2059], [873, 2090], [891, 2090], [887, 2120], [873, 2121], [872, 2152], [879, 2152], [871, 2200], [841, 2201], [840, 1766], [830, 1757], [807, 1771], [807, 2227], [822, 2227], [840, 2233], [842, 2251], [839, 2259], [807, 2259], [807, 2291], [834, 2292], [826, 2330], [807, 2331], [806, 2363], [745, 2389], [713, 2389], [712, 2373], [689, 2372], [687, 2343], [712, 2342], [712, 2311], [686, 2311], [685, 2280], [712, 2280], [712, 2249], [683, 2248], [683, 2240], [698, 2221], [712, 2218], [712, 1830], [679, 1831], [678, 2000], [648, 2000], [633, 1988], [584, 1966], [583, 1829], [551, 1831], [550, 1961], [504, 1971], [464, 1969], [456, 1955], [457, 1816], [487, 1817], [488, 1929], [492, 1932], [520, 1929], [520, 1799], [614, 1798], [615, 1935], [644, 1940], [648, 1936], [648, 1799], [678, 1798], [712, 1791], [743, 1792], [743, 2332], [748, 2337], [775, 2332], [776, 1740], [803, 1698], [841, 1696], [845, 1678], [943, 1726], [952, 1689], [957, 1652], [868, 1620], [885, 1593], [965, 1621], [969, 1590], [901, 1563], [916, 1538], [976, 1558], [981, 1522], [930, 1513], [942, 1487], [986, 1488], [986, 1457], [948, 1458], [942, 1432], [946, 1428], [985, 1422], [980, 1388], [932, 1404], [917, 1378], [975, 1356], [971, 1324], [901, 1349], [884, 1321], [963, 1294], [959, 1262], [868, 1293], [838, 1242], [936, 1193], [798, 1213], [768, 1164], [734, 1134], [732, 566], [706, 562], [701, 567], [701, 1117], [606, 1117], [606, 568], [575, 568], [573, 1117], [478, 1117], [478, 621], [470, 615], [445, 624], [445, 1117], [402, 1123], [383, 1131], [350, 1130], [350, 978], [336, 966], [319, 980], [317, 989], [317, 1203], [306, 1216], [268, 1217], [223, 1197], [222, 1140], [210, 1128], [191, 1142], [189, 1152], [160, 1152], [0, 0], [172, 1762], [189, 1762], [191, 1774], [210, 1787], [222, 1775], [224, 1718], [269, 1698], [305, 1699], [317, 1713], [317, 2324], [345, 2331], [350, 2326], [351, 2297], [365, 2297], [383, 2283], [394, 2281], [405, 2286], [406, 2253], [350, 2252], [351, 2222], [392, 2222], [376, 2191], [350, 2190], [350, 2161], [364, 2160], [359, 2129], [350, 2128], [350, 2099], [358, 2098], [358, 2067], [350, 2066], [350, 2037], [358, 2036], [358, 2005], [350, 2004], [350, 1975], [358, 1974], [358, 1943], [350, 1942], [350, 1913], [358, 1912], [358, 1881], [350, 1880], [350, 1851], [358, 1850], [358, 1820], [350, 1818], [350, 1785], [381, 1784], [389, 1793], [390, 2121], [400, 2167], [418, 2203], [438, 2229], [435, 2325], [405, 2325], [393, 2314], [381, 2326], [380, 2384], [350, 2384], [286, 2355], [286, 2315], [278, 2314], [272, 2276], [286, 2276], [286, 2244], [264, 2243], [258, 2213], [286, 2212], [286, 2180], [253, 2180], [250, 2172], [251, 2155], [271, 2148], [286, 2148], [286, 1749], [275, 1745], [253, 1751], [253, 2121], [222, 2121], [214, 2071], [220, 2071], [220, 2033], [205, 2032], [201, 2004], [220, 2004], [220, 1975], [194, 1975], [188, 1948], [220, 1946], [220, 1917], [183, 1917], [178, 1888], [220, 1888], [220, 1859], [172, 1859], [167, 1830], [220, 1830], [220, 1816], [210, 1820], [198, 1818], [174, 1802], [160, 1801], [158, 1763], [171, 1762], [172, 1725], [270, 1674], [236, 1617], [148, 1649], [144, 1617], [220, 1588], [204, 1561], [137, 1586], [129, 1553], [189, 1534], [175, 1510], [125, 1519], [121, 1497], [122, 1485], [165, 1482], [161, 1454], [121, 1451], [121, 1419], [166, 1426], [177, 1402], [126, 1383], [131, 1352], [192, 1374], [208, 1347], [139, 1320], [143, 1289], [224, 1318], [241, 1290], [150, 1257], [163, 1186], [263, 1234], [158, 1151], [158, 1122], [170, 1060], [180, 1050], [222, 1039], [252, 1039], [253, 1074], [201, 1079], [196, 1099], [209, 1095], [220, 1097], [238, 1111], [253, 1111], [253, 1165], [279, 1172], [286, 1167], [287, 954], [301, 953], [326, 935], [348, 935], [347, 925], [293, 925], [299, 896], [348, 895], [347, 867], [304, 867], [310, 838], [348, 837], [347, 809], [316, 809], [322, 780], [348, 779], [348, 752], [327, 751], [333, 722], [348, 721], [348, 686], [341, 685], [349, 644], [381, 643], [382, 1088], [414, 1086], [414, 593], [479, 544], [509, 545], [510, 1087], [542, 1086], [543, 537], [580, 533], [607, 525], [637, 526], [637, 1086], [670, 1086], [671, 509], [702, 509], [765, 537], [765, 1103], [791, 1112], [798, 1105], [799, 564], [831, 564], [844, 578], [848, 599], [831, 600], [831, 629], [854, 630], [860, 661], [831, 662], [831, 691], [866, 692], [872, 723], [832, 723], [831, 753], [878, 754], [884, 785], [832, 785], [831, 807], [853, 806], [878, 823], [892, 823], [893, 904], [908, 906], [924, 986], [0, 0], [143, 988], [142, 963], [144, 941], [148, 925], [148, 919], [155, 889], [158, 868], [165, 838], [210, 603], [218, 568], [221, 547], [226, 533], [231, 525], [0, 0], [231, 524], [0, 0]]\n",
      "trocou para 1\n",
      "trocou para 0\n",
      "trocou para 2\n",
      "Deslocamento total da camada 0 = 5250.274474315452mm\n",
      "Tempo estimado com Vel=360.0mm/min = 14.584095761987365min\n",
      "\n",
      "Total de [Cuspindo o Gcode] : 4.477590560913086\n"
     ]
    }
   ],
   "source": [
    "import gui\n",
    "import files\n",
    "from timer import Timer\n",
    "from components import layer, path_tools\n",
    "from os import getcwd\n",
    "\n",
    "if not('folders' in globals()):\n",
    "    home = getcwd()\n",
    "    folders = files.System_Paths(home)\n",
    "    gui.find_saved_file(folders)\n",
    "[vel_int, vel_ext, vel_thin_wall, vel_vazio, p_religamento, p_desligamento, p_entre_int_ext, p_entre_camadas, substratoy, substratox, cortey, cortex] = gui.ask_parameters_Gcode()\n",
    "coords_substrato = [substratoy, substratox]\n",
    "coords_corte = [cortey, cortex]\n",
    "camadas = folders.load_layers_hdf5()\n",
    "\n",
    "#layer_heights = [10+2.9+3+(i*1.5) for i,x in enumerate(camadas)]\n",
    "layer_heights = [20+8+2+(i*1.5) for i,x in enumerate(camadas)]\n",
    "with Timer(\"Cuspindo o Gcode\"):\n",
    "    path_tools.layers_to_Gcode(camadas, \n",
    "                               folders, \n",
    "                               vel_int,\n",
    "                               vel_ext, \n",
    "                               vel_vazio,\n",
    "                               vel_thin_wall, \n",
    "                               p_religamento,\n",
    "                               p_desligamento,\n",
    "                               p_entre_int_ext,\n",
    "                               p_entre_camadas,\n",
    "                               layer_heights,\n",
    "                               coords_substrato,\n",
    "                               coords_corte,\n",
    "                               )\n",
    "%reset_selective -f \"camadas\""
   ]
  },
  {
   "cell_type": "code",
   "execution_count": 44,
   "metadata": {},
   "outputs": [],
   "source": [
    "# import numpy as np\n",
    "# camadas = folders.load_layers_hdf5()\n",
    "# for c in camadas:\n",
    "#     folders.load_islands_hdf5(c)\n",
    "#     for isl in c.islands:\n",
    "#         folders.load_island_paths_hdf5(c.name, isl)\n",
    "#         internal_trees = [list(x) for x in isl.internal_tree_route.sequence]\n",
    "#         print(internal_trees)\n",
    "# print([235,807] in internal_trees)"
   ]
  },
  {
   "cell_type": "code",
   "execution_count": 45,
   "metadata": {},
   "outputs": [],
   "source": [
    "# import matplotlib.pyplot as plt\n",
    "# from mpl_toolkits.mplot3d import Axes3D\n",
    "# import numpy as np\n",
    "\n",
    "# # Lista de imagens binárias (exemplo com arrays numpy)\n",
    "# imagens = [\n",
    "#     img_mapping,\n",
    "#     img_mapping,\n",
    "#     img_mapping\n",
    "# ]\n",
    "\n",
    "# # Lista de alturas no eixo z\n",
    "# alturas = [0, 10, 20]\n",
    "\n",
    "# fig = plt.figure()\n",
    "# ax = fig.add_subplot(111, projection='3d')\n",
    "\n",
    "# for img, z in zip(imagens, alturas):\n",
    "#     x = np.linspace(0, img.shape[1], img.shape[1])\n",
    "#     y = np.linspace(0, img.shape[0], img.shape[0])\n",
    "#     x, y = np.meshgrid(x, y)\n",
    "#     z = np.full_like(x, z)\n",
    "#     ax.plot_surface(x, y, z, rstride=1, cstride=1, facecolors=plt.cm.gray(img), shade=False)\n",
    "\n",
    "# ax.set_xlabel('X')\n",
    "# ax.set_ylabel('Y')\n",
    "# ax.set_zlabel('Z')\n",
    "# plt.show()\n"
   ]
  },
  {
   "cell_type": "code",
   "execution_count": 46,
   "metadata": {},
   "outputs": [],
   "source": [
    "# import gui\n",
    "# import files\n",
    "# from timer import Timer\n",
    "# from components import layer, path_tools\n",
    "# from os import getcwd\n",
    "\n",
    "# if not('folders' in globals()):\n",
    "#     home = getcwd()\n",
    "#     folders = files.System_Paths(home)\n",
    "#     gui.find_saved_file(folders)\n",
    "# camadas = folders.load_layers_hdf5()\n",
    "\n",
    "# file_name = gui.find_saved_file(folders)\n",
    "# path_tools.layers_to_Gcode_FFF(camadas, folders, file_name)"
   ]
  },
  {
   "cell_type": "code",
   "execution_count": 47,
   "metadata": {},
   "outputs": [],
   "source": [
    "# class TrafficLightState:\n",
    "#     \"\"\"Base class for traffic light states.\"\"\"\n",
    "#     def change(self, traffic_light):\n",
    "#         raise NotImplementedError(\"This method should be overridden by subclasses\")\n",
    "\n",
    "\n",
    "# class RedState(TrafficLightState):\n",
    "#     \"\"\"State representing the red light.\"\"\"\n",
    "#     def change(self, traffic_light):\n",
    "#         print(\"Changing from Red to Green\")\n",
    "#         traffic_light.state = GreenState()\n",
    "\n",
    "\n",
    "# class YellowState(TrafficLightState):\n",
    "#     \"\"\"State representing the yellow light.\"\"\"\n",
    "#     def change(self, traffic_light):\n",
    "#         print(\"Changing from Yellow to Red\")\n",
    "#         traffic_light.state = RedState()\n",
    "\n",
    "\n",
    "# class GreenState(TrafficLightState):\n",
    "#     \"\"\"State representing the green light.\"\"\"\n",
    "#     def change(self, traffic_light):\n",
    "#         print(\"Changing from Green to Yellow\")\n",
    "#         traffic_light.state = YellowState()\n",
    "\n",
    "\n",
    "# class TrafficLight:\n",
    "#     \"\"\"Traffic light class that uses a state machine.\"\"\"\n",
    "#     def __init__(self):\n",
    "#         self.state = RedState()  # Initial state\n",
    "\n",
    "#     def change(self):\n",
    "#         \"\"\"Change the state of the traffic light.\"\"\"\n",
    "#         self.state.change(self)\n",
    "\n",
    "#     def __str__(self):\n",
    "#         return f\"Current state: {self.state.__class__.__name__}\"\n",
    "\n",
    "\n",
    "# # Example usage\n",
    "# if __name__ == \"__main__\":\n",
    "#     traffic_light = TrafficLight()\n",
    "    \n",
    "#     # Simulate the traffic light changing states\n",
    "#     for _ in range(6):  # Change state 6 times\n",
    "#         print(traffic_light)\n",
    "#         traffic_light.change()"
   ]
  },
  {
   "cell_type": "code",
   "execution_count": 48,
   "metadata": {},
   "outputs": [],
   "source": [
    "# import numpy as np\n",
    "# import cv2  # Assuming you are using OpenCV for image processing\n",
    "\n",
    "# def bobobo(image1, image2):\n",
    "#     \"\"\"A placeholder function that performs some operation on two images.\"\"\"\n",
    "#     # For demonstration, let's just return the absolute difference between the two images\n",
    "#     return cv2.absdiff(image1, image2)\n",
    "\n",
    "# def process_images(image_list):\n",
    "#     \"\"\"Process a list of images, comparing the last two with the current image.\"\"\"\n",
    "#     for i in range(len(image_list)):\n",
    "#         current_image = image_list[i]\n",
    "        \n",
    "#         # Check if there are at least two previous images to compare\n",
    "#         if i >= 2:\n",
    "#             last_image = image_list[i - 1]\n",
    "#             second_last_image = image_list[i - 2]\n",
    "            \n",
    "#             # Apply the bobobo function to the current image and the last two images\n",
    "#             result_last = bobobo(current_image, last_image)\n",
    "#             result_second_last = bobobo(current_image, second_last_image)\n",
    "            \n",
    "#             # Here you can do something with the results, like saving or displaying them\n",
    "#             # For demonstration, we'll just print the shapes of the results\n",
    "#             print(f\"Comparing image {i} with last image {i-1}: result shape = {result_last.shape}\")\n",
    "#             print(f\"Comparing image {i} with second last image {i-2}: result shape = {result_second_last.shape}\")\n",
    "\n",
    "# # Example usage\n",
    "# if __name__ == \"__main__\":\n",
    "#     # Create a list of dummy images (for demonstration purposes)\n",
    "#     # In practice, you would load your images using cv2.imread or similar\n",
    "#     image_list = [np.random.randint(0, 256, (100, 100, 3), dtype=np.uint8) for _ in range(5)]\n",
    "    \n",
    "#     process_images(image_list)"
   ]
  }
 ],
 "metadata": {
  "kernelspec": {
   "display_name": "base",
   "language": "python",
   "name": "python3"
  },
  "language_info": {
   "codemirror_mode": {
    "name": "ipython",
    "version": 3
   },
   "file_extension": ".py",
   "mimetype": "text/x-python",
   "name": "python",
   "nbconvert_exporter": "python",
   "pygments_lexer": "ipython3",
   "version": "3.11.4"
  }
 },
 "nbformat": 4,
 "nbformat_minor": 2
}
