{
 "cells": [
  {
   "cell_type": "markdown",
   "metadata": {},
   "source": [
    "Importa o modelo a ser fatiado e mapeado"
   ]
  },
  {
   "cell_type": "code",
   "execution_count": null,
   "metadata": {
    "notebookRunGroups": {
     "groupValue": "1"
    }
   },
   "outputs": [],
   "source": [
    "import matplotlib.pyplot as plt\n",
    "import gui\n",
    "import files\n",
    "from timer import Timer\n",
    "from components.layer import Layer\n",
    "from os import getcwd\n",
    "\n",
    "if not('folders' in globals()):\n",
    "    home = getcwd()\n",
    "    folders = files.System_Paths(home)\n",
    "choice = gui.ask_load_or_begin()\n",
    "if choice == \"Novo Projeto\":\n",
    "    path_input, file_name = gui.load_model(folders)\n",
    "    [dpi, layer_height] = gui.ask_parameters_input()\n",
    "    with Timer(\"Fase 0: \"):\n",
    "        Layer.create_layers(folders, path_input, file_name, dpi, layer_height)\n",
    "elif choice == \"Carregar Salvo\":\n",
    "    gui.find_saved_file(folders)\n",
    "elif choice == \"Cancelar\":\n",
    "    quit\n",
    "\n",
    "#TODO: encontrar uma forma de jogar layerHight para o slicing W/images (POSSIVELMENTE COM O RUNSINGLEMODEL)"
   ]
  },
  {
   "cell_type": "markdown",
   "metadata": {},
   "source": [
    "Paredes Finas"
   ]
  },
  {
   "cell_type": "code",
   "execution_count": null,
   "metadata": {},
   "outputs": [],
   "source": [
    "import gui\n",
    "import files\n",
    "from timer import Timer\n",
    "from os import getcwd\n",
    "\n",
    "if not('folders' in globals()):\n",
    "    home = getcwd()\n",
    "    folders = files.System_Paths(home)\n",
    "    gui.find_saved_file(folders)\n",
    "[nozzle_diam_internal,nozzle_diam_external] = gui.ask_parameters_thin_walls()\n",
    "camadas = folders.load_layers_hdf5()\n",
    "for i,c in enumerate(camadas):\n",
    "    with Timer(\"Fase 1: Camada: \" + str(i)):\n",
    "        folders.load_islands_hdf5(c)\n",
    "        c.make_thin_walls(folders, nozzle_diam_external, nozzle_diam_internal)\n",
    "        %reset_selective -f \"c\"\n",
    "%reset_selective -f \"camadas\"\n",
    "# TODO: arvore de paredes finas\n",
    "# TODO: quando duas áreas se encontram\n",
    "# TODO: limite de parede diam minimo\n",
    "# TODO: anotar todos os (não fechou contorno)\n",
    "# TODO arrumar para origens extremamente pequenas, ignorar da problema\n",
    "# TODO arrumar casos onde a beirada esta vazndo criando areas triangulares distantes\n",
    "# FIXME: Precisa mesmo separar linha 1 2 topo e baixo? muitos elementos estão sendo criados"
   ]
  },
  {
   "cell_type": "markdown",
   "metadata": {},
   "source": [
    "Contornos"
   ]
  },
  {
   "cell_type": "code",
   "execution_count": null,
   "metadata": {},
   "outputs": [],
   "source": [
    "import gui\n",
    "import files\n",
    "from timer import Timer\n",
    "from components import layer\n",
    "from os import getcwd\n",
    "\n",
    "if not('folders' in globals()):\n",
    "    home = getcwd()\n",
    "    folders = files.System_Paths(home)\n",
    "    gui.find_saved_file(folders)\n",
    "[void_max,internal_max,external_max] = gui.ask_parameters_offsets()\n",
    "camadas = folders.load_layers_hdf5()\n",
    "for i,c in enumerate(camadas):\n",
    "    with Timer(\"Fase 2: Camada: \" + str(i)):\n",
    "        folders.load_islands_hdf5(c)\n",
    "        c.make_offsets(folders, void_max, external_max, internal_max)\n",
    "        folders.save_props_hdf5(f\"/{c.name}\",c.__dict__)\n",
    "        %reset_selective -f \"c\"\n",
    "%reset_selective -f \"camadas\""
   ]
  },
  {
   "cell_type": "markdown",
   "metadata": {},
   "source": [
    "Pontes"
   ]
  },
  {
   "cell_type": "code",
   "execution_count": null,
   "metadata": {},
   "outputs": [],
   "source": [
    "import gui\n",
    "import files\n",
    "from timer import Timer\n",
    "from components import layer\n",
    "from os import getcwd\n",
    "\n",
    "if not('folders' in globals()):\n",
    "    home = getcwd()\n",
    "    folders = files.System_Paths(home)\n",
    "    gui.find_saved_file(folders)\n",
    "[n_max, nozzle_diam_internal] = gui.ask_parameters_bridges()\n",
    "camadas = folders.load_layers_hdf5()\n",
    "for i,c in enumerate(camadas):\n",
    "    with Timer(\"Fase 3: Camada: \" + str(i)):\n",
    "        c.make_bridges(n_max, nozzle_diam_internal, folders)\n",
    "        folders.save_props_hdf5(f\"/{c.name}\",c.__dict__)\n",
    "        %reset_selective -f \"c\" \n",
    "%reset_selective -f \"camadas\""
   ]
  },
  {
   "cell_type": "markdown",
   "metadata": {},
   "source": [
    "Zigzags"
   ]
  },
  {
   "cell_type": "code",
   "execution_count": null,
   "metadata": {},
   "outputs": [],
   "source": [
    "import gui\n",
    "import files\n",
    "from timer import Timer\n",
    "from components import layer\n",
    "from os import getcwd\n",
    "\n",
    "if not('folders' in globals()):\n",
    "    home = getcwd()\n",
    "    folders = files.System_Paths(home)\n",
    "    gui.find_saved_file(folders)\n",
    "camadas = folders.load_layers_hdf5() \n",
    "for i, c in enumerate(camadas):\n",
    "    with Timer(\"Fase 4: Camada: \" + str(i)):\n",
    "        c.make_zigzags(folders)\n",
    "        %reset_selective -f \"c\"\n",
    "%reset_selective -f \"camadas\"\n"
   ]
  },
  {
   "cell_type": "code",
   "execution_count": null,
   "metadata": {},
   "outputs": [],
   "source": [
    "import gui\n",
    "import files\n",
    "from timer import Timer\n",
    "from components import images_tools as it\n",
    "from os import getcwd\n",
    "import matplotlib.pyplot as plt\n",
    "import matplotlib.colors\n",
    "import os\n",
    "\n",
    "if not('folders' in globals()):\n",
    "    home = getcwd()\n",
    "    folders = files.System_Paths(home)\n",
    "    gui.find_saved_file(folders)\n",
    "camadas = folders.load_layers_hdf5() \n",
    "for c in camadas:\n",
    "    folders.load_islands_hdf5(c)\n",
    "tangran_cmap = matplotlib.colors.ListedColormap([\"white\",\"darkblue\",\"aqua\",\"aquamarine\",\"blue\",\"black\",\"green\",\"indigo\",\"red\",\"orange\"])\n",
    "for i, c in enumerate(camadas):\n",
    "    with Timer(\"Fase 4: Camada: \" + str(i)):\n",
    "        plt.figure()\n",
    "        img_mapping = it.final_mapping(c, folders)\n",
    "        plt.imshow(img_mapping, cmap=tangran_cmap, vmin=0, vmax=1000)\n",
    "        plt.colorbar()\n",
    "        print('\\n')"
   ]
  },
  {
   "cell_type": "markdown",
   "metadata": {},
   "source": [
    "ROTAS"
   ]
  },
  {
   "cell_type": "markdown",
   "metadata": {},
   "source": [
    "Rotas de Offset"
   ]
  },
  {
   "cell_type": "code",
   "execution_count": null,
   "metadata": {},
   "outputs": [],
   "source": [
    "import gui\n",
    "import files\n",
    "from timer import Timer\n",
    "from os import getcwd\n",
    "\n",
    "if not('folders' in globals()):\n",
    "    home = getcwd()\n",
    "    folders = files.System_Paths(home)\n",
    "    gui.find_saved_file(folders)\n",
    "camadas = folders.load_layers_hdf5()\n",
    "\n",
    "amendment_size = 0.7 #porcentagem do tamanho da poca de deposicao de material\n",
    "for c in camadas:\n",
    "    with Timer(\"Making offset routes\"):\n",
    "        c.make_offset_routes(amendment_size, folders)\n",
    "        %reset_selective -f \"c\"\n",
    "%reset_selective -f \"camadas\""
   ]
  },
  {
   "cell_type": "markdown",
   "metadata": {},
   "source": [
    "Rotas de pontes"
   ]
  },
  {
   "cell_type": "code",
   "execution_count": null,
   "metadata": {},
   "outputs": [],
   "source": [
    "import gui\n",
    "import files\n",
    "from timer import Timer\n",
    "from os import getcwd\n",
    "\n",
    "if not('folders' in globals()):\n",
    "    home = getcwd()\n",
    "    folders = files.System_Paths(home)\n",
    "    gui.find_saved_file(folders)\n",
    "camadas = folders.load_layers_hdf5()\n",
    "for c in camadas:\n",
    "    with Timer(\"Making bridges routes\"):\n",
    "        c.make_bridges_routes(folders)\n",
    "        %reset_selective -f \"c\"\n",
    "%reset_selective -f \"camadas\""
   ]
  },
  {
   "cell_type": "markdown",
   "metadata": {},
   "source": [
    "Rotas de Ziguezague"
   ]
  },
  {
   "cell_type": "code",
   "execution_count": null,
   "metadata": {},
   "outputs": [],
   "source": [
    "import gui\n",
    "import files\n",
    "from timer import Timer\n",
    "from os import getcwd\n",
    "\n",
    "if not('folders' in globals()):\n",
    "    home = getcwd()\n",
    "    folders = files.System_Paths(home)\n",
    "    gui.find_saved_file(folders)\n",
    "camadas = folders.load_layers_hdf5()\n",
    "for c in camadas:\n",
    "    with Timer(\"Making zigzag routes\"):\n",
    "        c.make_zigzag_routes(folders)\n",
    "        c.connect_zigzags(folders)\n",
    "        %reset_selective -f \"c\"\n",
    "%reset_selective -f \"camadas\""
   ]
  },
  {
   "cell_type": "markdown",
   "metadata": {},
   "source": [
    "Weaving"
   ]
  },
  {
   "cell_type": "code",
   "execution_count": null,
   "metadata": {},
   "outputs": [],
   "source": [
    "import gui\n",
    "import files\n",
    "from timer import Timer\n",
    "from os import getcwd\n",
    "\n",
    "if not('folders' in globals()):\n",
    "    home = getcwd()\n",
    "    folders = files.System_Paths(home)\n",
    "    gui.find_saved_file(folders)\n",
    "camadas = folders.load_layers_hdf5()\n",
    "[internal_weaving] = gui.ask_parameters_weaving()\n",
    "for c in camadas:\n",
    "    with Timer(\"Fase 5 b\"):\n",
    "        c.internal_weaving(internal_weaving, folders)\n",
    "        %reset_selective -f \"c\"\n",
    "%reset_selective -f \"camadas\"\n",
    "        # c.internal_weaving(internal_weaving, folders)"
   ]
  },
  {
   "cell_type": "markdown",
   "metadata": {},
   "source": [
    "Rotas de Thin Walls"
   ]
  },
  {
   "cell_type": "code",
   "execution_count": null,
   "metadata": {},
   "outputs": [],
   "source": [
    "import gui\n",
    "import files\n",
    "from timer import Timer\n",
    "from os import getcwd\n",
    "\n",
    "if not('folders' in globals()):\n",
    "    home = getcwd()\n",
    "    folders = files.System_Paths(home)\n",
    "    gui.find_saved_file(folders)\n",
    "camadas = folders.load_layers_hdf5()\n",
    "for c in camadas:\n",
    "    with Timer(\"Fase 5\"):\n",
    "        with Timer(\"Making thin walls routes\"):\n",
    "            c.make_thin_wall_routes(folders)\n",
    "            %reset_selective -f \"c\"\n",
    "%reset_selective -f \"camadas\""
   ]
  },
  {
   "cell_type": "markdown",
   "metadata": {},
   "source": [
    "Unificando rotas EXTERNAS nas camadas"
   ]
  },
  {
   "cell_type": "code",
   "execution_count": null,
   "metadata": {},
   "outputs": [],
   "source": [
    "import gui\n",
    "import files\n",
    "from timer import Timer\n",
    "from os import getcwd\n",
    "\n",
    "if not('folders' in globals()):\n",
    "    home = getcwd()\n",
    "    folders = files.System_Paths(home)\n",
    "    gui.find_saved_file(folders)\n",
    "camadas = folders.load_layers_hdf5()\n",
    "\n",
    "for c in camadas:\n",
    "    with Timer(\"Fase 6\"):\n",
    "        c.close_routes_external(folders)\n",
    "        %reset_selective -f \"c\"\n",
    "%reset_selective -f \"camadas\"\n",
    "    "
   ]
  },
  {
   "cell_type": "markdown",
   "metadata": {},
   "source": [
    "Unificando rotas INTERNAS nas camadas"
   ]
  },
  {
   "cell_type": "code",
   "execution_count": null,
   "metadata": {},
   "outputs": [],
   "source": [
    "import gui\n",
    "import files\n",
    "from timer import Timer\n",
    "from components import layer\n",
    "from os import getcwd\n",
    "\n",
    "if not('folders' in globals()):\n",
    "    home = getcwd()\n",
    "    folders = files.System_Paths(home)\n",
    "    gui.find_saved_file(folders)\n",
    "camadas = folders.load_layers_hdf5()\n",
    "\n",
    "for c in camadas:\n",
    "    with Timer(\"Fase 7\"):\n",
    "        c.close_routes_internal(folders)\n",
    "        %reset_selective -f \"c\"\n",
    "%reset_selective -f \"camadas\""
   ]
  },
  {
   "cell_type": "markdown",
   "metadata": {},
   "source": [
    "Unindo rotas de thin walls"
   ]
  },
  {
   "cell_type": "code",
   "execution_count": null,
   "metadata": {},
   "outputs": [],
   "source": [
    "import gui\n",
    "import files\n",
    "from timer import Timer\n",
    "from components import layer\n",
    "from os import getcwd\n",
    "\n",
    "if not('folders' in globals()):\n",
    "    home = getcwd()\n",
    "    folders = files.System_Paths(home)\n",
    "    gui.find_saved_file(folders)\n",
    "camadas = folders.load_layers_hdf5()\n",
    "\n",
    "for c in camadas:\n",
    "    with Timer(\"Fase 8\"):\n",
    "        c.close_routes_thinwalls(folders)\n",
    "        %reset_selective -f \"c\"\n",
    "%reset_selective -f \"camadas\""
   ]
  },
  {
   "cell_type": "markdown",
   "metadata": {},
   "source": [
    "Unindo todas as rotas e criando codigo G"
   ]
  },
  {
   "cell_type": "code",
   "execution_count": null,
   "metadata": {},
   "outputs": [],
   "source": [
    "import gui\n",
    "import files\n",
    "from timer import Timer\n",
    "from components import layer, path_tools\n",
    "from os import getcwd\n",
    "\n",
    "if not('folders' in globals()):\n",
    "    home = getcwd()\n",
    "    folders = files.System_Paths(home)\n",
    "    gui.find_saved_file(folders)\n",
    "camadas = folders.load_layers_hdf5()\n",
    "\n",
    "for c in camadas:\n",
    "    with Timer(\"Fase 9\"):\n",
    "        c.close_final_path(folders)\n",
    "    with Timer(\"Cuspindo o Gcode\"):\n",
    "        path_tools.layers_to_Gcode(camadas, folders)\n",
    "        %reset_selective -f \"c\"\n",
    "%reset_selective -f \"camadas\""
   ]
  },
  {
   "cell_type": "code",
   "execution_count": null,
   "metadata": {},
   "outputs": [],
   "source": [
    "# import matplotlib.pyplot as plt\n",
    "# from mpl_toolkits.mplot3d import Axes3D\n",
    "# import numpy as np\n",
    "\n",
    "# # Lista de imagens binárias (exemplo com arrays numpy)\n",
    "# imagens = [\n",
    "#     img_mapping,\n",
    "#     img_mapping,\n",
    "#     img_mapping\n",
    "# ]\n",
    "\n",
    "# # Lista de alturas no eixo z\n",
    "# alturas = [0, 10, 20]\n",
    "\n",
    "# fig = plt.figure()\n",
    "# ax = fig.add_subplot(111, projection='3d')\n",
    "\n",
    "# for img, z in zip(imagens, alturas):\n",
    "#     x = np.linspace(0, img.shape[1], img.shape[1])\n",
    "#     y = np.linspace(0, img.shape[0], img.shape[0])\n",
    "#     x, y = np.meshgrid(x, y)\n",
    "#     z = np.full_like(x, z)\n",
    "#     ax.plot_surface(x, y, z, rstride=1, cstride=1, facecolors=plt.cm.gray(img), shade=False)\n",
    "\n",
    "# ax.set_xlabel('X')\n",
    "# ax.set_ylabel('Y')\n",
    "# ax.set_zlabel('Z')\n",
    "# plt.show()\n"
   ]
  }
 ],
 "metadata": {
  "kernelspec": {
   "display_name": "plantcv",
   "language": "python",
   "name": "python3"
  },
  "language_info": {
   "codemirror_mode": {
    "name": "ipython",
    "version": 3
   },
   "file_extension": ".py",
   "mimetype": "text/x-python",
   "name": "python",
   "nbconvert_exporter": "python",
   "pygments_lexer": "ipython3",
   "version": "3.12.2"
  }
 },
 "nbformat": 4,
 "nbformat_minor": 2
}
