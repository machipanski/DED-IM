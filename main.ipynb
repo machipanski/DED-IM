{
 "cells": [
  {
   "cell_type": "markdown",
   "metadata": {},
   "source": [
    "Importa o modelo a ser fatiado e mapeado"
   ]
  },
  {
   "cell_type": "code",
   "execution_count": 2,
   "metadata": {
    "notebookRunGroups": {
     "groupValue": "1"
    }
   },
   "outputs": [
    {
     "name": "stdout",
     "output_type": "stream",
     "text": [
      "Fase 0: \n",
      "criando as camadas\n",
      "Total de [criando as camadas] : 0.25194263458251953\n",
      "salvando as camadas\n",
      "Total de [salvando as camadas] : 0.07463240623474121\n",
      "Total de [Fase 0: ] : 0.3285238742828369\n"
     ]
    }
   ],
   "source": [
    "import matplotlib.pyplot as plt\n",
    "import gui\n",
    "import files\n",
    "from timer import Timer\n",
    "from components.layer import Layer\n",
    "from os import getcwd\n",
    "\n",
    "if not('folders' in globals()):\n",
    "    home = getcwd()\n",
    "    folders = files.System_Paths(home)\n",
    "choice = gui.ask_load_or_begin()\n",
    "if choice == \"Novo Projeto\":\n",
    "    path_input, file_name = gui.load_model(folders)\n",
    "    [dpi, layer_height] = gui.ask_parameters_input()\n",
    "    with Timer(\"Fase 0: \"):\n",
    "        Layer.create_layers(folders, path_input, file_name, dpi, layer_height)\n",
    "elif choice == \"Carregar Salvo\":\n",
    "    gui.find_saved_file(folders)\n",
    "elif choice == \"Cancelar\":\n",
    "    quit\n",
    "\n",
    "#TODO: encontrar uma forma de jogar layerHight para o slicing W/images (POSSIVELMENTE COM O RUNSINGLEMODEL)"
   ]
  },
  {
   "cell_type": "markdown",
   "metadata": {},
   "source": [
    "Paredes Finas"
   ]
  },
  {
   "cell_type": "code",
   "execution_count": 3,
   "metadata": {},
   "outputs": [
    {
     "name": "stdout",
     "output_type": "stream",
     "text": [
      "Fase 1: Camada: 0\n",
      "Criando paredes finas\n",
      "OK: fechou contorno\n",
      "OK: fechou contorno\n",
      "OK: fechou contorno\n",
      "OK: fechou contorno\n",
      "salvando imagens das regiões\n",
      "Total de [salvando imagens das regiões] : 1.4299113750457764\n",
      "Retirando Paredes finas da camada\n",
      "Total de [Retirando Paredes finas da camada] : 0.1969928741455078\n",
      "Total de [Criando paredes finas] : 15.665294170379639\n",
      "Total de [Fase 1: Camada: 0] : 15.708912372589111\n"
     ]
    }
   ],
   "source": [
    "import gui\n",
    "import files\n",
    "from timer import Timer\n",
    "from os import getcwd\n",
    "\n",
    "if not('folders' in globals()):\n",
    "    home = getcwd()\n",
    "    folders = files.System_Paths(home)\n",
    "    gui.find_saved_file(folders)\n",
    "[nozzle_diam_internal,nozzle_diam_external] = gui.ask_parameters_thin_walls()\n",
    "camadas = folders.load_layers_hdf5()\n",
    "for i,c in enumerate(camadas):\n",
    "    with Timer(\"Fase 1: Camada: \" + str(i)):\n",
    "        folders.load_islands_hdf5(c)\n",
    "        c.make_thin_walls(folders, nozzle_diam_external, nozzle_diam_internal)\n",
    "        %reset_selective -f \"c\"\n",
    "%reset_selective -f \"camadas\"\n",
    "# TODO: arvore de paredes finas\n",
    "# TODO: quando duas áreas se encontram\n",
    "# TODO: limite de parede diam minimo\n",
    "# TODO: anotar todos os (não fechou contorno)\n",
    "# TODO arrumar para origens extremamente pequenas, ignorar da problema\n",
    "# TODO arrumar casos onde a beirada esta vazndo criando areas triangulares distantes\n",
    "# FIXME: Precisa mesmo separar linha 1 2 topo e baixo? muitos elementos estão sendo criados"
   ]
  },
  {
   "cell_type": "markdown",
   "metadata": {},
   "source": [
    "Contornos"
   ]
  },
  {
   "cell_type": "code",
   "execution_count": 4,
   "metadata": {},
   "outputs": [
    {
     "name": "stdout",
     "output_type": "stream",
     "text": [
      "Fase 2: Camada: 0\n",
      "Criando Lvls\n",
      "Ilha: I_000 Número de Níveis: 9\n",
      "Total de [Criando Lvls] : 7.678469896316528\n",
      "Criando os loops\n",
      "Total de [Criando os loops] : 4.367670774459839\n",
      "Criando regiões de influência\n",
      "Total de [Criando regiões de influência] : 0.3387303352355957\n",
      "Criando as regiões de Offset\n",
      "Total de [Criando as regiões de Offset] : 2.7217905521392822\n",
      "Retirando regiões da camada\n",
      "['Lvl_000', 0, 0] Perdendo total:2382 maior void:0.33877038895859474Bw -> aceito\n",
      "['Lvl_001', 0, 0] Perdendo total:1929 maior void:0.5872020075282308Bw -> aceito\n",
      "['Lvl_002', 0, 0] Perdendo total:1636 maior void:0.5131744040150564Bw -> aceito\n",
      "['Lvl_003', 0, 0] Perdendo total:1637 maior void:0.5131744040150564Bw -> aceito\n",
      "['Lvl_004', 0, 0] Perdendo total:9505 maior void:5.503136762860728Bw -> bloqueado\n",
      "['Lvl_000', 1, 0] Perdendo total:763 maior void:0.07779171894604768Bw -> aceito\n",
      "['Lvl_001', 1, 0] Perdendo total:507 maior void:0.06524466750313676Bw -> aceito\n",
      "['Lvl_002', 1, 0] Perdendo total:259 maior void:0.033877038895859475Bw -> aceito\n",
      "['Lvl_003', 1, 0] Perdendo total:540 maior void:0.2998745294855709Bw -> aceito\n",
      "['Lvl_005', 0, 1] Perdendo total:35267 maior void:20.28732747804266Bw -> bloqueado\n",
      "['Lvl_006', 0, 1] Perdendo total:7162 maior void:2.9473023839397743Bw -> bloqueado\n",
      "['Lvl_007', 0, 0] Perdendo total:3491 maior void:1.6060225846925973Bw -> bloqueado\n",
      "['Lvl_008', 0, 0] Perdendo total:2123 maior void:1.002509410288582Bw -> bloqueado\n",
      "['Lvl_005', 0, 2] Perdendo total:38374 maior void:20.909661229611043Bw -> bloqueado\n",
      "['Lvl_006', 0, 3] Perdendo total:7594 maior void:3.304893350062735Bw -> bloqueado\n",
      "['Lvl_007', 0, 1] Perdendo total:3637 maior void:1.602258469259724Bw -> bloqueado\n",
      "['Lvl_008', 0, 1] Perdendo total:2196 maior void:1.096612296110414Bw -> bloqueado\n",
      "['Lvl_005', 0, 0] Perdendo total:19541 maior void:13.360100376411543Bw -> bloqueado\n",
      "['Lvl_006', 0, 0] Perdendo total:19814 maior void:12.944792973651191Bw -> bloqueado\n",
      "['Lvl_005', 0, 3] Perdendo total:21822 maior void:13.304893350062736Bw -> bloqueado\n",
      "['Lvl_006', 0, 2] Perdendo total:21382 maior void:14.239648682559599Bw -> bloqueado\n",
      "Total de [Retirando regiões da camada] : 31.998510122299194\n",
      "Reunindo todos os loops em uma unica imagem\n",
      "Total de [Reunindo todos os loops em uma unica imagem] : 0.26042795181274414\n",
      "salvando imagens das regiões\n",
      "Total de [salvando imagens das regiões] : 0.7574465274810791\n",
      "Total de [Fase 2: Camada: 0] : 48.318445444107056\n"
     ]
    }
   ],
   "source": [
    "import gui\n",
    "import files\n",
    "from timer import Timer\n",
    "from components import layer\n",
    "from os import getcwd\n",
    "\n",
    "if not('folders' in globals()):\n",
    "    home = getcwd()\n",
    "    folders = files.System_Paths(home)\n",
    "    gui.find_saved_file(folders)\n",
    "[void_max,internal_max,external_max] = gui.ask_parameters_offsets()\n",
    "camadas = folders.load_layers_hdf5()\n",
    "for i,c in enumerate(camadas):\n",
    "    with Timer(\"Fase 2: Camada: \" + str(i)):\n",
    "        folders.load_islands_hdf5(c)\n",
    "        c.make_offsets(folders, void_max, external_max, internal_max)\n",
    "        folders.save_props_hdf5(f\"/{c.name}\",c.__dict__)\n",
    "        %reset_selective -f \"c\"\n",
    "%reset_selective -f \"camadas\""
   ]
  },
  {
   "cell_type": "markdown",
   "metadata": {},
   "source": [
    "Pontes"
   ]
  },
  {
   "cell_type": "code",
   "execution_count": 5,
   "metadata": {},
   "outputs": [
    {
     "name": "stdout",
     "output_type": "stream",
     "text": [
      "Fase 3: Camada: 0\n",
      "Criando pontes de Offset\n",
      "Total de [Criando pontes de Offset] : 5.353938102722168\n",
      "Criando pontes de Zigzag\n",
      "Total de [Criando pontes de Zigzag] : 19.2775137424469\n",
      "Criando pontes de Crossover\n",
      "Elemento: ('Reg_000', 'Reg_001') Maior prioridade: 0\n",
      "Total de [Criando pontes de Crossover] : 0.6197354793548584\n",
      "Retirando pontes da Camada\n",
      "Total de [Retirando pontes da Camada] : 0.024106264114379883\n",
      "salvando imagens das regiões\n",
      "Total de [salvando imagens das regiões] : 0.5295004844665527\n",
      "Total de [Fase 3: Camada: 0] : 26.679430961608887\n"
     ]
    }
   ],
   "source": [
    "import gui\n",
    "import files\n",
    "from timer import Timer\n",
    "from components import layer\n",
    "from os import getcwd\n",
    "\n",
    "if not('folders' in globals()):\n",
    "    home = getcwd()\n",
    "    folders = files.System_Paths(home)\n",
    "    gui.find_saved_file(folders)\n",
    "[n_max, nozzle_diam_internal] = gui.ask_parameters_bridges()\n",
    "camadas = folders.load_layers_hdf5()\n",
    "for i,c in enumerate(camadas):\n",
    "    with Timer(\"Fase 3: Camada: \" + str(i)):\n",
    "        c.make_bridges(n_max, nozzle_diam_internal, folders)\n",
    "        folders.save_props_hdf5(f\"/{c.name}\",c.__dict__)\n",
    "        %reset_selective -f \"c\" \n",
    "%reset_selective -f \"camadas\""
   ]
  },
  {
   "cell_type": "markdown",
   "metadata": {},
   "source": [
    "Zigzags"
   ]
  },
  {
   "cell_type": "code",
   "execution_count": 6,
   "metadata": {},
   "outputs": [
    {
     "name": "stdout",
     "output_type": "stream",
     "text": [
      "Fase 4: Camada: 0\n",
      "Encontrando areas monotonicas\n",
      "Total de [Encontrando areas monotonicas] : 20.366780996322632\n",
      "salvando imagens das regiões\n",
      "Total de [salvando imagens das regiões] : 0.23290252685546875\n",
      "Total de [Fase 4: Camada: 0] : 21.006295442581177\n"
     ]
    }
   ],
   "source": [
    "import gui\n",
    "import files\n",
    "from timer import Timer\n",
    "from components import layer\n",
    "from os import getcwd\n",
    "\n",
    "if not('folders' in globals()):\n",
    "    home = getcwd()\n",
    "    folders = files.System_Paths(home)\n",
    "    gui.find_saved_file(folders)\n",
    "camadas = folders.load_layers_hdf5() \n",
    "for i, c in enumerate(camadas):\n",
    "    with Timer(\"Fase 4: Camada: \" + str(i)):\n",
    "        c.make_zigzags(folders)\n",
    "        %reset_selective -f \"c\"\n",
    "%reset_selective -f \"camadas\"\n"
   ]
  },
  {
   "cell_type": "code",
   "execution_count": 7,
   "metadata": {},
   "outputs": [
    {
     "name": "stdout",
     "output_type": "stream",
     "text": [
      "Fase 4: Camada: 0\n",
      "\n",
      "\n",
      "Total de [Fase 4: Camada: 0] : 1.1582541465759277\n"
     ]
    },
    {
     "data": {
      "image/png": "[encoded data removed]",
      "text/plain": [
       "<Figure size 640x480 with 2 Axes>"
      ]
     },
     "metadata": {},
     "output_type": "display_data"
    }
   ],
   "source": [
    "import gui\n",
    "import files\n",
    "from timer import Timer\n",
    "from components import images_tools as it\n",
    "from os import getcwd\n",
    "import matplotlib.pyplot as plt\n",
    "import matplotlib.colors\n",
    "import os\n",
    "\n",
    "if not('folders' in globals()):\n",
    "    home = getcwd()\n",
    "    folders = files.System_Paths(home)\n",
    "    gui.find_saved_file(folders)\n",
    "camadas = folders.load_layers_hdf5() \n",
    "for c in camadas:\n",
    "    folders.load_islands_hdf5(c)\n",
    "tangran_cmap = matplotlib.colors.ListedColormap([\"white\",\"darkblue\",\"aqua\",\"aquamarine\",\"blue\",\"black\",\"green\",\"indigo\",\"red\",\"orange\"])\n",
    "for i, c in enumerate(camadas):\n",
    "    with Timer(\"Fase 4: Camada: \" + str(i)):\n",
    "        plt.figure()\n",
    "        img_mapping = it.final_mapping(c, folders)\n",
    "        plt.imshow(img_mapping, cmap=tangran_cmap, vmin=0, vmax=1000)\n",
    "        plt.colorbar()\n",
    "        print('\\n')"
   ]
  },
  {
   "cell_type": "markdown",
   "metadata": {},
   "source": [
    "ROTAS"
   ]
  },
  {
   "cell_type": "markdown",
   "metadata": {},
   "source": [
    "Rotas de Offset"
   ]
  },
  {
   "cell_type": "code",
   "execution_count": 8,
   "metadata": {},
   "outputs": [
    {
     "name": "stdout",
     "output_type": "stream",
     "text": [
      "Making offset routes\n",
      "salvando imagens das rotas\n",
      "Total de [salvando imagens das rotas] : 0.12711787223815918\n",
      "Total de [Making offset routes] : 6.583552598953247\n"
     ]
    }
   ],
   "source": [
    "import gui\n",
    "import files\n",
    "from timer import Timer\n",
    "from os import getcwd\n",
    "\n",
    "if not('folders' in globals()):\n",
    "    home = getcwd()\n",
    "    folders = files.System_Paths(home)\n",
    "    gui.find_saved_file(folders)\n",
    "camadas = folders.load_layers_hdf5()\n",
    "\n",
    "amendment_size = 0.7 #porcentagem do tamanho da poca de deposicao de material\n",
    "for c in camadas:\n",
    "    with Timer(\"Making offset routes\"):\n",
    "        c.make_offset_routes(amendment_size, folders)\n",
    "        %reset_selective -f \"c\"\n",
    "%reset_selective -f \"camadas\""
   ]
  },
  {
   "cell_type": "markdown",
   "metadata": {},
   "source": [
    "Rotas de pontes"
   ]
  },
  {
   "cell_type": "code",
   "execution_count": 9,
   "metadata": {},
   "outputs": [
    {
     "name": "stdout",
     "output_type": "stream",
     "text": [
      "Making bridges routes\n"
     ]
    },
    {
     "name": "stdout",
     "output_type": "stream",
     "text": [
      "salvando imagens das rotas\n",
      "Total de [salvando imagens das rotas] : 0.33593082427978516\n",
      "Total de [Making bridges routes] : 26.464169025421143\n"
     ]
    }
   ],
   "source": [
    "import gui\n",
    "import files\n",
    "from timer import Timer\n",
    "from os import getcwd\n",
    "\n",
    "if not('folders' in globals()):\n",
    "    home = getcwd()\n",
    "    folders = files.System_Paths(home)\n",
    "    gui.find_saved_file(folders)\n",
    "camadas = folders.load_layers_hdf5()\n",
    "for c in camadas:\n",
    "    with Timer(\"Making bridges routes\"):\n",
    "        c.make_bridges_routes(folders)\n",
    "        %reset_selective -f \"c\"\n",
    "%reset_selective -f \"camadas\""
   ]
  },
  {
   "cell_type": "markdown",
   "metadata": {},
   "source": [
    "Rotas de Ziguezague"
   ]
  },
  {
   "cell_type": "code",
   "execution_count": 1,
   "metadata": {},
   "outputs": [
    {
     "name": "stdout",
     "output_type": "stream",
     "text": [
      "Making zigzag routes\n",
      "salvando imagens das rotas\n",
      "Total de [salvando imagens das rotas] : 0.5586011409759521\n",
      "Criando os grafos de regiões\n",
      "Total de [Criando os grafos de regiões] : 0.3417348861694336\n",
      "Conectando regiões de zigzag\n",
      "Total de [Conectando regiões de zigzag] : 0.12015390396118164\n",
      "salvando grafos\n",
      "Total de [salvando grafos] : 0.07714962959289551\n",
      "Total de [Making zigzag routes] : 136.63170719146729\n"
     ]
    }
   ],
   "source": [
    "import gui\n",
    "import files\n",
    "from timer import Timer\n",
    "from os import getcwd\n",
    "\n",
    "if not('folders' in globals()):\n",
    "    home = getcwd()\n",
    "    folders = files.System_Paths(home)\n",
    "    gui.find_saved_file(folders)\n",
    "camadas = folders.load_layers_hdf5()\n",
    "for c in camadas:\n",
    "    with Timer(\"Making zigzag routes\"):\n",
    "        c.make_zigzag_routes(folders)\n",
    "        c.connect_zigzags(folders)\n",
    "        %reset_selective -f \"c\"\n",
    "%reset_selective -f \"camadas\""
   ]
  },
  {
   "cell_type": "markdown",
   "metadata": {},
   "source": [
    "Weaving"
   ]
  },
  {
   "cell_type": "code",
   "execution_count": 2,
   "metadata": {},
   "outputs": [
    {
     "name": "stdout",
     "output_type": "stream",
     "text": [
      "Fase 5 b\n",
      "gerando preenchimentos oscilatórios\n",
      "Total de [gerando preenchimentos oscilatórios] : 33.496819257736206\n",
      "salvando rotas\n",
      "Total de [salvando rotas] : 0.09276914596557617\n",
      "Total de [Fase 5 b] : 33.59133839607239\n"
     ]
    }
   ],
   "source": [
    "import gui\n",
    "import files\n",
    "from timer import Timer\n",
    "from os import getcwd\n",
    "\n",
    "if not('folders' in globals()):\n",
    "    home = getcwd()\n",
    "    folders = files.System_Paths(home)\n",
    "    gui.find_saved_file(folders)\n",
    "camadas = folders.load_layers_hdf5()\n",
    "[internal_weaving] = gui.ask_parameters_weaving()\n",
    "for c in camadas:\n",
    "    with Timer(\"Fase 5 b\"):\n",
    "        c.internal_weaving(internal_weaving, folders)\n",
    "        %reset_selective -f \"c\"\n",
    "%reset_selective -f \"camadas\""
   ]
  },
  {
   "cell_type": "markdown",
   "metadata": {},
   "source": [
    "Rotas de Thin Walls"
   ]
  },
  {
   "cell_type": "code",
   "execution_count": 3,
   "metadata": {},
   "outputs": [
    {
     "name": "stdout",
     "output_type": "stream",
     "text": [
      "Fase 5\n",
      "Making thin walls routes\n",
      "salvando imagens das rotas\n",
      "Total de [salvando imagens das rotas] : 0.04930591583251953\n",
      "Total de [Making thin walls routes] : 0.37242937088012695\n",
      "Total de [Fase 5] : 0.3727750778198242\n"
     ]
    }
   ],
   "source": [
    "import gui\n",
    "import files\n",
    "from timer import Timer\n",
    "from os import getcwd\n",
    "\n",
    "if not('folders' in globals()):\n",
    "    home = getcwd()\n",
    "    folders = files.System_Paths(home)\n",
    "    gui.find_saved_file(folders)\n",
    "camadas = folders.load_layers_hdf5()\n",
    "for c in camadas:\n",
    "    with Timer(\"Fase 5\"):\n",
    "        with Timer(\"Making thin walls routes\"):\n",
    "            c.make_thin_wall_routes(folders)\n",
    "            %reset_selective -f \"c\"\n",
    "%reset_selective -f \"camadas\""
   ]
  },
  {
   "cell_type": "markdown",
   "metadata": {},
   "source": [
    "Unificando rotas EXTERNAS nas camadas"
   ]
  },
  {
   "cell_type": "code",
   "execution_count": 4,
   "metadata": {},
   "outputs": [
    {
     "name": "stdout",
     "output_type": "stream",
     "text": [
      "Fase 6\n",
      "Conectando rotas externas\n",
      "Encontrando ponto de união ext-int\n",
      "Total de [Encontrando ponto de união ext-int] : 1.1265203952789307\n",
      "Conectando pontes de Offset\n",
      "Total de [Conectando pontes de Offset] : 4.757379055023193\n",
      "Conectando pontes de Crossover\n",
      "salto:  [416, 2459]\n",
      "salto:  [690, 456]\n",
      "salto:  [485, 2250]\n",
      "Total de [Conectando pontes de Crossover] : 9.391140460968018\n",
      "Total de [Conectando rotas externas] : 16.643512964248657\n",
      "salvando imagens das rotas\n",
      "Total de [salvando imagens das rotas] : 0.5827236175537109\n",
      "Total de [Fase 6] : 17.227118492126465\n"
     ]
    }
   ],
   "source": [
    "import gui\n",
    "import files\n",
    "from timer import Timer\n",
    "from os import getcwd\n",
    "\n",
    "if not('folders' in globals()):\n",
    "    home = getcwd()\n",
    "    folders = files.System_Paths(home)\n",
    "    gui.find_saved_file(folders)\n",
    "camadas = folders.load_layers_hdf5()\n",
    "\n",
    "for c in camadas:\n",
    "    with Timer(\"Fase 6\"):\n",
    "        c.close_routes_external(folders)\n",
    "        %reset_selective -f \"c\"\n",
    "%reset_selective -f \"camadas\"\n",
    "    "
   ]
  },
  {
   "cell_type": "markdown",
   "metadata": {},
   "source": [
    "Unificando rotas INTERNAS nas camadas"
   ]
  },
  {
   "cell_type": "code",
   "execution_count": 5,
   "metadata": {},
   "outputs": [
    {
     "name": "stdout",
     "output_type": "stream",
     "text": [
      "Fase 7\n",
      "Conectando zgzags vizinhos\n",
      "Total de [Conectando zgzags vizinhos] : 16.918819665908813\n",
      "Conectando pontes de zigzag\n",
      "salto:  [937, 1743]\n",
      "salto:  [262, 1702]\n",
      "Total de [Conectando pontes de zigzag] : 4.785645008087158\n",
      "salvando imagens das rotas\n",
      "Total de [salvando imagens das rotas] : 0.3971712589263916\n",
      "Total de [Fase 7] : 23.896093368530273\n"
     ]
    }
   ],
   "source": [
    "import gui\n",
    "import files\n",
    "from timer import Timer\n",
    "from components import layer\n",
    "from os import getcwd\n",
    "\n",
    "if not('folders' in globals()):\n",
    "    home = getcwd()\n",
    "    folders = files.System_Paths(home)\n",
    "    gui.find_saved_file(folders)\n",
    "camadas = folders.load_layers_hdf5()\n",
    "\n",
    "for c in camadas:\n",
    "    with Timer(\"Fase 7\"):\n",
    "        c.close_routes_internal(folders)\n",
    "        %reset_selective -f \"c\"\n",
    "%reset_selective -f \"camadas\""
   ]
  },
  {
   "cell_type": "markdown",
   "metadata": {},
   "source": [
    "Unindo rotas de thin walls"
   ]
  },
  {
   "cell_type": "code",
   "execution_count": 6,
   "metadata": {},
   "outputs": [
    {
     "name": "stdout",
     "output_type": "stream",
     "text": [
      "Fase 8\n",
      "Convertendo paredes finas\n",
      "Total de [Convertendo paredes finas] : 3.5010504722595215\n",
      "salvando imagens das rotas\n",
      "Total de [salvando imagens das rotas] : 0.03084254264831543\n",
      "Total de [Fase 8] : 3.8448710441589355\n"
     ]
    }
   ],
   "source": [
    "import gui\n",
    "import files\n",
    "from timer import Timer\n",
    "from components import layer\n",
    "from os import getcwd\n",
    "\n",
    "if not('folders' in globals()):\n",
    "    home = getcwd()\n",
    "    folders = files.System_Paths(home)\n",
    "    gui.find_saved_file(folders)\n",
    "camadas = folders.load_layers_hdf5()\n",
    "\n",
    "for c in camadas:\n",
    "    with Timer(\"Fase 8\"):\n",
    "        c.close_routes_thinwalls(folders)\n",
    "        %reset_selective -f \"c\"\n",
    "%reset_selective -f \"camadas\""
   ]
  },
  {
   "cell_type": "markdown",
   "metadata": {},
   "source": [
    "Unindo todas as rotas e criando codigo G"
   ]
  },
  {
   "cell_type": "code",
   "execution_count": 1,
   "metadata": {},
   "outputs": [
    {
     "ename": "TypeError",
     "evalue": "expected string or bytes-like object, got 'NoneType'",
     "output_type": "error",
     "traceback": [
      "\u001b[0;31m---------------------------------------------------------------------------\u001b[0m",
      "\u001b[0;31mTypeError\u001b[0m                                 Traceback (most recent call last)",
      "Cell \u001b[0;32mIn[1], line 10\u001b[0m\n\u001b[1;32m      8\u001b[0m     home \u001b[38;5;241m=\u001b[39m getcwd()\n\u001b[1;32m      9\u001b[0m     folders \u001b[38;5;241m=\u001b[39m files\u001b[38;5;241m.\u001b[39mSystem_Paths(home)\n\u001b[0;32m---> 10\u001b[0m     gui\u001b[38;5;241m.\u001b[39mfind_saved_file(folders)\n\u001b[1;32m     11\u001b[0m camadas \u001b[38;5;241m=\u001b[39m folders\u001b[38;5;241m.\u001b[39mload_layers_hdf5()\n\u001b[1;32m     13\u001b[0m \u001b[38;5;28;01mfor\u001b[39;00m c \u001b[38;5;129;01min\u001b[39;00m camadas:\n",
      "File \u001b[0;32m~/Downloads/Tangran3/TangranV2/gui.py:30\u001b[0m, in \u001b[0;36mfind_saved_file\u001b[0;34m(folders)\u001b[0m\n\u001b[1;32m     28\u001b[0m path_input \u001b[38;5;241m=\u001b[39m fileopenbox()\n\u001b[1;32m     29\u001b[0m os\u001b[38;5;241m.\u001b[39mchdir(folders\u001b[38;5;241m.\u001b[39mhome)\n\u001b[0;32m---> 30\u001b[0m file_name \u001b[38;5;241m=\u001b[39m re\u001b[38;5;241m.\u001b[39msub(folders\u001b[38;5;241m.\u001b[39minput, \u001b[38;5;124m\"\u001b[39m\u001b[38;5;124m\"\u001b[39m, path_input)\n\u001b[1;32m     31\u001b[0m folders\u001b[38;5;241m.\u001b[39msave_file_name \u001b[38;5;241m=\u001b[39m file_name\n\u001b[1;32m     32\u001b[0m \u001b[38;5;28;01mreturn\u001b[39;00m file_name\n",
      "File \u001b[0;32m~/anaconda3/lib/python3.12/re/__init__.py:186\u001b[0m, in \u001b[0;36msub\u001b[0;34m(pattern, repl, string, count, flags)\u001b[0m\n\u001b[1;32m    179\u001b[0m \u001b[38;5;28;01mdef\u001b[39;00m \u001b[38;5;21msub\u001b[39m(pattern, repl, string, count\u001b[38;5;241m=\u001b[39m\u001b[38;5;241m0\u001b[39m, flags\u001b[38;5;241m=\u001b[39m\u001b[38;5;241m0\u001b[39m):\n\u001b[1;32m    180\u001b[0m \u001b[38;5;250m    \u001b[39m\u001b[38;5;124;03m\"\"\"Return the string obtained by replacing the leftmost\u001b[39;00m\n\u001b[1;32m    181\u001b[0m \u001b[38;5;124;03m    non-overlapping occurrences of the pattern in string by the\u001b[39;00m\n\u001b[1;32m    182\u001b[0m \u001b[38;5;124;03m    replacement repl.  repl can be either a string or a callable;\u001b[39;00m\n\u001b[1;32m    183\u001b[0m \u001b[38;5;124;03m    if a string, backslash escapes in it are processed.  If it is\u001b[39;00m\n\u001b[1;32m    184\u001b[0m \u001b[38;5;124;03m    a callable, it's passed the Match object and must return\u001b[39;00m\n\u001b[1;32m    185\u001b[0m \u001b[38;5;124;03m    a replacement string to be used.\"\"\"\u001b[39;00m\n\u001b[0;32m--> 186\u001b[0m     \u001b[38;5;28;01mreturn\u001b[39;00m _compile(pattern, flags)\u001b[38;5;241m.\u001b[39msub(repl, string, count)\n",
      "\u001b[0;31mTypeError\u001b[0m: expected string or bytes-like object, got 'NoneType'"
     ]
    }
   ],
   "source": [
    "import gui\n",
    "import files\n",
    "from timer import Timer\n",
    "from components import layer, path_tools\n",
    "from os import getcwd\n",
    "\n",
    "if not('folders' in globals()):\n",
    "    home = getcwd()\n",
    "    folders = files.System_Paths(home)\n",
    "    gui.find_saved_file(folders)\n",
    "camadas = folders.load_layers_hdf5()\n",
    "\n",
    "for c in camadas:\n",
    "    with Timer(\"Fase 9\"):\n",
    "        c.close_final_path(folders)\n",
    "    with Timer(\"Cuspindo o Gcode\"):\n",
    "        path_tools.layers_to_Gcode(camadas, folders)\n",
    "        %reset_selective -f \"c\"\n",
    "%reset_selective -f \"camadas\""
   ]
  },
  {
   "cell_type": "code",
   "execution_count": null,
   "metadata": {},
   "outputs": [],
   "source": [
    "# import matplotlib.pyplot as plt\n",
    "# from mpl_toolkits.mplot3d import Axes3D\n",
    "# import numpy as np\n",
    "\n",
    "# # Lista de imagens binárias (exemplo com arrays numpy)\n",
    "# imagens = [\n",
    "#     img_mapping,\n",
    "#     img_mapping,\n",
    "#     img_mapping\n",
    "# ]\n",
    "\n",
    "# # Lista de alturas no eixo z\n",
    "# alturas = [0, 10, 20]\n",
    "\n",
    "# fig = plt.figure()\n",
    "# ax = fig.add_subplot(111, projection='3d')\n",
    "\n",
    "# for img, z in zip(imagens, alturas):\n",
    "#     x = np.linspace(0, img.shape[1], img.shape[1])\n",
    "#     y = np.linspace(0, img.shape[0], img.shape[0])\n",
    "#     x, y = np.meshgrid(x, y)\n",
    "#     z = np.full_like(x, z)\n",
    "#     ax.plot_surface(x, y, z, rstride=1, cstride=1, facecolors=plt.cm.gray(img), shade=False)\n",
    "\n",
    "# ax.set_xlabel('X')\n",
    "# ax.set_ylabel('Y')\n",
    "# ax.set_zlabel('Z')\n",
    "# plt.show()\n"
   ]
  },
  {
   "cell_type": "code",
   "execution_count": 1,
   "metadata": {},
   "outputs": [
    {
     "data": {
      "image/png": "[encoded data removed]",
      "text/plain": [
       "<Figure size 640x480 with 1 Axes>"
      ]
     },
     "metadata": {},
     "output_type": "display_data"
    }
   ],
   "source": [
    "import gui\n",
    "import files\n",
    "from timer import Timer\n",
    "from components import layer, path_tools\n",
    "from os import getcwd\n",
    "\n",
    "if not('folders' in globals()):\n",
    "    home = getcwd()\n",
    "    folders = files.System_Paths(home)\n",
    "    gui.find_saved_file(folders)\n",
    "camadas = folders.load_layers_hdf5()\n",
    "\n",
    "file_name = gui.find_saved_file(folders)\n",
    "path_tools.layers_to_Gcode_FFF(camadas, folders, file_name)"
   ]
  }
 ],
 "metadata": {
  "kernelspec": {
   "display_name": "plantcv",
   "language": "python",
   "name": "python3"
  },
  "language_info": {
   "codemirror_mode": {
    "name": "ipython",
    "version": 3
   },
   "file_extension": ".py",
   "mimetype": "text/x-python",
   "name": "python",
   "nbconvert_exporter": "python",
   "pygments_lexer": "ipython3",
   "version": "3.12.2"
  }
 },
 "nbformat": 4,
 "nbformat_minor": 2
}
