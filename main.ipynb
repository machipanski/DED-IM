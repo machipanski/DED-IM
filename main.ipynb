{
 "cells": [
  {
   "cell_type": "markdown",
   "metadata": {},
   "source": [
    "Importa o modelo a ser fatiado e mapeado"
   ]
  },
  {
   "cell_type": "code",
   "execution_count": 18,
   "metadata": {
    "notebookRunGroups": {
     "groupValue": "1"
    }
   },
   "outputs": [
    {
     "name": "stdout",
     "output_type": "stream",
     "text": [
      "Fase 0: \n",
      "criando as camadas\n",
      "Total de [criando as camadas] : 0.3787686824798584\n",
      "salvando as camadas\n",
      "Total de [salvando as camadas] : 0.07639002799987793\n",
      "Total de [Fase 0: ] : 0.45551085472106934\n"
     ]
    }
   ],
   "source": [
    "import matplotlib.pyplot as plt\n",
    "import gui\n",
    "import files\n",
    "from timer import Timer\n",
    "from components.layer import Layer\n",
    "from os import getcwd\n",
    "\n",
    "if not('folders' in globals()):\n",
    "    home = getcwd()\n",
    "    folders = files.System_Paths(home)\n",
    "choice = gui.ask_load_or_begin()\n",
    "if choice == \"Novo Projeto\":\n",
    "    path_input, file_name = gui.load_model(folders)\n",
    "    [dpi, layer_height] = gui.ask_parameters_input()\n",
    "    with Timer(\"Fase 0: \"):\n",
    "        Layer.create_layers(folders, path_input, file_name, dpi, layer_height)\n",
    "elif choice == \"Carregar Salvo\":\n",
    "    gui.find_saved_file(folders)\n",
    "elif choice == \"Cancelar\":\n",
    "    quit\n",
    "\n",
    "#TODO: encontrar uma forma de jogar layerHight para o slicing W/images (POSSIVELMENTE COM O RUNSINGLEMODEL)"
   ]
  },
  {
   "cell_type": "markdown",
   "metadata": {},
   "source": [
    "Paredes Finas"
   ]
  },
  {
   "cell_type": "code",
   "execution_count": 19,
   "metadata": {},
   "outputs": [
    {
     "name": "stdout",
     "output_type": "stream",
     "text": [
      "Fase 1: Camada: 0\n",
      "Criando paredes finas\n",
      "salvando imagens das regiões\n",
      "Total de [salvando imagens das regiões] : 0.0001239776611328125\n",
      "Retirando Paredes finas da camada\n",
      "Total de [Retirando Paredes finas da camada] : 0.0572361946105957\n",
      "Total de [Criando paredes finas] : 12.613827466964722\n",
      "Total de [Fase 1: Camada: 0] : 12.643391847610474\n"
     ]
    }
   ],
   "source": [
    "import gui\n",
    "import files\n",
    "from timer import Timer\n",
    "from os import getcwd\n",
    "\n",
    "if not('folders' in globals()):\n",
    "    home = getcwd()\n",
    "    folders = files.System_Paths(home)\n",
    "    gui.find_saved_file(folders)\n",
    "[nozzle_diam_internal,nozzle_diam_external] = gui.ask_parameters_thin_walls()\n",
    "camadas = folders.load_layers_hdf5()\n",
    "for i,c in enumerate(camadas):\n",
    "    with Timer(\"Fase 1: Camada: \" + str(i)):\n",
    "        folders.load_islands_hdf5(c)\n",
    "        c.make_thin_walls(folders, nozzle_diam_external, nozzle_diam_internal)\n",
    "        %reset_selective -f \"c\"\n",
    "%reset_selective -f \"camadas\"\n",
    "# TODO: arvore de paredes finas\n",
    "# TODO: quando duas áreas se encontram\n",
    "# TODO: limite de parede diam minimo\n",
    "# TODO: anotar todos os (não fechou contorno)\n",
    "# TODO arrumar para origens extremamente pequenas, ignorar da problema\n",
    "# TODO arrumar casos onde a beirada esta vazndo criando areas triangulares distantes\n",
    "# FIXME: Precisa mesmo separar linha 1 2 topo e baixo? muitos elementos estão sendo criados"
   ]
  },
  {
   "cell_type": "markdown",
   "metadata": {},
   "source": [
    "Contornos"
   ]
  },
  {
   "cell_type": "code",
   "execution_count": 20,
   "metadata": {},
   "outputs": [
    {
     "name": "stdout",
     "output_type": "stream",
     "text": [
      "Fase 2: Camada: 0\n",
      "Criando Lvls\n",
      "Ilha: I_000 Número de Níveis: 9\n",
      "Total de [Criando Lvls] : 7.536608457565308\n",
      "Criando os loops\n",
      "Total de [Criando os loops] : 5.339350700378418\n",
      "Criando regiões de influência\n",
      "Total de [Criando regiões de influência] : 1.271442174911499\n",
      "Criando as regiões de Offset\n",
      "Total de [Criando as regiões de Offset] : 2.3941597938537598\n",
      "Retirando regiões da camada\n",
      "['Lvl_000', 0, 0] Perdendo total:2382 maior void:0.33877038895859474Bw -> aceito\n",
      "['Lvl_001', 0, 0] Perdendo total:1929 maior void:0.5872020075282308Bw -> aceito\n",
      "['Lvl_002', 0, 0] Perdendo total:1636 maior void:0.5131744040150564Bw -> aceito\n",
      "['Lvl_003', 0, 0] Perdendo total:1637 maior void:0.5131744040150564Bw -> aceito\n",
      "['Lvl_004', 0, 0] Perdendo total:9614 maior void:5.503136762860728Bw -> bloqueado\n",
      "['Lvl_000', 1, 0] Perdendo total:0 maior void:0Bw -> aceito\n",
      "['Lvl_000', 1, 1] Perdendo total:0 maior void:0Bw -> aceito\n",
      "['Lvl_000', 1, 2] Perdendo total:0 maior void:0Bw -> aceito\n",
      "['Lvl_000', 1, 3] Perdendo total:442 maior void:0.02383939774153074Bw -> aceito\n",
      "['Lvl_000', 1, 4] Perdendo total:0 maior void:0Bw -> aceito\n",
      "['Lvl_001', 1, 0] Perdendo total:12586 maior void:5.415307402760352Bw -> bloqueado\n",
      "['Lvl_002', 1, 0] Perdendo total:3144 maior void:0.6675031367628608Bw -> aceito\n",
      "['Lvl_003', 1, 0] Perdendo total:1875 maior void:0.34880803011292344Bw -> aceito\n",
      "['Lvl_005', 0, 1] Perdendo total:35267 maior void:20.28732747804266Bw -> bloqueado\n",
      "['Lvl_006', 0, 1] Perdendo total:7162 maior void:2.9473023839397743Bw -> bloqueado\n",
      "['Lvl_007', 0, 0] Perdendo total:3491 maior void:1.6060225846925973Bw -> bloqueado\n",
      "['Lvl_008', 0, 0] Perdendo total:2123 maior void:1.002509410288582Bw -> bloqueado\n",
      "['Lvl_005', 0, 2] Perdendo total:38374 maior void:20.909661229611043Bw -> bloqueado\n",
      "['Lvl_006', 0, 3] Perdendo total:7594 maior void:3.304893350062735Bw -> bloqueado\n",
      "['Lvl_007', 0, 1] Perdendo total:3637 maior void:1.602258469259724Bw -> bloqueado\n",
      "['Lvl_008', 0, 1] Perdendo total:2196 maior void:1.096612296110414Bw -> bloqueado\n",
      "['Lvl_005', 0, 0] Perdendo total:19541 maior void:13.360100376411543Bw -> bloqueado\n",
      "['Lvl_006', 0, 0] Perdendo total:19814 maior void:12.944792973651191Bw -> bloqueado\n",
      "['Lvl_005', 0, 3] Perdendo total:21822 maior void:13.304893350062736Bw -> bloqueado\n",
      "['Lvl_006', 0, 2] Perdendo total:21382 maior void:14.239648682559599Bw -> bloqueado\n",
      "Total de [Retirando regiões da camada] : 12.108002185821533\n",
      "Reunindo todos os loops em uma unica imagem\n",
      "Total de [Reunindo todos os loops em uma unica imagem] : 0.07823324203491211\n",
      "salvando imagens das regiões\n",
      "Total de [salvando imagens das regiões] : 0.8005669116973877\n",
      "Total de [Fase 2: Camada: 0] : 29.572368383407593\n"
     ]
    }
   ],
   "source": [
    "import gui\n",
    "import files\n",
    "from timer import Timer\n",
    "from components import layer\n",
    "from os import getcwd\n",
    "\n",
    "if not('folders' in globals()):\n",
    "    home = getcwd()\n",
    "    folders = files.System_Paths(home)\n",
    "    gui.find_saved_file(folders)\n",
    "[void_max,internal_max,external_max] = gui.ask_parameters_offsets()\n",
    "camadas = folders.load_layers_hdf5()\n",
    "for i,c in enumerate(camadas):\n",
    "    with Timer(\"Fase 2: Camada: \" + str(i)):\n",
    "        folders.load_islands_hdf5(c)\n",
    "        c.make_offsets(folders, void_max, external_max, internal_max)\n",
    "        folders.save_props_hdf5(f\"/{c.name}\",c.__dict__)\n",
    "        %reset_selective -f \"c\"\n",
    "%reset_selective -f \"camadas\""
   ]
  },
  {
   "cell_type": "markdown",
   "metadata": {},
   "source": [
    "Pontes"
   ]
  },
  {
   "cell_type": "code",
   "execution_count": 1,
   "metadata": {},
   "outputs": [
    {
     "name": "stdout",
     "output_type": "stream",
     "text": [
      "Fase 3: Camada: 0\n",
      "Criando pontes de Offset\n",
      "Total de [Criando pontes de Offset] : 7.673038959503174\n",
      "Criando pontes de Zigzag\n",
      "\u001b[3#mFechou uma ponte OK\n",
      "\u001b[3#mFechou uma ponte OK\n",
      "teste: caso de uma unica linha no entorno da origem\n",
      "\u001b[3#mErro: nao fechou ponte\u001b[0m\n",
      "teste: caso de uma unica linha no entorno da origem\n",
      "\u001b[3#mErro: nao fechou ponte\u001b[0m\n",
      "teste: caso de uma unica linha no entorno da origem\n",
      "\u001b[3#mErro: nao fechou ponte\u001b[0m\n",
      "teste: caso de uma unica linha no entorno da origem\n",
      "\u001b[3#mErro: nao fechou ponte\u001b[0m\n",
      "\u001b[3#mFechou uma ponte OK\n",
      "Total de [Criando pontes de Zigzag] : 32.269893407821655\n",
      "Criando pontes de Crossover\n",
      "Total de [Criando pontes de Crossover] : 0.13924145698547363\n",
      "Retirando pontes da Camada\n",
      "Total de [Retirando pontes da Camada] : 0.055098533630371094\n",
      "salvando imagens das regiões\n",
      "Total de [salvando imagens das regiões] : 1.0778677463531494\n",
      "Total de [Fase 3: Camada: 0] : 41.33148503303528\n"
     ]
    }
   ],
   "source": [
    "import gui\n",
    "import files\n",
    "from timer import Timer\n",
    "from components import layer\n",
    "from os import getcwd\n",
    "\n",
    "if not('folders' in globals()):\n",
    "    home = getcwd()\n",
    "    folders = files.System_Paths(home)\n",
    "    gui.find_saved_file(folders)\n",
    "[n_max, nozzle_diam_internal] = gui.ask_parameters_bridges()\n",
    "camadas = folders.load_layers_hdf5()\n",
    "for i,c in enumerate(camadas):\n",
    "    with Timer(\"Fase 3: Camada: \" + str(i)):\n",
    "        c.make_bridges(n_max, nozzle_diam_internal, folders)\n",
    "        folders.save_props_hdf5(f\"/{c.name}\",c.__dict__)\n",
    "        %reset_selective -f \"c\" \n",
    "%reset_selective -f \"camadas\""
   ]
  },
  {
   "cell_type": "markdown",
   "metadata": {},
   "source": [
    "Zigzags"
   ]
  },
  {
   "cell_type": "code",
   "execution_count": 2,
   "metadata": {},
   "outputs": [
    {
     "name": "stdout",
     "output_type": "stream",
     "text": [
      "Fase 4: Camada: 0\n",
      "Encontrando areas monotonicas\n",
      "Total de [Encontrando areas monotonicas] : 18.972053050994873\n",
      "salvando imagens das regiões\n",
      "Total de [salvando imagens das regiões] : 0.2108471393585205\n",
      "Total de [Fase 4: Camada: 0] : 20.031051874160767\n"
     ]
    }
   ],
   "source": [
    "import gui\n",
    "import files\n",
    "from timer import Timer\n",
    "from components import layer\n",
    "from os import getcwd\n",
    "\n",
    "if not('folders' in globals()):\n",
    "    home = getcwd()\n",
    "    folders = files.System_Paths(home)\n",
    "    gui.find_saved_file(folders)\n",
    "camadas = folders.load_layers_hdf5() \n",
    "for i, c in enumerate(camadas):\n",
    "    with Timer(\"Fase 4: Camada: \" + str(i)):\n",
    "        c.make_zigzags(folders)\n",
    "        %reset_selective -f \"c\"\n",
    "%reset_selective -f \"camadas\"\n"
   ]
  },
  {
   "cell_type": "code",
   "execution_count": 3,
   "metadata": {},
   "outputs": [
    {
     "name": "stdout",
     "output_type": "stream",
     "text": [
      "Fase 4: Camada: 0\n",
      "\n",
      "\n",
      "Total de [Fase 4: Camada: 0] : 1.9482979774475098\n"
     ]
    },
    {
     "data": {
      "image/png": "[encoded data removed]",
      "text/plain": [
       "<Figure size 640x480 with 2 Axes>"
      ]
     },
     "metadata": {},
     "output_type": "display_data"
    }
   ],
   "source": [
    "import gui\n",
    "import files\n",
    "from timer import Timer\n",
    "from components import images_tools as it\n",
    "from os import getcwd\n",
    "import matplotlib.pyplot as plt\n",
    "import matplotlib.colors\n",
    "import os\n",
    "\n",
    "if not('folders' in globals()):\n",
    "    home = getcwd()\n",
    "    folders = files.System_Paths(home)\n",
    "    gui.find_saved_file(folders)\n",
    "camadas = folders.load_layers_hdf5() \n",
    "for c in camadas:\n",
    "    folders.load_islands_hdf5(c)\n",
    "tangran_cmap = matplotlib.colors.ListedColormap([\"white\",\"darkblue\",\"aqua\",\"aquamarine\",\"blue\",\"black\",\"green\",\"indigo\",\"red\",\"orange\"])\n",
    "for i, c in enumerate(camadas):\n",
    "    with Timer(\"Fase 4: Camada: \" + str(i)):\n",
    "        plt.figure()\n",
    "        img_mapping = it.final_mapping(c, folders)\n",
    "        plt.imshow(img_mapping, cmap=tangran_cmap, vmin=0, vmax=1000)\n",
    "        plt.imsave(\"aaa.png\",img_mapping, cmap=tangran_cmap, vmin=0, vmax=1000)\n",
    "        plt.colorbar()\n",
    "        print('\\n')"
   ]
  },
  {
   "cell_type": "markdown",
   "metadata": {},
   "source": [
    "ROTAS"
   ]
  },
  {
   "cell_type": "markdown",
   "metadata": {},
   "source": [
    "Rotas de Offset"
   ]
  },
  {
   "cell_type": "code",
   "execution_count": 4,
   "metadata": {},
   "outputs": [
    {
     "name": "stdout",
     "output_type": "stream",
     "text": [
      "Making offset routes\n",
      "salvando imagens das rotas\n",
      "Total de [salvando imagens das rotas] : 0.4207336902618408\n",
      "Total de [Making offset routes] : 20.44556951522827\n"
     ]
    }
   ],
   "source": [
    "import gui\n",
    "import files\n",
    "from timer import Timer\n",
    "from os import getcwd\n",
    "\n",
    "if not('folders' in globals()):\n",
    "    home = getcwd()\n",
    "    folders = files.System_Paths(home)\n",
    "    gui.find_saved_file(folders)\n",
    "camadas = folders.load_layers_hdf5()\n",
    "\n",
    "amendment_size = 0.7 #porcentagem do tamanho da poca de deposicao de material\n",
    "for c in camadas:\n",
    "    with Timer(\"Making offset routes\"):\n",
    "        c.make_offset_routes(amendment_size, folders)\n",
    "        %reset_selective -f \"c\"\n",
    "%reset_selective -f \"camadas\""
   ]
  },
  {
   "cell_type": "markdown",
   "metadata": {},
   "source": [
    "Rotas de pontes"
   ]
  },
  {
   "cell_type": "code",
   "execution_count": 5,
   "metadata": {},
   "outputs": [
    {
     "name": "stdout",
     "output_type": "stream",
     "text": [
      "Making bridges routes\n"
     ]
    },
    {
     "name": "stderr",
     "output_type": "stream",
     "text": [
      "/home/matheus/Downloads/Tangran3/TangranV2/components/bottleneck.py:1323: RuntimeWarning: invalid value encountered in divide\n",
      "  v1_hat = v1_vec / np.linalg.norm(v1_vec)\n",
      "/home/matheus/Downloads/Tangran3/TangranV2/components/bottleneck.py:1330: RuntimeWarning: invalid value encountered in divide\n",
      "  v2_hat = v2_vec / np.linalg.norm(v2_vec)\n"
     ]
    },
    {
     "name": "stdout",
     "output_type": "stream",
     "text": [
      "salvando imagens das rotas\n",
      "Total de [salvando imagens das rotas] : 0.6425764560699463\n",
      "Total de [Making bridges routes] : 44.09643626213074\n"
     ]
    }
   ],
   "source": [
    "import gui\n",
    "import files\n",
    "from timer import Timer\n",
    "from os import getcwd\n",
    "\n",
    "if not('folders' in globals()):\n",
    "    home = getcwd()\n",
    "    folders = files.System_Paths(home)\n",
    "    gui.find_saved_file(folders)\n",
    "camadas = folders.load_layers_hdf5()\n",
    "for c in camadas:\n",
    "    with Timer(\"Making bridges routes\"):\n",
    "        c.make_bridges_routes(folders)\n",
    "        %reset_selective -f \"c\"\n",
    "%reset_selective -f \"camadas\""
   ]
  },
  {
   "cell_type": "markdown",
   "metadata": {},
   "source": [
    "Rotas de Ziguezague"
   ]
  },
  {
   "cell_type": "code",
   "execution_count": 6,
   "metadata": {},
   "outputs": [
    {
     "name": "stdout",
     "output_type": "stream",
     "text": [
      "Making zigzag routes\n",
      "criando as rotas de zigzag, camada:L_000\n",
      "fazendo as tres opções:\n",
      "Total de [fazendo as tres opções:] : 22.848602294921875\n",
      "escolhendo entre elas:\n",
      "Total de [escolhendo entre elas:] : 0.4425497055053711\n",
      "fazendo as tres opções:\n",
      "Total de [fazendo as tres opções:] : 20.860206604003906\n",
      "escolhendo entre elas:\n",
      "Total de [escolhendo entre elas:] : 0.4561445713043213\n",
      "fazendo as tres opções:\n",
      "Total de [fazendo as tres opções:] : 0.08060264587402344\n",
      "escolhendo entre elas:\n",
      "Total de [escolhendo entre elas:] : 0.1927964687347412\n",
      "fazendo as tres opções:\n",
      "Total de [fazendo as tres opções:] : 30.623536586761475\n",
      "escolhendo entre elas:\n",
      "Total de [escolhendo entre elas:] : 0.4951620101928711\n",
      "fazendo as tres opções:\n",
      "Total de [fazendo as tres opções:] : 18.339242696762085\n",
      "escolhendo entre elas:\n",
      "Total de [escolhendo entre elas:] : 0.45762181282043457\n",
      "fazendo as tres opções:\n",
      "Total de [fazendo as tres opções:] : 34.15573191642761\n",
      "escolhendo entre elas:\n",
      "Total de [escolhendo entre elas:] : 0.5672640800476074\n",
      "Total de [criando as rotas de zigzag, camada:L_000] : 136.63473200798035\n",
      "salvando imagens das rotas\n",
      "Total de [salvando imagens das rotas] : 1.031148910522461\n",
      "Criando os grafos de regiões\n",
      "Total de [Criando os grafos de regiões] : 1.0030174255371094\n",
      "Conectando regiões de zigzag\n",
      "Total de [Conectando regiões de zigzag] : 0.6702792644500732\n",
      "salvando grafos\n",
      "Total de [salvando grafos] : 0.4133739471435547\n",
      "Total de [Making zigzag routes] : 143.93574404716492\n"
     ]
    }
   ],
   "source": [
    "import gui\n",
    "import files\n",
    "from timer import Timer\n",
    "from os import getcwd\n",
    "\n",
    "if not('folders' in globals()):\n",
    "    home = getcwd()\n",
    "    folders = files.System_Paths(home)\n",
    "    gui.find_saved_file(folders)\n",
    "camadas = folders.load_layers_hdf5()\n",
    "for c in camadas:\n",
    "    with Timer(\"Making zigzag routes\"):\n",
    "        c.make_zigzag_routes(folders)\n",
    "        c.connect_zigzags(folders)\n",
    "        %reset_selective -f \"c\"\n",
    "%reset_selective -f \"camadas\""
   ]
  },
  {
   "cell_type": "markdown",
   "metadata": {},
   "source": [
    "Weaving"
   ]
  },
  {
   "cell_type": "code",
   "execution_count": 7,
   "metadata": {},
   "outputs": [
    {
     "name": "stdout",
     "output_type": "stream",
     "text": [
      "Fase 5 b\n",
      "gerando preenchimentos oscilatórios\n",
      "Total de [gerando preenchimentos oscilatórios] : 57.36977434158325\n",
      "salvando rotas\n",
      "Total de [salvando rotas] : 0.4090447425842285\n",
      "Total de [Fase 5 b] : 57.78042912483215\n"
     ]
    }
   ],
   "source": [
    "import gui\n",
    "import files\n",
    "from timer import Timer\n",
    "from os import getcwd\n",
    "\n",
    "if not('folders' in globals()):\n",
    "    home = getcwd()\n",
    "    folders = files.System_Paths(home)\n",
    "    gui.find_saved_file(folders)\n",
    "camadas = folders.load_layers_hdf5()\n",
    "[internal_weaving] = gui.ask_parameters_weaving()\n",
    "for c in camadas:\n",
    "    with Timer(\"Fase 5 b\"):\n",
    "        c.internal_weaving(internal_weaving, folders)\n",
    "        %reset_selective -f \"c\"\n",
    "%reset_selective -f \"camadas\""
   ]
  },
  {
   "cell_type": "markdown",
   "metadata": {},
   "source": [
    "Rotas de Thin Walls"
   ]
  },
  {
   "cell_type": "code",
   "execution_count": 8,
   "metadata": {},
   "outputs": [
    {
     "name": "stdout",
     "output_type": "stream",
     "text": [
      "Fase 5\n",
      "Making thin walls routes\n",
      "salvando imagens das rotas\n",
      "Total de [salvando imagens das rotas] : 4.410743713378906e-05\n",
      "Total de [Making thin walls routes] : 0.10981297492980957\n",
      "Total de [Fase 5] : 0.11003255844116211\n"
     ]
    }
   ],
   "source": [
    "import gui\n",
    "import files\n",
    "from timer import Timer\n",
    "from os import getcwd\n",
    "\n",
    "if not('folders' in globals()):\n",
    "    home = getcwd()\n",
    "    folders = files.System_Paths(home)\n",
    "    gui.find_saved_file(folders)\n",
    "camadas = folders.load_layers_hdf5()\n",
    "for c in camadas:\n",
    "    with Timer(\"Fase 5\"):\n",
    "        with Timer(\"Making thin walls routes\"):\n",
    "            c.make_thin_wall_routes(folders)\n",
    "            %reset_selective -f \"c\"\n",
    "%reset_selective -f \"camadas\""
   ]
  },
  {
   "cell_type": "markdown",
   "metadata": {},
   "source": [
    "Unificando rotas EXTERNAS nas camadas"
   ]
  },
  {
   "cell_type": "code",
   "execution_count": 9,
   "metadata": {},
   "outputs": [
    {
     "name": "stdout",
     "output_type": "stream",
     "text": [
      "Fase 6\n",
      "Conectando rotas externas\n",
      "Encontrando ponto de união ext-int\n",
      "33\n",
      "Total de [Encontrando ponto de união ext-int] : 0.5225958824157715\n",
      "Conectando pontes de Offset\n",
      "Total de [Conectando pontes de Offset] : 35.44973301887512\n",
      "Conectando pontes de Crossover\n",
      "Total de [Conectando pontes de Crossover] : 8.0108642578125e-05\n",
      "Total de [Conectando rotas externas] : 38.13287806510925\n",
      "salvando imagens das rotas\n",
      "Total de [salvando imagens das rotas] : 0.31807637214660645\n",
      "Total de [Fase 6] : 38.45232367515564\n"
     ]
    }
   ],
   "source": [
    "import gui\n",
    "import files\n",
    "from timer import Timer\n",
    "from os import getcwd\n",
    "\n",
    "if not('folders' in globals()):\n",
    "    home = getcwd()\n",
    "    folders = files.System_Paths(home)\n",
    "    gui.find_saved_file(folders)\n",
    "camadas = folders.load_layers_hdf5()\n",
    "\n",
    "for c in camadas:\n",
    "    with Timer(\"Fase 6\"):\n",
    "        c.close_routes_external(folders)\n",
    "        %reset_selective -f \"c\"\n",
    "%reset_selective -f \"camadas\"\n",
    "    "
   ]
  },
  {
   "cell_type": "markdown",
   "metadata": {},
   "source": [
    "Unificando rotas INTERNAS nas camadas"
   ]
  },
  {
   "cell_type": "code",
   "execution_count": 10,
   "metadata": {},
   "outputs": [
    {
     "name": "stdout",
     "output_type": "stream",
     "text": [
      "Fase 7\n",
      "Conectando zgzags vizinhos\n",
      "Total de [Conectando zgzags vizinhos] : 47.10807418823242\n",
      "Conectando pontes de zigzag\n",
      "salto:  [250, 270]\n",
      "salto:  [1024, 955]\n",
      "salto:  [1616, 1572]\n",
      "Total de [Conectando pontes de zigzag] : 2.846130609512329\n",
      "salvando imagens das rotas\n",
      "Total de [salvando imagens das rotas] : 0.3849785327911377\n",
      "Total de [Fase 7] : 52.529316663742065\n"
     ]
    }
   ],
   "source": [
    "import gui\n",
    "import files\n",
    "from timer import Timer\n",
    "from components import layer\n",
    "from os import getcwd\n",
    "\n",
    "if not('folders' in globals()):\n",
    "    home = getcwd()\n",
    "    folders = files.System_Paths(home)\n",
    "    gui.find_saved_file(folders)\n",
    "camadas = folders.load_layers_hdf5()\n",
    "\n",
    "for c in camadas:\n",
    "    with Timer(\"Fase 7\"):\n",
    "        c.close_routes_internal(folders)\n",
    "        %reset_selective -f \"c\"\n",
    "%reset_selective -f \"camadas\""
   ]
  },
  {
   "cell_type": "markdown",
   "metadata": {},
   "source": [
    "Unindo rotas de thin walls"
   ]
  },
  {
   "cell_type": "code",
   "execution_count": 11,
   "metadata": {},
   "outputs": [
    {
     "name": "stdout",
     "output_type": "stream",
     "text": [
      "Fase 8\n",
      "Convertendo paredes finas\n",
      "Total de [Convertendo paredes finas] : 0.008278608322143555\n",
      "salvando imagens das rotas\n",
      "Total de [salvando imagens das rotas] : 0.22523188591003418\n",
      "Total de [Fase 8] : 0.3517897129058838\n"
     ]
    }
   ],
   "source": [
    "import gui\n",
    "import files\n",
    "from timer import Timer\n",
    "from components import layer\n",
    "from os import getcwd\n",
    "\n",
    "if not('folders' in globals()):\n",
    "    home = getcwd()\n",
    "    folders = files.System_Paths(home)\n",
    "    gui.find_saved_file(folders)\n",
    "camadas = folders.load_layers_hdf5()\n",
    "\n",
    "for c in camadas:\n",
    "    with Timer(\"Fase 8\"):\n",
    "        c.close_routes_thinwalls(folders)\n",
    "        %reset_selective -f \"c\"\n",
    "%reset_selective -f \"camadas\""
   ]
  },
  {
   "cell_type": "markdown",
   "metadata": {},
   "source": [
    "Unindo todas as rotas e criando codigo G"
   ]
  },
  {
   "cell_type": "code",
   "execution_count": null,
   "metadata": {},
   "outputs": [
    {
     "name": "stdout",
     "output_type": "stream",
     "text": [
      "Value(False)\n"
     ]
    }
   ],
   "source": [
    "import gui\n",
    "import files\n",
    "from timer import Timer\n",
    "from components import layer, path_tools\n",
    "from os import getcwd\n",
    "\n",
    "if not('folders' in globals()):\n",
    "    home = getcwd()\n",
    "    folders = files.System_Paths(home)\n",
    "    gui.find_saved_file(folders)\n",
    "[vel_int, vel_ext, vel_thin_wall] = gui.ask_parameters_Gcode()\n",
    "camadas = folders.load_layers_hdf5()\n",
    "\n",
    "internal_trees = []\n",
    "external_trees = []\n",
    "tw_trees = []\n",
    "for c in camadas:\n",
    "    folders.load_islands_hdf5(c)\n",
    "    for isl in c.islands:\n",
    "        folders.load_island_paths_hdf5(c.name, isl)\n",
    "        \n",
    "for c in camadas:\n",
    "    c.close_final_path(folders)\n",
    "    for isl in c.islands:\n",
    "        internal_trees.append([list(x) for x in isl.internal_tree_route.sequence])\n",
    "        external_trees.append([list(x) for x in isl.external_tree_route.sequence])\n",
    "        tw_trees.append([list(x) for x in isl.thinwalls_tree_route.sequence])\n",
    "\n",
    "with Timer(\"Cuspindo o Gcode\"):\n",
    "    path_tools.layers_to_Gcode(camadas, \n",
    "                               folders, \n",
    "                               vel_int,\n",
    "                               vel_ext, \n",
    "                               vel_thin_wall, \n",
    "                               internal_trees,\n",
    "                               external_trees,\n",
    "                               tw_trees,\n",
    "                               )\n",
    "%reset_selective -f \"camadas\""
   ]
  },
  {
   "cell_type": "code",
   "execution_count": 35,
   "metadata": {},
   "outputs": [
    {
     "ename": "TypeError",
     "evalue": "unhashable type: 'list'",
     "output_type": "error",
     "traceback": [
      "\u001b[0;31m---------------------------------------------------------------------------\u001b[0m",
      "\u001b[0;31mTypeError\u001b[0m                                 Traceback (most recent call last)",
      "Cell \u001b[0;32mIn[35], line 7\u001b[0m\n\u001b[1;32m      5\u001b[0m     \u001b[38;5;28;01mfor\u001b[39;00m isl \u001b[38;5;129;01min\u001b[39;00m c\u001b[38;5;241m.\u001b[39mislands:\n\u001b[1;32m      6\u001b[0m         folders\u001b[38;5;241m.\u001b[39mload_island_paths_hdf5(c\u001b[38;5;241m.\u001b[39mname, isl)\n\u001b[0;32m----> 7\u001b[0m         internal_trees \u001b[38;5;241m=\u001b[39m \u001b[38;5;28mset\u001b[39m([\u001b[38;5;28mlist\u001b[39m(x) \u001b[38;5;28;01mfor\u001b[39;00m x \u001b[38;5;129;01min\u001b[39;00m isl\u001b[38;5;241m.\u001b[39minternal_tree_route\u001b[38;5;241m.\u001b[39msequence])\n\u001b[1;32m      8\u001b[0m         \u001b[38;5;28mprint\u001b[39m(internal_trees)\n\u001b[1;32m      9\u001b[0m \u001b[38;5;28mprint\u001b[39m([\u001b[38;5;241m235\u001b[39m,\u001b[38;5;241m807\u001b[39m] \u001b[38;5;129;01min\u001b[39;00m internal_trees)\n",
      "\u001b[0;31mTypeError\u001b[0m: unhashable type: 'list'"
     ]
    }
   ],
   "source": [
    "import numpy as np\n",
    "camadas = folders.load_layers_hdf5()\n",
    "for c in camadas:\n",
    "    folders.load_islands_hdf5(c)\n",
    "    for isl in c.islands:\n",
    "        folders.load_island_paths_hdf5(c.name, isl)\n",
    "        internal_trees = [list(x) for x in isl.internal_tree_route.sequence]\n",
    "        print(internal_trees)\n",
    "print([235,807] in internal_trees)"
   ]
  },
  {
   "cell_type": "code",
   "execution_count": 13,
   "metadata": {},
   "outputs": [],
   "source": [
    "# import matplotlib.pyplot as plt\n",
    "# from mpl_toolkits.mplot3d import Axes3D\n",
    "# import numpy as np\n",
    "\n",
    "# # Lista de imagens binárias (exemplo com arrays numpy)\n",
    "# imagens = [\n",
    "#     img_mapping,\n",
    "#     img_mapping,\n",
    "#     img_mapping\n",
    "# ]\n",
    "\n",
    "# # Lista de alturas no eixo z\n",
    "# alturas = [0, 10, 20]\n",
    "\n",
    "# fig = plt.figure()\n",
    "# ax = fig.add_subplot(111, projection='3d')\n",
    "\n",
    "# for img, z in zip(imagens, alturas):\n",
    "#     x = np.linspace(0, img.shape[1], img.shape[1])\n",
    "#     y = np.linspace(0, img.shape[0], img.shape[0])\n",
    "#     x, y = np.meshgrid(x, y)\n",
    "#     z = np.full_like(x, z)\n",
    "#     ax.plot_surface(x, y, z, rstride=1, cstride=1, facecolors=plt.cm.gray(img), shade=False)\n",
    "\n",
    "# ax.set_xlabel('X')\n",
    "# ax.set_ylabel('Y')\n",
    "# ax.set_zlabel('Z')\n",
    "# plt.show()\n"
   ]
  },
  {
   "cell_type": "code",
   "execution_count": 14,
   "metadata": {},
   "outputs": [],
   "source": [
    "# import gui\n",
    "# import files\n",
    "# from timer import Timer\n",
    "# from components import layer, path_tools\n",
    "# from os import getcwd\n",
    "\n",
    "# if not('folders' in globals()):\n",
    "#     home = getcwd()\n",
    "#     folders = files.System_Paths(home)\n",
    "#     gui.find_saved_file(folders)\n",
    "# camadas = folders.load_layers_hdf5()\n",
    "\n",
    "# file_name = gui.find_saved_file(folders)\n",
    "# path_tools.layers_to_Gcode_FFF(camadas, folders, file_name)"
   ]
  }
 ],
 "metadata": {
  "kernelspec": {
   "display_name": "base",
   "language": "python",
   "name": "python3"
  },
  "language_info": {
   "codemirror_mode": {
    "name": "ipython",
    "version": 3
   },
   "file_extension": ".py",
   "mimetype": "text/x-python",
   "name": "python",
   "nbconvert_exporter": "python",
   "pygments_lexer": "ipython3",
   "version": "3.12.2"
  }
 },
 "nbformat": 4,
 "nbformat_minor": 2
}
