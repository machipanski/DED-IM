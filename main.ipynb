{
 "cells": [
  {
   "cell_type": "markdown",
   "metadata": {},
   "source": [
    "Importa o modelo a ser fatiado e mapeado"
   ]
  },
  {
   "cell_type": "code",
   "execution_count": 1,
   "metadata": {
    "notebookRunGroups": {
     "groupValue": "1"
    }
   },
   "outputs": [
    {
     "name": "stdout",
     "output_type": "stream",
     "text": [
      "Fase 0: \n",
      "Total de [Fase 0: ] : 0.22954797744750977\n"
     ]
    }
   ],
   "source": [
    "import matplotlib.pyplot as plt\n",
    "import gui\n",
    "import files\n",
    "from timer import Timer\n",
    "from components import layer\n",
    "from os import getcwd\n",
    "\n",
    "home = getcwd()\n",
    "choice = gui.ask_load_or_begin()\n",
    "folders = files.Paths(home)\n",
    "if choice == \"Novo Projeto\":\n",
    "    path_input, file_name = gui.load_model(folders)\n",
    "    [dpi, layer_height] = gui.ask_parameters_input()\n",
    "    with Timer(\"Fase 0: \"):\n",
    "        if file_name.endswith(\".stl\") or file_name.endswith(\".STL\"):\n",
    "            folders.create_layers_3d(path_input, dpi, layer_height, file_name, folders)\n",
    "        else:\n",
    "            folders.create_layers_2d(path_input, dpi, layer_height, file_name, folders)\n",
    "    layer.divide_islands(folders)\n",
    "elif choice == \"Carregar Salvo\":\n",
    "    gui.find_saved_file(folders)\n",
    "elif choice == \"Cancelar\":\n",
    "    quit\n",
    "\n",
    "#TODO: encontrar uma forma de jogar layerHight para o slicing W/images (POSSIVELMENTE COM O RUNSINGLEMODEL)"
   ]
  },
  {
   "cell_type": "markdown",
   "metadata": {},
   "source": [
    "Paredes Finas"
   ]
  },
  {
   "cell_type": "code",
   "execution_count": 2,
   "metadata": {},
   "outputs": [
    {
     "name": "stdout",
     "output_type": "stream",
     "text": [
      "Fase 1: Camada: 0\n",
      "Criando paredes finas\n",
      "OK: fechou contorno\n",
      "OK: fechou contorno\n",
      "OK: fechou contorno\n",
      "salvando imagens das regiões\n",
      "Total de [salvando imagens das regiões] : 0.8654141426086426\n",
      "Retirando Paredes finas da camada\n",
      "Total de [Retirando Paredes finas da camada] : 0.11699128150939941\n",
      "Total de [Criando paredes finas] : 12.686471700668335\n",
      "Total de [Fase 1: Camada: 0] : 12.72547173500061\n"
     ]
    }
   ],
   "source": [
    "import gui\n",
    "import files\n",
    "from timer import Timer\n",
    "from os import getcwd\n",
    "\n",
    "if not('folders' in globals()):\n",
    "    home = getcwd()\n",
    "    folders = files.Paths(home)\n",
    "    gui.find_saved_file(folders)\n",
    "[nozzle_diam_internal,nozzle_diam_external] = gui.ask_parameters_thin_walls()\n",
    "camadas = folders.load_layers_hdf5()\n",
    "for i,c in enumerate(camadas):\n",
    "    with Timer(\"Fase 1: Camada: \" + str(i)):\n",
    "        c.make_thin_walls(folders, nozzle_diam_external, nozzle_diam_internal)\n",
    "\n",
    "%reset_selective -f \"camadas\"\n",
    "%reset_selective -f \"c\"\n",
    "# TODO: arvore de paredes finas\n",
    "# TODO: quando duas áreas se encontram\n",
    "# TODO: limite de parede diam minimo\n",
    "# TODO: anotar todos os (não fechou contorno)\n",
    "# TODO arrumar para origens extremamente pequenas, ignorar da problema\n",
    "# TODO arrumar casos onde a beirada esta vazndo criando areas triangulares distantes\n",
    "# FIXME: Precisa mesmo separar linha 1 2 topo e baixo? muitos elementos estão sendo criados"
   ]
  },
  {
   "cell_type": "markdown",
   "metadata": {},
   "source": [
    "Contornos"
   ]
  },
  {
   "cell_type": "code",
   "execution_count": 3,
   "metadata": {},
   "outputs": [
    {
     "name": "stdout",
     "output_type": "stream",
     "text": [
      "Fase 2: Camada: 0\n",
      "Criando Lvls\n",
      "Ilha: I_000 Número de Níveis: 7\n",
      "Total de [Criando Lvls] : 6.095388174057007\n",
      "Criando os loops\n",
      "Total de [Criando os loops] : 5.928848505020142\n",
      "Criando regiões de influência\n",
      "Total de [Criando regiões de influência] : 1.9907448291778564\n",
      "Criando as regiões de Offset\n",
      "Total de [Criando as regiões de Offset] : 16.05016827583313\n",
      "Retirando regiões da camada\n",
      "['Lvl_000', 0, 1] Perdendo total:1078 maior void:0.34002509410288584Bw -> aceito\n",
      "['Lvl_001', 0, 4] Perdendo total:1872 maior void:0.5872020075282308Bw -> aceito\n",
      "['Lvl_002', 0, 6] Perdendo total:1636 maior void:0.5131744040150564Bw -> aceito\n",
      "['Lvl_003', 0, 5] Perdendo total:1636 maior void:0.5131744040150564Bw -> aceito\n",
      "['Lvl_004', 0, 0] Perdendo total:1623 maior void:0.5131744040150564Bw -> aceito\n",
      "['Lvl_005', 0, 0] Perdendo total:1738 maior void:0.5834378920953576Bw -> aceito\n",
      "['Lvl_006', 0, 0] Perdendo total:1633 maior void:0.5131744040150564Bw -> aceito\n",
      "['Lvl_000', 0, 0] Perdendo total:2157 maior void:0.33877038895859474Bw -> aceito\n",
      "['Lvl_000', 0, 2] Perdendo total:1079 maior void:0.33877038895859474Bw -> aceito\n",
      "['Lvl_000', 1, 0] Perdendo total:74 maior void:0.005018820577164366Bw -> aceito\n",
      "['Lvl_001', 1, 0] Perdendo total:0 maior void:0Bw -> aceito\n",
      "['Lvl_000', 1, 1] Perdendo total:67 maior void:0.005018820577164366Bw -> aceito\n",
      "['Lvl_001', 0, 0] Perdendo total:18650 maior void:21.051442910915934Bw -> bloqueado\n",
      "['Lvl_002', 0, 3] Perdendo total:1817 maior void:0.5131744040150564Bw -> aceito\n",
      "['Lvl_003', 0, 2] Perdendo total:7296 maior void:7.435382685069008Bw -> bloqueado\n",
      "['Lvl_001', 0, 1] Perdendo total:18589 maior void:20.974905897114176Bw -> bloqueado\n",
      "['Lvl_001', 0, 2] Perdendo total:24464 maior void:16.647427854454204Bw -> bloqueado\n",
      "['Lvl_001', 0, 3] Perdendo total:24957 maior void:16.764115432873275Bw -> bloqueado\n",
      "['Lvl_001', 0, 5] Perdendo total:24650 maior void:16.62233375156838Bw -> bloqueado\n",
      "['Lvl_001', 0, 6] Perdendo total:24887 maior void:16.48306148055207Bw -> bloqueado\n",
      "['Lvl_002', 0, 0] Perdendo total:11141 maior void:12.771643663739022Bw -> bloqueado\n",
      "['Lvl_003', 0, 0] Perdendo total:10600 maior void:5.13801756587202Bw -> bloqueado\n",
      "['Lvl_002', 0, 1] Perdendo total:1548 maior void:0.5131744040150564Bw -> aceito\n",
      "['Lvl_003', 0, 1] Perdendo total:10562 maior void:5.097867001254705Bw -> bloqueado\n",
      "['Lvl_002', 0, 4] Perdendo total:19618 maior void:12.230865746549561Bw -> bloqueado\n",
      "['Lvl_003', 0, 3] Perdendo total:10699 maior void:5.052697616060226Bw -> bloqueado\n",
      "['Lvl_002', 0, 5] Perdendo total:1546 maior void:0.5131744040150564Bw -> aceito\n",
      "['Lvl_003', 0, 4] Perdendo total:10802 maior void:5.097867001254705Bw -> bloqueado\n",
      "['Lvl_002', 0, 2] Perdendo total:3809 maior void:1.7038895859473024Bw -> bloqueado\n",
      "Total de [Retirando regiões da camada] : 13.837573528289795\n",
      "Reunindo todos os loops em uma unica imagem\n",
      "Total de [Reunindo todos os loops em uma unica imagem] : 0.09798765182495117\n",
      "salvando imagens das regiões\n",
      "Total de [salvando imagens das regiões] : 0.8469259738922119\n",
      "pausa\n",
      "Total de [Fase 2: Camada: 0] : 45.11649966239929\n"
     ]
    }
   ],
   "source": [
    "import gui\n",
    "import files\n",
    "from timer import Timer\n",
    "from components import layer\n",
    "from os import getcwd\n",
    "\n",
    "if not('folders' in globals()):\n",
    "    home = getcwd()\n",
    "    folders = files.Paths(home)\n",
    "    gui.find_saved_file(folders)\n",
    "[void_max,internal_max,external_max] = gui.ask_parameters_offsets()\n",
    "camadas = folders.load_layers_hdf5()\n",
    "for i,c in enumerate(camadas):\n",
    "    with Timer(\"Fase 2: Camada: \" + str(i)):\n",
    "        c.make_offsets(folders, void_max, external_max, internal_max)\n",
    "        folders.save_props_hdf5(f\"/{c.name}\",c.__dict__)\n",
    "        print(\"pausa\")\n",
    "%reset_selective -f \"camadas\"\n",
    "%reset_selective -f \"c\""
   ]
  },
  {
   "cell_type": "markdown",
   "metadata": {},
   "source": [
    "Pontes"
   ]
  },
  {
   "cell_type": "code",
   "execution_count": 1,
   "metadata": {},
   "outputs": [
    {
     "name": "stdout",
     "output_type": "stream",
     "text": [
      "Fase 3: Camada: 0\n",
      "Criando pontes de Offset\n",
      "Total de [Criando pontes de Offset] : 2.2531168460845947\n",
      "Criando pontes de Zigzag\n",
      "Total de [Criando pontes de Zigzag] : 19.14715552330017\n",
      "Criando pontes de Crossover\n",
      "Elemento: ('Reg_002', 'Reg_004') Maior prioridade: 0\n",
      "Total de [Criando pontes de Crossover] : 0.504410982131958\n",
      "Retirando pontes da Camada\n",
      "Total de [Retirando pontes da Camada] : 0.03219723701477051\n",
      "salvando imagens das regiões\n",
      "Total de [salvando imagens das regiões] : 0.26967787742614746\n",
      "Total de [Fase 3: Camada: 0] : 22.387670278549194\n"
     ]
    }
   ],
   "source": [
    "import gui\n",
    "import files\n",
    "from timer import Timer\n",
    "from components import layer\n",
    "from os import getcwd\n",
    "\n",
    "if not('folders' in globals()):\n",
    "    home = getcwd()\n",
    "    folders = files.Paths(home)\n",
    "    gui.find_saved_file(folders)\n",
    "[n_max, nozzle_diam_internal] = gui.ask_parameters_bridges()\n",
    "camadas = folders.load_layers_hdf5()\n",
    "for i,c in enumerate(camadas):\n",
    "    with Timer(\"Fase 3: Camada: \" + str(i)):\n",
    "        c.make_bridges(n_max, nozzle_diam_internal, folders)\n",
    "        folders.save_props_hdf5(f\"/{c.name}\",c.__dict__)\n",
    "%reset_selective -f \"camadas\"\n",
    "%reset_selective -f \"c\""
   ]
  },
  {
   "cell_type": "markdown",
   "metadata": {},
   "source": [
    "Zigzags"
   ]
  },
  {
   "cell_type": "code",
   "execution_count": 1,
   "metadata": {},
   "outputs": [
    {
     "name": "stdout",
     "output_type": "stream",
     "text": [
      "Fase 4: Camada: 0\n",
      "Encontrando areas monotonicas\n",
      "Total de [Encontrando areas monotonicas] : 39.737125396728516\n",
      "Criando os grafos de regiões\n",
      "Total de [Criando os grafos de regiões] : 1.3143272399902344\n",
      "Conectando regiões de zigzag\n",
      "Total de [Conectando regiões de zigzag] : 0.46027541160583496\n",
      "salvando imagens das regiões\n",
      "Total de [salvando imagens das regiões] : 0.32846903800964355\n",
      "Total de [Fase 4: Camada: 0] : 42.18193054199219\n"
     ]
    }
   ],
   "source": [
    "import gui\n",
    "import files\n",
    "from timer import Timer\n",
    "from components import layer\n",
    "from os import getcwd\n",
    "\n",
    "if not('folders' in globals()):\n",
    "    home = getcwd()\n",
    "    folders = files.Paths(home)\n",
    "    gui.find_saved_file(folders)\n",
    "camadas = folders.load_layers_hdf5() \n",
    "for i, c in enumerate(camadas):\n",
    "    with Timer(\"Fase 4: Camada: \" + str(i)):\n",
    "        c.make_zigzags(folders)\n",
    "%reset_selective -f \"camadas\"\n",
    "%reset_selective -f \"c\""
   ]
  },
  {
   "cell_type": "code",
   "execution_count": 1,
   "metadata": {},
   "outputs": [
    {
     "name": "stdout",
     "output_type": "stream",
     "text": [
      "Fase 4: Camada: 0\n",
      "\n",
      "\n",
      "Total de [Fase 4: Camada: 0] : 1.2270219326019287\n"
     ]
    },
    {
     "data": {
      "image/png": "[encoded data removed]",
      "text/plain": [
       "<Figure size 640x480 with 2 Axes>"
      ]
     },
     "metadata": {},
     "output_type": "display_data"
    }
   ],
   "source": [
    "import gui\n",
    "import files\n",
    "from timer import Timer\n",
    "from components import images_tools as it\n",
    "from os import getcwd\n",
    "import matplotlib.pyplot as plt\n",
    "import matplotlib.colors\n",
    "\n",
    "if not('folders' in globals()):\n",
    "    home = getcwd()\n",
    "    folders = files.Paths(home)\n",
    "    gui.find_saved_file(folders)\n",
    "camadas = folders.load_layers_hdf5() \n",
    "for c in camadas:\n",
    "    folders.load_islands_hdf5(c)\n",
    "tangran_cmap = matplotlib.colors.ListedColormap([\"white\",\"darkblue\",\"aqua\",\"aquamarine\",\"blue\",\"black\",\"green\",\"indigo\",\"red\",\"orange\"])\n",
    "for i, c in enumerate(camadas):\n",
    "    with Timer(\"Fase 4: Camada: \" + str(i)):\n",
    "        plt.figure()\n",
    "        plt.imshow(it.final_mapping(c, folders), cmap=tangran_cmap, vmin=0, vmax=1000)\n",
    "        plt.colorbar()\n",
    "        print('\\n')\n",
    "%reset_selective -f \"camadas\"\n",
    "%reset_selective -f \"c\""
   ]
  },
  {
   "cell_type": "markdown",
   "metadata": {},
   "source": [
    "ROTAS"
   ]
  },
  {
   "cell_type": "code",
   "execution_count": null,
   "metadata": {},
   "outputs": [],
   "source": [
    "import gui\n",
    "import files\n",
    "from timer import Timer\n",
    "from components import layer\n",
    "from os import getcwd\n",
    "\n",
    "if not('folders' in globals()):\n",
    "    home = getcwd()\n",
    "    folders = files.Paths(home)\n",
    "    gui.find_saved_file(folders)\n",
    "[nozzle_diam_internal,nozzle_diam_external] = gui.ask_parameters_thin_walls()\n",
    "camadas = folders.load_layers_hdf5()\n",
    "\n",
    "amendment_size = 0.7 #porcentagem do tamanho da poca de deposicao de material\n",
    "for c in camadas:\n",
    "    with Timer(\"Fase 5\"):\n",
    "        with Timer(\"Making offset routes\"):\n",
    "            c.offsets.make_routes_o(c.base_frame, \n",
    "                                    c.mask_full_ext, \n",
    "                                    c.mask_double_ext, \n",
    "                                    c.prohibited_areas,\n",
    "                                    c.path_radius_external,\n",
    "                                    amendment_size)"
   ]
  },
  {
   "cell_type": "code",
   "execution_count": null,
   "metadata": {},
   "outputs": [],
   "source": [
    "import gui\n",
    "import files\n",
    "from timer import Timer\n",
    "from components import layer\n",
    "from os import getcwd\n",
    "\n",
    "if not('folders' in globals()):\n",
    "    home = getcwd()\n",
    "    folders = files.Paths(home)\n",
    "    gui.find_saved_file(folders)\n",
    "[nozzle_diam_internal,nozzle_diam_external] = gui.ask_parameters_thin_walls()\n",
    "camadas = folders.load_layers_hdf5()\n",
    "\n",
    "for c in camadas:\n",
    "    with Timer(\"Fase 5\"):\n",
    "        with Timer(\"Making bridges routes\"):\n",
    "            c.bridges.make_routes_b(c.offsets.regions,\n",
    "                                    c.path_radius_external,\n",
    "                                    c.path_radius_internal, \n",
    "                                    c.base_frame, \n",
    "                                    c.rest_of_picture_f2, \n",
    "                                    c.odd_layer, \n",
    "                                    c.offsets.all_valid_loops)"
   ]
  },
  {
   "cell_type": "code",
   "execution_count": null,
   "metadata": {},
   "outputs": [],
   "source": [
    "import gui\n",
    "import files\n",
    "from timer import Timer\n",
    "from components import layer\n",
    "from os import getcwd\n",
    "from components import images_tools as it\n",
    "\n",
    "if not('folders' in globals()):\n",
    "    home = getcwd()\n",
    "    folders = files.Paths(home)\n",
    "    gui.find_saved_file(folders)\n",
    "[nozzle_diam_internal,nozzle_diam_external] = gui.ask_parameters_thin_walls()\n",
    "camadas = folders.load_layers_hdf5()\n",
    "\n",
    "for c in camadas:\n",
    "    with Timer(\"Fase 5\"):\n",
    "        with Timer(\"Making zigzag routes\"):\n",
    "            c.zigzags.make_routes_z(c.base_frame, \n",
    "                                    c.path_radius_internal)\n",
    "            c.zigzags.connect_zigzags(c, c.base_frame, c.path_radius_internal, c.mask_full_int, c.zigzags_mst)\n",
    "        plt.figure()\n",
    "        plt.imshow(it.final_routes(c))"
   ]
  },
  {
   "cell_type": "code",
   "execution_count": null,
   "metadata": {},
   "outputs": [],
   "source": [
    "import gui\n",
    "import files\n",
    "from timer import Timer\n",
    "from components import layer\n",
    "from os import getcwd\n",
    "from components import images_tools as it\n",
    "\n",
    "if not('folders' in globals()):\n",
    "    home = getcwd()\n",
    "    folders = files.Paths(home)\n",
    "    gui.find_saved_file(folders)\n",
    "[nozzle_diam_internal,nozzle_diam_external] = gui.ask_parameters_thin_walls()\n",
    "camadas = folders.load_layers_hdf5()\n",
    "\n",
    "internal_weaving = 1\n",
    "for c in camadas:\n",
    "    with Timer(\"Fase 6 b\"):\n",
    "        c.internal_weaving(internal_weaving)\n",
    "        c.internal_weaving(internal_weaving)\n",
    "    plt.figure()\n",
    "    plt.imshow(it.final_routes(c))"
   ]
  },
  {
   "cell_type": "code",
   "execution_count": null,
   "metadata": {},
   "outputs": [],
   "source": [
    "import gui\n",
    "import files\n",
    "from timer import Timer\n",
    "from components import layer\n",
    "from os import getcwd\n",
    "from components import path\n",
    "from components import images_tools as it\n",
    "\n",
    "if not('folders' in globals()):\n",
    "    home = getcwd()\n",
    "    folders = files.Paths(home)\n",
    "    gui.find_saved_file(folders)\n",
    "[nozzle_diam_internal,nozzle_diam_external] = gui.ask_parameters_thin_walls()\n",
    "camadas = folders.load_layers_hdf5()\n",
    "\n",
    "fator_epsilon_ext = 0.01\n",
    "fator_epsilon_int = 0.01\n",
    "fator_epsilon_par = 0.1\n",
    "\n",
    "for c in camadas:\n",
    "    with Timer(\"Fase 5\"):\n",
    "        with Timer(\"Making thin walls routes\"):\n",
    "            c.thin_walls.make_routes_tw(c.path_radius, \n",
    "                                           c.base_frame, \n",
    "                                           c.rest_of_picture_f2, \n",
    "                                           c.odd_layer, \n",
    "                                           c.offsets.all_valid_loops)\n",
    "    plt.figure()\n",
    "    plt.imshow(it.phase5_result(c))"
   ]
  },
  {
   "cell_type": "code",
   "execution_count": null,
   "metadata": {},
   "outputs": [],
   "source": [
    "import gui\n",
    "import files\n",
    "from timer import Timer\n",
    "from components import layer\n",
    "from os import getcwd\n",
    "\n",
    "if not('folders' in globals()):\n",
    "    home = getcwd()\n",
    "    folders = files.Paths(home)\n",
    "    gui.find_saved_file(folders)\n",
    "[nozzle_diam_internal,nozzle_diam_external] = gui.ask_parameters_thin_walls()\n",
    "camadas = folders.load_layers_hdf5()\n",
    "\n",
    "for c in camadas:\n",
    "    with Timer(\"Fase 6\"):\n",
    "        c.close_routes_external()\n",
    "    plt.figure()\n",
    "    plt.imshow(c.external_tree_route.get_img(c.base_frame))\n",
    "    "
   ]
  },
  {
   "cell_type": "code",
   "execution_count": null,
   "metadata": {},
   "outputs": [],
   "source": [
    "import gui\n",
    "import files\n",
    "from timer import Timer\n",
    "from components import layer\n",
    "from os import getcwd\n",
    "\n",
    "if not('folders' in globals()):\n",
    "    home = getcwd()\n",
    "    folders = files.Paths(home)\n",
    "    gui.find_saved_file(folders)\n",
    "[nozzle_diam_internal,nozzle_diam_external] = gui.ask_parameters_thin_walls()\n",
    "camadas = folders.load_layers_hdf5()\n",
    "\n",
    "for c in camadas:\n",
    "    with Timer(\"Fase 7\"):\n",
    "        c.close_routes_internal()\n",
    "    plt.figure()\n",
    "    plt.imshow(c.internal_tree_route.get_img(c.base_frame))"
   ]
  },
  {
   "cell_type": "code",
   "execution_count": null,
   "metadata": {},
   "outputs": [],
   "source": [
    "import gui\n",
    "import files\n",
    "from timer import Timer\n",
    "from components import layer\n",
    "from os import getcwd\n",
    "\n",
    "if not('folders' in globals()):\n",
    "    home = getcwd()\n",
    "    folders = files.Paths(home)\n",
    "    gui.find_saved_file(folders)\n",
    "[nozzle_diam_internal,nozzle_diam_external] = gui.ask_parameters_thin_walls()\n",
    "camadas = folders.load_layers_hdf5()\n",
    "\n",
    "for c in camadas:\n",
    "    with Timer(\"Fase 8\"):\n",
    "        c.close_routes_thinwalls()"
   ]
  },
  {
   "cell_type": "code",
   "execution_count": null,
   "metadata": {},
   "outputs": [],
   "source": [
    "import gui\n",
    "import files\n",
    "from timer import Timer\n",
    "from components import layer\n",
    "from os import getcwd\n",
    "from components import path\n",
    "\n",
    "if not('folders' in globals()):\n",
    "    home = getcwd()\n",
    "    folders = files.Paths(home)\n",
    "    gui.find_saved_file(folders)\n",
    "[nozzle_diam_internal,nozzle_diam_external] = gui.ask_parameters_thin_walls()\n",
    "camadas = folders.load_layers_hdf5()\n",
    "\n",
    "for c in camadas:\n",
    "    with Timer(\"Fase 9\"):\n",
    "        c.close_final_path()\n",
    "    print('\\n \\n \\n')\n",
    "path.layers_to_Gcode(camadas, folders)\n",
    "# layers_to_Gcode(camadas, arquivos)"
   ]
  }
 ],
 "metadata": {
  "kernelspec": {
   "display_name": "plantcv",
   "language": "python",
   "name": "python3"
  },
  "language_info": {
   "codemirror_mode": {
    "name": "ipython",
    "version": 3
   },
   "file_extension": ".py",
   "mimetype": "text/x-python",
   "name": "python",
   "nbconvert_exporter": "python",
   "pygments_lexer": "ipython3",
   "version": "3.12.2"
  }
 },
 "nbformat": 4,
 "nbformat_minor": 2
}
