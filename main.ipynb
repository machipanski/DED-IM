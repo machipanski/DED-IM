{
 "cells": [
  {
   "cell_type": "markdown",
   "metadata": {},
   "source": [
    "Importa o modelo a ser fatiado e mapeado"
   ]
  },
  {
   "cell_type": "code",
   "execution_count": 7,
   "metadata": {
    "notebookRunGroups": {
     "groupValue": "1"
    }
   },
   "outputs": [
    {
     "name": "stdout",
     "output_type": "stream",
     "text": [
      "Fase 0: \n",
      "criando as camadas\n",
      "Total de [criando as camadas] : 0.21253275871276855\n",
      "salvando as camadas\n",
      "Total de [salvando as camadas] : 0.1215510368347168\n",
      "Total de [Fase 0: ] : 0.3353705406188965\n"
     ]
    }
   ],
   "source": [
    "import matplotlib.pyplot as plt\n",
    "import gui\n",
    "import files\n",
    "from timer import Timer\n",
    "from components.layer import Layer\n",
    "from os import getcwd\n",
    "\n",
    "if not('folders' in globals()):\n",
    "    home = getcwd()\n",
    "    folders = files.System_Paths(home)\n",
    "choice = gui.ask_load_or_begin()\n",
    "if choice == \"Novo Projeto\":\n",
    "    path_input, file_name = gui.load_model(folders)\n",
    "    [dpi, layer_height] = gui.ask_parameters_input()\n",
    "    with Timer(\"Fase 0: \"):\n",
    "        Layer.create_layers(folders, path_input, file_name, dpi, layer_height)\n",
    "elif choice == \"Carregar Salvo\":\n",
    "    gui.find_saved_file(folders)\n",
    "elif choice == \"Cancelar\":\n",
    "    quit\n",
    "\n",
    "#TODO: encontrar uma forma de jogar layerHight para o slicing W/images (POSSIVELMENTE COM O RUNSINGLEMODEL)"
   ]
  },
  {
   "cell_type": "markdown",
   "metadata": {},
   "source": [
    "Paredes Finas"
   ]
  },
  {
   "cell_type": "code",
   "execution_count": 8,
   "metadata": {},
   "outputs": [
    {
     "name": "stdout",
     "output_type": "stream",
     "text": [
      "Fase 1: Camada: 0\n",
      "Criando paredes finas\n",
      "OK: fechou contorno\n",
      "salvando imagens das regiões\n",
      "Total de [salvando imagens das regiões] : 0.4510009288787842\n",
      "Retirando Paredes finas da camada\n",
      "Total de [Retirando Paredes finas da camada] : 0.09019970893859863\n",
      "Total de [Criando paredes finas] : 13.053072690963745\n",
      "Total de [Fase 1: Camada: 0] : 13.088932037353516\n"
     ]
    }
   ],
   "source": [
    "import gui\n",
    "import files\n",
    "from timer import Timer\n",
    "from os import getcwd\n",
    "\n",
    "if not('folders' in globals()):\n",
    "    home = getcwd()\n",
    "    folders = files.System_Paths(home)\n",
    "    gui.find_saved_file(folders)\n",
    "[nozzle_diam_internal,nozzle_diam_external] = gui.ask_parameters_thin_walls()\n",
    "camadas = folders.load_layers_hdf5()\n",
    "for i,c in enumerate(camadas):\n",
    "    with Timer(\"Fase 1: Camada: \" + str(i)):\n",
    "        folders.load_islands_hdf5(c)\n",
    "        c.make_thin_walls(folders, nozzle_diam_external, nozzle_diam_internal)\n",
    "        %reset_selective -f \"c\"\n",
    "%reset_selective -f \"camadas\"\n",
    "# TODO: arvore de paredes finas\n",
    "# TODO: quando duas áreas se encontram\n",
    "# TODO: limite de parede diam minimo\n",
    "# TODO: anotar todos os (não fechou contorno)\n",
    "# TODO arrumar para origens extremamente pequenas, ignorar da problema\n",
    "# TODO arrumar casos onde a beirada esta vazndo criando areas triangulares distantes\n",
    "# FIXME: Precisa mesmo separar linha 1 2 topo e baixo? muitos elementos estão sendo criados"
   ]
  },
  {
   "cell_type": "markdown",
   "metadata": {},
   "source": [
    "Contornos"
   ]
  },
  {
   "cell_type": "code",
   "execution_count": 9,
   "metadata": {},
   "outputs": [
    {
     "name": "stdout",
     "output_type": "stream",
     "text": [
      "Fase 2: Camada: 0\n",
      "Criando Lvls\n",
      "Ilha: I_000 Número de Níveis: 7\n",
      "Total de [Criando Lvls] : 6.241185665130615\n",
      "Criando os loops\n",
      "Total de [Criando os loops] : 5.345551490783691\n",
      "Criando regiões de influência\n",
      "Total de [Criando regiões de influência] : 2.7292098999023438\n",
      "Criando as regiões de Offset\n",
      "Total de [Criando as regiões de Offset] : 9.173851728439331\n",
      "Retirando regiões da camada\n",
      "['Lvl_000', 0, 0] Perdendo total:4314 maior void:0.34002509410288584Bw -> aceito\n",
      "['Lvl_000', 1, 0] Perdendo total:74 maior void:0.005018820577164366Bw -> aceito\n",
      "['Lvl_001', 1, 0] Perdendo total:0 maior void:0Bw -> aceito\n",
      "['Lvl_000', 1, 1] Perdendo total:67 maior void:0.005018820577164366Bw -> aceito\n",
      "['Lvl_001', 0, 4] Perdendo total:15023 maior void:8.776662484316185Bw -> bloqueado\n",
      "['Lvl_002', 0, 6] Perdendo total:1784 maior void:0.5131744040150564Bw -> aceito\n",
      "['Lvl_003', 0, 5] Perdendo total:1688 maior void:0.5131744040150564Bw -> aceito\n",
      "['Lvl_004', 0, 0] Perdendo total:1623 maior void:0.5131744040150564Bw -> aceito\n",
      "['Lvl_005', 0, 0] Perdendo total:1362 maior void:0.5131744040150564Bw -> aceito\n",
      "['Lvl_006', 0, 0] Perdendo total:1126 maior void:0.5131744040150564Bw -> aceito\n",
      "['Lvl_001', 0, 0] Perdendo total:18650 maior void:21.051442910915934Bw -> bloqueado\n",
      "['Lvl_002', 0, 3] Perdendo total:1817 maior void:0.5131744040150564Bw -> aceito\n",
      "['Lvl_003', 0, 2] Perdendo total:7293 maior void:7.336260978670013Bw -> bloqueado\n",
      "['Lvl_001', 0, 1] Perdendo total:24745 maior void:20.974905897114176Bw -> bloqueado\n",
      "['Lvl_001', 0, 2] Perdendo total:34922 maior void:19.17189460476788Bw -> bloqueado\n",
      "['Lvl_001', 0, 3] Perdendo total:24149 maior void:16.764115432873275Bw -> bloqueado\n",
      "['Lvl_001', 0, 5] Perdendo total:22742 maior void:16.62233375156838Bw -> bloqueado\n",
      "['Lvl_001', 0, 6] Perdendo total:24887 maior void:16.48306148055207Bw -> bloqueado\n",
      "['Lvl_002', 0, 0] Perdendo total:11141 maior void:12.771643663739022Bw -> bloqueado\n",
      "['Lvl_003', 0, 0] Perdendo total:10600 maior void:5.13801756587202Bw -> bloqueado\n",
      "['Lvl_002', 0, 1] Perdendo total:1548 maior void:0.5131744040150564Bw -> aceito\n",
      "['Lvl_003', 0, 1] Perdendo total:10562 maior void:5.097867001254705Bw -> bloqueado\n",
      "['Lvl_002', 0, 4] Perdendo total:20369 maior void:13.173149309912171Bw -> bloqueado\n",
      "['Lvl_003', 0, 3] Perdendo total:10699 maior void:5.052697616060226Bw -> bloqueado\n",
      "['Lvl_002', 0, 5] Perdendo total:1546 maior void:0.5131744040150564Bw -> aceito\n",
      "['Lvl_003', 0, 4] Perdendo total:10802 maior void:5.097867001254705Bw -> bloqueado\n",
      "['Lvl_002', 0, 2] Perdendo total:3809 maior void:1.7038895859473024Bw -> bloqueado\n",
      "Total de [Retirando regiões da camada] : 6.227135896682739\n",
      "Reunindo todos os loops em uma unica imagem\n",
      "Total de [Reunindo todos os loops em uma unica imagem] : 0.06633591651916504\n",
      "salvando imagens das regiões\n",
      "Total de [salvando imagens das regiões] : 0.3744010925292969\n",
      "Total de [Fase 2: Camada: 0] : 30.35077142715454\n"
     ]
    }
   ],
   "source": [
    "import gui\n",
    "import files\n",
    "from timer import Timer\n",
    "from components import layer\n",
    "from os import getcwd\n",
    "\n",
    "if not('folders' in globals()):\n",
    "    home = getcwd()\n",
    "    folders = files.System_Paths(home)\n",
    "    gui.find_saved_file(folders)\n",
    "[void_max,internal_max,external_max] = gui.ask_parameters_offsets()\n",
    "camadas = folders.load_layers_hdf5()\n",
    "for i,c in enumerate(camadas):\n",
    "    with Timer(\"Fase 2: Camada: \" + str(i)):\n",
    "        folders.load_islands_hdf5(c)\n",
    "        c.make_offsets(folders, void_max, external_max, internal_max)\n",
    "        folders.save_props_hdf5(f\"/{c.name}\",c.__dict__)\n",
    "        %reset_selective -f \"c\"\n",
    "%reset_selective -f \"camadas\""
   ]
  },
  {
   "cell_type": "markdown",
   "metadata": {},
   "source": [
    "Pontes"
   ]
  },
  {
   "cell_type": "code",
   "execution_count": 1,
   "metadata": {},
   "outputs": [
    {
     "name": "stdout",
     "output_type": "stream",
     "text": [
      "Fase 3: Camada: 0\n",
      "Criando pontes de Offset\n",
      "Total de [Criando pontes de Offset] : 4.787397861480713\n",
      "Criando pontes de Zigzag\n",
      "Value(False)\n",
      "\u001b[3#mFechou uma ponte OK\n",
      "\u001b[3#mFechou uma ponte OK\n",
      "teste: caso de uma unica linha no entorno da origem\n",
      "\u001b[3#mErro: nao fechou ponte\u001b[0m\n",
      "teste: caso de uma unica linha no entorno da origem\n",
      "\u001b[3#mErro: nao fechou ponte\u001b[0m\n",
      "teste: caso de uma unica linha no entorno da origem\n",
      "\u001b[3#mErro: nao fechou ponte\u001b[0m\n",
      "teste: caso de uma unica linha no entorno da origem\n",
      "\u001b[3#mErro: nao fechou ponte\u001b[0m\n",
      "\u001b[3#mFechou uma ponte OK\n",
      "Total de [Criando pontes de Zigzag] : 42.52259850502014\n",
      "Criando pontes de Crossover\n",
      "Total de [Criando pontes de Crossover] : 0.17963790893554688\n",
      "Retirando pontes da Camada\n",
      "Total de [Retirando pontes da Camada] : 0.06468367576599121\n",
      "salvando imagens das regiões\n",
      "Total de [salvando imagens das regiões] : 1.6764936447143555\n",
      "Total de [Fase 3: Camada: 0] : 49.358842611312866\n"
     ]
    }
   ],
   "source": [
    "import gui\n",
    "import files\n",
    "from timer import Timer\n",
    "from components import layer\n",
    "from os import getcwd\n",
    "\n",
    "if not('folders' in globals()):\n",
    "    home = getcwd()\n",
    "    folders = files.System_Paths(home)\n",
    "    gui.find_saved_file(folders)\n",
    "[n_max, nozzle_diam_internal] = gui.ask_parameters_bridges()\n",
    "camadas = folders.load_layers_hdf5()\n",
    "for i,c in enumerate(camadas):\n",
    "    with Timer(\"Fase 3: Camada: \" + str(i)):\n",
    "        c.make_bridges(n_max, nozzle_diam_internal, folders)\n",
    "        folders.save_props_hdf5(f\"/{c.name}\",c.__dict__)\n",
    "        %reset_selective -f \"c\" \n",
    "%reset_selective -f \"camadas\""
   ]
  },
  {
   "cell_type": "markdown",
   "metadata": {},
   "source": [
    "Zigzags"
   ]
  },
  {
   "cell_type": "code",
   "execution_count": 2,
   "metadata": {},
   "outputs": [
    {
     "name": "stdout",
     "output_type": "stream",
     "text": [
      "Fase 4: Camada: 0\n",
      "Encontrando areas monotonicas\n",
      "Total de [Encontrando areas monotonicas] : 33.42821192741394\n",
      "salvando imagens das regiões\n",
      "Total de [salvando imagens das regiões] : 0.2870755195617676\n",
      "Total de [Fase 4: Camada: 0] : 35.24466252326965\n"
     ]
    }
   ],
   "source": [
    "import gui\n",
    "import files\n",
    "from timer import Timer\n",
    "from components import layer\n",
    "from os import getcwd\n",
    "\n",
    "if not('folders' in globals()):\n",
    "    home = getcwd()\n",
    "    folders = files.System_Paths(home)\n",
    "    gui.find_saved_file(folders)\n",
    "camadas = folders.load_layers_hdf5() \n",
    "for i, c in enumerate(camadas):\n",
    "    with Timer(\"Fase 4: Camada: \" + str(i)):\n",
    "        c.make_zigzags(folders)\n",
    "        %reset_selective -f \"c\"\n",
    "%reset_selective -f \"camadas\"\n"
   ]
  },
  {
   "cell_type": "code",
   "execution_count": 3,
   "metadata": {},
   "outputs": [
    {
     "name": "stdout",
     "output_type": "stream",
     "text": [
      "Fase 4: Camada: 0\n",
      "\n",
      "\n",
      "Total de [Fase 4: Camada: 0] : 2.5321366786956787\n"
     ]
    },
    {
     "data": {
      "image/png": "[encoded data removed]",
      "text/plain": [
       "<Figure size 640x480 with 2 Axes>"
      ]
     },
     "metadata": {},
     "output_type": "display_data"
    }
   ],
   "source": [
    "import gui\n",
    "import files\n",
    "from timer import Timer\n",
    "from components import images_tools as it\n",
    "from os import getcwd\n",
    "import matplotlib.pyplot as plt\n",
    "import matplotlib.colors\n",
    "import os\n",
    "\n",
    "if not('folders' in globals()):\n",
    "    home = getcwd()\n",
    "    folders = files.System_Paths(home)\n",
    "    gui.find_saved_file(folders)\n",
    "camadas = folders.load_layers_hdf5() \n",
    "for c in camadas:\n",
    "    folders.load_islands_hdf5(c)\n",
    "tangran_cmap = matplotlib.colors.ListedColormap([\"white\",\"darkblue\",\"aqua\",\"aquamarine\",\"blue\",\"black\",\"green\",\"indigo\",\"red\",\"orange\"])\n",
    "for i, c in enumerate(camadas):\n",
    "    with Timer(\"Fase 4: Camada: \" + str(i)):\n",
    "        plt.figure()\n",
    "        img_mapping = it.final_mapping(c, folders)\n",
    "        plt.imshow(img_mapping, cmap=tangran_cmap, vmin=0, vmax=1000)\n",
    "        plt.colorbar()\n",
    "        print('\\n')"
   ]
  },
  {
   "cell_type": "markdown",
   "metadata": {},
   "source": [
    "ROTAS"
   ]
  },
  {
   "cell_type": "markdown",
   "metadata": {},
   "source": [
    "Rotas de Offset"
   ]
  },
  {
   "cell_type": "code",
   "execution_count": 4,
   "metadata": {},
   "outputs": [
    {
     "name": "stdout",
     "output_type": "stream",
     "text": [
      "Making offset routes\n",
      "salvando imagens das rotas\n",
      "Total de [salvando imagens das rotas] : 0.4277012348175049\n",
      "Total de [Making offset routes] : 20.426804065704346\n"
     ]
    }
   ],
   "source": [
    "import gui\n",
    "import files\n",
    "from timer import Timer\n",
    "from os import getcwd\n",
    "\n",
    "if not('folders' in globals()):\n",
    "    home = getcwd()\n",
    "    folders = files.System_Paths(home)\n",
    "    gui.find_saved_file(folders)\n",
    "camadas = folders.load_layers_hdf5()\n",
    "\n",
    "amendment_size = 0.7 #porcentagem do tamanho da poca de deposicao de material\n",
    "for c in camadas:\n",
    "    with Timer(\"Making offset routes\"):\n",
    "        c.make_offset_routes(amendment_size, folders)\n",
    "        %reset_selective -f \"c\"\n",
    "%reset_selective -f \"camadas\""
   ]
  },
  {
   "cell_type": "markdown",
   "metadata": {},
   "source": [
    "Rotas de pontes"
   ]
  },
  {
   "cell_type": "code",
   "execution_count": 5,
   "metadata": {},
   "outputs": [
    {
     "name": "stdout",
     "output_type": "stream",
     "text": [
      "Making bridges routes\n"
     ]
    },
    {
     "name": "stderr",
     "output_type": "stream",
     "text": [
      "/home/matheus/Downloads/Tangran3/TangranV2/components/bottleneck.py:1241: RuntimeWarning: invalid value encountered in divide\n",
      "  v1_hat = v1_vec / np.linalg.norm(v1_vec)\n",
      "/home/matheus/Downloads/Tangran3/TangranV2/components/bottleneck.py:1248: RuntimeWarning: invalid value encountered in divide\n",
      "  v2_hat = v2_vec / np.linalg.norm(v2_vec)\n"
     ]
    },
    {
     "name": "stdout",
     "output_type": "stream",
     "text": [
      "salvando imagens das rotas\n",
      "Total de [salvando imagens das rotas] : 0.5427441596984863\n",
      "Total de [Making bridges routes] : 46.43631982803345\n"
     ]
    },
    {
     "ename": "AttributeError",
     "evalue": "'list' object has no attribute 'astype'",
     "output_type": "error",
     "traceback": [
      "\u001b[0;31m---------------------------------------------------------------------------\u001b[0m",
      "\u001b[0;31mAttributeError\u001b[0m                            Traceback (most recent call last)",
      "Cell \u001b[0;32mIn[5], line 13\u001b[0m\n\u001b[1;32m     11\u001b[0m \u001b[38;5;28;01mfor\u001b[39;00m c \u001b[38;5;129;01min\u001b[39;00m camadas:\n\u001b[1;32m     12\u001b[0m     \u001b[38;5;28;01mwith\u001b[39;00m Timer(\u001b[38;5;124m\"\u001b[39m\u001b[38;5;124mMaking bridges routes\u001b[39m\u001b[38;5;124m\"\u001b[39m):\n\u001b[0;32m---> 13\u001b[0m         c\u001b[38;5;241m.\u001b[39mmake_bridges_routes(folders)\n\u001b[1;32m     14\u001b[0m         get_ipython()\u001b[38;5;241m.\u001b[39mrun_line_magic(\u001b[38;5;124m'\u001b[39m\u001b[38;5;124mreset_selective\u001b[39m\u001b[38;5;124m'\u001b[39m, \u001b[38;5;124m'\u001b[39m\u001b[38;5;124m-f \u001b[39m\u001b[38;5;124m\"\u001b[39m\u001b[38;5;124mc\u001b[39m\u001b[38;5;124m\"\u001b[39m\u001b[38;5;124m'\u001b[39m)\n\u001b[1;32m     15\u001b[0m get_ipython()\u001b[38;5;241m.\u001b[39mrun_line_magic(\u001b[38;5;124m'\u001b[39m\u001b[38;5;124mreset_selective\u001b[39m\u001b[38;5;124m'\u001b[39m, \u001b[38;5;124m'\u001b[39m\u001b[38;5;124m-f \u001b[39m\u001b[38;5;124m\"\u001b[39m\u001b[38;5;124mcamadas\u001b[39m\u001b[38;5;124m\"\u001b[39m\u001b[38;5;124m'\u001b[39m)\n",
      "File \u001b[0;32m~/Downloads/Tangran3/TangranV2/components/layer.py:663\u001b[0m, in \u001b[0;36mLayer.make_bridges_routes\u001b[0;34m(self, folders)\u001b[0m\n\u001b[1;32m    653\u001b[0m     isl\u001b[38;5;241m.\u001b[39mbridges\u001b[38;5;241m.\u001b[39mmake_routes_b(\n\u001b[1;32m    654\u001b[0m         isl\u001b[38;5;241m.\u001b[39moffsets\u001b[38;5;241m.\u001b[39mregions,\n\u001b[1;32m    655\u001b[0m         \u001b[38;5;28mself\u001b[39m\u001b[38;5;241m.\u001b[39mpath_radius_external,\n\u001b[0;32m   (...)\u001b[0m\n\u001b[1;32m    660\u001b[0m         isl\u001b[38;5;241m.\u001b[39moffsets\u001b[38;5;241m.\u001b[39mall_valid_loops,\n\u001b[1;32m    661\u001b[0m     )\n\u001b[1;32m    662\u001b[0m \u001b[38;5;28;01mwith\u001b[39;00m Timer(\u001b[38;5;124m\"\u001b[39m\u001b[38;5;124msalvando imagens das rotas\u001b[39m\u001b[38;5;124m\"\u001b[39m):\n\u001b[0;32m--> 663\u001b[0m     folders\u001b[38;5;241m.\u001b[39msave_bridges_routes_hdf5(\u001b[38;5;28mself\u001b[39m\u001b[38;5;241m.\u001b[39mname, \u001b[38;5;28mself\u001b[39m\u001b[38;5;241m.\u001b[39mislands)\n\u001b[1;32m    664\u001b[0m     folders\u001b[38;5;241m.\u001b[39msave_props_hdf5(\u001b[38;5;124mf\u001b[39m\u001b[38;5;124m\"\u001b[39m\u001b[38;5;124m/\u001b[39m\u001b[38;5;132;01m{\u001b[39;00m\u001b[38;5;28mself\u001b[39m\u001b[38;5;241m.\u001b[39mname\u001b[38;5;132;01m}\u001b[39;00m\u001b[38;5;124m\"\u001b[39m, \u001b[38;5;28mself\u001b[39m\u001b[38;5;241m.\u001b[39m\u001b[38;5;18m__dict__\u001b[39m)\n",
      "File \u001b[0;32m~/Downloads/Tangran3/TangranV2/files.py:347\u001b[0m, in \u001b[0;36mSystem_Paths.save_bridges_routes_hdf5\u001b[0;34m(self, layer_name, islands)\u001b[0m\n\u001b[1;32m    343\u001b[0m \u001b[38;5;28;01mfor\u001b[39;00m reg \u001b[38;5;129;01min\u001b[39;00m isl\u001b[38;5;241m.\u001b[39mbridges\u001b[38;5;241m.\u001b[39mzigzag_bridges:\n\u001b[1;32m    344\u001b[0m     region_path \u001b[38;5;241m=\u001b[39m (\n\u001b[1;32m    345\u001b[0m         \u001b[38;5;124mf\u001b[39m\u001b[38;5;124m\"\u001b[39m\u001b[38;5;124m/\u001b[39m\u001b[38;5;132;01m{\u001b[39;00mlayer_name\u001b[38;5;132;01m}\u001b[39;00m\u001b[38;5;124m/\u001b[39m\u001b[38;5;132;01m{\u001b[39;00misl\u001b[38;5;241m.\u001b[39mname\u001b[38;5;132;01m}\u001b[39;00m\u001b[38;5;124m/bridges/zigzag_bridges/\u001b[39m\u001b[38;5;132;01m{\u001b[39;00mreg\u001b[38;5;241m.\u001b[39mname\u001b[38;5;132;01m}\u001b[39;00m\u001b[38;5;124m\"\u001b[39m\n\u001b[1;32m    346\u001b[0m     )\n\u001b[0;32m--> 347\u001b[0m     \u001b[38;5;28mself\u001b[39m\u001b[38;5;241m.\u001b[39msave_img_hdf5(region_path, \u001b[38;5;124mf\u001b[39m\u001b[38;5;124m\"\u001b[39m\u001b[38;5;124mroute\u001b[39m\u001b[38;5;124m\"\u001b[39m, reg\u001b[38;5;241m.\u001b[39mroute\u001b[38;5;241m.\u001b[39mastype(\u001b[38;5;28mbool\u001b[39m))\n\u001b[1;32m    348\u001b[0m     \u001b[38;5;28mself\u001b[39m\u001b[38;5;241m.\u001b[39msave_img_hdf5(region_path, \u001b[38;5;124mf\u001b[39m\u001b[38;5;124m\"\u001b[39m\u001b[38;5;124mtrail\u001b[39m\u001b[38;5;124m\"\u001b[39m, reg\u001b[38;5;241m.\u001b[39mtrail\u001b[38;5;241m.\u001b[39mastype(\u001b[38;5;28mbool\u001b[39m))\n\u001b[1;32m    349\u001b[0m     \u001b[38;5;28mself\u001b[39m\u001b[38;5;241m.\u001b[39msave_props_hdf5(region_path, reg\u001b[38;5;241m.\u001b[39m\u001b[38;5;18m__dict__\u001b[39m)\n",
      "\u001b[0;31mAttributeError\u001b[0m: 'list' object has no attribute 'astype'"
     ]
    }
   ],
   "source": [
    "import gui\n",
    "import files\n",
    "from timer import Timer\n",
    "from os import getcwd\n",
    "\n",
    "if not('folders' in globals()):\n",
    "    home = getcwd()\n",
    "    folders = files.System_Paths(home)\n",
    "    gui.find_saved_file(folders)\n",
    "camadas = folders.load_layers_hdf5()\n",
    "for c in camadas:\n",
    "    with Timer(\"Making bridges routes\"):\n",
    "        c.make_bridges_routes(folders)\n",
    "        %reset_selective -f \"c\"\n",
    "%reset_selective -f \"camadas\""
   ]
  },
  {
   "cell_type": "markdown",
   "metadata": {},
   "source": [
    "Rotas de Ziguezague"
   ]
  },
  {
   "cell_type": "code",
   "execution_count": 6,
   "metadata": {},
   "outputs": [
    {
     "name": "stdout",
     "output_type": "stream",
     "text": [
      "Making zigzag routes\n",
      "criando as rotas de zigzag, camada:L_000\n",
      "fazendo as tres opções:\n",
      "Total de [fazendo as tres opções:] : 0.1762852668762207\n",
      "Total de [criando as rotas de zigzag, camada:L_000] : 1.4176738262176514\n",
      "Total de [Making zigzag routes] : 1.4866373538970947\n"
     ]
    },
    {
     "ename": "ValueError",
     "evalue": "[201, 1039] is not in list",
     "output_type": "error",
     "traceback": [
      "\u001b[0;31m---------------------------------------------------------------------------\u001b[0m",
      "\u001b[0;31mValueError\u001b[0m                                Traceback (most recent call last)",
      "Cell \u001b[0;32mIn[6], line 13\u001b[0m\n\u001b[1;32m     11\u001b[0m \u001b[38;5;28;01mfor\u001b[39;00m c \u001b[38;5;129;01min\u001b[39;00m camadas:\n\u001b[1;32m     12\u001b[0m     \u001b[38;5;28;01mwith\u001b[39;00m Timer(\u001b[38;5;124m\"\u001b[39m\u001b[38;5;124mMaking zigzag routes\u001b[39m\u001b[38;5;124m\"\u001b[39m):\n\u001b[0;32m---> 13\u001b[0m         c\u001b[38;5;241m.\u001b[39mmake_zigzag_routes(folders)\n\u001b[1;32m     14\u001b[0m         c\u001b[38;5;241m.\u001b[39mconnect_zigzags(folders)\n\u001b[1;32m     15\u001b[0m         get_ipython()\u001b[38;5;241m.\u001b[39mrun_line_magic(\u001b[38;5;124m'\u001b[39m\u001b[38;5;124mreset_selective\u001b[39m\u001b[38;5;124m'\u001b[39m, \u001b[38;5;124m'\u001b[39m\u001b[38;5;124m-f \u001b[39m\u001b[38;5;124m\"\u001b[39m\u001b[38;5;124mc\u001b[39m\u001b[38;5;124m\"\u001b[39m\u001b[38;5;124m'\u001b[39m)\n",
      "File \u001b[0;32m~/Downloads/Tangran3/TangranV2/components/layer.py:721\u001b[0m, in \u001b[0;36mLayer.make_zigzag_routes\u001b[0;34m(self, folders)\u001b[0m\n\u001b[1;32m    719\u001b[0m     \u001b[38;5;28;01mwith\u001b[39;00m Timer(\u001b[38;5;124mf\u001b[39m\u001b[38;5;124m\"\u001b[39m\u001b[38;5;124mcriando as rotas de zigzag, camada:\u001b[39m\u001b[38;5;132;01m{\u001b[39;00m\u001b[38;5;28mself\u001b[39m\u001b[38;5;241m.\u001b[39mname\u001b[38;5;132;01m}\u001b[39;00m\u001b[38;5;124m\"\u001b[39m):\n\u001b[1;32m    720\u001b[0m         folders\u001b[38;5;241m.\u001b[39mload_zigzags_hdf5(\u001b[38;5;28mself\u001b[39m\u001b[38;5;241m.\u001b[39mname, isl)\n\u001b[0;32m--> 721\u001b[0m         isl\u001b[38;5;241m.\u001b[39mzigzags\u001b[38;5;241m.\u001b[39mmake_routes_z(\u001b[38;5;28mself\u001b[39m\u001b[38;5;241m.\u001b[39mbase_frame, \u001b[38;5;28mself\u001b[39m\u001b[38;5;241m.\u001b[39mpath_radius_internal)\n\u001b[1;32m    723\u001b[0m \u001b[38;5;28;01mwith\u001b[39;00m Timer(\u001b[38;5;124m\"\u001b[39m\u001b[38;5;124msalvando imagens das rotas\u001b[39m\u001b[38;5;124m\"\u001b[39m):\n\u001b[1;32m    724\u001b[0m     folders\u001b[38;5;241m.\u001b[39msave_zigzags_hdf5(\u001b[38;5;28mself\u001b[39m\u001b[38;5;241m.\u001b[39mname, \u001b[38;5;28mself\u001b[39m\u001b[38;5;241m.\u001b[39mislands)\n",
      "File \u001b[0;32m~/Downloads/Tangran3/TangranV2/components/zigzag.py:610\u001b[0m, in \u001b[0;36mZigZagRegions.make_routes_z\u001b[0;34m(self, base_frame, path_radius)\u001b[0m\n\u001b[1;32m    608\u001b[0m \u001b[38;5;28;01mwith\u001b[39;00m timer\u001b[38;5;241m.\u001b[39mTimer(\u001b[38;5;124m\"\u001b[39m\u001b[38;5;124mfazendo as tres opções:\u001b[39m\u001b[38;5;124m\"\u001b[39m):\n\u001b[1;32m    609\u001b[0m     \u001b[38;5;28;01mif\u001b[39;00m np\u001b[38;5;241m.\u001b[39msum(opened) \u001b[38;5;241m>\u001b[39m \u001b[38;5;241m0\u001b[39m:\n\u001b[0;32m--> 610\u001b[0m         [new_zigzag_a, new_zigzag_b] \u001b[38;5;241m=\u001b[39m zig_zag_two_options(\n\u001b[1;32m    611\u001b[0m             internal_border_img,\n\u001b[1;32m    612\u001b[0m             lines,\n\u001b[1;32m    613\u001b[0m             n_lines,\n\u001b[1;32m    614\u001b[0m             new_path_radius,\n\u001b[1;32m    615\u001b[0m             contours,\n\u001b[1;32m    616\u001b[0m             base_frame,\n\u001b[1;32m    617\u001b[0m             \u001b[38;5;28;01mFalse\u001b[39;00m,\n\u001b[1;32m    618\u001b[0m         )\n\u001b[1;32m    619\u001b[0m         [new_zigzag_d, new_zigzag_e] \u001b[38;5;241m=\u001b[39m zig_zag_two_options(\n\u001b[1;32m    620\u001b[0m             internal_border_img,\n\u001b[1;32m    621\u001b[0m             lines,\n\u001b[0;32m   (...)\u001b[0m\n\u001b[1;32m    626\u001b[0m             \u001b[38;5;28;01mTrue\u001b[39;00m,\n\u001b[1;32m    627\u001b[0m         )\n\u001b[1;32m    628\u001b[0m         zig_options\u001b[38;5;241m.\u001b[39mappend(new_zigzag_a)\n",
      "File \u001b[0;32m~/Downloads/Tangran3/TangranV2/components/zigzag.py:770\u001b[0m, in \u001b[0;36mzig_zag_two_options\u001b[0;34m(internal_border_img, lines, n_lines, new_path_radius, contours, base_frame, force_top)\u001b[0m\n\u001b[1;32m    766\u001b[0m extreme_points \u001b[38;5;241m=\u001b[39m separate_extreme_points(\n\u001b[1;32m    767\u001b[0m     points_external, points_internal, internal_border_img, new_path_radius\n\u001b[1;32m    768\u001b[0m )\n\u001b[1;32m    769\u001b[0m \u001b[38;5;28;01mfor\u001b[39;00m zig_zag_zag_zig \u001b[38;5;129;01min\u001b[39;00m [\u001b[38;5;241m0\u001b[39m, \u001b[38;5;241m1\u001b[39m]:\n\u001b[0;32m--> 770\u001b[0m     bordacortada \u001b[38;5;241m=\u001b[39m border_cut(\n\u001b[1;32m    771\u001b[0m         contours, lines, extreme_points, n_lines, base_frame, zig_zag_zag_zig\n\u001b[1;32m    772\u001b[0m     )\n\u001b[1;32m    773\u001b[0m     square_mask \u001b[38;5;241m=\u001b[39m getStructuringElement(\n\u001b[1;32m    774\u001b[0m         MORPH_RECT, (new_path_radius \u001b[38;5;241m*\u001b[39m \u001b[38;5;241m2\u001b[39m, new_path_radius \u001b[38;5;241m*\u001b[39m \u001b[38;5;241m2\u001b[39m)\n\u001b[1;32m    775\u001b[0m     )\n\u001b[1;32m    776\u001b[0m     new_zigzag \u001b[38;5;241m=\u001b[39m mt\u001b[38;5;241m.\u001b[39mdilation(\n\u001b[1;32m    777\u001b[0m         np\u001b[38;5;241m.\u001b[39mlogical_or(bordacortada, lines), kernel_img\u001b[38;5;241m=\u001b[39msquare_mask\n\u001b[1;32m    778\u001b[0m     )\n",
      "File \u001b[0;32m~/Downloads/Tangran3/TangranV2/components/zigzag.py:653\u001b[0m, in \u001b[0;36mborder_cut\u001b[0;34m(contours, lines, points, n_lines, base_frame, zag_zig)\u001b[0m\n\u001b[1;32m    651\u001b[0m \u001b[38;5;28;01mdef\u001b[39;00m \u001b[38;5;21mborder_cut\u001b[39m(contours, lines, points, n_lines, base_frame, zag_zig\u001b[38;5;241m=\u001b[39m\u001b[38;5;241m0\u001b[39m):\n\u001b[1;32m    652\u001b[0m     fila \u001b[38;5;241m=\u001b[39m pt\u001b[38;5;241m.\u001b[39mcontour_to_list(contours)\n\u001b[0;32m--> 653\u001b[0m     rotations \u001b[38;5;241m=\u001b[39m fila\u001b[38;5;241m.\u001b[39mindex(points[\u001b[38;5;241m0\u001b[39m])\n\u001b[1;32m    654\u001b[0m     fila \u001b[38;5;241m=\u001b[39m fila[rotations:] \u001b[38;5;241m+\u001b[39m fila[:rotations]  \u001b[38;5;66;03m# garante que a fila começa pelo ponto A\u001b[39;00m\n\u001b[1;32m    655\u001b[0m     borda_cortada \u001b[38;5;241m=\u001b[39m np\u001b[38;5;241m.\u001b[39mzeros(base_frame)\n",
      "\u001b[0;31mValueError\u001b[0m: [201, 1039] is not in list"
     ]
    }
   ],
   "source": [
    "import gui\n",
    "import files\n",
    "from timer import Timer\n",
    "from os import getcwd\n",
    "\n",
    "if not('folders' in globals()):\n",
    "    home = getcwd()\n",
    "    folders = files.System_Paths(home)\n",
    "    gui.find_saved_file(folders)\n",
    "camadas = folders.load_layers_hdf5()\n",
    "for c in camadas:\n",
    "    with Timer(\"Making zigzag routes\"):\n",
    "        c.make_zigzag_routes(folders)\n",
    "        c.connect_zigzags(folders)\n",
    "        %reset_selective -f \"c\"\n",
    "%reset_selective -f \"camadas\""
   ]
  },
  {
   "cell_type": "markdown",
   "metadata": {},
   "source": [
    "Weaving"
   ]
  },
  {
   "cell_type": "code",
   "execution_count": null,
   "metadata": {},
   "outputs": [],
   "source": [
    "import gui\n",
    "import files\n",
    "from timer import Timer\n",
    "from os import getcwd\n",
    "\n",
    "if not('folders' in globals()):\n",
    "    home = getcwd()\n",
    "    folders = files.System_Paths(home)\n",
    "    gui.find_saved_file(folders)\n",
    "camadas = folders.load_layers_hdf5()\n",
    "[internal_weaving] = gui.ask_parameters_weaving()\n",
    "for c in camadas:\n",
    "    with Timer(\"Fase 5 b\"):\n",
    "        c.internal_weaving(internal_weaving, folders)\n",
    "        %reset_selective -f \"c\"\n",
    "%reset_selective -f \"camadas\""
   ]
  },
  {
   "cell_type": "markdown",
   "metadata": {},
   "source": [
    "Rotas de Thin Walls"
   ]
  },
  {
   "cell_type": "code",
   "execution_count": null,
   "metadata": {},
   "outputs": [],
   "source": [
    "import gui\n",
    "import files\n",
    "from timer import Timer\n",
    "from os import getcwd\n",
    "\n",
    "if not('folders' in globals()):\n",
    "    home = getcwd()\n",
    "    folders = files.System_Paths(home)\n",
    "    gui.find_saved_file(folders)\n",
    "camadas = folders.load_layers_hdf5()\n",
    "for c in camadas:\n",
    "    with Timer(\"Fase 5\"):\n",
    "        with Timer(\"Making thin walls routes\"):\n",
    "            c.make_thin_wall_routes(folders)\n",
    "            %reset_selective -f \"c\"\n",
    "%reset_selective -f \"camadas\""
   ]
  },
  {
   "cell_type": "markdown",
   "metadata": {},
   "source": [
    "Unificando rotas EXTERNAS nas camadas"
   ]
  },
  {
   "cell_type": "code",
   "execution_count": null,
   "metadata": {},
   "outputs": [],
   "source": [
    "import gui\n",
    "import files\n",
    "from timer import Timer\n",
    "from os import getcwd\n",
    "\n",
    "if not('folders' in globals()):\n",
    "    home = getcwd()\n",
    "    folders = files.System_Paths(home)\n",
    "    gui.find_saved_file(folders)\n",
    "camadas = folders.load_layers_hdf5()\n",
    "\n",
    "for c in camadas:\n",
    "    with Timer(\"Fase 6\"):\n",
    "        c.close_routes_external(folders)\n",
    "        %reset_selective -f \"c\"\n",
    "%reset_selective -f \"camadas\"\n",
    "    "
   ]
  },
  {
   "cell_type": "markdown",
   "metadata": {},
   "source": [
    "Unificando rotas INTERNAS nas camadas"
   ]
  },
  {
   "cell_type": "code",
   "execution_count": null,
   "metadata": {},
   "outputs": [],
   "source": [
    "import gui\n",
    "import files\n",
    "from timer import Timer\n",
    "from components import layer\n",
    "from os import getcwd\n",
    "\n",
    "if not('folders' in globals()):\n",
    "    home = getcwd()\n",
    "    folders = files.System_Paths(home)\n",
    "    gui.find_saved_file(folders)\n",
    "camadas = folders.load_layers_hdf5()\n",
    "\n",
    "for c in camadas:\n",
    "    with Timer(\"Fase 7\"):\n",
    "        c.close_routes_internal(folders)\n",
    "        %reset_selective -f \"c\"\n",
    "%reset_selective -f \"camadas\""
   ]
  },
  {
   "cell_type": "markdown",
   "metadata": {},
   "source": [
    "Unindo rotas de thin walls"
   ]
  },
  {
   "cell_type": "code",
   "execution_count": null,
   "metadata": {},
   "outputs": [],
   "source": [
    "import gui\n",
    "import files\n",
    "from timer import Timer\n",
    "from components import layer\n",
    "from os import getcwd\n",
    "\n",
    "if not('folders' in globals()):\n",
    "    home = getcwd()\n",
    "    folders = files.System_Paths(home)\n",
    "    gui.find_saved_file(folders)\n",
    "camadas = folders.load_layers_hdf5()\n",
    "\n",
    "for c in camadas:\n",
    "    with Timer(\"Fase 8\"):\n",
    "        c.close_routes_thinwalls(folders)\n",
    "        %reset_selective -f \"c\"\n",
    "%reset_selective -f \"camadas\""
   ]
  },
  {
   "cell_type": "markdown",
   "metadata": {},
   "source": [
    "Unindo todas as rotas e criando codigo G"
   ]
  },
  {
   "cell_type": "code",
   "execution_count": null,
   "metadata": {},
   "outputs": [],
   "source": [
    "import gui\n",
    "import files\n",
    "from timer import Timer\n",
    "from components import layer, path_tools\n",
    "from os import getcwd\n",
    "\n",
    "if not('folders' in globals()):\n",
    "    home = getcwd()\n",
    "    folders = files.System_Paths(home)\n",
    "    gui.find_saved_file(folders)\n",
    "camadas = folders.load_layers_hdf5()\n",
    "\n",
    "for c in camadas:\n",
    "    with Timer(\"Fase 9\"):\n",
    "        c.close_final_path(folders)\n",
    "with Timer(\"Cuspindo o Gcode\"):\n",
    "    path_tools.layers_to_Gcode(camadas, folders)\n",
    "%reset_selective -f \"camadas\""
   ]
  },
  {
   "cell_type": "code",
   "execution_count": 9,
   "metadata": {},
   "outputs": [],
   "source": [
    "# import matplotlib.pyplot as plt\n",
    "# from mpl_toolkits.mplot3d import Axes3D\n",
    "# import numpy as np\n",
    "\n",
    "# # Lista de imagens binárias (exemplo com arrays numpy)\n",
    "# imagens = [\n",
    "#     img_mapping,\n",
    "#     img_mapping,\n",
    "#     img_mapping\n",
    "# ]\n",
    "\n",
    "# # Lista de alturas no eixo z\n",
    "# alturas = [0, 10, 20]\n",
    "\n",
    "# fig = plt.figure()\n",
    "# ax = fig.add_subplot(111, projection='3d')\n",
    "\n",
    "# for img, z in zip(imagens, alturas):\n",
    "#     x = np.linspace(0, img.shape[1], img.shape[1])\n",
    "#     y = np.linspace(0, img.shape[0], img.shape[0])\n",
    "#     x, y = np.meshgrid(x, y)\n",
    "#     z = np.full_like(x, z)\n",
    "#     ax.plot_surface(x, y, z, rstride=1, cstride=1, facecolors=plt.cm.gray(img), shade=False)\n",
    "\n",
    "# ax.set_xlabel('X')\n",
    "# ax.set_ylabel('Y')\n",
    "# ax.set_zlabel('Z')\n",
    "# plt.show()\n"
   ]
  },
  {
   "cell_type": "code",
   "execution_count": null,
   "metadata": {},
   "outputs": [],
   "source": [
    "# import gui\n",
    "# import files\n",
    "# from timer import Timer\n",
    "# from components import layer, path_tools\n",
    "# from os import getcwd\n",
    "\n",
    "# if not('folders' in globals()):\n",
    "#     home = getcwd()\n",
    "#     folders = files.System_Paths(home)\n",
    "#     gui.find_saved_file(folders)\n",
    "# camadas = folders.load_layers_hdf5()\n",
    "\n",
    "# file_name = gui.find_saved_file(folders)\n",
    "# path_tools.layers_to_Gcode_FFF(camadas, folders, file_name)"
   ]
  }
 ],
 "metadata": {
  "kernelspec": {
   "display_name": "plantcv",
   "language": "python",
   "name": "python3"
  },
  "language_info": {
   "codemirror_mode": {
    "name": "ipython",
    "version": 3
   },
   "file_extension": ".py",
   "mimetype": "text/x-python",
   "name": "python",
   "nbconvert_exporter": "python",
   "pygments_lexer": "ipython3",
   "version": "3.12.2"
  }
 },
 "nbformat": 4,
 "nbformat_minor": 2
}
