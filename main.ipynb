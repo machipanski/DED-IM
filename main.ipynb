{
 "cells": [
  {
   "cell_type": "markdown",
   "metadata": {},
   "source": [
    "Importa o modelo a ser fatiado e mapeado"
   ]
  },
  {
   "cell_type": "code",
   "execution_count": 9,
   "metadata": {},
   "outputs": [],
   "source": [
    "import matplotlib.pyplot as plt\n",
    "import gui\n",
    "import files\n",
    "from timer import Timer\n",
    "from components import layer\n",
    "from os import getcwd\n",
    "\n",
    "home = getcwd()\n",
    "folders = files.Paths(home)\n",
    "path_input, file_name = gui.load_model(folders)\n",
    "[dpi, layer_height, void_max, internal_max, external_max, n_max] = gui.ask_parameters_input()\n",
    "if file_name.endswith(\".stl\") or file_name.endswith(\".STL\"):\n",
    "    folders.create_layers_3d(path_input, dpi, layer_height)\n",
    "else:\n",
    "    folders.create_layers_2d(path_input, dpi, layer_height)\n",
    "\n",
    "layer.divide_islands(folders)\n",
    "\n",
    "plt.rcParams[\"figure.figsize\"]=5,5\n",
    "#TODO: encontrar uma forma de jogar layerHight para o slicing W/images (POSSIVELMENTE COM O RUNSINGLEMODEL)\n",
    "#TODO: criar as ilhas e ja salvar nesse passo"
   ]
  },
  {
   "cell_type": "markdown",
   "metadata": {},
   "source": [
    "Paredes Finas"
   ]
  },
  {
   "cell_type": "code",
   "execution_count": 10,
   "metadata": {},
   "outputs": [
    {
     "name": "stdout",
     "output_type": "stream",
     "text": [
      "Fase 1: Camada: 0\n",
      "Criando paredes finas\n",
      "OK: fechou contorno\n",
      "OK: fechou contorno\n",
      "OK: fechou contorno\n",
      "OK: fechou contorno\n",
      "OK: fechou contorno\n",
      "OK: fechou contorno\n",
      "OK: fechou contorno\n",
      "OK: fechou contorno\n",
      "OK: fechou contorno\n",
      "OK: fechou contorno\n",
      "Retirando Paredes finas da camada\n",
      "Total de [Retirando Paredes finas da camada] : 4.927290678024292\n",
      "Total de [Criando paredes finas] : 91.38258004188538\n",
      "Total de [Fase 1: Camada: 0] : 91.38277673721313\n"
     ]
    }
   ],
   "source": [
    "import matplotlib.pyplot as plt\n",
    "import gui\n",
    "import files\n",
    "from timer import Timer\n",
    "from components import layer\n",
    "from os import getcwd\n",
    "try:\n",
    "    folders\n",
    "except NameError:\n",
    "    home = getcwd()\n",
    "    folders = files.Paths(home)\n",
    "\n",
    "[nozzle_diam_internal,nozzle_diam_external] = gui.ask_parameters_thin_walls()\n",
    "# from components.layer import Layer\n",
    "camadas = folders.list(layers=1)\n",
    "for i,c in enumerate(camadas):\n",
    "    camada = folders.load_layer_json(c)\n",
    "    with Timer(\"Fase 1: Camada: \" + str(i)):\n",
    "        camada.make_thin_walls(folders, nozzle_diam_external, nozzle_diam_internal)\n",
    "    \n",
    "#TODO: arvore de paredes finas\n",
    "#TODO: quando duas áreas se encontram\n",
    "#TODO: limite de parede diam minimo\n",
    "#TODO: definição de parede fina pelas pontas e avançando\n",
    "#TODO: anotar todos os (não fechou contorno)\n",
    "#TODO: tratar ilhas como coisas separadas"
   ]
  }
 ],
 "metadata": {
  "kernelspec": {
   "display_name": "plantcv",
   "language": "python",
   "name": "python3"
  },
  "language_info": {
   "codemirror_mode": {
    "name": "ipython",
    "version": 3
   },
   "file_extension": ".py",
   "mimetype": "text/x-python",
   "name": "python",
   "nbconvert_exporter": "python",
   "pygments_lexer": "ipython3",
   "version": "3.12.3"
  }
 },
 "nbformat": 4,
 "nbformat_minor": 2
}
