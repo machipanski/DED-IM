{
 "cells": [
  {
   "cell_type": "markdown",
   "metadata": {},
   "source": [
    "Importa o modelo a ser fatiado e mapeado"
   ]
  },
  {
   "cell_type": "code",
   "execution_count": 1,
   "metadata": {
    "notebookRunGroups": {
     "groupValue": "1"
    }
   },
   "outputs": [
    {
     "name": "stdout",
     "output_type": "stream",
     "text": [
      "Fase 0: \n",
      "criando as camadas\n",
      "Total de [criando as camadas] : 0.1571054458618164\n",
      "salvando as camadas\n",
      "Total de [salvando as camadas] : 0.0645754337310791\n",
      "Total de [Fase 0: ] : 0.2220618724822998\n"
     ]
    }
   ],
   "source": [
    "import matplotlib.pyplot as plt\n",
    "import gui\n",
    "import files\n",
    "from timer import Timer\n",
    "from components.layer import Layer\n",
    "from os import getcwd\n",
    "\n",
    "if not('folders' in globals()):\n",
    "    home = getcwd()\n",
    "    folders = files.System_Paths(home)\n",
    "choice = gui.ask_load_or_begin()\n",
    "if choice == \"Novo Projeto\":\n",
    "    path_input, file_name = gui.load_model(folders)\n",
    "    [dpi, layer_height] = gui.ask_parameters_input()\n",
    "    with Timer(\"Fase 0: \"):\n",
    "        Layer.create_layers(folders, path_input, file_name, dpi, layer_height)\n",
    "elif choice == \"Carregar Salvo\":\n",
    "    gui.find_saved_file(folders)\n",
    "elif choice == \"Cancelar\":\n",
    "    quit\n",
    "\n",
    "#TODO: encontrar uma forma de jogar layerHight para o slicing W/images (POSSIVELMENTE COM O RUNSINGLEMODEL)"
   ]
  },
  {
   "cell_type": "markdown",
   "metadata": {},
   "source": [
    "Paredes Finas"
   ]
  },
  {
   "cell_type": "code",
   "execution_count": 2,
   "metadata": {},
   "outputs": [
    {
     "name": "stdout",
     "output_type": "stream",
     "text": [
      "Fase 1: Camada: 0\n",
      "Criando paredes finas\n",
      "OK: fechou contorno\n",
      "Total de [Criando paredes finas] : 5.507738351821899\n",
      "Retirando Paredes finas da camada\n",
      "Total de [Retirando Paredes finas da camada] : 0.016213417053222656\n",
      "salvando imagens das regiões\n",
      "deletado: /L_000/I_000/thin_walls/TW_000\n",
      "Total de [salvando imagens das regiões] : 0.30919480323791504\n",
      "Total de [Fase 1: Camada: 0] : 5.890890836715698\n"
     ]
    }
   ],
   "source": [
    "import gui\n",
    "import files\n",
    "from timer import Timer\n",
    "from os import getcwd\n",
    "\n",
    "if not('folders' in globals()):\n",
    "    home = getcwd()\n",
    "    folders = files.System_Paths(home)\n",
    "    gui.find_saved_file(folders)\n",
    "[nozzle_diam_internal,nozzle_diam_external] = gui.ask_parameters_thin_walls()\n",
    "camadas = folders.load_layers_hdf5()\n",
    "for i,c in enumerate(camadas):\n",
    "    with Timer(\"Fase 1: Camada: \" + str(i)):\n",
    "        folders.load_islands_hdf5(c)\n",
    "        c.make_thin_walls(folders, nozzle_diam_external, nozzle_diam_internal)\n",
    "        %reset_selective -f \"c\"\n",
    "%reset_selective -f \"camadas\"\n",
    "# TODO: arvore de paredes finas\n",
    "# TODO: quando duas áreas se encontram\n",
    "# TODO: limite de parede diam minimo\n",
    "# TODO arrumar para origens extremamente pequenas, ignorar da problema\n",
    "# TODO arrumar casos onde a beirada esta vazndo criando areas triangulares distantes\n",
    "# FIXME: Precisa mesmo separar linha 1 2 topo e baixo? muitos elementos estão sendo criados"
   ]
  },
  {
   "cell_type": "markdown",
   "metadata": {},
   "source": [
    "Contornos"
   ]
  },
  {
   "cell_type": "code",
   "execution_count": 3,
   "metadata": {},
   "outputs": [
    {
     "name": "stdout",
     "output_type": "stream",
     "text": [
      "Fase 2: Camada: 0\n",
      "Criando Lvls\n",
      "Ilha: I_000 Número de Níveis: 10\n",
      "Total de [Criando Lvls] : 2.7139365673065186\n",
      "Criando os loops\n",
      "Total de [Criando os loops] : 1.7979583740234375\n",
      "Criando regiões de influência\n",
      "Total de [Criando regiões de influência] : 0.45731115341186523\n",
      "Criando as regiões de Offset\n",
      "Total de [Criando as regiões de Offset] : 2.508847951889038\n",
      "Retirando regiões da camada\n",
      "['Lvl_000', 0, 0] Perdendo total:202 maior void:0.050188205771643665Bw -> aceito\n",
      "['Lvl_001', 0, 0] Perdendo total:206 maior void:0.17565872020075282Bw -> aceito\n",
      "['Lvl_002', 0, 0] Perdendo total:80826 maior void:56.14930991217064Bw -> bloqueado\n",
      "['Lvl_000', 1, 0] Perdendo total:0 maior void:0Bw -> aceito\n",
      "['Lvl_001', 1, 0] Perdendo total:0 maior void:0Bw -> aceito\n",
      "['Lvl_002', 1, 0] Perdendo total:0 maior void:0Bw -> aceito\n",
      "['Lvl_000', 1, 1] Perdendo total:0 maior void:0Bw -> aceito\n",
      "['Lvl_001', 1, 1] Perdendo total:0 maior void:0Bw -> aceito\n",
      "['Lvl_000', 1, 2] Perdendo total:0 maior void:0Bw -> aceito\n",
      "['Lvl_001', 1, 2] Perdendo total:0 maior void:0Bw -> aceito\n",
      "['Lvl_000', 1, 3] Perdendo total:0 maior void:0Bw -> aceito\n",
      "['Lvl_001', 1, 3] Perdendo total:0 maior void:0Bw -> aceito\n",
      "['Lvl_002', 1, 1] Perdendo total:0 maior void:0Bw -> aceito\n",
      "['Lvl_003', 0, 1] Perdendo total:20341 maior void:10.515683814303639Bw -> bloqueado\n",
      "['Lvl_004', 0, 1] Perdendo total:26714 maior void:20.26348808030113Bw -> bloqueado\n",
      "['Lvl_005', 0, 1] Perdendo total:4884 maior void:3.277289836888331Bw -> bloqueado\n",
      "['Lvl_006', 0, 0] Perdendo total:2885 maior void:1.5407779171894604Bw -> bloqueado\n",
      "['Lvl_007', 0, 0] Perdendo total:2348 maior void:1.06900878293601Bw -> bloqueado\n",
      "['Lvl_008', 0, 0] Perdendo total:1966 maior void:0.8531994981179423Bw -> aceito\n",
      "['Lvl_009', 0, 0] Perdendo total:1739 maior void:0.8143036386449184Bw -> aceito\n",
      "['Lvl_003', 0, 0] Perdendo total:26509 maior void:10.545796737766624Bw -> bloqueado\n",
      "['Lvl_004', 0, 0] Perdendo total:15740 maior void:11.593475533249686Bw -> bloqueado\n",
      "['Lvl_004', 0, 2] Perdendo total:16285 maior void:12.824341279799247Bw -> bloqueado\n",
      "['Lvl_004', 0, 3] Perdendo total:18163 maior void:10.7465495608532Bw -> bloqueado\n",
      "['Lvl_005', 0, 0] Perdendo total:18025 maior void:8.061480552070263Bw -> bloqueado\n",
      "['Lvl_005', 0, 2] Perdendo total:17340 maior void:7.412797992471769Bw -> bloqueado\n",
      "Total de [Retirando regiões da camada] : 1.4534480571746826\n",
      "Reunindo todos os loops em uma unica imagem\n",
      "Total de [Reunindo todos os loops em uma unica imagem] : 0.042668819427490234\n",
      "salvando imagens das regiões\n",
      "deletado: /L_000/I_000/offsets\n",
      "Total de [salvando imagens das regiões] : 0.4961535930633545\n",
      "Total de [Fase 2: Camada: 0] : 9.531534671783447\n"
     ]
    }
   ],
   "source": [
    "import gui\n",
    "import files\n",
    "from timer import Timer\n",
    "from components import layer\n",
    "from os import getcwd\n",
    "\n",
    "if not('folders' in globals()):\n",
    "    home = getcwd()\n",
    "    folders = files.System_Paths(home)\n",
    "    gui.find_saved_file(folders)\n",
    "[void_max,internal_max,external_max] = gui.ask_parameters_offsets()\n",
    "camadas = folders.load_layers_hdf5()\n",
    "for i,c in enumerate(camadas):\n",
    "    with Timer(\"Fase 2: Camada: \" + str(i)):\n",
    "        folders.load_islands_hdf5(c)\n",
    "        c.make_offsets(folders, void_max, external_max, internal_max)\n",
    "        folders.save_props_hdf5(f\"/{c.name}\",c.__dict__)\n",
    "        %reset_selective -f \"c\"\n",
    "%reset_selective -f \"camadas\""
   ]
  },
  {
   "cell_type": "markdown",
   "metadata": {},
   "source": [
    "Pontes"
   ]
  },
  {
   "cell_type": "code",
   "execution_count": 4,
   "metadata": {},
   "outputs": [
    {
     "name": "stdout",
     "output_type": "stream",
     "text": [
      "Fase 3: Camada: 0\n",
      "Criando pontes de Offset\n",
      "Total de [Criando pontes de Offset] : 10.963223934173584\n",
      "Criando pontes de Zigzag\n",
      "Fechou uma ponte OK\n",
      "Fechou uma ponte OK\n",
      "Fechou uma ponte OK\n",
      "Fechou uma ponte OK\n",
      "Fechou uma ponte OK\n",
      "Total de [Criando pontes de Zigzag] : 12.273034572601318\n",
      "Criando pontes de Crossover\n",
      "Elemento: ('Reg_001', 'Reg_002') Maior prioridade: 0\n",
      "Elemento: ('Reg_000', 'Reg_002') Maior prioridade: 1\n",
      "Elemento: ('Reg_000', 'Reg_003') Maior prioridade: 2\n",
      "Total de [Criando pontes de Crossover] : 0.07247662544250488\n",
      "Retirando pontes da Camada\n",
      "Total de [Retirando pontes da Camada] : 0.0251462459564209\n",
      "Gerando áreas proibidas\n",
      "Total de [Gerando áreas proibidas] : 0.0016565322875976562\n",
      "salvando imagens das regiões\n",
      "deletado: /L_000/I_000/bridges\n",
      "Total de [salvando imagens das regiões] : 0.7833602428436279\n",
      "Total de [Fase 3: Camada: 0] : 24.195838451385498\n"
     ]
    }
   ],
   "source": [
    "import gui\n",
    "import files\n",
    "from timer import Timer\n",
    "from components import layer\n",
    "from os import getcwd\n",
    "import numpy as np\n",
    "from components import images_tools as it\n",
    "\n",
    "if not('folders' in globals()):\n",
    "    home = getcwd()\n",
    "    folders = files.System_Paths(home)\n",
    "    gui.find_saved_file(folders)\n",
    "[n_max, nozzle_diam_internal] = gui.ask_parameters_bridges()\n",
    "camadas = folders.load_layers_hdf5()\n",
    "last_prohibited_areas = np.zeros(camadas[0].base_frame)\n",
    "for i,c in enumerate(camadas):\n",
    "    with Timer(\"Fase 3: Camada: \" + str(i)):\n",
    "        if i%2 == 1:\n",
    "            last_image = it.rotate_img_cw(last_prohibited_areas )\n",
    "        elif i%2 == 0:\n",
    "            last_image = it.rotate_img_ccw(last_prohibited_areas )\n",
    "        if i >= 2:\n",
    "            if i%2 == 1:\n",
    "                second_last_image = it.rotate_img_cw(camadas[i - 1].prohibited_areas)\n",
    "            elif i%2 == 0:\n",
    "                second_last_image = it.rotate_img_ccw(camadas[i - 1].prohibited_areas)\n",
    "        else:\n",
    "            second_last_image = np.zeros_like(last_image)\n",
    "        c.prohibited_areas = last_image\n",
    "        sum_prohibited_areas = it.sum_imgs([last_image, second_last_image])\n",
    "        last_prohibited_areas = c.make_bridges(n_max, nozzle_diam_internal, folders, len(camadas), sum_prohibited_areas)\n",
    "        folders.save_props_hdf5(f\"/{c.name}\",c.__dict__)\n",
    "        # %reset_selective -f \"c\" \n",
    "%reset_selective -f \"camadas\""
   ]
  },
  {
   "cell_type": "markdown",
   "metadata": {},
   "source": [
    "Zigzags"
   ]
  },
  {
   "cell_type": "code",
   "execution_count": 5,
   "metadata": {},
   "outputs": [
    {
     "name": "stdout",
     "output_type": "stream",
     "text": [
      "Fase 4: Camada: 0\n",
      "Encontrando areas monotonicas\n",
      "Total de [Encontrando areas monotonicas] : 1.0995969772338867\n",
      "salvando imagens das regiões\n",
      "deletado: /L_000/I_000/zigzags\n",
      "Total de [salvando imagens das regiões] : 0.07347464561462402\n",
      "Total de [Fase 4: Camada: 0] : 1.4827747344970703\n"
     ]
    }
   ],
   "source": [
    "import gui\n",
    "import files\n",
    "from timer import Timer\n",
    "from components import layer\n",
    "from os import getcwd\n",
    "\n",
    "if not('folders' in globals()):\n",
    "    home = getcwd()\n",
    "    folders = files.System_Paths(home)\n",
    "    gui.find_saved_file(folders)\n",
    "camadas = folders.load_layers_hdf5() \n",
    "for i, c in enumerate(camadas):\n",
    "    with Timer(\"Fase 4: Camada: \" + str(i)):\n",
    "        c.make_zigzags(folders)\n",
    "        %reset_selective -f \"c\"\n",
    "%reset_selective -f \"camadas\"\n"
   ]
  },
  {
   "cell_type": "markdown",
   "metadata": {},
   "source": [
    "iMAGEM DO MAPEAMENTO"
   ]
  },
  {
   "cell_type": "code",
   "execution_count": 6,
   "metadata": {},
   "outputs": [
    {
     "name": "stdout",
     "output_type": "stream",
     "text": [
      "Fase 4: Camada: 0\n",
      "\n",
      "\n",
      "Total de [Fase 4: Camada: 0] : 0.9204356670379639\n"
     ]
    },
    {
     "data": {
      "image/png": "[encoded data removed]",
      "text/plain": [
       "<Figure size 640x480 with 2 Axes>"
      ]
     },
     "metadata": {},
     "output_type": "display_data"
    }
   ],
   "source": [
    "import gui\n",
    "import files\n",
    "from timer import Timer\n",
    "from components import images_tools as it\n",
    "from os import getcwd\n",
    "import matplotlib.pyplot as plt\n",
    "import matplotlib.colors\n",
    "import os\n",
    "\n",
    "if not('folders' in globals()):\n",
    "    home = getcwd()\n",
    "    folders = files.System_Paths(home)\n",
    "    gui.find_saved_file(folders)\n",
    "camadas = folders.load_layers_hdf5() \n",
    "for c in camadas:\n",
    "    folders.load_islands_hdf5(c)\n",
    "tangran_cmap = matplotlib.colors.ListedColormap([\"white\",\"darkblue\",\"aqua\",\"aquamarine\",\"blue\",\"black\",\"green\",\"indigo\",\"red\",\"orange\"])\n",
    "for i, c in enumerate(camadas):\n",
    "    with Timer(\"Fase 4: Camada: \" + str(i)):\n",
    "        plt.figure()\n",
    "        img_mapping = it.final_mapping(c, folders)\n",
    "        # if i%2 == 1:\n",
    "        #     img_mapping = it.rotate_img_ccw(img_mapping )\n",
    "        plt.imshow(img_mapping, cmap=tangran_cmap, vmin=0, vmax=1000)\n",
    "        plt.imsave(\"aaa.png\",img_mapping, cmap=tangran_cmap, vmin=0, vmax=1000)\n",
    "        plt.colorbar()\n",
    "        print('\\n')"
   ]
  },
  {
   "cell_type": "markdown",
   "metadata": {},
   "source": [
    "ROTAS"
   ]
  },
  {
   "cell_type": "markdown",
   "metadata": {},
   "source": [
    "Rotas de Offset"
   ]
  },
  {
   "cell_type": "code",
   "execution_count": 7,
   "metadata": {},
   "outputs": [
    {
     "name": "stdout",
     "output_type": "stream",
     "text": [
      "Making offset routes\n",
      "salvando imagens das rotas\n",
      "Total de [salvando imagens das rotas] : 0.23405146598815918\n",
      "Total de [Making offset routes] : 4.350546836853027\n"
     ]
    }
   ],
   "source": [
    "import gui\n",
    "import files\n",
    "from timer import Timer\n",
    "from os import getcwd\n",
    "\n",
    "if not('folders' in globals()):\n",
    "    home = getcwd()\n",
    "    folders = files.System_Paths(home)\n",
    "    gui.find_saved_file(folders)\n",
    "camadas = folders.load_layers_hdf5()\n",
    "\n",
    "amendment_size = 0.7 #porcentagem do tamanho da poca de deposicao de material\n",
    "for c in camadas:\n",
    "    with Timer(\"Making offset routes\"):\n",
    "        c.make_offset_routes(amendment_size, folders)\n",
    "        %reset_selective -f \"c\"\n",
    "%reset_selective -f \"camadas\""
   ]
  },
  {
   "cell_type": "markdown",
   "metadata": {},
   "source": [
    "Rotas de pontes"
   ]
  },
  {
   "cell_type": "code",
   "execution_count": 2,
   "metadata": {},
   "outputs": [
    {
     "name": "stdout",
     "output_type": "stream",
     "text": [
      "Making bridges routes\n",
      "Camada: L_000\n",
      "Making Offset bridges routes\n",
      "Total de [Making Offset bridges routes] : 0.06601619720458984\n",
      "Making Zigzag bridges routes\n",
      "sequncia corrigida, b e c trocado\n",
      "sequncia corrigida, b e c trocado\n",
      "Total de [Making Zigzag bridges routes] : 4.61861252784729\n",
      "Making Crossover bridges routes\n",
      "Total de [Making Crossover bridges routes] : 7.276515245437622\n",
      "salvando imagens das rotas\n",
      "Total de [salvando imagens das rotas] : 0.33674192428588867\n",
      "Total de [Camada: L_000] : 13.18898892402649\n",
      "Total de [Making bridges routes] : 13.198007583618164\n"
     ]
    }
   ],
   "source": [
    "import gui\n",
    "import files\n",
    "from timer import Timer\n",
    "from os import getcwd\n",
    "\n",
    "if not('folders' in globals()):\n",
    "    home = getcwd()\n",
    "    folders = files.System_Paths(home)\n",
    "    gui.find_saved_file(folders)\n",
    "camadas = folders.load_layers_hdf5()\n",
    "with Timer(f\"Making bridges routes\"):\n",
    "    for c in camadas:\n",
    "        with Timer(f\"Camada: {c.name}\"):\n",
    "            c.make_bridges_routes(folders)\n",
    "            %reset_selective -f \"c\"\n",
    "%reset_selective -f \"camadas\""
   ]
  },
  {
   "cell_type": "markdown",
   "metadata": {},
   "source": [
    "Rotas de Ziguezague"
   ]
  },
  {
   "cell_type": "code",
   "execution_count": 3,
   "metadata": {},
   "outputs": [
    {
     "name": "stdout",
     "output_type": "stream",
     "text": [
      "Making zigzag routes\n",
      "criando as rotas de zigzag, camada:L_000\n",
      "fazendo as tres opções:\n",
      "Total de [fazendo as tres opções:] : 9.44612741470337\n",
      "escolhendo entre elas:\n",
      "Total de [escolhendo entre elas:] : 0.1244516372680664\n",
      "fazendo as tres opções:\n",
      "Total de [fazendo as tres opções:] : 7.502138614654541\n",
      "escolhendo entre elas:\n",
      "Total de [escolhendo entre elas:] : 0.12425684928894043\n",
      "fazendo as tres opções:\n",
      "Total de [fazendo as tres opções:] : 8.101812839508057\n",
      "escolhendo entre elas:\n",
      "Total de [escolhendo entre elas:] : 0.12355804443359375\n",
      "Total de [criando as rotas de zigzag, camada:L_000] : 26.559457302093506\n",
      "salvando imagens das rotas\n",
      "deletado: /L_000/I_000/zigzags\n",
      "Total de [salvando imagens das rotas] : 0.15847325325012207\n",
      "Criando os grafos de regiões\n",
      "Total de [Criando os grafos de regiões] : 0.10503435134887695\n",
      "Conectando regiões de zigzag\n",
      "Total de [Conectando regiões de zigzag] : 0.07219195365905762\n",
      "salvando grafos\n",
      "Total de [salvando grafos] : 0.16393494606018066\n",
      "Total de [Making zigzag routes] : 27.620068311691284\n"
     ]
    }
   ],
   "source": [
    "import gui\n",
    "import files\n",
    "from timer import Timer\n",
    "from os import getcwd\n",
    "\n",
    "if not('folders' in globals()):\n",
    "    home = getcwd()\n",
    "    folders = files.System_Paths(home)\n",
    "    gui.find_saved_file(folders)\n",
    "camadas = folders.load_layers_hdf5()\n",
    "for c in camadas:\n",
    "    with Timer(\"Making zigzag routes\"):\n",
    "        c.make_zigzag_routes(folders)\n",
    "        c.connect_zigzags(folders)\n",
    "        %reset_selective -f \"c\"\n",
    "%reset_selective -f \"camadas\"\n",
    "\n"
   ]
  },
  {
   "cell_type": "markdown",
   "metadata": {},
   "source": [
    "WEAVING"
   ]
  },
  {
   "cell_type": "code",
   "execution_count": 4,
   "metadata": {},
   "outputs": [
    {
     "name": "stdout",
     "output_type": "stream",
     "text": [
      "Fase 5 b\n",
      "gerando preenchimentos oscilatórios\n",
      "Pegando as falhas internas\n",
      "Total de [Pegando as falhas internas] : 1.2401342391967773\n",
      "Achando os contatos\n",
      "Total de [Achando os contatos] : 9.059576988220215\n",
      "criando os weavings\n",
      "falhou um weaving aqui!\n",
      "sequncia corrigida, b e c trocado\n",
      "sequncia corrigida, b e c trocado\n",
      "Total de [criando os weavings] : 3.116997003555298\n",
      "Total de [gerando preenchimentos oscilatórios] : 15.813328981399536\n",
      "salvando rotas\n",
      "deletado: /L_000/I_000/zigzags/macro_areas\n",
      "Total de [salvando rotas] : 0.17206096649169922\n",
      "Total de [Fase 5 b] : 15.985791683197021\n"
     ]
    }
   ],
   "source": [
    "import gui\n",
    "import files\n",
    "from timer import Timer\n",
    "from os import getcwd\n",
    "\n",
    "if not('folders' in globals()):\n",
    "    home = getcwd()\n",
    "    folders = files.System_Paths(home)\n",
    "    gui.find_saved_file(folders)\n",
    "camadas = folders.load_layers_hdf5()\n",
    "[iwflag] = gui.ask_parameters_weaving()\n",
    "for c in camadas:\n",
    "    with Timer(\"Fase 5 b\"):\n",
    "        c.internal_weaving(iwflag, folders)\n",
    "        %reset_selective -f \"c\"\n",
    "%reset_selective -f \"camadas\""
   ]
  },
  {
   "cell_type": "markdown",
   "metadata": {},
   "source": [
    "Rotas de Thin Walls"
   ]
  },
  {
   "cell_type": "code",
   "execution_count": 5,
   "metadata": {},
   "outputs": [
    {
     "name": "stdout",
     "output_type": "stream",
     "text": [
      "Fase 5\n",
      "Making thin walls routes\n",
      "criando rotas TW\n",
      "Total de [criando rotas TW] : 0.24871397018432617\n",
      "salvando imagens das rotas\n",
      "Total de [salvando imagens das rotas] : 0.035780906677246094\n",
      "Total de [Making thin walls routes] : 0.2847607135772705\n",
      "Total de [Fase 5] : 0.2848546504974365\n"
     ]
    }
   ],
   "source": [
    "import gui\n",
    "import files\n",
    "from timer import Timer\n",
    "from os import getcwd\n",
    "\n",
    "if not('folders' in globals()):\n",
    "    home = getcwd()\n",
    "    folders = files.System_Paths(home)\n",
    "    gui.find_saved_file(folders)\n",
    "camadas = folders.load_layers_hdf5()\n",
    "for c in camadas:\n",
    "    with Timer(\"Fase 5\"):\n",
    "        with Timer(\"Making thin walls routes\"):\n",
    "            c.make_thin_wall_routes(folders)\n",
    "            %reset_selective -f \"c\"\n",
    "%reset_selective -f \"camadas\""
   ]
  },
  {
   "cell_type": "markdown",
   "metadata": {},
   "source": [
    "Encontrando o lugar onde será o começo da trilha de cada ilha"
   ]
  },
  {
   "cell_type": "code",
   "execution_count": 6,
   "metadata": {},
   "outputs": [
    {
     "name": "stdout",
     "output_type": "stream",
     "text": [
      "Encontrando ponto de união ext-int\n",
      "salvando imagens das rotas\n",
      "Total de [salvando imagens das rotas] : 0.0010998249053955078\n",
      "Total de [Encontrando ponto de união ext-int] : 0.16016221046447754\n"
     ]
    }
   ],
   "source": [
    "import gui\n",
    "import files\n",
    "from timer import Timer\n",
    "from components import layer, path_tools\n",
    "from os import getcwd\n",
    "\n",
    "if not('folders' in globals()):\n",
    "    home = getcwd()\n",
    "    folders = files.System_Paths(home)\n",
    "    gui.find_saved_file(folders)\n",
    "camadas = folders.load_layers_hdf5()\n",
    "\n",
    "for c in camadas:\n",
    "    c.islands_path_starts(folders)\n",
    "\n",
    "%reset_selective -f \"camadas\"                        "
   ]
  },
  {
   "cell_type": "markdown",
   "metadata": {},
   "source": [
    "Unificando rotas EXTERNAS nas camadas"
   ]
  },
  {
   "cell_type": "code",
   "execution_count": 7,
   "metadata": {},
   "outputs": [
    {
     "name": "stdout",
     "output_type": "stream",
     "text": [
      "Fase 6\n",
      "Conectando rotas externas\n",
      "Conectando pontes de Offset\n",
      "Total de [Conectando pontes de Offset] : 2.1520400047302246\n",
      "Conectando pontes de Crossover\n",
      "salto:  [680, 466]\n",
      "salto:  [425, 2450]\n",
      "salto:  [477, 2246]\n",
      "Total de [Conectando pontes de Crossover] : 1.7320599555969238\n",
      "Total de [Conectando rotas externas] : 4.933572053909302\n",
      "salvando imagens das rotas\n",
      "deletado: /L_000/I_000/external_tree_route\n",
      "Total de [salvando imagens das rotas] : 0.14607715606689453\n",
      "Total de [Fase 6] : 5.079990386962891\n"
     ]
    }
   ],
   "source": [
    "import gui\n",
    "import files\n",
    "from timer import Timer\n",
    "from os import getcwd\n",
    "\n",
    "if not('folders' in globals()):\n",
    "    home = getcwd()\n",
    "    folders = files.System_Paths(home)\n",
    "    gui.find_saved_file(folders)\n",
    "camadas = folders.load_layers_hdf5()\n",
    "\n",
    "for c in camadas:\n",
    "    with Timer(\"Fase 6\"):\n",
    "        c.close_routes_external(folders)\n",
    "        %reset_selective -f \"c\"\n",
    "%reset_selective -f \"camadas\"\n",
    "    "
   ]
  },
  {
   "cell_type": "markdown",
   "metadata": {},
   "source": [
    "Unificando rotas INTERNAS nas camadas"
   ]
  },
  {
   "cell_type": "code",
   "execution_count": 8,
   "metadata": {},
   "outputs": [
    {
     "name": "stdout",
     "output_type": "stream",
     "text": [
      "Fase 7\n",
      "Conectando zgzags vizinhos\n",
      "Total de [Conectando zgzags vizinhos] : 4.212592601776123\n",
      "Conectando pontes de zigzag\n",
      "salto:  [184, 1755]\n",
      "salto:  [842, 1712]\n",
      "Total de [Conectando pontes de zigzag] : 0.4716005325317383\n",
      "salvando imagens das rotas\n",
      "Total de [salvando imagens das rotas] : 0.14193224906921387\n",
      "Total de [Fase 7] : 5.903371572494507\n"
     ]
    }
   ],
   "source": [
    "import gui\n",
    "import files\n",
    "from timer import Timer\n",
    "from components import layer\n",
    "from os import getcwd\n",
    "\n",
    "if not('folders' in globals()):\n",
    "    home = getcwd()\n",
    "    folders = files.System_Paths(home)\n",
    "    gui.find_saved_file(folders)\n",
    "camadas = folders.load_layers_hdf5()\n",
    "\n",
    "for c in camadas:\n",
    "    with Timer(\"Fase 7\"):\n",
    "        c.close_routes_internal(folders)\n",
    "        %reset_selective -f \"c\"\n",
    "%reset_selective -f \"camadas\""
   ]
  },
  {
   "cell_type": "markdown",
   "metadata": {},
   "source": [
    "Unindo rotas de thin walls"
   ]
  },
  {
   "cell_type": "code",
   "execution_count": 9,
   "metadata": {},
   "outputs": [
    {
     "name": "stdout",
     "output_type": "stream",
     "text": [
      "Fase 8\n",
      "Convertendo paredes finas\n",
      "Total de [Convertendo paredes finas] : 1.4414153099060059\n",
      "salvando imagens das rotas\n",
      "Total de [salvando imagens das rotas] : 0.10611200332641602\n",
      "Total de [Fase 8] : 1.741182565689087\n"
     ]
    }
   ],
   "source": [
    "import gui\n",
    "import files\n",
    "from timer import Timer\n",
    "from components import layer\n",
    "from os import getcwd\n",
    "\n",
    "if not('folders' in globals()):\n",
    "    home = getcwd()\n",
    "    folders = files.System_Paths(home)\n",
    "    gui.find_saved_file(folders)\n",
    "camadas = folders.load_layers_hdf5()\n",
    "\n",
    "for c in camadas:\n",
    "    with Timer(\"Fase 8\"):\n",
    "        c.close_routes_thinwalls(folders)\n",
    "        %reset_selective -f \"c\"\n",
    "%reset_selective -f \"camadas\""
   ]
  },
  {
   "cell_type": "markdown",
   "metadata": {},
   "source": [
    "Unindo todas as rotas"
   ]
  },
  {
   "cell_type": "code",
   "execution_count": 10,
   "metadata": {},
   "outputs": [
    {
     "name": "stdout",
     "output_type": "stream",
     "text": [
      "Encontrando ponto de união ext-int\n",
      "Total de [Encontrando ponto de união ext-int] : 0.11979556083679199\n",
      "Conectando todas as partes\n",
      "Total de [Conectando todas as partes] : 0.024106264114379883\n",
      "salvando imagens das rotas\n",
      "[[965, 1789], [1010, 1561], [1019, 1490], [1019, 1463], [1051, 1463], [1051, 1490], [1043, 1558], [834, 2626], [820, 2677], [799, 2719], [771, 2758], [736, 2793], [694, 2821], [651, 2842], [602, 2854], [566, 2857], [500, 2853], [455, 2841], [413, 2821], [370, 2792], [336, 2758], [309, 2720], [287, 2676], [275, 2634], [65, 1561], [56, 1497], [56, 1417], [65, 1352], [128, 1030], [135, 1020], [172, 1000], [197, 1000], [216, 993], [230, 980], [237, 967], [315, 576], [314, 557], [307, 541], [291, 526], [268, 518], [243, 493], [236, 479], [275, 281], [287, 239], [309, 195], [336, 157], [375, 118], [414, 92], [476, 67], [506, 59], [542, 56], [607, 60], [653, 73], [694, 92], [733, 118], [771, 156], [798, 194], [820, 238], [833, 284], [1042, 1352], [1051, 1440], [1019, 1440], [1011, 1359], [803, 296], [790, 249], [771, 211], [746, 176], [710, 141], [680, 121], [642, 103], [599, 91], [542, 88], [505, 92], [467, 103], [440, 115], [394, 144], [361, 177], [336, 212], [316, 253], [304, 296], [272, 461], [274, 473], [280, 483], [315, 504], [334, 524], [343, 542], [347, 576], [334, 642], [0, 0], [680, 466], [654, 490], [624, 505], [599, 514], [565, 517], [566, 486], [592, 483], [637, 463], [673, 428], [695, 384], [700, 357], [697, 308], [691, 286], [679, 263], [666, 245], [645, 224], [602, 201], [575, 194], [533, 194], [503, 202], [480, 213], [462, 225], [431, 259], [416, 287], [409, 314], [407, 356], [412, 383], [420, 404], [434, 427], [473, 464], [516, 483], [542, 486], [544, 488], [543, 518], [509, 514], [484, 505], [456, 491], [410, 448], [395, 425], [382, 394], [375, 356], [375, 328], [386, 276], [409, 235], [441, 201], [483, 176], [526, 163], [575, 162], [613, 171], [662, 197], [690, 224], [706, 246], [721, 275], [728, 301], [732, 328], [732, 357], [725, 395], [700, 445], [681, 465], [706, 492], [760, 512], [816, 541], [803, 464], [770, 469], [735, 449], [747, 426], [774, 439], [794, 434], [795, 423], [790, 402], [774, 408], [756, 404], [761, 375], [772, 377], [785, 375], [780, 347], [765, 346], [763, 318], [771, 316], [773, 311], [767, 287], [757, 286], [749, 260], [757, 255], [742, 227], [735, 232], [720, 211], [725, 203], [719, 194], [705, 180], [698, 187], [678, 169], [682, 162], [656, 145], [650, 153], [624, 141], [626, 132], [600, 125], [595, 133], [565, 129], [566, 121], [536, 122], [532, 130], [510, 134], [501, 127], [475, 135], [477, 144], [450, 157], [443, 150], [420, 166], [425, 173], [403, 194], [396, 187], [377, 210], [383, 216], [369, 239], [359, 238], [347, 263], [348, 266], [355, 267], [348, 296], [338, 295], [332, 321], [333, 325], [342, 328], [342, 355], [325, 357], [321, 381], [326, 384], [347, 385], [353, 408], [335, 417], [314, 413], [305, 461], [326, 472], [339, 447], [365, 436], [377, 457], [342, 486], [361, 506], [394, 477], [415, 498], [393, 520], [373, 530], [378, 550], [406, 547], [434, 515], [466, 533], [418, 575], [382, 598], [333, 644], [269, 971], [259, 994], [233, 1020], [217, 1028], [177, 1034], [165, 1041], [156, 1054], [96, 1359], [88, 1417], [88, 1497], [96, 1554], [305, 2622], [317, 2665], [336, 2703], [361, 2738], [390, 2767], [430, 2794], [466, 2811], [515, 2823], [541, 2825], [592, 2823], [640, 2812], [677, 2794], [717, 2767], [752, 2730], [772, 2702], [790, 2666], [803, 2619], [855, 2350], [0, 0], [425, 2450], [433, 2442], [434, 2442], [441, 2435], [442, 2435], [445, 2432], [446, 2432], [449, 2429], [450, 2429], [453, 2426], [454, 2426], [456, 2424], [457, 2424], [460, 2421], [461, 2421], [463, 2419], [464, 2419], [465, 2418], [466, 2418], [467, 2417], [468, 2417], [469, 2416], [470, 2416], [471, 2415], [472, 2415], [473, 2414], [474, 2414], [475, 2413], [476, 2413], [477, 2412], [478, 2412], [479, 2411], [480, 2411], [481, 2410], [482, 2410], [483, 2409], [485, 2409], [486, 2408], [487, 2408], [488, 2407], [489, 2407], [490, 2406], [491, 2406], [492, 2405], [494, 2405], [495, 2404], [498, 2404], [499, 2403], [502, 2403], [503, 2402], [506, 2402], [507, 2401], [511, 2401], [512, 2400], [515, 2400], [516, 2399], [520, 2399], [521, 2398], [525, 2398], [526, 2397], [532, 2397], [533, 2396], [543, 2396], [544, 2395], [564, 2395], [565, 2396], [575, 2396], [576, 2397], [582, 2397], [583, 2398], [587, 2398], [588, 2399], [591, 2399], [592, 2400], [595, 2400], [596, 2401], [600, 2401], [601, 2402], [604, 2402], [605, 2403], [609, 2403], [610, 2404], [613, 2404], [614, 2405], [615, 2405], [616, 2406], [617, 2406], [618, 2407], [619, 2407], [620, 2408], [621, 2408], [622, 2409], [624, 2409], [625, 2410], [626, 2410], [627, 2411], [628, 2411], [629, 2412], [630, 2412], [631, 2413], [633, 2413], [634, 2414], [635, 2414], [636, 2415], [637, 2415], [638, 2416], [639, 2416], [640, 2417], [641, 2417], [642, 2418], [643, 2418], [646, 2421], [647, 2421], [649, 2423], [650, 2423], [652, 2425], [653, 2425], [655, 2427], [656, 2427], [658, 2429], [659, 2429], [661, 2431], [662, 2431], [665, 2434], [0, 0], [477, 2246], [456, 2231], [429, 2200], [409, 2150], [406, 1779], [372, 1767], [345, 1740], [199, 1485], [194, 1458], [199, 1429], [345, 1174], [363, 1154], [387, 1140], [414, 1135], [693, 1135], [736, 1148], [765, 1179], [901, 1414], [913, 1450], [911, 1476], [901, 1500], [762, 1740], [743, 1761], [719, 1775], [692, 1780], [555, 1780], [553, 1716], [415, 1716], [399, 1706], [263, 1471], [259, 1451], [405, 1202], [702, 1202], [847, 1448], [849, 1462], [708, 1706], [692, 1716], [577, 1716], [576, 1747], [692, 1748], [718, 1740], [738, 1718], [874, 1483], [881, 1464], [874, 1431], [732, 1187], [719, 1175], [693, 1167], [414, 1167], [388, 1175], [372, 1191], [229, 1440], [227, 1465], [236, 1488], [375, 1727], [389, 1740], [415, 1748], [533, 1749], [532, 1780], [438, 1781], [438, 2029], [473, 1999], [501, 1985], [551, 1978], [552, 2042], [580, 2045], [613, 2068], [631, 2102], [633, 2131], [628, 2150], [613, 2175], [596, 2190], [571, 2201], [532, 2201], [507, 2190], [490, 2175], [472, 2141], [471, 2107], [490, 2068], [507, 2053], [531, 2042], [531, 2012], [521, 2012], [477, 2036], [456, 2060], [445, 2082], [438, 2128], [442, 2152], [456, 2183], [490, 2217], [521, 2231], [549, 2236], [582, 2231], [613, 2217], [647, 2183], [661, 2152], [666, 2125], [658, 2082], [647, 2060], [613, 2026], [574, 2010], [575, 1979], [602, 1985], [630, 1999], [661, 2026], [688, 2071], [698, 2119], [691, 2163], [674, 2200], [630, 2244], [593, 2261], [555, 2268], [510, 2261], [478, 2246], [460, 2278], [465, 2332], [454, 2386], [506, 2368], [495, 2332], [505, 2293], [528, 2298], [526, 2333], [534, 2363], [557, 2361], [555, 2301], [579, 2297], [588, 2329], [582, 2364], [609, 2370], [618, 2330], [606, 2291], [646, 2273], [642, 2332], [666, 2434], [706, 2479], [721, 2509], [729, 2539], [731, 2598], [725, 2629], [711, 2659], [689, 2691], [654, 2723], [603, 2746], [565, 2751], [566, 2720], [613, 2709], [637, 2696], [673, 2661], [695, 2618], [700, 2591], [698, 2546], [679, 2496], [645, 2458], [626, 2445], [575, 2428], [514, 2432], [470, 2453], [431, 2492], [410, 2542], [407, 2590], [412, 2617], [434, 2660], [471, 2696], [495, 2709], [542, 2720], [544, 2751], [505, 2746], [454, 2723], [418, 2690], [395, 2658], [382, 2628], [375, 2590], [376, 2554], [386, 2510], [402, 2478], [424, 2451], [399, 2424], [347, 2405], [291, 2375], [302, 2438], [339, 2434], [375, 2460], [365, 2480], [336, 2465], [312, 2469], [309, 2474], [315, 2501], [335, 2496], [354, 2504], [347, 2530], [332, 2528], [322, 2531], [326, 2561], [342, 2562], [342, 2589], [334, 2592], [338, 2620], [348, 2620], [356, 2649], [348, 2655], [361, 2681], [368, 2676], [386, 2702], [380, 2709], [401, 2733], [408, 2725], [431, 2746], [430, 2755], [453, 2769], [459, 2762], [486, 2773], [486, 2783], [514, 2789], [519, 2781], [546, 2786], [548, 2792], [579, 2791], [577, 2784], [608, 2778], [614, 2785], [640, 2776], [639, 2767], [665, 2753], [671, 2759], [695, 2743], [690, 2735], [712, 2713], [719, 2719], [737, 2695], [731, 2688], [744, 2664], [753, 2667], [764, 2638], [757, 2633], [762, 2604], [773, 2604], [778, 2578], [776, 2573], [765, 2571], [762, 2542], [784, 2544], [790, 2517], [787, 2512], [775, 2510], [756, 2514], [748, 2491], [773, 2478], [796, 2482], [802, 2453], [770, 2447], [735, 2465], [703, 2425], [790, 2389], [856, 2348], [965, 1790], [0, 0], [843, 1203], [811, 1203], [808, 1200], [788, 1164], [779, 1152], [759, 1132], [750, 1125], [750, 592], [726, 587], [722, 587], [717, 592], [717, 1103], [716, 1104], [686, 1104], [678, 1102], [623, 1102], [622, 1101], [622, 582], [621, 581], [591, 582], [589, 584], [589, 1101], [588, 1102], [495, 1102], [494, 1101], [494, 629], [488, 623], [464, 629], [461, 632], [461, 1101], [460, 1102], [431, 1102], [399, 1108], [367, 1108], [366, 1107], [366, 980], [354, 968], [352, 968], [335, 982], [333, 991], [333, 1149], [320, 1165], [301, 1199], [299, 1201], [268, 1201], [238, 1186], [238, 1142], [226, 1130], [224, 1130], [213, 1138], [207, 1144], [205, 1152], [175, 1152], [0, 0], [184, 1755], [183, 1756], [182, 1756], [181, 1757], [180, 1757], [179, 1758], [176, 1759], [174, 1761], [174, 1793], [175, 1794], [175, 1798], [176, 1799], [176, 1803], [177, 1804], [177, 1808], [178, 1809], [178, 1813], [179, 1814], [179, 1818], [180, 1819], [180, 1823], [181, 1824], [181, 1829], [182, 1830], [182, 1834], [183, 1835], [183, 1839], [184, 1840], [184, 1844], [185, 1845], [185, 1849], [186, 1850], [186, 1854], [187, 1855], [187, 1859], [188, 1860], [188, 1864], [189, 1865], [189, 1869], [190, 1870], [190, 1875], [191, 1876], [191, 1880], [192, 1881], [192, 1885], [193, 1886], [193, 1890], [194, 1891], [194, 1895], [195, 1896], [195, 1900], [196, 1901], [196, 1905], [197, 1906], [197, 1910], [198, 1911], [198, 1915], [199, 1916], [199, 1921], [200, 1922], [200, 1926], [201, 1927], [201, 1931], [202, 1932], [202, 1936], [203, 1937], [203, 1941], [204, 1942], [204, 1946], [205, 1947], [205, 1951], [206, 1952], [206, 1956], [207, 1957], [207, 1962], [208, 1963], [208, 1967], [209, 1968], [209, 1972], [210, 1973], [210, 1977], [211, 1978], [211, 1982], [212, 1983], [212, 1987], [213, 1988], [213, 1992], [214, 1993], [214, 1997], [215, 1998], [215, 2002], [216, 2003], [216, 2008], [217, 2009], [217, 2013], [218, 2014], [218, 2018], [219, 2019], [219, 2023], [220, 2024], [220, 2028], [221, 2029], [221, 2033], [222, 2034], [222, 2038], [223, 2039], [223, 2041], [224, 2042], [237, 2042], [238, 2043], [238, 2120], [239, 2121], [239, 2125], [240, 2126], [240, 2130], [241, 2131], [241, 2135], [242, 2136], [242, 2141], [243, 2142], [243, 2146], [244, 2147], [244, 2151], [245, 2152], [245, 2156], [246, 2157], [246, 2161], [247, 2162], [247, 2166], [248, 2167], [248, 2171], [249, 2172], [249, 2176], [250, 2177], [250, 2181], [251, 2182], [251, 2187], [252, 2188], [252, 2192], [253, 2193], [253, 2197], [254, 2198], [254, 2202], [255, 2203], [255, 2207], [256, 2208], [256, 2212], [257, 2213], [257, 2217], [258, 2218], [258, 2222], [259, 2223], [259, 2227], [260, 2228], [260, 2233], [261, 2234], [261, 2238], [262, 2239], [262, 2243], [263, 2244], [263, 2248], [264, 2249], [264, 2253], [265, 2254], [265, 2258], [266, 2259], [266, 2263], [267, 2264], [267, 2268], [268, 2269], [268, 2273], [269, 2274], [269, 2279], [270, 2280], [270, 2284], [271, 2285], [271, 2289], [272, 2290], [272, 2294], [273, 2295], [273, 2299], [274, 2300], [274, 2304], [275, 2305], [275, 2309], [276, 2310], [276, 2314], [277, 2315], [277, 2320], [278, 2321], [278, 2325], [279, 2326], [279, 2330], [280, 2331], [280, 2335], [282, 2337], [283, 2337], [284, 2338], [286, 2338], [287, 2339], [288, 2339], [291, 2341], [293, 2341], [294, 2342], [295, 2342], [298, 2344], [300, 2344], [301, 2345], [332, 2345], [333, 2344], [333, 2239], [333, 2344], [332, 2345], [301, 2345], [300, 2344], [298, 2344], [297, 2343], [296, 2343], [293, 2341], [291, 2341], [290, 2340], [289, 2340], [286, 2338], [284, 2338], [283, 2337], [282, 2337], [280, 2335], [280, 2331], [279, 2330], [279, 2326], [278, 2325], [278, 2321], [277, 2320], [277, 2315], [276, 2314], [276, 2310], [275, 2309], [275, 2305], [274, 2304], [274, 2300], [273, 2299], [273, 2295], [272, 2294], [272, 2290], [271, 2289], [271, 2285], [270, 2284], [270, 2280], [269, 2279], [269, 2274], [268, 2273], [268, 2269], [267, 2268], [267, 2264], [266, 2263], [266, 2259], [265, 2258], [265, 2254], [264, 2253], [264, 2249], [263, 2248], [263, 2244], [262, 2243], [262, 2239], [261, 2238], [261, 2234], [260, 2233], [260, 2228], [259, 2227], [259, 2223], [258, 2222], [258, 2218], [257, 2217], [257, 2213], [256, 2212], [256, 2208], [255, 2207], [255, 2203], [254, 2202], [254, 2198], [253, 2197], [253, 2193], [252, 2192], [252, 2188], [251, 2187], [251, 2182], [250, 2181], [250, 2177], [249, 2176], [249, 2172], [248, 2171], [248, 2167], [247, 2166], [247, 2162], [246, 2161], [246, 2157], [245, 2156], [245, 2152], [244, 2151], [244, 2147], [243, 2146], [243, 2142], [242, 2141], [242, 2136], [241, 2135], [241, 2131], [240, 2130], [240, 2126], [239, 2125], [239, 2121], [238, 2120], [238, 2043], [237, 2042], [224, 2042], [223, 2041], [223, 2039], [222, 2038], [222, 2034], [221, 2033], [221, 2029], [220, 2028], [220, 2024], [219, 2023], [219, 2019], [218, 2018], [218, 2014], [217, 2013], [217, 2009], [216, 2008], [216, 2003], [215, 2002], [215, 1998], [214, 1997], [214, 1993], [213, 1992], [213, 1988], [212, 1987], [212, 1983], [211, 1982], [211, 1978], [210, 1977], [210, 1973], [209, 1972], [209, 1968], [208, 1967], [208, 1963], [207, 1962], [207, 1957], [206, 1956], [206, 1952], [205, 1951], [205, 1947], [204, 1946], [204, 1942], [203, 1941], [203, 1937], [202, 1936], [202, 1932], [201, 1931], [201, 1927], [200, 1926], [200, 1922], [199, 1921], [199, 1916], [198, 1915], [198, 1911], [197, 1910], [197, 1906], [196, 1905], [196, 1901], [195, 1900], [195, 1896], [194, 1895], [194, 1891], [193, 1890], [193, 1886], [192, 1885], [192, 1881], [191, 1880], [191, 1876], [190, 1875], [190, 1870], [189, 1869], [189, 1865], [188, 1864], [188, 1860], [187, 1859], [187, 1855], [186, 1854], [186, 1850], [185, 1849], [185, 1845], [184, 1844], [184, 1840], [183, 1839], [183, 1835], [182, 1834], [182, 1830], [181, 1829], [181, 1824], [180, 1823], [180, 1819], [179, 1818], [179, 1814], [178, 1813], [178, 1809], [177, 1808], [177, 1804], [176, 1803], [176, 1799], [175, 1798], [175, 1794], [174, 1793], [174, 1761], [176, 1759], [177, 1759], [178, 1758], [179, 1758], [180, 1757], [183, 1756], [0, 0], [184, 1755], [238, 1729], [269, 1730], [269, 1763], [240, 1764], [209, 1779], [209, 1796], [269, 1797], [268, 1828], [214, 1829], [221, 1860], [269, 1861], [268, 1892], [227, 1892], [233, 1924], [269, 1925], [269, 1955], [239, 1956], [250, 2013], [269, 2015], [271, 2099], [289, 2113], [302, 2100], [302, 1768], [333, 1767], [350, 1784], [374, 1799], [374, 1817], [374, 1799], [350, 1784], [333, 1767], [302, 1768], [302, 2100], [289, 2113], [271, 2099], [269, 2014], [250, 2012], [240, 1962], [241, 1956], [269, 1956], [269, 1924], [234, 1924], [228, 1892], [269, 1892], [269, 1860], [221, 1860], [214, 1829], [269, 1828], [269, 1796], [209, 1795], [211, 1778], [240, 1764], [269, 1764], [269, 1730], [238, 1729], [185, 1755], [172, 1725], [270, 1674], [236, 1617], [148, 1649], [144, 1617], [220, 1588], [204, 1561], [137, 1586], [129, 1553], [188, 1537], [189, 1534], [175, 1510], [125, 1519], [121, 1497], [122, 1485], [165, 1482], [161, 1454], [121, 1451], [121, 1419], [166, 1426], [177, 1402], [126, 1383], [131, 1352], [192, 1374], [208, 1347], [202, 1342], [139, 1320], [143, 1289], [224, 1318], [241, 1290], [240, 1287], [150, 1257], [163, 1186], [263, 1234], [174, 1151], [174, 1122], [185, 1066], [219, 1059], [238, 1049], [268, 1049], [268, 1082], [244, 1082], [229, 1090], [213, 1093], [212, 1103], [224, 1097], [236, 1099], [254, 1113], [260, 1113], [261, 1117], [268, 1117], [278, 1129], [300, 1120], [303, 957], [317, 955], [342, 937], [354, 935], [364, 939], [364, 927], [310, 927], [315, 898], [364, 898], [364, 869], [322, 869], [321, 863], [327, 840], [364, 840], [364, 811], [333, 811], [338, 782], [364, 782], [364, 753], [345, 753], [349, 725], [364, 724], [365, 686], [358, 686], [366, 648], [397, 649], [397, 1070], [429, 1071], [430, 601], [493, 553], [525, 553], [525, 1070], [557, 1071], [558, 552], [597, 546], [621, 537], [653, 538], [653, 1070], [685, 1071], [686, 534], [717, 533], [780, 560], [781, 576], [808, 576], [824, 583], [827, 597], [781, 597], [781, 618], [833, 619], [832, 634], [781, 641], [781, 1094], [806, 1104], [814, 1097], [814, 668], [844, 667], [854, 712], [853, 717], [847, 717], [847, 747], [861, 748], [865, 777], [847, 777], [847, 807], [871, 807], [878, 835], [847, 837], [847, 867], [883, 867], [890, 896], [847, 897], [847, 927], [895, 927], [901, 952], [900, 957], [847, 957], [847, 989], [909, 994], [935, 1126], [935, 1158], [0, 0], [842, 1712], [887, 1735], [887, 1757], [894, 1764], [903, 1758], [934, 1758], [935, 1791], [888, 2031], [886, 2035], [857, 2035], [856, 1985], [864, 1984], [870, 1954], [856, 1953], [856, 1927], [875, 1926], [881, 1898], [856, 1897], [856, 1871], [886, 1870], [892, 1842], [857, 1842], [856, 1815], [897, 1814], [898, 1796], [884, 1795], [871, 1786], [857, 1786], [856, 1771], [852, 1768], [837, 1766], [826, 1771], [823, 1775], [823, 2061], [838, 2061], [857, 2068], [873, 2068], [874, 2088], [872, 2093], [823, 2093], [823, 2125], [866, 2126], [859, 2157], [823, 2157], [823, 2189], [854, 2190], [848, 2220], [823, 2221], [823, 2253], [841, 2254], [831, 2306], [823, 2307], [823, 2338], [761, 2365], [729, 2365], [728, 2349], [689, 2349], [687, 2345], [686, 2309], [728, 2309], [728, 2277], [683, 2276], [684, 2245], [728, 2245], [728, 2213], [704, 2212], [718, 2183], [728, 2181], [728, 2062], [718, 2060], [707, 2038], [707, 2022], [709, 2020], [728, 2018], [728, 1845], [697, 1845], [695, 1847], [695, 1991], [664, 1992], [641, 1974], [600, 1954], [599, 1845], [569, 1845], [567, 1847], [566, 1943], [533, 1947], [504, 1955], [473, 1955], [472, 1817], [503, 1817], [503, 1912], [513, 1914], [536, 1911], [537, 1814], [630, 1814], [631, 1923], [659, 1929], [664, 1924], [664, 1815], [709, 1809], [728, 1802], [759, 1803], [759, 2308], [765, 2313], [792, 2307], [792, 1744], [811, 1712], [841, 1712], [845, 1678], [943, 1726], [945, 1724], [958, 1653], [869, 1623], [868, 1620], [885, 1593], [965, 1621], [970, 1597], [969, 1590], [902, 1566], [901, 1563], [916, 1538], [976, 1558], [981, 1522], [933, 1516], [930, 1513], [942, 1487], [986, 1488], [986, 1457], [948, 1458], [942, 1432], [946, 1428], [985, 1422], [981, 1389], [932, 1404], [917, 1378], [977, 1354], [971, 1324], [966, 1324], [901, 1349], [884, 1321], [963, 1294], [964, 1288], [959, 1262], [954, 1261], [868, 1293], [838, 1242], [839, 1239], [936, 1193], [935, 1159], [919, 1167], [887, 1166], [887, 1137], [895, 1130], [895, 1118], [876, 1015], [859, 1002], [845, 1015], [845, 1066], [853, 1067], [858, 1097], [845, 1098], [845, 1125], [830, 1126], [826, 1130], [856, 1131], [854, 1137], [855, 1185], [845, 1186], [844, 1202], [0, 0], [143, 988], [142, 963], [144, 941], [148, 925], [148, 919], [155, 889], [158, 868], [165, 838], [210, 603], [218, 568], [221, 547], [226, 533], [231, 525], [0, 0], [231, 524], [0, 0]]\n",
      "Total de [salvando imagens das rotas] : 0.11305403709411621\n"
     ]
    }
   ],
   "source": [
    "import gui\n",
    "import files\n",
    "from timer import Timer\n",
    "from components import layer, path_tools\n",
    "from os import getcwd\n",
    "\n",
    "if not('folders' in globals()):\n",
    "    home = getcwd()\n",
    "    folders = files.System_Paths(home)\n",
    "    gui.find_saved_file(folders)\n",
    "camadas = folders.load_layers_hdf5()\n",
    "\n",
    "for c in camadas:\n",
    "    c.close_final_path(folders)\n",
    "\n",
    "%reset_selective -f \"camadas\"\n"
   ]
  },
  {
   "cell_type": "markdown",
   "metadata": {},
   "source": [
    "Gerando o Código G"
   ]
  },
  {
   "cell_type": "code",
   "execution_count": 11,
   "metadata": {},
   "outputs": [
    {
     "name": "stdout",
     "output_type": "stream",
     "text": [
      "Cuspindo o Gcode\n",
      "nome: L_000/I_000\n",
      "[[965, 1789], [1010, 1561], [1019, 1490], [1019, 1463], [1051, 1463], [1051, 1490], [1043, 1558], [834, 2626], [820, 2677], [799, 2719], [771, 2758], [736, 2793], [694, 2821], [651, 2842], [602, 2854], [566, 2857], [500, 2853], [455, 2841], [413, 2821], [370, 2792], [336, 2758], [309, 2720], [287, 2676], [275, 2634], [65, 1561], [56, 1497], [56, 1417], [65, 1352], [128, 1030], [135, 1020], [172, 1000], [197, 1000], [216, 993], [230, 980], [237, 967], [315, 576], [314, 557], [307, 541], [291, 526], [268, 518], [243, 493], [236, 479], [275, 281], [287, 239], [309, 195], [336, 157], [375, 118], [414, 92], [476, 67], [506, 59], [542, 56], [607, 60], [653, 73], [694, 92], [733, 118], [771, 156], [798, 194], [820, 238], [833, 284], [1042, 1352], [1051, 1440], [1019, 1440], [1011, 1359], [803, 296], [790, 249], [771, 211], [746, 176], [710, 141], [680, 121], [642, 103], [599, 91], [542, 88], [505, 92], [467, 103], [440, 115], [394, 144], [361, 177], [336, 212], [316, 253], [304, 296], [272, 461], [274, 473], [280, 483], [315, 504], [334, 524], [343, 542], [347, 576], [334, 642], [0, 0], [680, 466], [654, 490], [624, 505], [599, 514], [565, 517], [566, 486], [592, 483], [637, 463], [673, 428], [695, 384], [700, 357], [697, 308], [691, 286], [679, 263], [666, 245], [645, 224], [602, 201], [575, 194], [533, 194], [503, 202], [480, 213], [462, 225], [431, 259], [416, 287], [409, 314], [407, 356], [412, 383], [420, 404], [434, 427], [473, 464], [516, 483], [542, 486], [544, 488], [543, 518], [509, 514], [484, 505], [456, 491], [410, 448], [395, 425], [382, 394], [375, 356], [375, 328], [386, 276], [409, 235], [441, 201], [483, 176], [526, 163], [575, 162], [613, 171], [662, 197], [690, 224], [706, 246], [721, 275], [728, 301], [732, 328], [732, 357], [725, 395], [700, 445], [681, 465], [706, 492], [760, 512], [816, 541], [803, 464], [770, 469], [735, 449], [747, 426], [774, 439], [794, 434], [795, 423], [790, 402], [774, 408], [756, 404], [761, 375], [772, 377], [785, 375], [780, 347], [765, 346], [763, 318], [771, 316], [773, 311], [767, 287], [757, 286], [749, 260], [757, 255], [742, 227], [735, 232], [720, 211], [725, 203], [719, 194], [705, 180], [698, 187], [678, 169], [682, 162], [656, 145], [650, 153], [624, 141], [626, 132], [600, 125], [595, 133], [565, 129], [566, 121], [536, 122], [532, 130], [510, 134], [501, 127], [475, 135], [477, 144], [450, 157], [443, 150], [420, 166], [425, 173], [403, 194], [396, 187], [377, 210], [383, 216], [369, 239], [359, 238], [347, 263], [348, 266], [355, 267], [348, 296], [338, 295], [332, 321], [333, 325], [342, 328], [342, 355], [325, 357], [321, 381], [326, 384], [347, 385], [353, 408], [335, 417], [314, 413], [305, 461], [326, 472], [339, 447], [365, 436], [377, 457], [342, 486], [361, 506], [394, 477], [415, 498], [393, 520], [373, 530], [378, 550], [406, 547], [434, 515], [466, 533], [418, 575], [382, 598], [333, 644], [269, 971], [259, 994], [233, 1020], [217, 1028], [177, 1034], [165, 1041], [156, 1054], [96, 1359], [88, 1417], [88, 1497], [96, 1554], [305, 2622], [317, 2665], [336, 2703], [361, 2738], [390, 2767], [430, 2794], [466, 2811], [515, 2823], [541, 2825], [592, 2823], [640, 2812], [677, 2794], [717, 2767], [752, 2730], [772, 2702], [790, 2666], [803, 2619], [855, 2350], [0, 0], [425, 2450], [433, 2442], [434, 2442], [441, 2435], [442, 2435], [445, 2432], [446, 2432], [449, 2429], [450, 2429], [453, 2426], [454, 2426], [456, 2424], [457, 2424], [460, 2421], [461, 2421], [463, 2419], [464, 2419], [465, 2418], [466, 2418], [467, 2417], [468, 2417], [469, 2416], [470, 2416], [471, 2415], [472, 2415], [473, 2414], [474, 2414], [475, 2413], [476, 2413], [477, 2412], [478, 2412], [479, 2411], [480, 2411], [481, 2410], [482, 2410], [483, 2409], [485, 2409], [486, 2408], [487, 2408], [488, 2407], [489, 2407], [490, 2406], [491, 2406], [492, 2405], [494, 2405], [495, 2404], [498, 2404], [499, 2403], [502, 2403], [503, 2402], [506, 2402], [507, 2401], [511, 2401], [512, 2400], [515, 2400], [516, 2399], [520, 2399], [521, 2398], [525, 2398], [526, 2397], [532, 2397], [533, 2396], [543, 2396], [544, 2395], [564, 2395], [565, 2396], [575, 2396], [576, 2397], [582, 2397], [583, 2398], [587, 2398], [588, 2399], [591, 2399], [592, 2400], [595, 2400], [596, 2401], [600, 2401], [601, 2402], [604, 2402], [605, 2403], [609, 2403], [610, 2404], [613, 2404], [614, 2405], [615, 2405], [616, 2406], [617, 2406], [618, 2407], [619, 2407], [620, 2408], [621, 2408], [622, 2409], [624, 2409], [625, 2410], [626, 2410], [627, 2411], [628, 2411], [629, 2412], [630, 2412], [631, 2413], [633, 2413], [634, 2414], [635, 2414], [636, 2415], [637, 2415], [638, 2416], [639, 2416], [640, 2417], [641, 2417], [642, 2418], [643, 2418], [646, 2421], [647, 2421], [649, 2423], [650, 2423], [652, 2425], [653, 2425], [655, 2427], [656, 2427], [658, 2429], [659, 2429], [661, 2431], [662, 2431], [665, 2434], [0, 0], [477, 2246], [456, 2231], [429, 2200], [409, 2150], [406, 1779], [372, 1767], [345, 1740], [199, 1485], [194, 1458], [199, 1429], [345, 1174], [363, 1154], [387, 1140], [414, 1135], [693, 1135], [736, 1148], [765, 1179], [901, 1414], [913, 1450], [911, 1476], [901, 1500], [762, 1740], [743, 1761], [719, 1775], [692, 1780], [555, 1780], [553, 1716], [415, 1716], [399, 1706], [263, 1471], [259, 1451], [405, 1202], [702, 1202], [847, 1448], [849, 1462], [708, 1706], [692, 1716], [577, 1716], [576, 1747], [692, 1748], [718, 1740], [738, 1718], [874, 1483], [881, 1464], [874, 1431], [732, 1187], [719, 1175], [693, 1167], [414, 1167], [388, 1175], [372, 1191], [229, 1440], [227, 1465], [236, 1488], [375, 1727], [389, 1740], [415, 1748], [533, 1749], [532, 1780], [438, 1781], [438, 2029], [473, 1999], [501, 1985], [551, 1978], [552, 2042], [580, 2045], [613, 2068], [631, 2102], [633, 2131], [628, 2150], [613, 2175], [596, 2190], [571, 2201], [532, 2201], [507, 2190], [490, 2175], [472, 2141], [471, 2107], [490, 2068], [507, 2053], [531, 2042], [531, 2012], [521, 2012], [477, 2036], [456, 2060], [445, 2082], [438, 2128], [442, 2152], [456, 2183], [490, 2217], [521, 2231], [549, 2236], [582, 2231], [613, 2217], [647, 2183], [661, 2152], [666, 2125], [658, 2082], [647, 2060], [613, 2026], [574, 2010], [575, 1979], [602, 1985], [630, 1999], [661, 2026], [688, 2071], [698, 2119], [691, 2163], [674, 2200], [630, 2244], [593, 2261], [555, 2268], [510, 2261], [478, 2246], [460, 2278], [465, 2332], [454, 2386], [506, 2368], [495, 2332], [505, 2293], [528, 2298], [526, 2333], [534, 2363], [557, 2361], [555, 2301], [579, 2297], [588, 2329], [582, 2364], [609, 2370], [618, 2330], [606, 2291], [646, 2273], [642, 2332], [666, 2434], [706, 2479], [721, 2509], [729, 2539], [731, 2598], [725, 2629], [711, 2659], [689, 2691], [654, 2723], [603, 2746], [565, 2751], [566, 2720], [613, 2709], [637, 2696], [673, 2661], [695, 2618], [700, 2591], [698, 2546], [679, 2496], [645, 2458], [626, 2445], [575, 2428], [514, 2432], [470, 2453], [431, 2492], [410, 2542], [407, 2590], [412, 2617], [434, 2660], [471, 2696], [495, 2709], [542, 2720], [544, 2751], [505, 2746], [454, 2723], [418, 2690], [395, 2658], [382, 2628], [375, 2590], [376, 2554], [386, 2510], [402, 2478], [424, 2451], [399, 2424], [347, 2405], [291, 2375], [302, 2438], [339, 2434], [375, 2460], [365, 2480], [336, 2465], [312, 2469], [309, 2474], [315, 2501], [335, 2496], [354, 2504], [347, 2530], [332, 2528], [322, 2531], [326, 2561], [342, 2562], [342, 2589], [334, 2592], [338, 2620], [348, 2620], [356, 2649], [348, 2655], [361, 2681], [368, 2676], [386, 2702], [380, 2709], [401, 2733], [408, 2725], [431, 2746], [430, 2755], [453, 2769], [459, 2762], [486, 2773], [486, 2783], [514, 2789], [519, 2781], [546, 2786], [548, 2792], [579, 2791], [577, 2784], [608, 2778], [614, 2785], [640, 2776], [639, 2767], [665, 2753], [671, 2759], [695, 2743], [690, 2735], [712, 2713], [719, 2719], [737, 2695], [731, 2688], [744, 2664], [753, 2667], [764, 2638], [757, 2633], [762, 2604], [773, 2604], [778, 2578], [776, 2573], [765, 2571], [762, 2542], [784, 2544], [790, 2517], [787, 2512], [775, 2510], [756, 2514], [748, 2491], [773, 2478], [796, 2482], [802, 2453], [770, 2447], [735, 2465], [703, 2425], [790, 2389], [856, 2348], [965, 1790], [0, 0], [843, 1203], [811, 1203], [808, 1200], [788, 1164], [779, 1152], [759, 1132], [750, 1125], [750, 592], [726, 587], [722, 587], [717, 592], [717, 1103], [716, 1104], [686, 1104], [678, 1102], [623, 1102], [622, 1101], [622, 582], [621, 581], [591, 582], [589, 584], [589, 1101], [588, 1102], [495, 1102], [494, 1101], [494, 629], [488, 623], [464, 629], [461, 632], [461, 1101], [460, 1102], [431, 1102], [399, 1108], [367, 1108], [366, 1107], [366, 980], [354, 968], [352, 968], [335, 982], [333, 991], [333, 1149], [320, 1165], [301, 1199], [299, 1201], [268, 1201], [238, 1186], [238, 1142], [226, 1130], [224, 1130], [213, 1138], [207, 1144], [205, 1152], [175, 1152], [0, 0], [184, 1755], [183, 1756], [182, 1756], [181, 1757], [180, 1757], [179, 1758], [176, 1759], [174, 1761], [174, 1793], [175, 1794], [175, 1798], [176, 1799], [176, 1803], [177, 1804], [177, 1808], [178, 1809], [178, 1813], [179, 1814], [179, 1818], [180, 1819], [180, 1823], [181, 1824], [181, 1829], [182, 1830], [182, 1834], [183, 1835], [183, 1839], [184, 1840], [184, 1844], [185, 1845], [185, 1849], [186, 1850], [186, 1854], [187, 1855], [187, 1859], [188, 1860], [188, 1864], [189, 1865], [189, 1869], [190, 1870], [190, 1875], [191, 1876], [191, 1880], [192, 1881], [192, 1885], [193, 1886], [193, 1890], [194, 1891], [194, 1895], [195, 1896], [195, 1900], [196, 1901], [196, 1905], [197, 1906], [197, 1910], [198, 1911], [198, 1915], [199, 1916], [199, 1921], [200, 1922], [200, 1926], [201, 1927], [201, 1931], [202, 1932], [202, 1936], [203, 1937], [203, 1941], [204, 1942], [204, 1946], [205, 1947], [205, 1951], [206, 1952], [206, 1956], [207, 1957], [207, 1962], [208, 1963], [208, 1967], [209, 1968], [209, 1972], [210, 1973], [210, 1977], [211, 1978], [211, 1982], [212, 1983], [212, 1987], [213, 1988], [213, 1992], [214, 1993], [214, 1997], [215, 1998], [215, 2002], [216, 2003], [216, 2008], [217, 2009], [217, 2013], [218, 2014], [218, 2018], [219, 2019], [219, 2023], [220, 2024], [220, 2028], [221, 2029], [221, 2033], [222, 2034], [222, 2038], [223, 2039], [223, 2041], [224, 2042], [237, 2042], [238, 2043], [238, 2120], [239, 2121], [239, 2125], [240, 2126], [240, 2130], [241, 2131], [241, 2135], [242, 2136], [242, 2141], [243, 2142], [243, 2146], [244, 2147], [244, 2151], [245, 2152], [245, 2156], [246, 2157], [246, 2161], [247, 2162], [247, 2166], [248, 2167], [248, 2171], [249, 2172], [249, 2176], [250, 2177], [250, 2181], [251, 2182], [251, 2187], [252, 2188], [252, 2192], [253, 2193], [253, 2197], [254, 2198], [254, 2202], [255, 2203], [255, 2207], [256, 2208], [256, 2212], [257, 2213], [257, 2217], [258, 2218], [258, 2222], [259, 2223], [259, 2227], [260, 2228], [260, 2233], [261, 2234], [261, 2238], [262, 2239], [262, 2243], [263, 2244], [263, 2248], [264, 2249], [264, 2253], [265, 2254], [265, 2258], [266, 2259], [266, 2263], [267, 2264], [267, 2268], [268, 2269], [268, 2273], [269, 2274], [269, 2279], [270, 2280], [270, 2284], [271, 2285], [271, 2289], [272, 2290], [272, 2294], [273, 2295], [273, 2299], [274, 2300], [274, 2304], [275, 2305], [275, 2309], [276, 2310], [276, 2314], [277, 2315], [277, 2320], [278, 2321], [278, 2325], [279, 2326], [279, 2330], [280, 2331], [280, 2335], [282, 2337], [283, 2337], [284, 2338], [286, 2338], [287, 2339], [288, 2339], [291, 2341], [293, 2341], [294, 2342], [295, 2342], [298, 2344], [300, 2344], [301, 2345], [332, 2345], [333, 2344], [333, 2239], [333, 2344], [332, 2345], [301, 2345], [300, 2344], [298, 2344], [297, 2343], [296, 2343], [293, 2341], [291, 2341], [290, 2340], [289, 2340], [286, 2338], [284, 2338], [283, 2337], [282, 2337], [280, 2335], [280, 2331], [279, 2330], [279, 2326], [278, 2325], [278, 2321], [277, 2320], [277, 2315], [276, 2314], [276, 2310], [275, 2309], [275, 2305], [274, 2304], [274, 2300], [273, 2299], [273, 2295], [272, 2294], [272, 2290], [271, 2289], [271, 2285], [270, 2284], [270, 2280], [269, 2279], [269, 2274], [268, 2273], [268, 2269], [267, 2268], [267, 2264], [266, 2263], [266, 2259], [265, 2258], [265, 2254], [264, 2253], [264, 2249], [263, 2248], [263, 2244], [262, 2243], [262, 2239], [261, 2238], [261, 2234], [260, 2233], [260, 2228], [259, 2227], [259, 2223], [258, 2222], [258, 2218], [257, 2217], [257, 2213], [256, 2212], [256, 2208], [255, 2207], [255, 2203], [254, 2202], [254, 2198], [253, 2197], [253, 2193], [252, 2192], [252, 2188], [251, 2187], [251, 2182], [250, 2181], [250, 2177], [249, 2176], [249, 2172], [248, 2171], [248, 2167], [247, 2166], [247, 2162], [246, 2161], [246, 2157], [245, 2156], [245, 2152], [244, 2151], [244, 2147], [243, 2146], [243, 2142], [242, 2141], [242, 2136], [241, 2135], [241, 2131], [240, 2130], [240, 2126], [239, 2125], [239, 2121], [238, 2120], [238, 2043], [237, 2042], [224, 2042], [223, 2041], [223, 2039], [222, 2038], [222, 2034], [221, 2033], [221, 2029], [220, 2028], [220, 2024], [219, 2023], [219, 2019], [218, 2018], [218, 2014], [217, 2013], [217, 2009], [216, 2008], [216, 2003], [215, 2002], [215, 1998], [214, 1997], [214, 1993], [213, 1992], [213, 1988], [212, 1987], [212, 1983], [211, 1982], [211, 1978], [210, 1977], [210, 1973], [209, 1972], [209, 1968], [208, 1967], [208, 1963], [207, 1962], [207, 1957], [206, 1956], [206, 1952], [205, 1951], [205, 1947], [204, 1946], [204, 1942], [203, 1941], [203, 1937], [202, 1936], [202, 1932], [201, 1931], [201, 1927], [200, 1926], [200, 1922], [199, 1921], [199, 1916], [198, 1915], [198, 1911], [197, 1910], [197, 1906], [196, 1905], [196, 1901], [195, 1900], [195, 1896], [194, 1895], [194, 1891], [193, 1890], [193, 1886], [192, 1885], [192, 1881], [191, 1880], [191, 1876], [190, 1875], [190, 1870], [189, 1869], [189, 1865], [188, 1864], [188, 1860], [187, 1859], [187, 1855], [186, 1854], [186, 1850], [185, 1849], [185, 1845], [184, 1844], [184, 1840], [183, 1839], [183, 1835], [182, 1834], [182, 1830], [181, 1829], [181, 1824], [180, 1823], [180, 1819], [179, 1818], [179, 1814], [178, 1813], [178, 1809], [177, 1808], [177, 1804], [176, 1803], [176, 1799], [175, 1798], [175, 1794], [174, 1793], [174, 1761], [176, 1759], [177, 1759], [178, 1758], [179, 1758], [180, 1757], [183, 1756], [0, 0], [184, 1755], [238, 1729], [269, 1730], [269, 1763], [240, 1764], [209, 1779], [209, 1796], [269, 1797], [268, 1828], [214, 1829], [221, 1860], [269, 1861], [268, 1892], [227, 1892], [233, 1924], [269, 1925], [269, 1955], [239, 1956], [250, 2013], [269, 2015], [271, 2099], [289, 2113], [302, 2100], [302, 1768], [333, 1767], [350, 1784], [374, 1799], [374, 1817], [374, 1799], [350, 1784], [333, 1767], [302, 1768], [302, 2100], [289, 2113], [271, 2099], [269, 2014], [250, 2012], [240, 1962], [241, 1956], [269, 1956], [269, 1924], [234, 1924], [228, 1892], [269, 1892], [269, 1860], [221, 1860], [214, 1829], [269, 1828], [269, 1796], [209, 1795], [211, 1778], [240, 1764], [269, 1764], [269, 1730], [238, 1729], [185, 1755], [172, 1725], [270, 1674], [236, 1617], [148, 1649], [144, 1617], [220, 1588], [204, 1561], [137, 1586], [129, 1553], [188, 1537], [189, 1534], [175, 1510], [125, 1519], [121, 1497], [122, 1485], [165, 1482], [161, 1454], [121, 1451], [121, 1419], [166, 1426], [177, 1402], [126, 1383], [131, 1352], [192, 1374], [208, 1347], [202, 1342], [139, 1320], [143, 1289], [224, 1318], [241, 1290], [240, 1287], [150, 1257], [163, 1186], [263, 1234], [174, 1151], [174, 1122], [185, 1066], [219, 1059], [238, 1049], [268, 1049], [268, 1082], [244, 1082], [229, 1090], [213, 1093], [212, 1103], [224, 1097], [236, 1099], [254, 1113], [260, 1113], [261, 1117], [268, 1117], [278, 1129], [300, 1120], [303, 957], [317, 955], [342, 937], [354, 935], [364, 939], [364, 927], [310, 927], [315, 898], [364, 898], [364, 869], [322, 869], [321, 863], [327, 840], [364, 840], [364, 811], [333, 811], [338, 782], [364, 782], [364, 753], [345, 753], [349, 725], [364, 724], [365, 686], [358, 686], [366, 648], [397, 649], [397, 1070], [429, 1071], [430, 601], [493, 553], [525, 553], [525, 1070], [557, 1071], [558, 552], [597, 546], [621, 537], [653, 538], [653, 1070], [685, 1071], [686, 534], [717, 533], [780, 560], [781, 576], [808, 576], [824, 583], [827, 597], [781, 597], [781, 618], [833, 619], [832, 634], [781, 641], [781, 1094], [806, 1104], [814, 1097], [814, 668], [844, 667], [854, 712], [853, 717], [847, 717], [847, 747], [861, 748], [865, 777], [847, 777], [847, 807], [871, 807], [878, 835], [847, 837], [847, 867], [883, 867], [890, 896], [847, 897], [847, 927], [895, 927], [901, 952], [900, 957], [847, 957], [847, 989], [909, 994], [935, 1126], [935, 1158], [0, 0], [842, 1712], [887, 1735], [887, 1757], [894, 1764], [903, 1758], [934, 1758], [935, 1791], [888, 2031], [886, 2035], [857, 2035], [856, 1985], [864, 1984], [870, 1954], [856, 1953], [856, 1927], [875, 1926], [881, 1898], [856, 1897], [856, 1871], [886, 1870], [892, 1842], [857, 1842], [856, 1815], [897, 1814], [898, 1796], [884, 1795], [871, 1786], [857, 1786], [856, 1771], [852, 1768], [837, 1766], [826, 1771], [823, 1775], [823, 2061], [838, 2061], [857, 2068], [873, 2068], [874, 2088], [872, 2093], [823, 2093], [823, 2125], [866, 2126], [859, 2157], [823, 2157], [823, 2189], [854, 2190], [848, 2220], [823, 2221], [823, 2253], [841, 2254], [831, 2306], [823, 2307], [823, 2338], [761, 2365], [729, 2365], [728, 2349], [689, 2349], [687, 2345], [686, 2309], [728, 2309], [728, 2277], [683, 2276], [684, 2245], [728, 2245], [728, 2213], [704, 2212], [718, 2183], [728, 2181], [728, 2062], [718, 2060], [707, 2038], [707, 2022], [709, 2020], [728, 2018], [728, 1845], [697, 1845], [695, 1847], [695, 1991], [664, 1992], [641, 1974], [600, 1954], [599, 1845], [569, 1845], [567, 1847], [566, 1943], [533, 1947], [504, 1955], [473, 1955], [472, 1817], [503, 1817], [503, 1912], [513, 1914], [536, 1911], [537, 1814], [630, 1814], [631, 1923], [659, 1929], [664, 1924], [664, 1815], [709, 1809], [728, 1802], [759, 1803], [759, 2308], [765, 2313], [792, 2307], [792, 1744], [811, 1712], [841, 1712], [845, 1678], [943, 1726], [945, 1724], [958, 1653], [869, 1623], [868, 1620], [885, 1593], [965, 1621], [970, 1597], [969, 1590], [902, 1566], [901, 1563], [916, 1538], [976, 1558], [981, 1522], [933, 1516], [930, 1513], [942, 1487], [986, 1488], [986, 1457], [948, 1458], [942, 1432], [946, 1428], [985, 1422], [981, 1389], [932, 1404], [917, 1378], [977, 1354], [971, 1324], [966, 1324], [901, 1349], [884, 1321], [963, 1294], [964, 1288], [959, 1262], [954, 1261], [868, 1293], [838, 1242], [839, 1239], [936, 1193], [935, 1159], [919, 1167], [887, 1166], [887, 1137], [895, 1130], [895, 1118], [876, 1015], [859, 1002], [845, 1015], [845, 1066], [853, 1067], [858, 1097], [845, 1098], [845, 1125], [830, 1126], [826, 1130], [856, 1131], [854, 1137], [855, 1185], [845, 1186], [844, 1202], [0, 0], [143, 988], [142, 963], [144, 941], [148, 925], [148, 919], [155, 889], [158, 868], [165, 838], [210, 603], [218, 568], [221, 547], [226, 533], [231, 525], [0, 0], [231, 524], [0, 0]]\n",
      "trocou para 1\n",
      "trocou para 0\n",
      "trocou para 2\n",
      "Deslocamento total da camada 0 = 5108.409659301951mm\n",
      "Tempo estimado com Vel=360.0mm/min = 14.19002683139431min\n",
      "\n",
      "Total de [Cuspindo o Gcode] : 2.061610460281372\n"
     ]
    }
   ],
   "source": [
    "import gui\n",
    "import files\n",
    "from timer import Timer\n",
    "from components import layer, path_tools\n",
    "from os import getcwd\n",
    "\n",
    "if not('folders' in globals()):\n",
    "    home = getcwd()\n",
    "    folders = files.System_Paths(home)\n",
    "    gui.find_saved_file(folders)\n",
    "[vel_int, vel_ext, vel_thin_wall, p_religamento, p_desligamento, vel_vazio, p_entre_camadas, substratoy, substratox, cortey, cortex] = gui.ask_parameters_Gcode()\n",
    "coords_substrato = [substratoy, substratox]\n",
    "coords_corte = [cortey, cortex]\n",
    "camadas = folders.load_layers_hdf5()\n",
    "\n",
    "#layer_heights = [10+2.9+3+(i*1.5) for i,x in enumerate(camadas)]\n",
    "layer_heights = [20+8+2+(i*1.5) for i,x in enumerate(camadas)]\n",
    "with Timer(\"Cuspindo o Gcode\"):\n",
    "    path_tools.layers_to_Gcode(camadas, \n",
    "                               folders, \n",
    "                               vel_int,\n",
    "                               vel_ext, \n",
    "                               vel_thin_wall, \n",
    "                               p_religamento,\n",
    "                               p_desligamento,\n",
    "                               vel_vazio,\n",
    "                               p_entre_camadas,\n",
    "                               layer_heights,\n",
    "                               coords_substrato,\n",
    "                               coords_corte,\n",
    "                               )\n",
    "%reset_selective -f \"camadas\""
   ]
  },
  {
   "cell_type": "code",
   "execution_count": 12,
   "metadata": {},
   "outputs": [],
   "source": [
    "# import numpy as np\n",
    "# camadas = folders.load_layers_hdf5()\n",
    "# for c in camadas:\n",
    "#     folders.load_islands_hdf5(c)\n",
    "#     for isl in c.islands:\n",
    "#         folders.load_island_paths_hdf5(c.name, isl)\n",
    "#         internal_trees = [list(x) for x in isl.internal_tree_route.sequence]\n",
    "#         print(internal_trees)\n",
    "# print([235,807] in internal_trees)"
   ]
  },
  {
   "cell_type": "code",
   "execution_count": 13,
   "metadata": {},
   "outputs": [],
   "source": [
    "# import matplotlib.pyplot as plt\n",
    "# from mpl_toolkits.mplot3d import Axes3D\n",
    "# import numpy as np\n",
    "\n",
    "# # Lista de imagens binárias (exemplo com arrays numpy)\n",
    "# imagens = [\n",
    "#     img_mapping,\n",
    "#     img_mapping,\n",
    "#     img_mapping\n",
    "# ]\n",
    "\n",
    "# # Lista de alturas no eixo z\n",
    "# alturas = [0, 10, 20]\n",
    "\n",
    "# fig = plt.figure()\n",
    "# ax = fig.add_subplot(111, projection='3d')\n",
    "\n",
    "# for img, z in zip(imagens, alturas):\n",
    "#     x = np.linspace(0, img.shape[1], img.shape[1])\n",
    "#     y = np.linspace(0, img.shape[0], img.shape[0])\n",
    "#     x, y = np.meshgrid(x, y)\n",
    "#     z = np.full_like(x, z)\n",
    "#     ax.plot_surface(x, y, z, rstride=1, cstride=1, facecolors=plt.cm.gray(img), shade=False)\n",
    "\n",
    "# ax.set_xlabel('X')\n",
    "# ax.set_ylabel('Y')\n",
    "# ax.set_zlabel('Z')\n",
    "# plt.show()\n"
   ]
  },
  {
   "cell_type": "code",
   "execution_count": 14,
   "metadata": {},
   "outputs": [],
   "source": [
    "# import gui\n",
    "# import files\n",
    "# from timer import Timer\n",
    "# from components import layer, path_tools\n",
    "# from os import getcwd\n",
    "\n",
    "# if not('folders' in globals()):\n",
    "#     home = getcwd()\n",
    "#     folders = files.System_Paths(home)\n",
    "#     gui.find_saved_file(folders)\n",
    "# camadas = folders.load_layers_hdf5()\n",
    "\n",
    "# file_name = gui.find_saved_file(folders)\n",
    "# path_tools.layers_to_Gcode_FFF(camadas, folders, file_name)"
   ]
  },
  {
   "cell_type": "code",
   "execution_count": 15,
   "metadata": {},
   "outputs": [],
   "source": [
    "# class TrafficLightState:\n",
    "#     \"\"\"Base class for traffic light states.\"\"\"\n",
    "#     def change(self, traffic_light):\n",
    "#         raise NotImplementedError(\"This method should be overridden by subclasses\")\n",
    "\n",
    "\n",
    "# class RedState(TrafficLightState):\n",
    "#     \"\"\"State representing the red light.\"\"\"\n",
    "#     def change(self, traffic_light):\n",
    "#         print(\"Changing from Red to Green\")\n",
    "#         traffic_light.state = GreenState()\n",
    "\n",
    "\n",
    "# class YellowState(TrafficLightState):\n",
    "#     \"\"\"State representing the yellow light.\"\"\"\n",
    "#     def change(self, traffic_light):\n",
    "#         print(\"Changing from Yellow to Red\")\n",
    "#         traffic_light.state = RedState()\n",
    "\n",
    "\n",
    "# class GreenState(TrafficLightState):\n",
    "#     \"\"\"State representing the green light.\"\"\"\n",
    "#     def change(self, traffic_light):\n",
    "#         print(\"Changing from Green to Yellow\")\n",
    "#         traffic_light.state = YellowState()\n",
    "\n",
    "\n",
    "# class TrafficLight:\n",
    "#     \"\"\"Traffic light class that uses a state machine.\"\"\"\n",
    "#     def __init__(self):\n",
    "#         self.state = RedState()  # Initial state\n",
    "\n",
    "#     def change(self):\n",
    "#         \"\"\"Change the state of the traffic light.\"\"\"\n",
    "#         self.state.change(self)\n",
    "\n",
    "#     def __str__(self):\n",
    "#         return f\"Current state: {self.state.__class__.__name__}\"\n",
    "\n",
    "\n",
    "# # Example usage\n",
    "# if __name__ == \"__main__\":\n",
    "#     traffic_light = TrafficLight()\n",
    "    \n",
    "#     # Simulate the traffic light changing states\n",
    "#     for _ in range(6):  # Change state 6 times\n",
    "#         print(traffic_light)\n",
    "#         traffic_light.change()"
   ]
  },
  {
   "cell_type": "code",
   "execution_count": 16,
   "metadata": {},
   "outputs": [],
   "source": [
    "# import numpy as np\n",
    "# import cv2  # Assuming you are using OpenCV for image processing\n",
    "\n",
    "# def bobobo(image1, image2):\n",
    "#     \"\"\"A placeholder function that performs some operation on two images.\"\"\"\n",
    "#     # For demonstration, let's just return the absolute difference between the two images\n",
    "#     return cv2.absdiff(image1, image2)\n",
    "\n",
    "# def process_images(image_list):\n",
    "#     \"\"\"Process a list of images, comparing the last two with the current image.\"\"\"\n",
    "#     for i in range(len(image_list)):\n",
    "#         current_image = image_list[i]\n",
    "        \n",
    "#         # Check if there are at least two previous images to compare\n",
    "#         if i >= 2:\n",
    "#             last_image = image_list[i - 1]\n",
    "#             second_last_image = image_list[i - 2]\n",
    "            \n",
    "#             # Apply the bobobo function to the current image and the last two images\n",
    "#             result_last = bobobo(current_image, last_image)\n",
    "#             result_second_last = bobobo(current_image, second_last_image)\n",
    "            \n",
    "#             # Here you can do something with the results, like saving or displaying them\n",
    "#             # For demonstration, we'll just print the shapes of the results\n",
    "#             print(f\"Comparing image {i} with last image {i-1}: result shape = {result_last.shape}\")\n",
    "#             print(f\"Comparing image {i} with second last image {i-2}: result shape = {result_second_last.shape}\")\n",
    "\n",
    "# # Example usage\n",
    "# if __name__ == \"__main__\":\n",
    "#     # Create a list of dummy images (for demonstration purposes)\n",
    "#     # In practice, you would load your images using cv2.imread or similar\n",
    "#     image_list = [np.random.randint(0, 256, (100, 100, 3), dtype=np.uint8) for _ in range(5)]\n",
    "    \n",
    "#     process_images(image_list)"
   ]
  }
 ],
 "metadata": {
  "kernelspec": {
   "display_name": "base",
   "language": "python",
   "name": "python3"
  },
  "language_info": {
   "codemirror_mode": {
    "name": "ipython",
    "version": 3
   },
   "file_extension": ".py",
   "mimetype": "text/x-python",
   "name": "python",
   "nbconvert_exporter": "python",
   "pygments_lexer": "ipython3",
   "version": "3.11.4"
  }
 },
 "nbformat": 4,
 "nbformat_minor": 2
}
